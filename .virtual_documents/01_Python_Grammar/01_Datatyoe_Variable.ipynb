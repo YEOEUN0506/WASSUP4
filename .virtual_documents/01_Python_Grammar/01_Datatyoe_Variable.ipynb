








# 정수형 
a = 123














# 실수형
a = 1.2
b = -3.45
a,b 


a = 4.24E10
a



a = 0o177
print(a)








a = 3
b = 4
a ** b


#나눗셈 후 나머지 리턴 
7%3, 3%7


# 나눗셈 후 몫을 리턴하는 // 연산자


 7 // 4


#복합 연산자


 a = a + 1
 a


a +=1
a


a -= 1 
a





"Life is too short, You need Python"
"a"
"123"


"hello world"





"""Life is too short, You need python"""








"Python's favorite food is perl"





 '"Python is very easy." he says.'





"\"Python is very easy.\" he says."








 "Life is too short\nYou need python"


>>> multiline = "Life is too short\nYou need python"
print(multiline)


"""
Life is too short
You need python
"""











 head = "Python"
 tail = " is fun!"
 head + tail





>>> a = "python"
>>> a * 2






print("=" * 50)
print("My Program")
print("=" * 50)











 a = "Life is too short"
 len(a)











a = "Life is too short, You need Python"
a


a[3]


a[17]


a[-6]





a = "Life is too short, You need Python"
b = a[0] + a[1] + a[2] + a[3]
b


a[0:4]





a[12:19]






a[:17]





a[19:-7]





 a = "20240904Sunny"
 date = a[:8]
 weather = a[8:]
 year = a[:4]
 day = a[4:8]
year, day


#문자열 변경할 수 있을까 
a = "Pithon"
a[1] = y 















 "I eat %d apples." % 3





 "I eat %s apples." % "five"





 number = 10
 day = "three"
 "I ate %d apples. so I was sick for %s days." % (number, day)





"Error is %d%%." % 98








"%0.4f" % 3.42134234











 "I eat {0} apples" .format(3)


 "I eat {0} apples" .format(number)





number = 10 
day = "three"
"I ate {0} apples. so I was sick for {1} days.".format(number, day)






"I ate {a} apples. so I was sick for {b} days.".format(a=number,b=day)





 y = 3.42134234
 "{0:0.4f}".format(y)







 "{{ and }}".format()











name = '홍길동' 
age = 30
f'나의 이름은 {name}입니다. 나이는 {age}입니다.'






d = {'name': '홍길동' , 'age' : 30 }
d


f"나의 이름은 {d["name"]}입니다. 나이는 {d["age"]}입니다."





y
f'{y:0.4f}'


f'{y:10.4f}'











 a = "hobby"
 a.count('b')






 a = "Python is the best choice"
 a.find('b') 





a.find?





a = "Life is too short"
a.index('t')





",".join('abcd')





 a = " hi "
 a.strip()





a = "Life is too short"
a.replace("Life", "Your leg")





 a = "Life is too short"
 a.split()











odd = [1, 3, 5, 7, 9]
odd


a = []
b = [1, 2, 3]
c = ['Life', 'is', 'too', 'short']
d = [1, 2, 'Life', 'is']
e = [1, 2, ['Life', 'is']]
f = list()
a, b, c, d, e, f



type(a)





a = [1, 2, 3]
a


a[0] + a[2]


a[-1]


a = [1, 2, 3, ['a', 'b', 'c']]
a


len(a)


a[-1]


a[-1][1]


 a = [1, 2, ['a', 'b', ['Life', 'is']]]
 a


a[2][2][0]





a = [1, 2, 3, 4, 5]
a


a[0:2]


a = [1, 2, 3, ['a', 'b', 'c'], 4, 5]
a[2:5]


a[3][:2]





a = [1, 2, 3]
b = [4, 5, 6]
a + b


type(a[0])


 a = [1, 2, 3]*3
a



a = [1, 2, 3]
a[2] + "hi"


str(a[2]) + "hi"





a = [1, 2, 3]
a[2] = 4
a


a = [1, 2, 3]
del a[1]
a


a = [1, 2, 3, 4, 5]
del a[2:]
a





#리스트에 요소 추가하기 - append


a = [1, 2, 3]
a.append(4)
a


a.append([5, 6])
a


#리스트 정렬 - sort


a = [1, 4, 3, 2]
a.sort()
a


a = ['a', 'c', 'b']
a.sort()
a


# 리스트 뒤집기 


a = ['a', 'c', 'b']
a.reverse()
a


#인덱스 반환 - index


a = [1, 2, 3]
a.index(3)


#리스트에 요소 삽입 - insert


a = [1, 2, 3]
a.insert(0, 4)
a


a.insert(3,5)
a


#리스트 요소 제거 - remove


a = [1, 2, 3, 1, 2, 3]
a.remove(3)
a


a.remove(3)
a


# 리스트 요소 끄집어 내기 - pop


a = [1, 2, 3]
a.pop()


a


a = [1, 2, 3]
a.pop(1)
a


#리스트에 포함된 요소 x의 개수 세기 - count
a = [1, 2, 3, 1]
a.count(1)


#리스트 확장 - extend
a = [1, 2, 3]
a.extend([4, 5])
a


 b = [6, 7]
 a.extend(b)
a











t1 = ()
t2 = (1,)
t3 = (1, 2, 3)
t4 = 1, 2, 3
t5 = ('a', 'b', ('ab', 'cd'))
t1, t2, t3, t4, t5


type(t1) , type(t2), type(t3), type(t4), type(t5)


t1 = (1, 2, 'a', 'b')
del t1[0]


t1 = (1, 2, 'a', 'b')
t1[0] = 'c'








# 인덱싱하기


t1 = (1, 2, 'a', 'b')
t1[0]


t1[3]


#슬라이싱하기


>>> t1 = (1, 2, 'a', 'b')
>>> t1[1:]
(2, 'a', 'b')


#튜플 더하기


>>> t1 = (1, 2, 'a', 'b')
>>> t2 = (3, 4)
>>> t3 = t1 + t2
>>> t3
(1, 2, 'a', 'b', 3, 4)


#튜플 곱하기
>>> t2 = (3, 4)
>>> t3 = t2 * 3
>>> t3
(3, 4, 3, 4, 3, 4)


#튜플 길이 구하기
>>> t1 = (1, 2, 'a', 'b')
>>> len(t1)
4








#02-5 딕셔너리 자료형
#{Key1: Value1, Key2: Value2, Key3: Value3, ...}


dic = {'name': 'pey', 'phone': '010-9999-1234', 'birth': '1118'}
dic


a = {'a': [1, 2, 3]}
a


#딕셔너리 쌍 추가, 삭제하기


a = {1: 'a'}
a[2] = 'b'
a
{1: 'a', 2: 'b'}
a['name'] = 'pey'
a


a[3] = [1, 2, 3]
a


#딕셔너리  삭제하기


del a[1]
a
{2: 'b', 'name': 'pey', 3: [1, 2, 3]}


#딕셔너리에서 Key를 사용해 Value 얻기


grade = {'pey': 10, 'julliet': 99}
grade['pey']


grade['julliet']


a = {'name': 'pey', 'phone': '010-9999-1234', 'birth': '1118'}
a.keys()


#Value 리스트 만들기 - values
a.values()


#Key, Value 쌍 얻기 - items
a.items()


#Key: Value 쌍 모두 지우기 - clear
a.clear()
a


#Key로 Value 얻기 - get
a = {'name': 'pey', 'phone': '010-9999-1234', 'birth': '1118'}
a.get('name')


a.get('phone')
'010-9999-1234'


#해당 Key가 딕셔너리 안에 있는지 조사하기 - in


 a = {'name':'pey', 'phone':'010-9999-1234', 'birth': '1118'}
'name' in a



'email' in a


a.get('nokey', 'defaulykey')








s1 = set([1, 2, 3])
s1 , type(s1)


s2 = set("Hello")
s2


# 집합 자료형의 특징


s1 = set([1, 2, 3])
l1 = list(s1)
l1


l1[0]


t1 = tuple(s1)
t1


t1[0]


#교집합, 합집합, 차집합 구하기 


s1 = set([1, 2, 3, 4, 5, 6])
s2 = set([4, 5, 6, 7, 8, 9])

s1 & s2


s1.intersection(s2)


#합집합 구하기


s1 | s2


s1.union(s2)


s1 - s2


s2 - s1


s1.difference(s2)


s2.difference(s1)


#값 1개 추가하기 - add


s1 = set([1, 2, 3])
s1.add(4)
s1


#값 여러 개 추가하기 - update


s1 = set([1, 2, 3])
s1.update([4, 5, 6])
s1


#특정 값 제거하기 - remove
s1 = set([1, 2, 3])
s1.remove(2)
s1








a = True
b = False





type(a)


1 == 1


2 > 1


2 < 1


>>> a = [1, 2, 3, 4]
>>> while a:
...     print(a,a.pop())






if [1, 2, 3] :
    print("참")
     else :
         print("거짓")


bool('python')


bool('')








a = 1
b = "python"
c = [1, 2, 3]





a = [1, 2, 3]
id(a)


a = [1, 2, 3]
b = a


id(a)


id(b)


a[1] = 4
a








#변수 다루기 
a, a[:]


b = a[:]
b


id(b)


a is b


b[0] = 9
b


a





from copy import copy 
a = [1,2,3] 
b = copy(a) 
a, b





a, b = ('python', 'life')
(a, b) = 'python', 'life'
[a, b] = ['python', 'life']
a = b = 'python'
a = 3
 b = 5
 a, b = b, a
a
b










