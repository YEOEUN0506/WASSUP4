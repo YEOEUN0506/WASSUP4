


def is_odd(number):
    if number % 2 == 1:    # 2로 나누었을 때 나머지가 1이면 홀수이다.
        return True
    else:
        return False
is_odd(237893297823977)


























def avg_numbers(*args):
    result = 0
    for i in args:
        result += i # result = result + i와 같은 역할 (누적합 +=, 누적곱 *=)
    return result / len(args)

print(avg_numbers(1,2))       
print(avg_numbers(1,2,3,4,5))





input1 = int(input("첫번째 숫자를 입력하세요:"))

try:
    input2 = int(input("두번째 숫자를 입력하세요:")) 
except ValueError as e:
    print('숫자가 아닙니다')
    print(e) 
finally:
    print('실행완료')

total = input1 + input2
print(f"두 수의 합은 {total} 입니다")





print('you','need','python', sep='')





f1 = open("test.txt", 'w')
f1.write("Life is too short")

f2 = open("test.txt", 'r')
print(f2.read())





user_input = input("저장할 내용을 입력하세요: ") 
f = open('test.txt', 'a') 
f.write('\n') 
f.write(user_input)
f.close()





f = open('test.txt', 'r')
body = f.read() 
f.close()

body = body.replace('java', 'python')  

f = open('test.txt', 'w')  
f.write(body)
f.close()



