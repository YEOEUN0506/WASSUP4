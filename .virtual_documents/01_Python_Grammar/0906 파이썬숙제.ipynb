





#101
#파이썬에서 True 혹은 False를 갖는 데이터 타입은 무엇인가?
#`bool` 타입입니다.


#102
#아래 코드의 출력 결과를 예상하라
print(3 == 5)


#103
#아래 코드의 출력 결과를 예상하라
print(3 < 5)


#104
#아래 코드의 결과를 예상하라.
x = 4
print(1 < x < 5)


#106
#아래 코드에서 에러가 발생하는 원인에 대해 설명하라.
print(3 => 4)


#지원하지 않는 연산자입니다.


#107
#아래 코드의 출력 결과를 예상하라
if 4 < 3:
    print("Hello World")


#조건을 만족하지 않기 때문에 아무 결과도 출력되지 않습니다. 


#108
#아래 코드의 출력 결과를 예상하라
if 4 < 3:
    print("Hello World.")
else:
    print("Hi, there.")


#109
#아래 코드의 출력 결과를 예상하라
if True :
    print ("1")
    print ("2")
else :
    print("3")
print("4")


#110
#아래 코드의 출력 결과를 예상하라

if True :
    if False:
        print("1")
        print("2")
    else:
        print("3")
else :
    print("4")
print("5")





#111
#사용자로부터 입력받은 문자열을 두 번 출력하라. 
user = input("입력:")
print(user * 2)  


#112
#사용자로부터 하나의 숫자를 입력받고, 입력 받은 숫자에 10을 더해 출력하라
user = input("숫자를 입력하세요: ")
print(10 + int(user))


#113
#사용자로부터 하나의 숫자를 입력 받고 짝수/홀수를 판별하라.
user = input("")
if int(user) % 2 == 0:
    print("짝수")
else:
    print("홀수")


#114
#사용자로부터 값을 입력받은 후 해당 값에 20을 더한 값을 출력하라.
#단 사용자가 입력한 값과 20을 더한 계산 값이 255를 초과하는 경우
#255를 출력해야 한다.
user = input("입력값: ")
num = 20 + int(user)
if num > 255:
    print(255)
else:
    print(num)



#115
#사용자로부터 하나의 값을 입력받은 후 해당 값에 20을 뺀 값을 출력하라.
#단 출력 값의 범위는 0~255이다. 
#예를 들어 결괏값이 0보다 작은 값이되는 경우 0을 출력하고 255보다
#큰 값이 되는 경우 255를 출력해야 한다.
user = input("입력값: ")
num = int(user) - 20
if num > 255:
    print(255)
elif num < 0:
    print(0)
else:
    print(num)



#116
#사용자로부터 입력 받은 시간이 정각인지 판별하라.
time = input("현재시간: ")
if time[-2:] == "00":
    print("정각 입니다.")
else:
    print("정각이 아닙니다.")


#117
#사용자로 입력받은 단어가 아래 fruit 리스트에 포함되어 있는지를 확인하라. 
#포함되었다면 "정답입니다"를 아닐 경우 "오답입니다" 출력하라.
fruit = ["사과", "포도", "홍시"]
user = input("좋아하는 과일은?")
if user in fruit:
    print("정답입니다.")
else:
    print("오답입니다.")


#118
#투자 경고 종목 리스트가 있을 때 사용자로부터 종목명을 입력 받은 후
#해당 종목이 투자 경고 종목이라면 '투자 경고 종목입니다'를 아니면
#"투자 경고 종목이 아닙니다."를 출력하는 프로그램을 작성하라.
warn_investment_list = ["Microsoft", "Google", "Naver", "Kakao", "SAMSUNG", "LG"]
종목 = input("종목명: ")
if 종목 in warn_investment_list:
    print("투자 경고 종목입니다.")
else:
    print("투자 경고 종목이 아닙니다.")


#119
fruit = {"봄" : "딸기", "여름" : "토마토", "가을" : "사과"}
user = input("제가좋아하는계절은: ")
if user in fruit:
    print("정답입니다.")
else:
    print("오답입니다.")


#120
#아래와 같이 fruit 딕셔너리가 정의되어 있다. 
#사용자가 입력한 값이 딕셔너리 값 (value)에 포함되었다면
#"정답입니다"를 
#아닐 경우 "오답입니다" 출력하라.
fruit = {"봄" : "딸기", "여름" : "토마토", "가을" : "사과"}
user = input("좋아하는 과일은?")
if user in fruit.values():
    print("정답입니다.")
else:
    print("오답입니다.")


#121
#사용자로부터 문자 한 개를 입력 받고, 소문자일 경우 대문자로, 
#대문자 일 경우, 소문자로 변경해서 출력하라.
user = input("")
if user.islower():
    print(user.upper())
else:
    print(user.lower())


#122
#점수 구간에 해당하는 학점이 아래와 같이 정의되어 있다. 
#사용자로부터 score를 입력받아 학점을 출력하라.
score = input("score: ")
score = int(score)
if 81 <= score <= 100:
    print("grade is A")
elif 61 <= score <= 80:
    print("grade is B")
elif 41 <= score <= 60:
    print("grade is C")
elif 21 <= score <= 40:
    print("grade is D")
else:
    print("grade is E")


#124
#사용자로부터 세 개의 숫자를 입력 받은 후 가장 큰 숫자를 출력하라.
num1 = input("input number1: ")
num2 = input("input number2: ")
num3 = input("input number3: ")
num1 = int(num1)
num2 = int(num2)
num3 = int(num3)

if num1 >= num2 and num1 >= num3:
    print(num1)
elif num2 >= num1 and num2 >= num3:
    print(num2)
else:
    print(num3)


#125
#휴대폰 번호 앞자리에 따라 통신사는 아래와 같이 구분된다. 
#사용자로부터 휴대전화 번호를 입력 받고, 통신사를 출력하는 프로그램을 작성하라.
number = input("휴대전화 번호 입력: ")
num = number.split("-")[0]
if num == "011":
    com = "SKT"
elif num == "016":
    com = "KT"
elif num == "019":
    com = "LGU"
else:
    com = "알수없음"
print(f"당신은 {com} 사용자입니다.")


#126
#우편번호는 5자리로 구성되는데, 앞의 세자리는 구를 나타낸다. 
#예를들어, 강북구의 경우 010, 011, 012 세 자리로 시작한다.
우편번호 = input("우편번호: ")
우편번호 = 우편번호[:3]
if 우편번호 in ["010", "011", "012"]:
    print("강북구")
elif 우편번호 in ["014", "015", "016"]:
    print("도봉구")
else:
    print("노원구")


#127
#주민등록번호 뒷 자리 7자리 중 첫째 자리는 성별을 나타내는데, 1, 3은 남자 2, 4는 여자를 의미한다. 
#사용자로부터 13자리의 주민등록번호를 입력 받은 후 성별 (남자, 여자)를 출력하는 프로그램을 작성하라.
주민번호 = input("주민등록번호: ")
주민번호 = 주민번호.split("-")[1]
if 주민번호[0] == "1" or 주민번호[0] == "3":
    print("남자")
else:
    print("여자")


#128
#주민등록번호의 뒷 자리 7자리 중 두번째와 세번째는 지역코드를 의미한다. 
#주민 등록 번호를 입력 받은 후 출생지가 서울인지 아닌지 판단하는 코드를 작성하라
주민번호 = input("주민등록번호: ")
뒷자리 = 주민번호.split("-")[1]
if 0 <= int(뒷자리[1:3]) <= 8:
    print("서울입니다.")
else:
    print("서울이 아닙니다.")


#129
num = input("주민등록번호: ")
계산1 = int(num[0]) * 2 + int(num[1]) * 3 + int(num[2]) * 4 + int(num[3]) * 5 + int(num[4]) * 6 + \
        int(num[5]) * 7 + int(num[7]) * 8 + int(num[8]) * 9 + int(num[9]) * 2 + int(num[10])* 3 + \
        int(num[11])* 4 + int(num[12]) * 5
계산2 = 11 - (계산1 % 11)
계산3 = str(계산2)

if num[-1] == 계산3[-1]:
    print("유효한 주민등록번호입니다.")
else:
    print("유효하지 않은 주민등록번호입니다.")


#130
#아래 코드는 비트코인의 가격 정보를 딕셔너리로 가져오는 코드이다.
import requests
btc = requests.get("https://api.bithumb.com/public/ticker/").json()['data']
변동폭 = float(btc['max_price']) - float(btc['min_price'])
시가 = float(btc['opening_price'])
최고가 = float(btc['max_price'])

if (시가+변동폭) > 최고가:
    print("상승장")
else:
    print("하락장")





#131
#for문의 실행결과를 예측하라
과일 = ["사과", "귤", "수박"]
for 변수 in 과일:
    print(변수)


#132
#for문의 실행결과를 예측하라.
과일 = ["사과", "귤", "수박"]
for 변수 in 과일:
  print("#####")


#133
#다음 for 문과 동일한 기능을 수행하는 코드를 작성하세요.
알파벳 = ["A", "B", "C"]
for 변수 in ["A", "B", "C"]:
  print(변수)


#134
#for문을 풀어서 동일한 동작을하는 코드를 작성하라.
변수 = "A"
print("출력:", 변수)
변수 = "B"
print("출력:", 변수)
변수 = "C"
print("출력:", 변수)


#135
#for문을 풀어서 동일한 동작을 하는 코드를 작성하라.
변수 = "A"
b = 변수.lower()
print("변환:", b)
변수 = "B"
b = 변수.lower()
print("변환:", b)
변수 = "C"
b = 변수.lower()
print("변환:", b)


#136
#다음 코드를 for문으로 작성하라.
리스트 = [10, 20, 30]
for 변수 in 리스트:
  print(변수)


#137
변수 = 10
print(변수)
변수 = 20
print(변수)
변수 = 30
print(변수)


#138
#다음 코드를 for문으로 작성하라.
변수 = 10
print(변수)
print("-------")

변수 = 20
print(변수)
print("-------")

변수 = 30
print(변수)
print("-------")
for 변수 in [10, 20, 30]:
  print(변수)
  print("-------")


#139
#다음 코드를 for문으로 작성하라.
print("++++")
for 변수 in [10, 20, 30]:
  print(변수)


#140
#다음 코드를 for문으로 작성하라.
print("-------")
print("-------")
print("-------")
print("-------")





#141
#다음과 같이 판매가가 저장된 리스트가 있을 때 부가세가 포함된 가격을 for 문을 사용해서 화면에 출력하라.
#단 부가세는 10원으로 가정한다.
리스트 = [100, 200, 300]
for 변수 in 리스트:
  print(변수 + 10)


#142
#for 문을 사용해서 리스트에 저장된 값을 다음과 같이 출력하라.
리스트 = ["김밥", "라면", "튀김"]
for 변수 in 리스트:
    print('오늘의 메뉴: ', 변수)


#143
#리스트에 주식 종목이름이 저장돼 있다.
리스트 = ["SK하이닉스", "삼성전자", "LG전자"]
for 변수 in 리스트:
    print(len(변수))


#144
#리스트에는 동물이름이 문자열로 저장돼 있다.
리스트 = ['dog', 'cat', 'parrot']
for 변수 in 리스트: 
    print(변수, len(변수))


#145
#리스트에 동물 이름 저장돼 있다.
리스트 = ['dog', 'cat', 'parrot']
리스트 = ['dog', 'cat', 'parrot']
for 이름 in 리스트:
  print(이름[0])


#146
#리스트에는 세 개의 숫자가 바인딩돼 있다.

리스트 = [1, 2, 3]
for 변수 in 리스트:
  print("3 x", 변수)


#147
#리스트에는 세 개의 숫자가 바인딩돼 있다.
리스트 = [1, 2, 3]
for 변수 in 리스트:
  print("3 x {} = {}".format(변수, 3 * 변수))



#148
#리스트에는 네 개의 문자열이 바인딩돼 있다.
리스트 = ["가", "나", "다", "라"]
for 변수 in 리스트[1:]:
  print(변수)


#149
#리스트에는 네 개의 문자열이 바인딩돼 있다.
리스트 = ["가", "나", "다", "라"]
for 변수 in 리스트[: :2]:
  print(변수)



#150
#리스트에는 네 개의 문자열이 바인딩돼 있다.

리스트 = ["가", "나", "다", "라"]
리스트 = ["가", "나", "다", "라"]
for 변수 in 리스트[: :-1]:
  print(변수)


# 151~160


#151
#리스트에는 네 개의 정수가 저장돼 있다.
리스트 = [3, -20, -3, 44]
for 변수 in 리스트:
     if 변수 < 0:
         print(변수)


#152
#for문을 사용해서 3의 배수만을 출력하라.
리스트 = [3, 100, 23, 44]
for 변수 in 리스트:
    if 변수 % 3 == 0:
        print(변수)


#153
#리스트에서 20 보다 작은 3의 배수를 출력하라
리스트 = [13, 21, 12, 14, 30, 18]
for 변수 in 리스트:
    if (변수 % 3 == 0) and (변수<20) :
        print(변수)


#154
#리스트에서 세 글자 이상의 문자를 화면에 출력하라
리스트 = ["I", "study", "python", "language", "!"]
for 변수 in 리스트:
  if len(변수) >= 3:
    print(변수)


#155
#리스트에서 대문자만 화면에 출력하라.

리스트 = ["A", "b", "c", "D"]
for 변수 in 리스트:
  if 변수.isupper():
    print(변수)



#156
#리스트에서 소문자만 화면에 출력하라.

리스트 = ["A", "b", "c", "D"]
for 변수 in 리스트:
  if not 변수.isupper():
    print(변수)


#157
#이름의 첫 글자를 대문자로 변경해서 출력하라.

리스트 = ['dog', 'cat', 'parrot']
for 변수 in 리스트:
    print(변수[0].upper() + 변수[1:])



#158
#파일 이름이 저장된 리스트에서 확장자를 제거하고 파일 이름만 화면에 출력하라. (힌트: split() 메서드)
리스트 = ['hello.py', 'ex01.py', 'intro.hwp']
for 변수 in 리스트:
  split = 변수.split(".")
  print(split[0])  



#159
#파일 이름이 저장된 리스트에서 확장자가 .h인 파일 이름을 출력하라.
리스트 = ['intra.h', 'intra.c', 'define.h', 'run.py']
for 변수 in 리스트:
  split = 변수.split(".")
  if split[1] == "h":
    print(변수)



#160
#파일 이름이 저장된 리스트에서 확장자가 .h나 .c인 파일을 화면에 출력하라.

리스트 = ['intra.h', 'intra.c', 'define.h', 'run.py']
for 변수 in 리스트:
  split = 변수.split(".")
  if (split[1] == "h") or (split[1] == "c"):
    print(변수)


































































































































