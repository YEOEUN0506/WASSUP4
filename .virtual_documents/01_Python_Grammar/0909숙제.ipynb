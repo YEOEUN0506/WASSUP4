


#161
#for문과 range 구문을 사용해서 0~99까지 한 라인에 하나씩 순차적으로 출력하는 프로그램을 작성하라.
for i in range(100):
    print(i)


#162
#월드컵은 4년에 한 번 개최된다. 
#range()를 사용하여 2002~2050년까지 중 월드컵이 개최되는 연도를 출력하라.
for i in range(2002, 2051, 4) :
    print (i)




#163
#1부터 30까지의 숫자 중 3의 배수를 출력하라.
for num in range(3, 31, 3):
    print (num)


#164
#99부터 0까지 1씩 감소하는 숫자들을,
#한 라인에 하나씩 출력하라 
for i in range(100):
    print(99 - i)



#165
#for문을 사용해서 아래와 같이 출력하라.
for num in range(10) :
    print(num / 10)


#166
#구구단 3단을 출력하라.
for i in range(1, 10) :
    print (3, "x", i, " = ", 3 * i)


#167
#구구단 3단을 출력하라. 단 홀수 번째만 출력한다.
num = 3
for i in range(1, 10) :
    if i % 2 == 1 :
        print (num, "x", i, " = ", num * i)


#168
#1~10까지의 숫자에 대해 모두 더한 값을 출력하는 
#프로그램을 for 문을 사용하여 작성하라.
hab = 0
for i in range(1, 11):
    hab += i
print ("합 :", hab)



#169
#1~10까지의 숫자 중 모든 홀수의 합을 출력하는 
#프로그램을 for 문을 사용하여 작성하라.

hab = 0
for i in range(1, 11, 2):
    hab += i
print ("합 :", hab)



#170
#1~10까지의 숫자를 모두 곱한 
#값을 출력하는 프로그램을 for 문을 사용하여 작성하라.
result = 1
for i in range(1, 11) :
    result *= i
print(result)





#171
#아래와 같이 리스트의 데이터를 출력하라. 
#단, for문과 range문을 사용하라.
price_list = [32100, 32150, 32000, 32500]
for i in range(4):
    print(price_list[i])


#172
#아래와 같이 리스트의 데이터를 출력하라.
#단, for문과 range문을 사용하라.
price_list = [32100, 32150, 32000, 32500]
for i, data in enumerate(price_list):
    print(i, data)


#173
#아래와 같이 리스트의 데이터를 출력하라. 
#단, for문과 range문을 사용하라.

price_list = [32100, 32150, 32000, 32500]
for i in range(len(price_list)):
    print(3 - i, price_list[i])


#174
#아래와 같이 리스트의 데이터를 출력하라.
#단, for문과 range문을 사용하라.

price_list = [32100, 32150, 32000, 32500]
for i in range(1, 4):
    print(90 + 10 * i, price_list[i])


#175
#my_list를 아래와 같이 출력하라.

my_list = ["가", "나", "다", "라"]
for i in range( 1, len(my_list) ) :
  print(my_list[i-1], my_list[i])


#176
#리스트를 아래와 같이 출력하라.
my_list = ["가", "나", "다", "라", "마"]
for i in range( 2, len(my_list) ):
    print(my_list[i-2], my_list[i-1], my_list[i])


#177
#반복문과 range 함수를 사용해서 my_list를 아래와 같이 출력하라.
my_list = ["가", "나", "다", "라"]
for i in [3, 2, 1] :
    print(my_list[i], my_list[i-1])


#178
#리스트에는 네 개의 정수가 저장되어 있다.
#각각의 데이터에 대해서 자신과 우측값과의 차분값을 화면에 출력하라.
my_list = [100, 200, 400, 800]
for i in range(len(my_list) - 1):
    print(abs(my_list[i+1] - my_list[i]))


#179
#리스트에는 6일 간의 종가 데이터가 저장되어 있다.
#종가 데이터의 3일 이동 평균을 계산하고 이를 화면에 출력하라.
my_list = [100, 200, 400, 800, 1000, 1300]
for i in range(1, len(my_list) - 1):
    print(abs(my_list[i-1] + my_list[i] + my_list[i+1]) / 3)


#180
#리스트에 5일간의 저가, 고가 정보가 저장돼 있다. 고가와 저가의 차를 변동폭이라고 정의할 때,
#low, high 두 개의 리스트를 사용해서 5일간의 변동폭을 volatility 리스트에 저장하라.
low_prices  = [100, 200, 400, 800, 1000]
high_prices = [150, 300, 430, 880, 1000]
volatility = []
for i in range(len(low_prices)) :
    volatility.append(high_prices[i] - low_prices[i])
    










































