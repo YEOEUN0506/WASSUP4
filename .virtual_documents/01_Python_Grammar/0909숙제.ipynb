


#161
#for문과 range 구문을 사용해서 0~99까지 한 라인에 하나씩 순차적으로 출력하는 프로그램을 작성하라.
for i in range(100):
    print(i)


#162
#월드컵은 4년에 한 번 개최된다. 
#range()를 사용하여 2002~2050년까지 중 월드컵이 개최되는 연도를 출력하라.
for i in range(2002, 2051, 4) :
    print (i)




#163
#1부터 30까지의 숫자 중 3의 배수를 출력하라.
for num in range(3, 31, 3):
    print (num)


#164
#99부터 0까지 1씩 감소하는 숫자들을,
#한 라인에 하나씩 출력하라 
for i in range(100):
    print(99 - i)



#165
#for문을 사용해서 아래와 같이 출력하라.
for num in range(10) :
    print(num / 10)


#166
#구구단 3단을 출력하라.
for i in range(1, 10) :
    print (3, "x", i, " = ", 3 * i)


#167
#구구단 3단을 출력하라. 단 홀수 번째만 출력한다.
num = 3
for i in range(1, 10) :
    if i % 2 == 1 :
        print (num, "x", i, " = ", num * i)


#168
#1~10까지의 숫자에 대해 모두 더한 값을 출력하는 
#프로그램을 for 문을 사용하여 작성하라.
hab = 0
for i in range(1, 11):
    hab += i
print ("합 :", hab)



#169
#1~10까지의 숫자 중 모든 홀수의 합을 출력하는 
#프로그램을 for 문을 사용하여 작성하라.

hab = 0
for i in range(1, 11, 2):
    hab += i
print ("합 :", hab)



#170
#1~10까지의 숫자를 모두 곱한 
#값을 출력하는 프로그램을 for 문을 사용하여 작성하라.
result = 1
for i in range(1, 11) :
    result *= i
print(result)





#171
#아래와 같이 리스트의 데이터를 출력하라. 
#단, for문과 range문을 사용하라.
price_list = [32100, 32150, 32000, 32500]
for i in range(4):
    print(price_list[i])


#172
#아래와 같이 리스트의 데이터를 출력하라.
#단, for문과 range문을 사용하라.
price_list = [32100, 32150, 32000, 32500]
for i, data in enumerate(price_list):
    print(i, data)


#173
#아래와 같이 리스트의 데이터를 출력하라. 
#단, for문과 range문을 사용하라.

price_list = [32100, 32150, 32000, 32500]
for i in range(len(price_list)):
    print(3 - i, price_list[i])


#174
#아래와 같이 리스트의 데이터를 출력하라.
#단, for문과 range문을 사용하라.

price_list = [32100, 32150, 32000, 32500]
for i in range(1, 4):
    print(90 + 10 * i, price_list[i])


#175
#my_list를 아래와 같이 출력하라.

my_list = ["가", "나", "다", "라"]
for i in range( 1, len(my_list) ) :
  print(my_list[i-1], my_list[i])


#176
#리스트를 아래와 같이 출력하라.
my_list = ["가", "나", "다", "라", "마"]
for i in range( 2, len(my_list) ):
    print(my_list[i-2], my_list[i-1], my_list[i])


#177
#반복문과 range 함수를 사용해서 my_list를 아래와 같이 출력하라.
my_list = ["가", "나", "다", "라"]
for i in [3, 2, 1] :
    print(my_list[i], my_list[i-1])


#178
#리스트에는 네 개의 정수가 저장되어 있다.
#각각의 데이터에 대해서 자신과 우측값과의 차분값을 화면에 출력하라.
my_list = [100, 200, 400, 800]
for i in range(len(my_list) - 1):
    print(abs(my_list[i+1] - my_list[i]))


#179
#리스트에는 6일 간의 종가 데이터가 저장되어 있다.
#종가 데이터의 3일 이동 평균을 계산하고 이를 화면에 출력하라.
my_list = [100, 200, 400, 800, 1000, 1300]
for i in range(1, len(my_list) - 1):
    print(abs(my_list[i-1] + my_list[i] + my_list[i+1]) / 3)


#180
#리스트에 5일간의 저가, 고가 정보가 저장돼 있다. 고가와 저가의 차를 변동폭이라고 정의할 때,
#low, high 두 개의 리스트를 사용해서 5일간의 변동폭을 volatility 리스트에 저장하라.
low_prices  = [100, 200, 400, 800, 1000]
high_prices = [150, 300, 430, 880, 1000]
volatility = []
for i in range(len(low_prices)) :
    volatility.append(high_prices[i] - low_prices[i])
    





#181
#아래 표에서 하나의 행을 하나의 리스트로,
#총 3개의 리스트를 갖는 이차원 리스트 apart를 정의하라.
apart = [ ["101호", "102호"], ["201호", "202호"], ["301호", "302호"] ]
print(apart)


#182
#아래 표에서 하나의 열을 하나의 리스트로, 
#총 2개의 리스트를 갖는 이차원 리스트 stock을 정의하라.
stock = [ ["시가", 100, 200, 300], ["종가", 80, 210, 330] ]
print(stock)


#183
#아래 표를 stock 이름의 딕셔너리로 표현하라.
stock = {"시가": [100, 200, 300], "종가": [80, 210, 330] }
print(stock)





#184
#아래 표를 stock 이라는 이름의 딕셔너리로 표현하라.
stock = {"10/10": [80, 110, 70, 90], "10/11": [210, 230, 190, 200] }
print(stock)


#185
#리스트에 저장된 데이터를 아래와 같이 출력하라.
apart = [ [101, 102], [201, 202], [301, 302] ]
print(stock)


#186
#리스트에 저장된 데이터를 아래와 같이 출력하라.
apart = [ [101, 102], [201, 202], [301, 302] ]
print(apart)



#187
#리스트에 저장된 데이터를 아래와 같이 출력하라.
apart = [ [101, 102], [201, 202], [301, 302] ]
print(apart)


#188
#리스트에 저장된 데이터를 아래와 같이 출력하라.
apart = [ [101, 102], [201, 202], [301, 302] ]
for row in apart:
    for col in row:
        print(col, "호")
        print("-" * 5)



#189
#리스트에 저장된 데이터를 아래와 같이 출력하라.
apart = [ [101, 102], [201, 202], [301, 302] ]
for row in apart:
    for col in row:
        print(col, "호")
    print("-----")



#190
apart = [ [101, 102], [201, 202], [301, 302] ]
for row in apart:
    for col in row:
        print(col, "호")
print("-" * 5)





191
#data에는 매수한 종목들의 OHLC (open/high/low/close) 가격 정보가 바인딩 되어있다.
data = [
    [ 2000,  3050,  2050,  1980],
    [ 7500,  2050,  2050,  1980],
    [15450, 15050, 15550, 14900]
]
for line in data:
    for column in line:
        print(column * 1.00014)


#192
#191번의 출력 결과에 행단위로 "----" 구분자를 추가하라.
for line in data:
    for column in line:
        print(column * 1.00014)
    print("----")


#193
#192 번 문제의 결괏값을 result 이름의 리스트에 1차원 배열로 저장하라
result = []
for line in data:
    for column in line:
        result.append(column * 1.00014)
print(result)


#194
#191번 문제의 결괏값을 result 이름의 리스트에 2차원 배열로 저장하라. 저장 포맷은 아래와 같다. 
#각 행에 대한 데이터끼리 리스트에 저장되어야 한다.
result = []
for line in data:
    sub = []
    for column in line:
        sub.append(column * 1.00014)
    result.append(sub)
print(result)


#195
#ohlc 리스트에는 시가(open), 고가 (high), 저가 (low) , 종가(close)가 날짜별로 저장돼 있다. 화면에 종가데이터를 출력하라.
ohlc = [["open", "high", "low", "close"],
        [100, 110, 70, 100],
        [200, 210, 180, 190],
        [300, 310, 300, 310]]
for row in ohlc[1:]:
    print(row[3])



#196
#ohlc 리스트에는 시가(open), 고가 (high), 저가 (low) , 종가(close)가 날짜별로 저장돼 있다. 종가가 150원보다 큰경우에만 종가를 출력하라.
ohlc = [["open", "high", "low", "close"],
        [100, 110, 70, 100],
        [200, 210, 180, 190],
        [300, 310, 300, 310]]
for row in ohlc[1:]:
    if (row[3] > 150):
        print(row[3])



#197
#ohlc 리스트에는 시가(open), 고가 (high), 저가 (low) , 종가(close)가 날짜별로 저장돼 있다. 종가가 시가 보다 크거나 같은 경우에만 종가를 출력하라.
ohlc = [["open", "high", "low", "close"],
        [100, 110, 70, 100],
        [200, 210, 180, 190],
        [300, 310, 300, 310]]
for row in ohlc[1:]:
    if (row[3] >= row[0]):
        print(row[3])


#198
#ohlc 리스트에는 시가(open), 고가 (high), 저가 (low) , 종가(close)가 날짜별로 저장돼 있다. 
#고가와 저가의 차이를 변동폭으로 정의할 때 변동폭을 volatility 이름의 리스트에 저장하라.
ohlc = [["open", "high", "low", "close"],
        [100, 110, 70, 100],
        [200, 210, 180, 190],
        [300, 310, 300, 310]]
volatility = []
for row in ohlc[1:]:
    volatility.append(row[1]-row[2])
    print(volatility)


#199
#리스트에는 3일 간의 ohlc 데이터가 저장돼 있다. 종가가 시가보다 높은 날의 변동성 (고가 - 저가)을 화면에 출력하라.
for row in ohlc[1:]:
    if row[3] > row[0]:
        print(row[1]-row[2])



#200
#리스트에는 3일 간의 ohlc 데이터가 저장돼 있다. 
#시가에 매수해서 종가에 매도 했을 경우 총 수익금을 계산하라.
ohlc = [["open", "high", "low", "close"],
        [100, 110, 70, 100],
        [200, 210, 180, 190],
        [300, 310, 300, 310]]
profit = 0
for row in ohlc[1:]:
    profit += (row[3] - row[0])
    print(profit)












