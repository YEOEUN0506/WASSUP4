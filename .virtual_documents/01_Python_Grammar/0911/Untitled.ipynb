


#pandas 
#series 1차원 
#data frame 2차원



import pandas as pd 
import numpy as np 

#series
s = pd.Series ( [ 1 ,2, 3, 4, 5]) 
print (type (s) )
print ( s . index) 
print ( s. dtype) 
print ( s )
s. index = [ 'A' , 'B' , 'C', 'D' , 'E']
print (s) 


s = pd.Series ( [ 1 ,2, 3, 4, 5] , [ 'A' , 'B' , 'C', 'D' , 'E']) 
print(s) 
print (s . index) 
print ( s. values)  
print (s ['A']) 
print (s.A) 
print (s [0:5]) 
print (s ['A':'D']) 


# dictionary ( map , json) -> series

d = {'A' : 10 , 'D' : 20 , 'F':30, 'H':40}
print(type(d))
for key, value in d.items() :
    print (key, ":", value)
    print(d['A'])

# print (d.A) - dpfj 

s = pd.seires(d) 
print( s.index) 
print ( s.values) 
print ( s[ 'A'] ) 
print ( s.A) 













































































