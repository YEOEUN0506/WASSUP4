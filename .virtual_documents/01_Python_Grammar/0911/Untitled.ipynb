


#numpy 
#numerical python 
#고성능 수치 계산을 위한 라이브러리 
#벡터나 행렬 연산에 편리한 기능제공 
#모든 원소는 같은 자료형 가능 
#reshape할 때 데이터 갯수를 맞춰야한다 ( 15개면 3,5 o 3,6 x) 
#데이터를 가져오고 데이터의 갯수를 반드시 shape룰 확인해야한다.) 
#(행, 열) 


import numpy as np 
a = np.arange( 15 )
print (a)
a = a.reshape( 3 , 5, order='f' ) # 함수에 옵션을 줄 수 있음  - c- 행부터 할당(기본값) f -열부터 할당 
print( a ) 
print ( type (a) ) 
print ( a. shape) #shape는 함수가 아니라 변수 
print ( a. dtype) #32바이트 정수로 되어있다 데이터 타입 확인 
print ( a. ndim) # 지금 만든 데이터가 몇 차원 데이터인지 확인 
print ( a . size) # 데이터 갯수를 알려줌 
# print (dir (np)) - 넘파이에서 쓸 수 있는 것들을 다 보여주는 것  dir은 함수인데 쓸 수 있는 메서드, 함수, 변수, 클래스 등을 전체적으로 보여줌 



#넘파이는 딕셔너리는 안됨 
b = np.array([-1, 2, 5, -3, 0, 7, -9, 7, -4, -7])  #list -데이터 중복 가능 
print(b)

t = (10,20,30,40,50) # tuple 
print (type(t))
t = np.array(t)
print(type(t)) 

s =  {10, 20, 30, 40, 50 } # set - 데이터 중복이 안됨 & 간단한 데이터 
print (type (s))
s = np.array(s)
print( type (s))


print ( b. shape)
print ( b . ndim)
print ( b.dtype) #int 정수 float 실수가 있다. 
print (b)

#print (help ( np.arange ) )


print ( np. abs ( b ) ) # 절대값 
print ( np . sqrt ( np.abs(b) ) ) # sqrt 양의 제곱근 - 루트 / 이중함수 가능 
print ( np.square (b) ) #제곱
print ( np . isnan (b) ) # is함수  nan여부를 물음 nan - true  아니면 false (nan 일때 true, 데이터 값이 있으면 false)
print ( np.sum(b)) #합계 
print ( np. mean (b) ) #평균
print ( np. max(b) ) #최대값 
print ( np. min(b) ) #최소값 
print (np . argmax (b) ) # 최대값의 인덱스 - 제일 큰 값의 위치 
print (np . argmin (b) ) # 최소값의 인덱스 - 제일 작은값의 위치 
print (np. sort (b) ) # 정렬 오름차순 -작은 값부터 
print (np. sort (b) [::-1] ) # 정렬 내림차순 -큰 값부터 [start : end : step ] -를 step으로 주면







































