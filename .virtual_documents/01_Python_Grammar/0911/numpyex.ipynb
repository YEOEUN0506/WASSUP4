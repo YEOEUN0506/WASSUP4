


#numpy 
#numerical python 
#고성능 수치 계산을 위한 라이브러리 
#벡터나 행렬 연산에 편리한 기능제공 
#모든 원소는 같은 자료형 가능 
#reshape할 때 데이터 갯수를 맞춰야한다 ( 15개면 3,5 o 3,6 x) 
#데이터를 가져오고 데이터의 갯수를 반드시 shape룰 확인해야한다.) 
#(행, 열) 


import numpy as np 
a = np.arange( 15 )
print (a)
a = a.reshape( 3 , 5, order='f' ) # 함수에 옵션을 줄 수 있음  - c- 행부터 할당(기본값) f -열부터 할당 
print( a ) 
print ( type (a) ) 
print ( a. shape) #shape는 함수가 아니라 변수 
print ( a. dtype) #32바이트 정수로 되어있다 데이터 타입 확인 
print ( a. ndim) # 지금 만든 데이터가 몇 차원 데이터인지 확인 
print ( a . size) # 데이터 갯수를 알려줌 
# print (dir (np)) - 넘파이에서 쓸 수 있는 것들을 다 보여주는 것  dir은 함수인데 쓸 수 있는 메서드, 함수, 변수, 클래스 등을 전체적으로 보여줌 



#넘파이는 딕셔너리는 안됨 
b = np.array([-1, 2, 5, -3, 0, 7, -9, 7, -4, -7])  #list -데이터 중복 가능 
print(b)

t = (10,20,30,40,50) # tuple 
print (type(t))
t = np.array(t)
print(type(t)) 

s =  {10, 20, 30, 40, 50 } # set - 데이터 중복이 안됨 & 간단한 데이터 
print (type (s))
s = np.array(s)
print( type (s))


print ( b. shape)
print ( b . ndim)
print ( b.dtype) #int 정수 float 실수가 있다. 
print (b)

#print (help ( np.arange ) )


print ( np. abs ( b ) ) # 절대값 
print ( np . sqrt ( np.abs(b) ) ) # sqrt 양의 제곱근 - 루트 / 이중함수 가능 
print ( np.square (b) ) #제곱
print ( np . isnan (b) ) # is함수  nan여부를 물음 nan - true  아니면 false (nan 일때 true, 데이터 값이 있으면 false)
print ( np.sum(b)) #합계 
print ( np. mean (b) ) #평균
print ( np. max(b) ) #최대값 
print ( np. min(b) ) #최소값 
print (np . argmax (b) ) # 최대값의 인덱스 - 제일 큰 값의 위치 
print (np . argmin (b) ) # 최소값의 인덱스 - 제일 작은값의 위치 
print (np. sort (b) ) # 정렬 오름차순 -작은 값부터 
print (np. sort (b) [::-1] ) # 정렬 내림차순 -큰 값부터 [start : end : step ] -를 step으로 주면
print (np. median (b) ) #중간값 


np. random.rand (3,3) 


c = np. zeros (3)
print (c) # 값이 다 0 
d = np. ones ((3,3)) # 값이 다 1 
print (d)
np. random.rand (3,3) 
np.zeros_like(d)
np.ones_like(c)
np.random.randint(1,40,(3,3,3))


np. random.rand (3,3) 


np.zeros_like(d)


np.ones_like(c)





np.random.randint(1,40,(3,3,3))








import numpy as np 
c = [[ 1 ,2,3 ] , [4,5,6]]
print(type(c))
c= np.array(c)
print(type(c))

print(np.sum(c) )
print(np.sum(c , axis = 0 ) ) # 0은 행이라는 옵션
print(np.sum(c , axis = 1 ) ) # 1은 열이라는 옵션
print(np.mean(c) ) # 전체평균 
print(np.mean(c , axis = 0 ) )# 0은 행끼리 평균 
print(np.mean(c , axis = 1 ) ) # 1은 열끼리 평균 
print(np.max(c) ) # 전체 최대값
print(np.max(c , axis = 0 ) ) # 0은 행에서 최대값
print(np.max(c , axis = 1 ) ) # 1은 열에서 최대값 




#표준편차 분산 (점과 점사이 거리) 
print (np.std(c)) #표준편차 
print (np. var (c))  #분산 






#element wise 

d = [10,20,30,40,50]
#print(d+2) #error 
d = np. array(d) 
print (d+2)

e = np.array([1,2,3,4,5])
print (d+e)
print(d**2) 


print (d * np.sin(d))
print(d>35) # 각각의 데이터 크기 비교 
print(np.add (d,e)) # +
print(np.subtract(d,e)) #- 
print(np.multiply(d,e)) # x
print(np.divide(d,e)) # % 





f = np. array([ [0,1] , [1,1]]) 
g = np. array([ [2,0] , [3,4] ]) 
print (f*g)
print (f @ g)   #행렬곱 

print( np. dot (f,g)) #행렬곱 - 연산자로도 할 수 있지만 함수도 있다~ 
print ( f. dot(g) )  #또한 행렬곱입니다 


h = np. zeros(10)
print (h) 
i = np. zeros ( (5,5) )  #반드시 튜플로 생성 
print (i) 
j = np . ones (10)
print(j) 


# np. random.random  0~1 사이의 난수 발생 
# np. random . randint 균일분포의 정수 난수 발생 
# np . random . rand 0~1사이의 균일 분포 난수 matrix array 생성 
# np. random . randn 가우시안 표준 정규분포 난수 matrix array 생성 
#np. random.normal 평균, 표준편차, sample 갯수 

k = np.random.random(10) * 100
k = np.array([int(i) for i in k])
print(type (k))
print(k)



print( np.random.randint (10,20))
print ( np. random.rand (5,2) )






# 슬라이싱 - 리스트 넘파이 판다쓰 다 다르다 
m =  [ i for i in range(10,20)]
print ( m[0:5]) # [ 시작: 끝-1: 간격]

print ( m[0:5:2])
print(m[:])
print(m[5:])
print(m[:-1]) 
print(m[::-1]) #간격이 -1 거꾸로 출력

#ndarray 
w = np. arange (10,20) 
print(w[0:5])
print (w[0:5:2]) 
print(W[:-2]) 





r = [ [1,2,3,4,5] , [5,6,7,8,9,10] , [11,12,13,14,15]] 
print (r [2][2])
print(r[:][:]) 
print(r[2][:]) 
print(r[1][:2])
print(r[:2][:2])
#print ( r [:,:]) #에러 





s = np.arange (1,16).reshape(3,5)
print ( s ) 
print( s[2][2] ) 
print (s [:][:]) 
print( s[2][:] )
print( s[:2][:1]) #[[12345]]
print( s[:2, :2]) 

print( s[:,:])
print ( s [:-1, :-1])
print ( s [2,2])
print(s [::-1, ::-1]) 

print(s [[0,2]]) 
print (s [:,[1,3,4]])
print(( s[[0,2],[3,4]]) #0행 3열 2행 4열 
      


print (s) # 3행 5열 데이터 
print (s. T) #5행 3열 


#결합 / 분리 
a = [1,2,3] 
b = [4,5,6] 
for ab in zip (a,b) : 
    print (ab) 
















