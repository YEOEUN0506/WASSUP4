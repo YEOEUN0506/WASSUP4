


#pandas 
#series 1차원 
#data frame 2차원



import pandas as pd 
import numpy as np 

#series
s = pd.Series ( [ 1 ,2, 3, 4, 5]) 
print (type (s) )
print ( s . index) 
print ( s. dtype) 
print ( s )
s. index = [ 'A' , 'B' , 'C', 'D' , 'E']
print (s) 


s = pd.Series ( [ 1 ,2, 3, 4, 5] , [ 'A' , 'B' , 'C', 'D' , 'E']) 
print(s) 
print (s . index) 
print ( s. values)  
print (s ['A']) 
print (s.A) 
print (s [0:5]) 
print (s ['A':'D']) 


# dictionary ( map , json) -> series

d = {'A' : 10 , 'D' : 20 , 'F':30, 'H':40}
print(type(d))
for key, value in d.items() :
    print (key, ":", value)
    print(d['A'])

# print (d.A) - dpfj 

s = pd.Series(d)
print(s.index)
print(s.values)
print(s['A'])
print(s.A)
print ( s [0:3]) 
print ( s ['A':'F'] ) 


#dataframe 
# 딕셔너리 -> 데이터 프레임 


d = {
    'name' : [ 'kim', 'lee', 'park', 'jung' ],
    'age' : [25, 30, 35, 20],
    'tel' : ['1111-2222', '2222-1111', '3333-1111', '2222-3333']
}
print(type(d))
print (d)

df = pd.DataFrame(d)   # 데이터 프레임
print (df)
print(df.index)
print (df.columns) 
print (df.values)
df. index.name = 'Num'
df . columns.name = 'User' 
print (df)
print(df.index)
print (df.columns) 



n = np. array (
    [['kim' , 20, '1111- 2222'],
     ['lee' , 30 , '2222-1111'], 
     ['park' , 35 , '3333-2222'], 
     ['jung' , 25, '3333-1111']] 
)
print (type (n) ) 
df = pd. DataFrame (n) 

df . columns = [ 'name', 'age', 'tel' ] 
df . index = [ 'A', 'B', 'C', 'D' ] 
print (df) 
print (df. index) 
print (df. columns) 


df = pd. DataFrame ( n, columns = [ 'name' , 'age' , 'tel'] ,  index = ['A', 'B', 'C', 'D']) 
print (df) 

print ( df.describe() ) 


print ( df ['name']) 
print (df [[ 'name' , 'tel']]) 
print (df ['name'] [2] ) 
print ( df ['name'] ['C']) 
print( df['name'].C) 
print (df['name'] ['B':'D']) 


print (df. name , df. age) 
print (df.name.C) 


































































