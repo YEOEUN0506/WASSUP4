


>>> f = open("나없는파일", 'r')


4 / 0


>>> a = [1, 2, 3]
>>> a[3]





#try-except 문


try:
    4 / 0
except ZeroDivisionError as e :
    print('0으로 나눌 수 없습니다.')
    print(e)


# try_finally.py
try:
    f = open('foo.txt', 'w')
    # 무언가를 수행한다.

    (... 생략 ...)

finally:
    f.close()  # 중간에 오류가 발생하더라도 무조건 실행된다.



여러 개의 오류 처리하기


try:
    ...
except 발생오류1:
   ... 
except 발생오류2:
   ...





























































