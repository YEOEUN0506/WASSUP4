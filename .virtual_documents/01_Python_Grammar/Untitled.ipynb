





money = True
if money:
    print("택시를 타고 가라")
else:
    print("걸어 가라")


# 조건문이란 무엇인가?


x = 3
y = 2
x > y


x > y


money = 2000
if money >= 3000:
    print("택시를 타고 가라")
else:
    print("걸어 가라")





money = 5000
card = True
if money >= 3000 or card :
    print("택시를 타고 가라")
else:
    print("걸어 가라")


1 in [1, 2, 3]


'a' in ('a', 'b', 'c')


#만약 주머니에 돈이 있으면 택시를 타고 가고, 없으면 걸어가라.


pocket = ['paper', 'cellphone', 'money']

if 'money' in pocket :
    print('택시를 타고 가라')
else: 
    print('걸어가라')
    


#pass


pocket = ['paper', 'cellphone', 'money']

if 'money' in pocket :
    pass
else: 
    print('걸어가라')


#주머니에 돈이 있으면 택시를 타고 가고, 
#주머니에 돈은 없지만 카드가 있으면 택시를 타고 가고, 
#돈도 없고 카드도 없으면 걸어가라.


 pocket = ['paper', 'cellphone']
 card = True
if 'money' in pocket:
     print("택시를 타고가라")
else:
     if card:
        print("택시를 타고가라")
     else:
         print("걸어가라")



    




 pocket = ['paper', 'cellphone']
 card = True
 if 'money' in pocket:
      print("택시를 타고가라")
 elif card: 
      print("택시를 타고가라")
 else:
      print("걸어가라")



 pocket = ['paper', 'money', 'cellphone']
 if 'money' in pocket: pass
 else: print("카드를 꺼내라")





score = 50
if score >= 60:
    message = "success"
else:
    message = "failure"
    print(message)


message = "success" if score >= 60 else "failure"





>>> treeHit = 0
>>> while treeHit < 10:
...     treeHit = treeHit +1
...     print("나무를 %d번 찍었습니다." % treeHit)
...     if treeHit == 10:
...         print("나무 넘어갑니다.")



prompt = '''
1.Add
2.Del
3.List 
4.Quit 

Enter number :  '''


prompt


print(prompt)





number = 0
while number != 4:
    print(prompt)
    number = int(input())


>>> coffee = 10
>>> money = 300
>>> while money:
...     print("돈을 받았으니 커피를 줍니다.")
...     coffee = coffee -1
...     printwhile money:
...     if coffee == 0:
...         print("커피가 다 떨어졌습니다. 판매를 중지합니다.")
...         break


# money를 사용자가 입룍받는 커피 자판기 프로그램을 만들어보자 


# coffee.py
coffee = 10
while True:
    money = int(input("돈을 넣어 주세요: "))
    if money == 300:
        print("커피를 줍니다.")
        coffee = coffee -1
    elif money > 300:
        print("거스름돈 %d를 주고 커피를 줍니다." % (money -300))
        coffee = coffee -1
    else:
        print("돈을 다시 돌려주고 커피를 주지 않습니다.")
        print("남은 커피의 양은 %d개 입니다." % coffee)
    if coffee == 0:
        print("커피가 다 떨어졌습니다. 판매를 중지 합니다.")
        break


#프로그램 만들 때 1번 
#1: 1번 input/output 정의 
#input: 사용자 입력, int(input())
#outout: 출력 print()
2번
프로그램 while 
3번 조건: 
-재고없음 
-돈이 부족하다 
-돈이 많다 -> 거슬러 줘야한다 
-돈이 많다. 



coffee=10 
while True: 
    input('돈을 넣어주세요.: ')
    
    if money == 300:
        print("커피를 줍니다.")
        coffee = coffee - 1
    elif money > 300:
        print("거스름돈 %d를 주고 커피를 줍니다." % (money -300))
        coffee = coffee -1
    else:
        print("돈을 다시 돌려주고 커피를 주지 않습니다.")
        print("남은 커피의 양은 %d개 입니다." % coffee)
    if coffee == 0:
        print("커피가 다 떨어졌습니다. 판매를 중지 합니다.")
        break   
              
    
    
    
    
    break 


# coffee.py
coffee = 10
while True:
    money = int(input("돈을 넣어 주세요: "))
    if money == 300:
        print("커피를 줍니다.")
        coffee = coffee -1
    elif money > 300:
        print("거스름돈 %d를 주고 커피를 줍니다." % (money -300))
        coffee = coffee -1
    else:
        print("돈을 다시 돌려주고 커피를 주지 않습니다.")
        print("남은 커피의 양은 %d개 입니다." % coffee)
    if coffee == 0:
        print("커피가 다 떨어졌습니다. 판매를 중지 합니다.")
        break





# while 문의 맨 처음으로 돌아가기 - contiue


>>> a = 0
>>> while a < 10:
...     a = a + 1
...     if a % 2 == 0: continue
...     print(a)





#전형적인 for문 
test_list = ['one', 'two', 'three']
for i in test_list: 
    print(i)


a = [(1,2), (3,4), (5,6)]
for (first, last) in a:
   print(first + last)


# marks1.py
marks = [90, 25, 67, 45, 80]   # 학생들의 시험 점수 리스트

number = 0   # 학생에게 붙여 줄 번호
for mark in marks:   # 90, 25, 67, 45, 80을 순서대로 mark에 대입
    number = number +1 
    if mark >= 60: 
        print("%d번 학생은 합격입니다." % number)
    else: 
        print("%d번 학생은 불합격입니다." % number)



































































