


#for 문과 continue 문
# marks2.py
marks = [90, 25, 67, 45, 80]

number = 0 
for mark in marks: 
    number = number +1 
    if mark < 60:
        continue 
    print("%d번 학생 축하합니다. 합격입니다. " % number)



#for 문과 함께 자주 사용하는 range 함수


range?


range(0,10)


type(range(10))


for i in range(10):
    print (i)


for i in range(1,11):
    print (i)


#quiz  for문과 range함수를 이용하여 1부터 10까지 더해서 
#출력하셈 



>>> add = 0 
>>> for i in range(1, 11): 
...     add = add + i 
... 
>>> print(add)


marks = [90, 25, 67, 45, 80]

number = 0 
for mark in range(len(scores)):
    if mark[s] < 60:
        continue 
    print(f"{s+1}번 학생 축하합니다. 합격입니다. ")


# for와 range를 이용한 구구단


for i in range(2,10):
    print('=' 10) 
    print(f'{i}단')
    for j in range(1,10):
        print(f"{i}x{j}={i j}")








#리스트 컴프리헨션 사용하기


>>> a = [1,2,3,4]
>>> result = []
>>> for num in a:
...     result.append(num*3)
...
>>> print(result)
[3, 6, 9, 12]


>>> a = [1,2,3,4]
>>> result = [num * 3 for num in a]
>>> print(result)


>>> a = [1,2,3,4]
>>> result = [num * 3 for num in a if num % 2 == 0]
>>> print(result)


import time

start = time.time() 
numbers = [i for i in range(1000000)] 
end = time.time() 
print('List Comprehension Time:', end-start)

start = time.time() 
numbers = []
for i in range(1000000):
    numbers.append(i)
end = time.time() 
print('For loop Time:', end-start)


#함수


#전화번호 프로그램 만들기 
#홍길동 010 -7133-9967 
#기능1: 연락처후가
#기능2연락처 전체보기 
#기능3: 검색, 이름을 입력 받아서 전화번호 조회 
#기능4: 수정, 이름을 입력받아서 전화번호 입력수정 
#기능5: 삭제, 이름 받아서 삭제
#기능: 프로그램 종료 


#초기 연락처 데이터
list = {"홍길동": "010-123-4567"}

while True:
    # 메뉴
    print("\n전화번호 프로그램")
    print("1. 연락처 추가")
    print("2. 연락처 전체조회")
    print("3. 연락처 검색")
    print("4. 연락처 수정")
    print("5. 연락처 삭제")
    print("6. 프로그램 종료")

    # 사용자 input
    choice = input("어떤 기능을 원하시나요?: ")

    # 연락처 추가 기능
    if choice == "1":
        name = input("추가할 이름: ")
        phone = input("전화번호: ")
        list[name] = phone
        print(f"{name}의 연락처가 추가되었습니다.")

연락처 전체조회
    elif choice == "2":
        if list:
            print("\n연락처 전체조회:")
            for name, phone in list.items():
                print(f"{name}: {phone}")
        else:
            print("연락처가 없습니다.")

    #연락처 검색
    elif choice == "3":
        name = input("검색할 이름: ")
        if name in list:
            print(f"{name}의 전화번호: {list[name]}")
        else:
            print(f"{name}의 연락처를 찾을 수 없습니다.")

    #연락처 수정
    elif choice == "4":
        name = input("수정할 이름: ")
        if name in list:
            new_phone = input("새로운 전화번호: ")
            list[name] = new_phone
            print(f"{name}의 전화번호가 수정되었습니다.")
        else:
            print(f"{name}의 연락처를 찾을 수 없습니다.")

    #연락처 삭제
    elif choice == "5": 
        name = input("삭제할 이름: ")
        if name in list:
            del list[name]
            print(f"{name}의 연락처가 삭제되었습니다.")
        else:
            print(f"{name}의 연락처를 찾을 수 없습니다.")

    #프로그램 종료 
    elif choice == "6":
        print("프로그램을 종료합니다.")
        break

    else:
        print("잘못된 입력입니다")


1. 입출력 정의: 문자열, 딕셔너리 K:V
2.인터페이스: input()
3. 구조: while 반복문, 6개 기능을 구현 if 분기문 
4. 기능 구현 + 인터페이스 정책 


#1번 기능 연락처 추가 
dict[key] = value 
#2번 연락처 전체보기
print(dict) 
#3번 검색기능
dict[key]
#4번 연락처 수정 
dict[key] = value 
#5번 삭제 
del 
#6번 프로그램 종료 
berak 




contact{}


while True:
    print('------전화번호부 프로그램------')
    print('1.추가 2.조회 3.검색 4.수정 5.삭제  9.종료')
    menu = int(input('메뉴를 선택해주세요.(숫자: only) : '))
    if  menu == 1: #연락처 추가 
        print('연락처 추가')
        new_name = input('이름: ')
        new_tel = input('전화번호: ')
        print(new_name, new_tel)
        
        #contact[new_name] = new_tel
        contact.setdefault(new_name, new_tel)
            
    elif  menu == 2: #연락처 조회 
        print('연락처 조회')
        #print(contact)
        for name, tel in contact.items():
            print(name, ':', tel)


    
    elif  menu == 3: #연락처 검색 
        print('연락처 검색')
        search_name = input('검색 이름: ')
        print(contact.get(search_name, '없는 이름입니다.'))
        #print(contact[search_name])
    
    elif  menu == 4: #연락처 수정
        print('연락처 수정')
        mod_name = input('수정 이름 : ')
        

        if mod_name in contact:
            mod_tel = input('새 전화번호: ')
            contact[mod_name] = mod_tel
        else: 
            print('등록되지 않은 이름입니다.')
            
    elif  menu == 5: #연락처 삭제
        print('연락처 삭제')
        del_name = input('삭제 이름 : ')
        
        if del_name in contact:
            del contact[del_name]
        else: 
            print('등록되지 않은 이름입니다.')
    elif  menu == 9: #연락처 종료 
        print('연락처 종료')
        break
    else: 
        print('잘못된 입력입니다.')
       


































































