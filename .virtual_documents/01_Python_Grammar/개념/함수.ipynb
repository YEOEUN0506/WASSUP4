


>>> def add(a, b):
...     return a+b




>>> def add1(a, b):
...     return a+b
>>> a = 3
>>> b = 4
>>> c = add(a, b)  # add(3, 4)의 리턴값을 c에 대입
>>> print(c)


#입력값과 리턴값에 따른 함수의 형태
def 함수_이름(매개변수):
    수행할_문장
    ...
    return 리턴값



def add(a, b): 
    result = a + b 
    return result
>>> a = add(3, 4)
>>> print(a)


#입력값이 없는 함수
>>> def say(): 
...     return 'Hi' 


say()


#리턴값이 없는 함수


>>> def add2(a, b): 
...     print("%d, %d의 합은 %d입니다." % (a, b, a+b))
add(3, 4)


c = add2(3,5) 


#입력값도, 리턴값도 없는 함수 
>>> def say(): 
...     print('Hi')


#매개변수를 지정하여 호출하기


>>> def sub(a, b):
...     return a - b
>>> result = sub(a=7, b=3)  # a에 7, b에 3을 전달
>>> print(result)


>>> result = sub(a=4, b=3)  # a에 7, b에 3을 전달
>>> print(result)


#입력값이 몇 개가 될지 모를 때는 어떻게 해야 할까?


#사용자의 입력이 몇개든 ,전부다 누적해서 더해주는 경우 
>>> def add_many(*args): 
...     result = 0 
...     for i in args: 
...         result = result + i   # *args에 입력받은 모든 값을 더한다.
...     return result 


## Quiz 
사용자에게 다수의 입력을 받아서 누적곱 또는 누적합을
출력하는 함수를 만들어라 
>>> def add_many(*args): 
    result = 0 
    for i in args:
        if result = result + i 
return result 


def cumulative_operation(numbers, operation="sum"):
    if operation == "sum":
        return cumulative_sum(numbers)
    elif operation == "product":
        return cumulative_product(numbers)
    else:
        return "지원하지 않는 연산입니다."

# 예시 입력
numbers = [1, 2, 3, 4, 5]
print("누적합:", cumulative_operation(numbers, operation="sum"))
print("누적곱:", cumulative_operation(numbers, operation="product"))



def add_mul(option, *args):
    if option == 'mul':
        data = 1
        for i in args:
            data = data * i
        return data 
    if option == 'sum':
        data = 0
        for i in args:
            data = data + i
        return data 

add_mul('mul', 1,2,3,4,5) 




#키워드 매개변수, kwargs
#이번에는 키워드 매개변수에 대해 알아보자. 키워드 매개변수를 사용할 때는 매개변수 앞에 별 2개(**)를 붙인다. 역시 이것도 예제로 알아보자. 
#먼저 다음과 같은 함수를 작성해 보자.


>>> def print_kwargs(**kwargs):
...     print(kwargs)
>>> print_kwargs(a=1)
{'a': 1}
>>> print_kwargs(name='foo', age=3)
{'age': 3, 'name': 'foo'}


#함수의 리턴값은 언제나 하나이다
>>> def add_and_mul(a,b): 
...     return a+b, a*b
>>> result = add_and_mul(3,4)
add_and_mul(3,4)


>>> result1, result2 = add_and_mul(3, 4)


>>> result = add_and_mul(2, 3)
>>> print(result)



#return의 또 다른 쓰임새


def say_nick(nick):
    if nick == '바보': 
        return '옥상으로 따라와'
    print(f'나의 별명은 {nick} 입니다.')


say_nick(바보)


def say_nick(nick):
    if nick == '바보': 
        return '옥상으로 따라와'
    print(f'나의 별명은 {nick} 입니다.')


say_nick('바보') 


#함수 안에서 선언한 변수의 효력 범위
# vartest.py
a = 1
def vartest(a):
    a = a +1

vartest(a)
print(a)


#함수 안에서 함수 밖의 변수를 변경하는 방법
#1. return 사용하기
# vartest_return.py
a = 1 
def vartest(a): 
    a = a +1 
    return a

a = vartest(a) 
print(a)



#2. global 명령어 사용하기
# vartest_global.py
a = 1 
def vartest(): 
    global a 
    a = a+1

vartest() 
print(a)



#lambda 예약어
>>> add = lambda a, b: a+b
>>> result = add(3, 4)
>>> print(result)


>>> def add(a, b):
...     return a+b
...
>>> result = add(3, 4)
>>> print(result)
7


f = open("새파일.txt", 'w')
f.close()



f = open("새파일.txt", 'w')
for i in range(1,11): 
    f.write(f'{i}번째 줄입니다.\n')
f.close()


#readline 함수 이용하기
#첫 번째는 readline 함수를 사용하는 것이다. 다음 예를 살펴보자.
f = open("새파일.txt", 'r')
for i in range(5):
    line = f.readline()
    print(line)
f.close()


# read lines 함수 
f = open("새파일.txt", 'r')
lines = f.readlines()
print(lines)


f.close()


## quiz 메모장을 읽어 올때 줄바꿈 1개를 없애보세요 
f = open("새파일.txt", 'r')
lines = f.readlines()
for line in lines : 
    print(line.strip())
print(lines)


#read함수 
f = open("새파일.txt", 'r')
data = f.read()
print(data)
f.close()


#파일에 새로운 내용 추가하기 


f = open("새파일.txt", 'a')
for i in range(11,21): 
    data = f'{i}번째 줄입니다.\n'
    f.write(data)
f.close()


# read lines 함수 
f = open("새파일.txt", 'r')
lines = f.readlines()
print(lines)





f = open("foo.txt", 'w')
f.write("Life is too short, you need python")
f.close()


with open("foo.txt", 'w') as f:
    f.write("Life is too short, you need python")







































