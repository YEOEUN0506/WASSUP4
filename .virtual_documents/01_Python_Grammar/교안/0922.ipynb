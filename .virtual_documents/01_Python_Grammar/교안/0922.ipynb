


import pandas as pd
arr = [0, 1, 2, 3]
type(arr)


s = pd.Series(arr)
s


type(s)


data = [100, 200, 300]
index = ["월" , "화", "수"]
s= pd.Series(data, index) 
s


data = [500, 800, 200]
index = ["메로나" , "누가바", "빠삐코"]
s= pd.Series(data, index) 
s





# 판다스 인덱싱 & 슬라이싱 


import pandas as pd 



data = [100, 200, 300]
index = ["월" , "화", "수"]
s= pd.Series(data, index) 
s


s.iloc[0]


s.loc["월"]


s.iloc[0:2]


s.loc["화":"수"]


s.iloc[[0, 2]]





#판다스 시리즈 추가, 삭제, 수정 


import pandas as pd 

data = [100, 200, 300]
index = ["월" , "화", "수"]
s= pd.Series(data, index) 

s.loc["목"] = 400 
print(s)


import pandas as pd 

data = [100, 200, 300]
index = ["월" , "화", "수"]
s= pd.Series(data, index) 

s1 = s.drop('월')
s1


# seris 연산 


#연습문제 
import pandas as pd 
저가 = pd.Series([10, 200, 200, 400, 600])
고가 = pd.Series([100, 300, 400, 500, 600])
cond = (고가 - 저가) >= 100 
고가[cond]





#데이타 프레임 생성 



import pandas as pd 
data = {
    '시가' : [980, 200, 300],
    '고가' : [990, 300, 500],
    '저가' : [920, 180,300],
    '종가' : [930, 180, 400]
}
index = ['비트코인', '리플', '이더리움']

df = pd.DataFrame(data , index)
df





#ㅇㅇㅇ


from pandas import DataFrame

data = [
    ['3R', 1510, 7.36],
    ['3SOFT', 1790, 1.65],
    ['ACTS', 1185, 1.28]
]

index = ['037730', '036360', '005760']
columns = ['종목명', '현재가', '등락률']

df = DataFrame(data=data, index=index, columns=columns)
df


df.iloc[1,1]


df.loc['036360', '현재가']


df.iloc[0,2]


df.iloc[[0,1] , [0,1] ]





#데이터 추가 


!pip install pyupbit


import pyupbit

df = pyupbit.get_ohlcv("KRW-BTC")
df['range'] = df['high'] - df['low']
df



df.head()


df['range'] = df['high'] - df['low']
df.head ()


import pyupbit

df = pyupbit.get_ohlcv("KRW-BTC")
df2 = df.drop('volume', axis =1) 
df


#시계열 데이터 


import pandas as pd

date = ["2021-04-09"]
index = pd.to_datetime(date)

print(type(date))
print(type(index))



<class 'list'>
<class 'pandas.core.indexes.datetimes.DatetimeIndex'>






import pandas as pd

date = "2021-04-09"
index = pd.to_datetime(date)

print(type(date))
print(type(index))



<class 'str'>
<class 'pandas._libs.tslibs.timestamps.Timestamp'>






import pandas as pd

date = "2021-09-22"
dt = pd.to_datetime(date)
type(date)
type(dt)





#데이터 프레임 연산 


import pyupbit

df = pyupbit.get_ohlcv("KRW-BTC")
df['open'] +100
df


import pyupbit

df = pyupbit.get_ohlcv("KRW-BTC")
cond= df['close'] > df['open']
cond
df


import pyupbit

df = pyupbit.get_ohlcv("KRW-BTC")
df['close_shift1'] = df['close'].shift(1)
df


















