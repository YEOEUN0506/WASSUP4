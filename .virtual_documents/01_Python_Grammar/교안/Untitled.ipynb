


import pandas as pd
arr = [0, 1, 2, 3]
type(arr)


s = pd.Series(arr)
s


type(s)


data = [100, 200, 300]
index = ["월" , "화", "수"]
s= pd.Series(data, index) 
s


data = [500, 800, 200]
index = ["메로나" , "누가바", "빠삐코"]
s= pd.Series(data, index) 
s





# 판다스 인덱싱 & 슬라이싱 


import pandas as pd 



data = [100, 200, 300]
index = ["월" , "화", "수"]
s= pd.Series(data, index) 
s


s.iloc[0]


s.loc["월"]


s.iloc[0:2]


s.loc["화":"수"]


s.iloc[[0, 2]]





#판다스 시리즈 추가, 삭제, 수정 


import pandas as pd 

data = [100, 200, 300]
index = ["월" , "화", "수"]
s= pd.Series(data, index) 

s.loc["목"] = 400 
print(s)


import pandas as pd 

data = [100, 200, 300]
index = ["월" , "화", "수"]
s= pd.Series(data, index) 

s1 = s.drop('월')
s1


# seris 연산 


#연습문제 
import pandas as pd 
저가 = pd.Series([10, 200, 200, 400, 600])
고가 = pd.Series([100, 300, 400, 500, 600])
cond = (고가 - 저가) >= 100 
고가[cond]





#데이타 프레임 생성 































