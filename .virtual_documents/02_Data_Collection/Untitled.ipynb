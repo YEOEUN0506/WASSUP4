pip list


from bs4 import BeautifulSoup
import lxml


BeautifulSoup?


html = '''
<div id=prices >
    <table >
        <tr class=bb>
            <th class="bb lm lft">Date
            <th class="rgt bb">Open
            <th class="rgt bb">High
            <th class="rgt bb">Low
            <th class="rgt bb">Close
            <th class="rgt bb rm">Volume
        <tr>
            <td class="lm">Feb 28, 2014
            <td class="rgt">100.71
            <td class="rgt">100.71
            <td class="rgt">100.71
            <td class="rgt">100.71
            <td class="rgt rm">0
     </table>
'''


!pip install beautifulsoup4


#파이썬 표준 html 파서 
(html, beautifulsoup4) 


beautifulsoup4(html, 'lxml') 


#bs4 


pwd


html_file = open('samlpe/market.hmtl' , encoding = 'utf-8')
html_file


html_src = html_file.read()
html_file.close()


html_src


print(html_src) 


# dom rnwhfh qusghks (rnansqnstjr) \ 
soup = BeautifulSoup(html_src, 'lxml') 
type(soup)



soup 









