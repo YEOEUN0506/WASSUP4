


! pip install selenium


from selenium import webdriver
from selenium.webdriver.common.by import By
from selenium.webdriver.chrome.options import Options
import time

options = Options()
options


#특정함수 안에서 드라이버 생성시 함수종료될 때 브라우저 같이 종료되는 문제 대응 

options.add_experimental_option("detach", True) 


# 브라우저 실행 및 페이지 접속 


url = 'https://naver.com'
driver = webdriver.Chrome(options=options)


driver.get(url)
time.sleep(2)





#상호작용 


driver.back()


driver.forward()


driver.refresh()





driver.find_element?





driver.find_element(By.ID,'query')


#키입력 


driver.find_element(By.ID,'query').send_keys('뉴진스')


driver.find_element(By.CLASS_NAME,'search_input').send_keys('블랙핑크')


driver.find_element(By.NAME,'query').send_keys('르세라핌')


driver.find_element(By.CSS_SELECTOR,'#query').send_keys('에스파')


driver.find_element(By.CSS_SELECTOR,'.search_input').send_keys('세븐틴')


driver.find_element(By.CSS_SELECTOR,"[title='검색어를 입력해 주세요.']").send_keys('트와이스')


driver.find_element(By.XPATH,"[title='검색어를 입력해 주세요.']").send_keys('트와이스')





##클릭 네이버 쇼핑 메뉴를 클릭해보자 


driver.find_element(By.LINKTEXT,'쇼핑').click()


driver.find_element(By.PARTIAL_LINKTEXT,'증').click()


driver.find_element(By.TAG_NAME,'ul')


driver.find_elements(By.CSS_SELECTOR,'.link_service')


for i in driver.find_elements(By.CSS_SELECTOR,'.link_service'):
     print(i.get_dom_attribute('href'))











url = 'file:///C:/workspace/WASSUP4/02_Data_Collection/sample/signin.html'
driver = webdiver.Chrome(options=options)
driver.get(url)
time.sleep(2)


username = driver.find_element(By.NAME, 'username')
username.send_keys('korea')


username = driver.find_element(By.NAME, 'password')
username.send_keys('1234')





login = driver.find_element(By.XPATH, '//*[@id="loginForm"]/input[3]')
login.click()


driver.back()


driver.find_elements(By.CSS_SELECTOR,'[value=Login]')
login.click


driver.back()


usernave.clear()





username = driver.find_element(By.NAME, 'username')
username.send_keys('korea')
username = driver.find_element(By.NAME, 'password')
username.send_keys('1234')


username.submit()


driver.back()


driver.find_elements(By.TAG_NAME,'p').text 








from selenium import webdriver
from selenium.webdriver.common.by import By
from selenium.webdriver.chrome.options import Options
import time

options = Options()
options.add_argument("--headless=new") 
options.add_argument('--window-size= x, y') #실행되는 브라우저 크기를 지정할 수 있습니다.
options.add_argument('--start-maximized') #브라우저가 최대화된 상태로 실행됩니다.
options.add_argument('--start-fullscreen') #브라우저가 풀스크린 모드(F11)로 실행됩니다.
options.add_argument('--blink-settings=imagesEnabled=false') #브라우저에서 이미지 로딩을 하지 않습니다.
options.add_argument('--mute-audio') #브라우저에 음소거 옵션을 적용합니다.
options.add_argument('incognito') #시크릿 모드의 브라우저가 실행됩니다.
options.add_experimental_option("detach", True) #특정함수안에서  드라이버 생성시 함수종료될 때 브라우저 같이 종료되는 문제 대응








url = 'https://naver.com'
driver = webdriver.Chrome(options=options)
driver.get(url)
time.sleep(2)


print(driver.title)


driver.close()





##윈도우 컨트롤 





# 창의 너비/높이 구하기

size = driver.get_window_size()
width = size.get("width")
height = size.get("height")

print(str(width)+"px"+" "+str(height)+"px")


# 창 크기 조절
driver.set_window_size(800, 600)


# 스크린 상에서의 창 좌표
position = driver.get_window_position()
x = position.get('x')
y = position.get('y')

print("x : "+str(x)+" "+"y : "+str(y))


driver.set_window_position(200,200)


# 창 크기 최대화
driver.maximize_window()


# 창 크기 최소화
driver.minimize_window()


# 전체 화면
driver.fullscreen_window()


# 스크린 샷
driver.save_screenshot('./image.png')


driver.close()











# 네이버 블로그 


from selenium import webdriver
from selenium.webdriver.common.by import By
from selenium.webdriver.chrome.options import Options
import time, random, pandas as pd

options = Options()
options.add_argument('--window-size=974,1047')
options.add_argument('--window-position=-7,0')
options.add_experimental_option("detach", True)





# 웹드라이버 로드
driver = webdriver.Chrome( options = options)


# 조건 설정
where = 'blog'
query = '인공지능'
dateform = '20240101to20240625'
url = f'https://search.naver.com/search.naver?ssc=tab.{where}.all&query={query}&sm=tab_opt&nso=so%3Ar%2Cp%3Afrom{dateform}'
# url = f'https://search.naver.com/search.naver?where={where}&query={query}&sm=tab_op&nso=so:r,p:from{dateform}'
fname = f'{where}_{query}_{dateform}'





# url 접속
driver.get(url)
time.sleep(random.randint(2,3))





excute_script()
자바스크립트 함수(스크롤다운) 실행하기 execute_script("스크립트", 요소) 해당 페이지에 스크립트를 만들 때 사용합니다. 요소는 필수 파라미터는 아니고 요소가 있으면 요소에 스크립트가 실행되고 없으면 전체 페이지에 스크립트가 움직입니다.

js코드를 인자로 넣을 수 있어 브라우저 화면을 제어 할수 있게 된다. 스크롤을 하기 위해 뿐만아니라 다른 동적이벤트를 작성할 수 있다.

* 화면상 스크롤 위치 이동 : scrollTo(x,Y) ,scrollTo(x,Y+number)
* 화면 최하단으로 스크롤 이동 : scrollTo(0, document.body.scrollHeight)
* 화면을 움직이고 페이지 로드 기다리기 : time.sleep(second)
* 함수 호출시 전달인자들이 배열 형태로 저장된 객체 : arguments 
    * (arguments[0].click(), sample)
    * sample요소의 첫번째 인자에 click()을 명령


#네이버 뷰는 최대 1050까지만 노출
# 스크롤 10번
for i in range(10):
    driver.execute_script('window.scrollTo(0, document.body.scrollHeight);')
    time.sleep(random.randint(2, 3))





네이버 블로그 타이틀, 설명, 날짜를 수집해보자
css selector에서 .lst_view .bx로 하면 NosuchElementException하면 에러남
.bx클래스에는 블로그 콘텐츠데이터가 없는 숨겨진 미사용 코드가 있기 때문
그래서 블로그 콘텐츠 데이터가 존재하는 .viwe_wrap으로 dom객체를 만들어야 함


# get_view()
views = driver.find_elements(By.CSS_SELECTOR, '.lst_view .view_wrap')
result = []

for view in views:
    con_dict = {}
    con_dict['title'] = view.find_element(By.CSS_SELECTOR, '.title_link').text
    con_dict['text'] = view.find_element(By.CSS_SELECTOR, '.dsc_link').text
    con_dict['date'] = view.find_element(By.CSS_SELECTOR, '.sub').text
    result.append(con_dict)
    print(con_dict)
    
print('완료')
















































