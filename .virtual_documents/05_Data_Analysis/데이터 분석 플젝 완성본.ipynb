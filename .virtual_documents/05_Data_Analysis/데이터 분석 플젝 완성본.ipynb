

















import pandas as pd


data = pd.read_csv('C:/workspace/wassup4/05_Data_Analysis/data/mini.csv')


data.head()  # 데이터의 첫 5행 확인


(data.info())  # 데이터 타입과 결측치 확인





# 결측치 확인
print(data.isnull().sum())





# 날짜 데이터를 현재와 비교해 일수 차이로 변환
data['recent_login_time'] = pd.to_datetime(data['recent_login_time'])
data


data['days_since_last_login'] = (pd.Timestamp.today() - data['recent_login_time']).dt.days
data


# 변환 후 기존 컬럼 삭제
data.drop('recent_login_time', axis=1, inplace=True)
data





import pandas as pd

# 범주형 변수를 원-핫 인코딩하는 변수 리스트
categorical_columns = ['preferred_difficulty_level', 'subscription_type']

# 원-핫 인코딩을 적용
data_encoded = pd.get_dummies(data, columns=categorical_columns, drop_first=True)

# 인코딩된 데이터 확인
data_encoded.head()



# 데이터프레임의 열 목록을 출력 
data.columns











import matplotlib.pyplot as plt
import matplotlib.font_manager as fm

# 한글 폰트 설정 (예: 나눔고딕 폰트 사용)
plt.rc('font', family='NanumGothic')  # matplotlib에서 사용할 폰트를 한글 지원하는 것으로 설정
plt.rcParams['axes.unicode_minus'] = False  # 마이너스 부호 깨짐 방지


import pandas as pd
import seaborn as sns
import matplotlib.pyplot as plt
from sklearn.preprocessing import LabelEncoder

# 1. 범주형 변수를 레이블 인코딩으로 변환
label_encoder = LabelEncoder()

# 인코딩할 범주형 변수 목록
categorical_columns = ['preferred_difficulty_level', 'subscription_type']

# 각 범주형 변수를 숫자로 변환
for col in categorical_columns:
    data[col] = label_encoder.fit_transform(data[col])

# 2. 상관관계 계산을 위한 수치형 변수 목록
numeric_columns = ['subscription_duration', 'recent_login_time', 'average_login_time',
                   'average_time_per_learning_session', 'monthly_active_learning_days',
                   'total_completed_courses', 'recent_learning_achievement', 
                   'abandoned_learning_sessions', 'community_engagement_level',
                   'customer_inquiry_history', 'payment_pattern', 
                   'preferred_difficulty_level', 'subscription_type', 'target']

# 3. 상관관계 계산
corr = data[numeric_columns].corr()

# 4. 상관관계 히트맵 그리기
plt.figure(figsize=(12, 8))
sns.heatmap(corr, annot=True, cmap='coolwarm', linewidths=0.5)

# 5. 그래프 제목 설정
plt.title('변수 간 상관관계 히트맵', fontsize=16)
plt.show()











plt.figure(figsize=(10, 6))
sns.histplot(data=data, x='average_time_per_learning_session', hue='target', kde=True, bins=30)

# 범례(legend)를 수동으로 설정
plt.title('구독 연장 여부에 따른 학습 세션당 평균 시간 히스토그램', fontsize=16)
plt.xlabel('학습 세션당 평균 시간 (분)', fontsize=14)
plt.ylabel('빈도', fontsize=14)

# 범례 명시적으로 지정
plt.legend(labels=['구독 취소', '구독 연장'], title='구독 상태 (0: 구독 취소, 1: 구독 연장)', fontsize=12)

plt.show()











import seaborn as sns
import matplotlib.pyplot as plt

# 결제 패턴과 구독 연장 여부에 따른 카운트플롯
plt.figure(figsize=(10, 6))
sns.countplot(x='payment_pattern', hue='target', data=data, palette='Set2')

# 그래프 제목 및 레이블 설정
plt.title('Subscription Renewal by Payment Pattern', fontsize=16)
plt.xlabel('Payment Pattern (0: No payments, 7: All payments made)', fontsize=14)
plt.ylabel('Count', fontsize=14)
plt.legend(title='Subscription Status (0: Not Renewed, 1: Renewed)')
plt.show()











# Plotly 불러오기
import plotly.express as px

# Plotly로 커뮤니티 참여도 히스토그램
fig = px.histogram(data, 
                   x='community_engagement_level',  # 커뮤니티 참여도
                   color='target',  # 구독 연장 여부
                   nbins=30,  # 히스토그램 빈(bin)의 개수
                   marginal="box",  # 상단에 Boxplot을 추가
                   title="Histogram of Community Engagement Level by Subscription Status"
                  )

# 그래프 레이아웃 설정
fig.update_layout(
    xaxis_title="Community Engagement Level",
    yaxis_title="Count",
    legend_title="Subscription Status (0: Not Renewed, 1: Renewed)"
)

# 그래프 출력
fig.show()








import seaborn as sns
import matplotlib.pyplot as plt

# 구독 연장 여부에 따른 커뮤니티 참여도 히스토그램
plt.figure(figsize=(10, 6))
sns.histplot(data=data, x='community_engagement_level', hue='target', kde=True, bins=20)

# 그래프 제목 및 축 레이블 설정
plt.title('구독 연장 여부에 따른 커뮤니티 참여도 히스토그램', fontsize=16)
plt.xlabel('커뮤니티 참여도', fontsize=14)
plt.ylabel('빈도', fontsize=14)

# 범례(legend) 표시
plt.legend(title='구독 상태 (0: 구독 취소, 1: 구독 연장)', labels=['구독 취소', '구독 연장'])

# 그래프 보여주기
plt.show()

















import seaborn as sns
import matplotlib.pyplot as plt

# 구독 연장 여부에 따른 학습 일수 분포 시각화
plt.figure(figsize=(8,6))
sns.boxplot(x='target', y='monthly_active_learning_days', data=data)
plt.title("Monthly Active Learning Days by Subscription Status (0: Not Renewed, 1: Renewed)")
plt.show()








# 구독 연장 여부에 따른 평균 로그인 시간 시각화
plt.figure(figsize=(8,6))
sns.boxplot(x='target', y='average_login_time', data=data)
plt.title("Average Login Time by Subscription Status (0: Not Renewed, 1: Renewed)")
plt.show()

















import plotly.express as px

# Plotly로 학습 성취도 히스토그램
fig = px.histogram(data, 
                   x='recent_learning_achievement',  # 학습 성취도
                   color='target',  # 구독 연장 여부에 따른 색상 구분
                   nbins=30,  # 히스토그램 빈(bin)의 개수
                   marginal="box",  # 상단에 Boxplot을 추가하여 데이터 분포 확인
                   title="Histogram of Recent Learning Achievement by Subscription Status"
                  )

# 그래프 레이아웃 업데이트
fig.update_layout(
    xaxis_title="Recent Learning Achievement",
    yaxis_title="Count",
    legend_title="Subscription Status (0: Not Renewed, 1: Renewed)"
)

# 그래프 출력
fig.show()






































































































































































































