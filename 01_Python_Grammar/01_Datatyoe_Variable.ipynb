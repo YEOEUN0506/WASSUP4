{
 "cells": [
  {
   "cell_type": "markdown",
   "id": "26d60472-6824-4022-9d00-6be7b6258ead",
   "metadata": {},
   "source": [
    "# 변수와 자료형"
   ]
  },
  {
   "cell_type": "code",
   "execution_count": null,
   "id": "ec74e199-41a5-438d-b108-085ae8971f12",
   "metadata": {},
   "outputs": [],
   "source": []
  },
  {
   "cell_type": "markdown",
   "id": "05c2ba8f-c794-4757-bfb1-eaa251a204d6",
   "metadata": {},
   "source": [
    "# 숫자형"
   ]
  },
  {
   "cell_type": "code",
   "execution_count": 5,
   "id": "b2960a48-1a9c-460d-a19d-d7cbdf64134d",
   "metadata": {},
   "outputs": [],
   "source": [
    "# 정수형 \n",
    "a = 123"
   ]
  },
  {
   "cell_type": "code",
   "execution_count": null,
   "id": "d215382c-b276-4c99-b5f1-c962ece29788",
   "metadata": {},
   "outputs": [],
   "source": []
  },
  {
   "cell_type": "code",
   "execution_count": null,
   "id": "bcadadf0-1b54-4dd8-87b9-afc6109bae2f",
   "metadata": {},
   "outputs": [],
   "source": []
  },
  {
   "cell_type": "code",
   "execution_count": null,
   "id": "0cedec59-cc23-473f-8abf-752d118a285f",
   "metadata": {},
   "outputs": [],
   "source": []
  },
  {
   "cell_type": "code",
   "execution_count": null,
   "id": "d3e84a21-7354-44dc-b273-61f8ca751a42",
   "metadata": {},
   "outputs": [],
   "source": []
  },
  {
   "cell_type": "code",
   "execution_count": 6,
   "id": "b99fa610-d398-4eac-89a6-c4594272b30a",
   "metadata": {
    "scrolled": true
   },
   "outputs": [
    {
     "data": {
      "text/plain": [
       "(1.2, -3.45)"
      ]
     },
     "execution_count": 6,
     "metadata": {},
     "output_type": "execute_result"
    }
   ],
   "source": [
    "# 실수형\n",
    "a = 1.2\n",
    "b = -3.45\n",
    "a,b "
   ]
  },
  {
   "cell_type": "code",
   "execution_count": 10,
   "id": "fbed2e50-b90c-4714-8832-c4a4bc5942ea",
   "metadata": {},
   "outputs": [
    {
     "data": {
      "text/plain": [
       "42400000000.0"
      ]
     },
     "execution_count": 10,
     "metadata": {},
     "output_type": "execute_result"
    }
   ],
   "source": [
    "a = 4.24E10\n",
    "a\n"
   ]
  },
  {
   "cell_type": "code",
   "execution_count": 11,
   "id": "2bd30ad3-95a2-4650-a755-35eb6d87793c",
   "metadata": {},
   "outputs": [
    {
     "name": "stdout",
     "output_type": "stream",
     "text": [
      "127\n"
     ]
    }
   ],
   "source": [
    "a = 0o177\n",
    "print(a)"
   ]
  },
  {
   "cell_type": "code",
   "execution_count": null,
   "id": "ee032bed-34f2-4ddd-9761-df16673c0fa9",
   "metadata": {},
   "outputs": [],
   "source": []
  },
  {
   "cell_type": "markdown",
   "id": "890bc9bb-405c-42fe-bc22-6169b8f85784",
   "metadata": {},
   "source": [
    "# 연산자"
   ]
  },
  {
   "cell_type": "code",
   "execution_count": 12,
   "id": "a3c853cc-7411-4b09-bef5-548538a6414a",
   "metadata": {},
   "outputs": [
    {
     "data": {
      "text/plain": [
       "81"
      ]
     },
     "execution_count": 12,
     "metadata": {},
     "output_type": "execute_result"
    }
   ],
   "source": [
    "a = 3\n",
    "b = 4\n",
    "a ** b"
   ]
  },
  {
   "cell_type": "code",
   "execution_count": 14,
   "id": "e4b11317-e914-4ca3-880f-e424420a1a5b",
   "metadata": {},
   "outputs": [
    {
     "data": {
      "text/plain": [
       "(1, 3)"
      ]
     },
     "execution_count": 14,
     "metadata": {},
     "output_type": "execute_result"
    }
   ],
   "source": [
    "#나눗셈 후 나머지 리턴 \n",
    "7%3, 3%7"
   ]
  },
  {
   "cell_type": "code",
   "execution_count": null,
   "id": "b4119cdd-3abb-4455-88a6-a78a64a705aa",
   "metadata": {},
   "outputs": [],
   "source": [
    "# 나눗셈 후 몫을 리턴하는 // 연산자"
   ]
  },
  {
   "cell_type": "code",
   "execution_count": 15,
   "id": "1662c526-b211-44ae-bc4c-72c43f4c42f3",
   "metadata": {},
   "outputs": [
    {
     "data": {
      "text/plain": [
       "1"
      ]
     },
     "execution_count": 15,
     "metadata": {},
     "output_type": "execute_result"
    }
   ],
   "source": [
    " 7 // 4"
   ]
  },
  {
   "cell_type": "code",
   "execution_count": null,
   "id": "6f450a9c-7ddd-45d9-b221-b9d8e5ac99ea",
   "metadata": {},
   "outputs": [],
   "source": [
    "#복합 연산자"
   ]
  },
  {
   "cell_type": "code",
   "execution_count": 16,
   "id": "680f6e93-ded7-4511-88af-e87357275cd9",
   "metadata": {},
   "outputs": [
    {
     "data": {
      "text/plain": [
       "4"
      ]
     },
     "execution_count": 16,
     "metadata": {},
     "output_type": "execute_result"
    }
   ],
   "source": [
    " a = a + 1\n",
    " a"
   ]
  },
  {
   "cell_type": "code",
   "execution_count": 19,
   "id": "938d1e48-d850-497e-9c52-fe59907a6f5b",
   "metadata": {},
   "outputs": [
    {
     "data": {
      "text/plain": [
       "7"
      ]
     },
     "execution_count": 19,
     "metadata": {},
     "output_type": "execute_result"
    }
   ],
   "source": [
    "a +=1\n",
    "a"
   ]
  },
  {
   "cell_type": "code",
   "execution_count": 20,
   "id": "0d5dd6a0-64f3-4584-a2f5-c08a3780c618",
   "metadata": {},
   "outputs": [
    {
     "data": {
      "text/plain": [
       "6"
      ]
     },
     "execution_count": 20,
     "metadata": {},
     "output_type": "execute_result"
    }
   ],
   "source": [
    "a -= 1 \n",
    "a"
   ]
  },
  {
   "cell_type": "markdown",
   "id": "d399abf6-b067-4fd2-8bcb-d31ed85f4b37",
   "metadata": {},
   "source": [
    "# 문자열"
   ]
  },
  {
   "cell_type": "code",
   "execution_count": 21,
   "id": "d736351a-c372-495b-b354-cbdcaa90c014",
   "metadata": {},
   "outputs": [
    {
     "data": {
      "text/plain": [
       "'123'"
      ]
     },
     "execution_count": 21,
     "metadata": {},
     "output_type": "execute_result"
    }
   ],
   "source": [
    "\"Life is too short, You need Python\"\n",
    "\"a\"\n",
    "\"123\""
   ]
  },
  {
   "cell_type": "code",
   "execution_count": 22,
   "id": "dbf1faf4-f8a3-4a12-b90d-f1b87801c946",
   "metadata": {},
   "outputs": [
    {
     "data": {
      "text/plain": [
       "'hello world'"
      ]
     },
     "execution_count": 22,
     "metadata": {},
     "output_type": "execute_result"
    }
   ],
   "source": [
    "\"hello world\""
   ]
  },
  {
   "cell_type": "code",
   "execution_count": null,
   "id": "4372800c-dc56-438d-894c-a3d6786ed618",
   "metadata": {},
   "outputs": [],
   "source": []
  },
  {
   "cell_type": "code",
   "execution_count": 23,
   "id": "bb6a105d-11be-419b-b646-7f72b21504de",
   "metadata": {},
   "outputs": [
    {
     "data": {
      "text/plain": [
       "'Life is too short, You need python'"
      ]
     },
     "execution_count": 23,
     "metadata": {},
     "output_type": "execute_result"
    }
   ],
   "source": [
    "\"\"\"Life is too short, You need python\"\"\""
   ]
  },
  {
   "cell_type": "code",
   "execution_count": null,
   "id": "3ece1a79-789d-415f-84cc-c2c518aa68c2",
   "metadata": {},
   "outputs": [],
   "source": []
  },
  {
   "cell_type": "markdown",
   "id": "d956bbbb-3591-4256-b15f-42d2c3811b9f",
   "metadata": {},
   "source": [
    "# 문자열에 작은 따옴표 포함하기"
   ]
  },
  {
   "cell_type": "code",
   "execution_count": 24,
   "id": "231fa319-7582-47db-ba2c-6378891fcf6b",
   "metadata": {},
   "outputs": [
    {
     "data": {
      "text/plain": [
       "\"Python's favorite food is perl\""
      ]
     },
     "execution_count": 24,
     "metadata": {},
     "output_type": "execute_result"
    }
   ],
   "source": [
    "\"Python's favorite food is perl\""
   ]
  },
  {
   "cell_type": "markdown",
   "id": "cb36cf3c-c6d7-4028-b40a-fd36be590b05",
   "metadata": {},
   "source": [
    "# 문자열에 큰따옴표 포함하기"
   ]
  },
  {
   "cell_type": "code",
   "execution_count": 27,
   "id": "cde2816d-6996-4658-abd9-1da0f078aaee",
   "metadata": {},
   "outputs": [
    {
     "data": {
      "text/plain": [
       "'\"Python is very easy.\" he says.'"
      ]
     },
     "execution_count": 27,
     "metadata": {},
     "output_type": "execute_result"
    }
   ],
   "source": [
    " '\"Python is very easy.\" he says.'"
   ]
  },
  {
   "cell_type": "code",
   "execution_count": null,
   "id": "7e05e17a-efe0-418e-9e6e-3aebcd388c7f",
   "metadata": {},
   "outputs": [],
   "source": []
  },
  {
   "cell_type": "code",
   "execution_count": 28,
   "id": "524d8480-a9ce-45ed-b835-c7442e50daa6",
   "metadata": {},
   "outputs": [
    {
     "data": {
      "text/plain": [
       "'\"Python is very easy.\" he says.'"
      ]
     },
     "execution_count": 28,
     "metadata": {},
     "output_type": "execute_result"
    }
   ],
   "source": [
    "\"\\\"Python is very easy.\\\" he says.\""
   ]
  },
  {
   "cell_type": "code",
   "execution_count": null,
   "id": "7e0b40b1-d143-41f0-bd56-25427d0d303b",
   "metadata": {},
   "outputs": [],
   "source": []
  },
  {
   "cell_type": "code",
   "execution_count": null,
   "id": "e5f2fd6d-a430-4358-b396-f96adc53aee0",
   "metadata": {},
   "outputs": [],
   "source": []
  },
  {
   "cell_type": "code",
   "execution_count": 31,
   "id": "070762f3-a248-41c6-9f81-9352158446c1",
   "metadata": {},
   "outputs": [
    {
     "data": {
      "text/plain": [
       "'Life is too short\\nYou need python'"
      ]
     },
     "execution_count": 31,
     "metadata": {},
     "output_type": "execute_result"
    }
   ],
   "source": [
    " \"Life is too short\\nYou need python\""
   ]
  },
  {
   "cell_type": "code",
   "execution_count": 32,
   "id": "57ba4710-ee7b-4012-9cd7-750427305757",
   "metadata": {},
   "outputs": [
    {
     "name": "stdout",
     "output_type": "stream",
     "text": [
      "Life is too short\n",
      "You need python\n"
     ]
    }
   ],
   "source": [
    ">>> multiline = \"Life is too short\\nYou need python\"\n",
    "print(multiline)"
   ]
  },
  {
   "cell_type": "code",
   "execution_count": 33,
   "id": "c4280286-e3a6-4719-b876-26b5e46da718",
   "metadata": {},
   "outputs": [
    {
     "data": {
      "text/plain": [
       "'\\nLife is too short\\nYou need python\\n'"
      ]
     },
     "execution_count": 33,
     "metadata": {},
     "output_type": "execute_result"
    }
   ],
   "source": [
    "\"\"\"\n",
    "Life is too short\n",
    "You need python\n",
    "\"\"\""
   ]
  },
  {
   "cell_type": "code",
   "execution_count": null,
   "id": "7d8cd208-91cd-4040-a546-d55cd2ddb737",
   "metadata": {},
   "outputs": [],
   "source": []
  },
  {
   "cell_type": "code",
   "execution_count": null,
   "id": "42ac0255-53ef-4526-b910-fd197c989cd4",
   "metadata": {},
   "outputs": [],
   "source": []
  },
  {
   "cell_type": "markdown",
   "id": "b17789e7-705e-4f83-8d05-f927d6f09632",
   "metadata": {},
   "source": [
    "# 문자열 연산하기"
   ]
  },
  {
   "cell_type": "code",
   "execution_count": 34,
   "id": "7c72bfb9-991b-4534-b80f-ca3f1faf6d40",
   "metadata": {},
   "outputs": [
    {
     "data": {
      "text/plain": [
       "'Python is fun!'"
      ]
     },
     "execution_count": 34,
     "metadata": {},
     "output_type": "execute_result"
    }
   ],
   "source": [
    " head = \"Python\"\n",
    " tail = \" is fun!\"\n",
    " head + tail"
   ]
  },
  {
   "cell_type": "code",
   "execution_count": null,
   "id": "99415a76-9a00-4eca-9b5b-2362c72ce2e0",
   "metadata": {},
   "outputs": [],
   "source": []
  },
  {
   "cell_type": "code",
   "execution_count": 35,
   "id": "5773deba-7456-47d2-adf3-5f1cd4fea1d5",
   "metadata": {},
   "outputs": [
    {
     "data": {
      "text/plain": [
       "'pythonpython'"
      ]
     },
     "execution_count": 35,
     "metadata": {},
     "output_type": "execute_result"
    }
   ],
   "source": [
    ">>> a = \"python\"\n",
    ">>> a * 2\n"
   ]
  },
  {
   "cell_type": "code",
   "execution_count": null,
   "id": "a0df2834-aca6-47c7-9ad6-c13f122133ef",
   "metadata": {},
   "outputs": [],
   "source": []
  },
  {
   "cell_type": "code",
   "execution_count": 36,
   "id": "d25179e9-5a6b-4271-8816-f868605540cd",
   "metadata": {},
   "outputs": [
    {
     "name": "stdout",
     "output_type": "stream",
     "text": [
      "==================================================\n",
      "My Program\n",
      "==================================================\n"
     ]
    }
   ],
   "source": [
    "print(\"=\" * 50)\n",
    "print(\"My Program\")\n",
    "print(\"=\" * 50)"
   ]
  },
  {
   "cell_type": "code",
   "execution_count": null,
   "id": "c1fde948-6069-45ec-b5f3-a3b1cd62ce9e",
   "metadata": {},
   "outputs": [],
   "source": []
  },
  {
   "cell_type": "markdown",
   "id": "8931a2c8-8c96-4119-91ad-2f6938e5f4be",
   "metadata": {},
   "source": [
    "# 문자열 길이 구하기 "
   ]
  },
  {
   "cell_type": "code",
   "execution_count": null,
   "id": "22f54dd5-271e-4acf-a943-7a7b7dc5c070",
   "metadata": {},
   "outputs": [],
   "source": []
  },
  {
   "cell_type": "code",
   "execution_count": 37,
   "id": "859c2feb-11d4-4d7a-9183-0b09e1abb1f8",
   "metadata": {},
   "outputs": [
    {
     "data": {
      "text/plain": [
       "17"
      ]
     },
     "execution_count": 37,
     "metadata": {},
     "output_type": "execute_result"
    }
   ],
   "source": [
    " a = \"Life is too short\"\n",
    " len(a)"
   ]
  },
  {
   "cell_type": "code",
   "execution_count": null,
   "id": "c675d56b-92ee-4483-b892-39765f61e1d9",
   "metadata": {},
   "outputs": [],
   "source": []
  },
  {
   "cell_type": "code",
   "execution_count": null,
   "id": "cebe2525-072a-439c-a201-f1828c29bbaa",
   "metadata": {},
   "outputs": [],
   "source": []
  },
  {
   "cell_type": "markdown",
   "id": "f9396fae-2dbc-4e97-830d-795694ee4a75",
   "metadata": {},
   "source": [
    "# 문자열 인덱싱과 슬라이싱"
   ]
  },
  {
   "cell_type": "code",
   "execution_count": 41,
   "id": "4cc5b061-390f-464d-ba81-379ef9aa52f7",
   "metadata": {},
   "outputs": [
    {
     "data": {
      "text/plain": [
       "'Life is too short, You need Python'"
      ]
     },
     "execution_count": 41,
     "metadata": {},
     "output_type": "execute_result"
    }
   ],
   "source": [
    "a = \"Life is too short, You need Python\"\n",
    "a"
   ]
  },
  {
   "cell_type": "code",
   "execution_count": 42,
   "id": "0fe4d4b9-5a85-440c-917c-b7870c945029",
   "metadata": {},
   "outputs": [
    {
     "data": {
      "text/plain": [
       "'e'"
      ]
     },
     "execution_count": 42,
     "metadata": {},
     "output_type": "execute_result"
    }
   ],
   "source": [
    "a[3]"
   ]
  },
  {
   "cell_type": "code",
   "execution_count": 43,
   "id": "831c60c5-77f9-4909-b9de-c25734e048b8",
   "metadata": {},
   "outputs": [
    {
     "data": {
      "text/plain": [
       "','"
      ]
     },
     "execution_count": 43,
     "metadata": {},
     "output_type": "execute_result"
    }
   ],
   "source": [
    "a[17]"
   ]
  },
  {
   "cell_type": "code",
   "execution_count": 44,
   "id": "71cc9ced-7225-43c8-aec1-2e076fc80421",
   "metadata": {},
   "outputs": [
    {
     "data": {
      "text/plain": [
       "'P'"
      ]
     },
     "execution_count": 44,
     "metadata": {},
     "output_type": "execute_result"
    }
   ],
   "source": [
    "a[-6]"
   ]
  },
  {
   "cell_type": "code",
   "execution_count": null,
   "id": "e1800804-b0f3-4f3c-85b2-5dfabe755f8a",
   "metadata": {},
   "outputs": [],
   "source": []
  },
  {
   "cell_type": "code",
   "execution_count": 45,
   "id": "afa374d4-bd9f-4e89-b852-b413b23f4720",
   "metadata": {},
   "outputs": [
    {
     "data": {
      "text/plain": [
       "'Life'"
      ]
     },
     "execution_count": 45,
     "metadata": {},
     "output_type": "execute_result"
    }
   ],
   "source": [
    "a = \"Life is too short, You need Python\"\n",
    "b = a[0] + a[1] + a[2] + a[3]\n",
    "b"
   ]
  },
  {
   "cell_type": "code",
   "execution_count": null,
   "id": "74b3e119-47c0-494d-9faa-187233ad3876",
   "metadata": {},
   "outputs": [],
   "source": [
    "a[0:4]"
   ]
  },
  {
   "cell_type": "code",
   "execution_count": null,
   "id": "77594537-acb8-40b8-95a5-3b5af791faf9",
   "metadata": {},
   "outputs": [],
   "source": []
  },
  {
   "cell_type": "code",
   "execution_count": 46,
   "id": "b07bd0f7-3df3-47d9-abc3-25f37e2bef64",
   "metadata": {},
   "outputs": [
    {
     "data": {
      "text/plain": [
       "'short, '"
      ]
     },
     "execution_count": 46,
     "metadata": {},
     "output_type": "execute_result"
    }
   ],
   "source": [
    "a[12:19]"
   ]
  },
  {
   "cell_type": "code",
   "execution_count": null,
   "id": "9f4018b0-ddce-4566-a7dc-2e7fb05a3071",
   "metadata": {},
   "outputs": [],
   "source": [
    "\n"
   ]
  },
  {
   "cell_type": "code",
   "execution_count": 47,
   "id": "d62e7d0f-6a7a-4f0c-9738-bc20ada66d05",
   "metadata": {},
   "outputs": [
    {
     "data": {
      "text/plain": [
       "'Life is too short'"
      ]
     },
     "execution_count": 47,
     "metadata": {},
     "output_type": "execute_result"
    }
   ],
   "source": [
    "a[:17]"
   ]
  },
  {
   "cell_type": "code",
   "execution_count": null,
   "id": "59768eed-4952-4fbf-ac3d-6591aa9c026a",
   "metadata": {},
   "outputs": [],
   "source": []
  },
  {
   "cell_type": "code",
   "execution_count": 48,
   "id": "8793337f-8e66-4e6c-8150-0377a696ca96",
   "metadata": {},
   "outputs": [
    {
     "data": {
      "text/plain": [
       "'You need'"
      ]
     },
     "execution_count": 48,
     "metadata": {},
     "output_type": "execute_result"
    }
   ],
   "source": [
    "a[19:-7]"
   ]
  },
  {
   "cell_type": "code",
   "execution_count": null,
   "id": "255fdaac-c1e5-46e8-932a-460880ebd7e7",
   "metadata": {},
   "outputs": [],
   "source": []
  },
  {
   "cell_type": "code",
   "execution_count": 59,
   "id": "2ef99379-3196-4208-b685-5089d4b6a544",
   "metadata": {},
   "outputs": [
    {
     "data": {
      "text/plain": [
       "('2024', '0904')"
      ]
     },
     "execution_count": 59,
     "metadata": {},
     "output_type": "execute_result"
    }
   ],
   "source": [
    " a = \"20240904Sunny\"\n",
    " date = a[:8]\n",
    " weather = a[8:]\n",
    " year = a[:4]\n",
    " day = a[4:8]\n",
    "year, day"
   ]
  },
  {
   "cell_type": "code",
   "execution_count": 63,
   "id": "0df5072a-cd54-4870-86fe-819fd6dc66b1",
   "metadata": {},
   "outputs": [
    {
     "ename": "NameError",
     "evalue": "name 'y' is not defined",
     "output_type": "error",
     "traceback": [
      "\u001b[1;31m---------------------------------------------------------------------------\u001b[0m",
      "\u001b[1;31mNameError\u001b[0m                                 Traceback (most recent call last)",
      "Cell \u001b[1;32mIn[63], line 3\u001b[0m\n\u001b[0;32m      1\u001b[0m \u001b[38;5;66;03m#문자열 변경할 수 있을까 \u001b[39;00m\n\u001b[0;32m      2\u001b[0m a \u001b[38;5;241m=\u001b[39m \u001b[38;5;124m\"\u001b[39m\u001b[38;5;124mPithon\u001b[39m\u001b[38;5;124m\"\u001b[39m\n\u001b[1;32m----> 3\u001b[0m a[\u001b[38;5;241m1\u001b[39m] \u001b[38;5;241m=\u001b[39m y\n",
      "\u001b[1;31mNameError\u001b[0m: name 'y' is not defined"
     ]
    }
   ],
   "source": [
    "#문자열 변경할 수 있을까 \n",
    "a = \"Pithon\"\n",
    "a[1] = y \n"
   ]
  },
  {
   "cell_type": "code",
   "execution_count": null,
   "id": "81cd8246-d276-4ecd-8297-4f27de5869e1",
   "metadata": {},
   "outputs": [],
   "source": []
  },
  {
   "cell_type": "code",
   "execution_count": null,
   "id": "2695cefc-ddfa-4d81-af9e-be7eebc946fc",
   "metadata": {},
   "outputs": [],
   "source": []
  },
  {
   "cell_type": "markdown",
   "id": "1a539242-1bdf-4246-8a71-22e88f4b53a3",
   "metadata": {},
   "source": [
    "# 문자열 포매팅"
   ]
  },
  {
   "cell_type": "code",
   "execution_count": null,
   "id": "b50df322-5f2e-4679-82bb-2da79908c81a",
   "metadata": {},
   "outputs": [],
   "source": []
  },
  {
   "cell_type": "code",
   "execution_count": 64,
   "id": "e00ff601-1568-4f1b-8cee-98d7f4a5eb80",
   "metadata": {},
   "outputs": [
    {
     "data": {
      "text/plain": [
       "'I eat 3 apples.'"
      ]
     },
     "execution_count": 64,
     "metadata": {},
     "output_type": "execute_result"
    }
   ],
   "source": [
    " \"I eat %d apples.\" % 3"
   ]
  },
  {
   "cell_type": "code",
   "execution_count": null,
   "id": "6791f126-885c-4d30-ba57-cae0f86c385d",
   "metadata": {},
   "outputs": [],
   "source": []
  },
  {
   "cell_type": "code",
   "execution_count": 68,
   "id": "593c6be3-bb6d-44e6-aab7-41acf4b5677f",
   "metadata": {},
   "outputs": [
    {
     "data": {
      "text/plain": [
       "'I eat five apples.'"
      ]
     },
     "execution_count": 68,
     "metadata": {},
     "output_type": "execute_result"
    }
   ],
   "source": [
    " \"I eat %s apples.\" % \"five\""
   ]
  },
  {
   "cell_type": "code",
   "execution_count": null,
   "id": "b937e75a-e1a4-4f9c-a08a-59f072369154",
   "metadata": {},
   "outputs": [],
   "source": []
  },
  {
   "cell_type": "code",
   "execution_count": 69,
   "id": "9843d293-f635-4e54-a1d8-57d1126cc127",
   "metadata": {},
   "outputs": [
    {
     "data": {
      "text/plain": [
       "'I ate 10 apples. so I was sick for three days.'"
      ]
     },
     "execution_count": 69,
     "metadata": {},
     "output_type": "execute_result"
    }
   ],
   "source": [
    " number = 10\n",
    " day = \"three\"\n",
    " \"I ate %d apples. so I was sick for %s days.\" % (number, day)"
   ]
  },
  {
   "cell_type": "code",
   "execution_count": null,
   "id": "c3abdf41-d590-4ed0-ad75-cd50bacde3ed",
   "metadata": {},
   "outputs": [],
   "source": []
  },
  {
   "cell_type": "code",
   "execution_count": 70,
   "id": "df6bfccc-609d-434e-a909-c49eba3d48f7",
   "metadata": {},
   "outputs": [
    {
     "data": {
      "text/plain": [
       "'Error is 98%.'"
      ]
     },
     "execution_count": 70,
     "metadata": {},
     "output_type": "execute_result"
    }
   ],
   "source": [
    "\"Error is %d%%.\" % 98"
   ]
  },
  {
   "cell_type": "code",
   "execution_count": null,
   "id": "c5cc3d4f-3193-4f6c-b21d-34663d2c8823",
   "metadata": {},
   "outputs": [],
   "source": []
  },
  {
   "cell_type": "markdown",
   "id": "5f9f0f16-5bb0-4daf-a795-750a7a32879a",
   "metadata": {},
   "source": [
    "# 소수점 표현하기"
   ]
  },
  {
   "cell_type": "code",
   "execution_count": 71,
   "id": "bf6ee8da-d99d-4b44-bc00-4b1ce5cdb428",
   "metadata": {},
   "outputs": [
    {
     "data": {
      "text/plain": [
       "'3.4213'"
      ]
     },
     "execution_count": 71,
     "metadata": {},
     "output_type": "execute_result"
    }
   ],
   "source": [
    "\"%0.4f\" % 3.42134234"
   ]
  },
  {
   "cell_type": "code",
   "execution_count": null,
   "id": "2b2b42c3-e4f6-4861-bd16-82af0ad285d2",
   "metadata": {},
   "outputs": [],
   "source": []
  },
  {
   "cell_type": "markdown",
   "id": "46439e04-77d1-4f9c-84fb-6e4062145498",
   "metadata": {},
   "source": [
    "# format 함수를 사용한 포매팅"
   ]
  },
  {
   "cell_type": "code",
   "execution_count": null,
   "id": "c121273a-31a2-4ada-9426-2b22ff774fa5",
   "metadata": {},
   "outputs": [],
   "source": []
  },
  {
   "cell_type": "code",
   "execution_count": 73,
   "id": "57a0becc-d42e-4b67-a4e3-94755bfd6c35",
   "metadata": {},
   "outputs": [
    {
     "data": {
      "text/plain": [
       "'I eat 3 apples'"
      ]
     },
     "execution_count": 73,
     "metadata": {},
     "output_type": "execute_result"
    }
   ],
   "source": [
    " \"I eat {0} apples\" .format(3)"
   ]
  },
  {
   "cell_type": "code",
   "execution_count": 74,
   "id": "d7ec2bf1-74fd-45cc-b1fe-36f11dce686e",
   "metadata": {},
   "outputs": [
    {
     "data": {
      "text/plain": [
       "'I eat 10 apples'"
      ]
     },
     "execution_count": 74,
     "metadata": {},
     "output_type": "execute_result"
    }
   ],
   "source": [
    " \"I eat {0} apples\" .format(number)"
   ]
  },
  {
   "cell_type": "code",
   "execution_count": null,
   "id": "f81c2039-66a3-474a-981e-3a7a81f514fe",
   "metadata": {},
   "outputs": [],
   "source": []
  },
  {
   "cell_type": "code",
   "execution_count": null,
   "id": "9210f1ff-38f6-4177-ac29-b3f1f4f3a549",
   "metadata": {},
   "outputs": [],
   "source": [
    "number = 10 \n",
    "day = \"three\"\n",
    "\"I ate {0} apples. so I was sick for {1} days.\".format(number, day)\n"
   ]
  },
  {
   "cell_type": "code",
   "execution_count": null,
   "id": "b814f6ed-e9d8-4322-aeb5-8ed0d9734b73",
   "metadata": {},
   "outputs": [],
   "source": []
  },
  {
   "cell_type": "code",
   "execution_count": 76,
   "id": "63963a2b-b44e-4d65-b5df-3494f4f21440",
   "metadata": {},
   "outputs": [
    {
     "data": {
      "text/plain": [
       "'I ate 10 apples. so I was sick for three days.'"
      ]
     },
     "execution_count": 76,
     "metadata": {},
     "output_type": "execute_result"
    }
   ],
   "source": [
    "\"I ate {a} apples. so I was sick for {b} days.\".format(a=number,b=day)"
   ]
  },
  {
   "cell_type": "code",
   "execution_count": null,
   "id": "6714c0bd-3f04-4bdd-b210-5607ec9a2cad",
   "metadata": {},
   "outputs": [],
   "source": []
  },
  {
   "cell_type": "code",
   "execution_count": 77,
   "id": "80bd8d26-5288-4e48-8d8b-b5f36598b2a0",
   "metadata": {},
   "outputs": [
    {
     "data": {
      "text/plain": [
       "'3.4213'"
      ]
     },
     "execution_count": 77,
     "metadata": {},
     "output_type": "execute_result"
    }
   ],
   "source": [
    " y = 3.42134234\n",
    " \"{0:0.4f}\".format(y)\n",
    "\n"
   ]
  },
  {
   "cell_type": "code",
   "execution_count": null,
   "id": "f077d2f2-c7c4-4de8-9cfd-e9702b256fb0",
   "metadata": {},
   "outputs": [],
   "source": []
  },
  {
   "cell_type": "code",
   "execution_count": 78,
   "id": "99afb794-2973-460a-b3b4-762816c1bd77",
   "metadata": {},
   "outputs": [
    {
     "data": {
      "text/plain": [
       "'{ and }'"
      ]
     },
     "execution_count": 78,
     "metadata": {},
     "output_type": "execute_result"
    }
   ],
   "source": [
    " \"{{ and }}\".format()"
   ]
  },
  {
   "cell_type": "code",
   "execution_count": null,
   "id": "a42b7dff-c087-46e0-aafe-52623c492439",
   "metadata": {},
   "outputs": [],
   "source": []
  },
  {
   "cell_type": "markdown",
   "id": "3bf6ba9f-8844-4e2d-b16e-5be2792b590f",
   "metadata": {},
   "source": [
    "# f 문자열 포매팅 "
   ]
  },
  {
   "cell_type": "code",
   "execution_count": null,
   "id": "25d1aea9-3a6f-4c19-9b1e-e61c165516ca",
   "metadata": {},
   "outputs": [],
   "source": []
  },
  {
   "cell_type": "code",
   "execution_count": null,
   "id": "4cef4b3f-63ae-46c3-9892-abf316306542",
   "metadata": {},
   "outputs": [],
   "source": [
    "name = '홍길동' \n",
    "age = 30\n",
    "f'나의 이름은 {name}입니다. 나이는 {age}입니다.'\n"
   ]
  },
  {
   "cell_type": "code",
   "execution_count": null,
   "id": "bea3996b-a91c-4225-8726-7178fe02ee89",
   "metadata": {},
   "outputs": [],
   "source": []
  },
  {
   "cell_type": "code",
   "execution_count": 79,
   "id": "1a59e771-6ba3-4c26-a01d-49ae8504f992",
   "metadata": {},
   "outputs": [
    {
     "data": {
      "text/plain": [
       "{'name': '홍길동', 'age': 30}"
      ]
     },
     "execution_count": 79,
     "metadata": {},
     "output_type": "execute_result"
    }
   ],
   "source": [
    "d = {'name': '홍길동' , 'age' : 30 }\n",
    "d"
   ]
  },
  {
   "cell_type": "code",
   "execution_count": 80,
   "id": "bf827b67-eb24-4671-a63e-8d7b45d9ab38",
   "metadata": {},
   "outputs": [
    {
     "data": {
      "text/plain": [
       "'나의 이름은 홍길동입니다. 나이는 30입니다.'"
      ]
     },
     "execution_count": 80,
     "metadata": {},
     "output_type": "execute_result"
    }
   ],
   "source": [
    "f\"나의 이름은 {d[\"name\"]}입니다. 나이는 {d[\"age\"]}입니다.\""
   ]
  },
  {
   "cell_type": "code",
   "execution_count": null,
   "id": "7bd155d2-ed16-45a5-b321-db3e967aca69",
   "metadata": {},
   "outputs": [],
   "source": []
  },
  {
   "cell_type": "code",
   "execution_count": 81,
   "id": "a8b292ae-8e35-47f0-9877-9c897efc7e7c",
   "metadata": {},
   "outputs": [
    {
     "data": {
      "text/plain": [
       "'3.4213'"
      ]
     },
     "execution_count": 81,
     "metadata": {},
     "output_type": "execute_result"
    }
   ],
   "source": [
    "y\n",
    "f'{y:0.4f}'"
   ]
  },
  {
   "cell_type": "code",
   "execution_count": 83,
   "id": "604d509a-c659-4748-9aa9-adb5cca24fbd",
   "metadata": {},
   "outputs": [
    {
     "data": {
      "text/plain": [
       "'    3.4213'"
      ]
     },
     "execution_count": 83,
     "metadata": {},
     "output_type": "execute_result"
    }
   ],
   "source": [
    "f'{y:10.4f}'"
   ]
  },
  {
   "cell_type": "code",
   "execution_count": null,
   "id": "431726c8-9fdb-4663-a1aa-7b42eab9474a",
   "metadata": {},
   "outputs": [],
   "source": []
  },
  {
   "cell_type": "markdown",
   "id": "ab87c560-9f52-4fde-a734-736821201ff1",
   "metadata": {},
   "source": [
    "# 문자열 관련 함수들 "
   ]
  },
  {
   "cell_type": "code",
   "execution_count": null,
   "id": "ee08bb6f-5f2c-4451-9a98-1afe5a22e65f",
   "metadata": {},
   "outputs": [],
   "source": []
  },
  {
   "cell_type": "code",
   "execution_count": 84,
   "id": "4312b95f-e399-44ae-97c6-1a957e94a6d6",
   "metadata": {},
   "outputs": [
    {
     "data": {
      "text/plain": [
       "2"
      ]
     },
     "execution_count": 84,
     "metadata": {},
     "output_type": "execute_result"
    }
   ],
   "source": [
    " a = \"hobby\"\n",
    " a.count('b')\n"
   ]
  },
  {
   "cell_type": "code",
   "execution_count": null,
   "id": "1f0311a7-60ee-4aab-9220-ef1d14f68110",
   "metadata": {},
   "outputs": [],
   "source": []
  },
  {
   "cell_type": "code",
   "execution_count": 85,
   "id": "ab074c8a-25e0-4e0f-979b-6b8d885058c9",
   "metadata": {},
   "outputs": [
    {
     "data": {
      "text/plain": [
       "14"
      ]
     },
     "execution_count": 85,
     "metadata": {},
     "output_type": "execute_result"
    }
   ],
   "source": [
    " a = \"Python is the best choice\"\n",
    " a.find('b') "
   ]
  },
  {
   "cell_type": "code",
   "execution_count": null,
   "id": "f0e316d4-ce6a-4329-8bfa-816df5584b50",
   "metadata": {},
   "outputs": [],
   "source": []
  },
  {
   "cell_type": "code",
   "execution_count": 86,
   "id": "93d23baf-391b-46e9-8a27-2028b1e04030",
   "metadata": {},
   "outputs": [
    {
     "data": {
      "text/plain": [
       "\u001b[1;31mDocstring:\u001b[0m\n",
       "S.find(sub[, start[, end]]) -> int\n",
       "\n",
       "Return the lowest index in S where substring sub is found,\n",
       "such that sub is contained within S[start:end].  Optional\n",
       "arguments start and end are interpreted as in slice notation.\n",
       "\n",
       "Return -1 on failure.\n",
       "\u001b[1;31mType:\u001b[0m      builtin_function_or_method"
      ]
     },
     "metadata": {},
     "output_type": "display_data"
    }
   ],
   "source": [
    "a.find?"
   ]
  },
  {
   "cell_type": "code",
   "execution_count": null,
   "id": "e9b5842c-1e7d-4a8d-9816-cb50531f7e52",
   "metadata": {},
   "outputs": [],
   "source": []
  },
  {
   "cell_type": "code",
   "execution_count": 87,
   "id": "851af485-3bf8-42fc-bdaf-146495d8ce19",
   "metadata": {},
   "outputs": [
    {
     "data": {
      "text/plain": [
       "8"
      ]
     },
     "execution_count": 87,
     "metadata": {},
     "output_type": "execute_result"
    }
   ],
   "source": [
    "a = \"Life is too short\"\n",
    "a.index('t')"
   ]
  },
  {
   "cell_type": "code",
   "execution_count": null,
   "id": "cd0fde1c-1e83-467b-97ed-d38f64645dcb",
   "metadata": {},
   "outputs": [],
   "source": []
  },
  {
   "cell_type": "code",
   "execution_count": 88,
   "id": "1a76ef7e-6768-4b84-989e-29464ff99a03",
   "metadata": {},
   "outputs": [
    {
     "data": {
      "text/plain": [
       "'a,b,c,d'"
      ]
     },
     "execution_count": 88,
     "metadata": {},
     "output_type": "execute_result"
    }
   ],
   "source": [
    "\",\".join('abcd')"
   ]
  },
  {
   "cell_type": "code",
   "execution_count": null,
   "id": "a021754a-c91b-476d-8556-7474b41fc644",
   "metadata": {},
   "outputs": [],
   "source": []
  },
  {
   "cell_type": "code",
   "execution_count": 90,
   "id": "b2c41d94-22a9-4436-8dd6-b5140272b9ce",
   "metadata": {},
   "outputs": [
    {
     "data": {
      "text/plain": [
       "'hi'"
      ]
     },
     "execution_count": 90,
     "metadata": {},
     "output_type": "execute_result"
    }
   ],
   "source": [
    " a = \" hi \"\n",
    " a.strip()"
   ]
  },
  {
   "cell_type": "code",
   "execution_count": null,
   "id": "3444afd3-ea0d-4fc6-99df-f7a2992a9db6",
   "metadata": {},
   "outputs": [],
   "source": []
  },
  {
   "cell_type": "code",
   "execution_count": null,
   "id": "f5551e38-ca31-4a0f-a36e-e45a31746ab3",
   "metadata": {},
   "outputs": [],
   "source": [
    "a = \"Life is too short\"\n",
    "a.replace(\"Life\", \"Your leg\")"
   ]
  },
  {
   "cell_type": "code",
   "execution_count": null,
   "id": "ceede2df-207d-42b5-acc8-822e5a9aae1e",
   "metadata": {},
   "outputs": [],
   "source": []
  },
  {
   "cell_type": "code",
   "execution_count": 91,
   "id": "370e77a8-39ce-4b1e-a302-0822713afdc0",
   "metadata": {},
   "outputs": [
    {
     "data": {
      "text/plain": [
       "['Life', 'is', 'too', 'short']"
      ]
     },
     "execution_count": 91,
     "metadata": {},
     "output_type": "execute_result"
    }
   ],
   "source": [
    " a = \"Life is too short\"\n",
    " a.split()"
   ]
  },
  {
   "cell_type": "code",
   "execution_count": null,
   "id": "9cd70fb3-3146-4bca-bf24-06267a8f6830",
   "metadata": {},
   "outputs": [],
   "source": []
  },
  {
   "cell_type": "markdown",
   "id": "6abe12a9-b483-40a8-9f9f-308c55e4ac8c",
   "metadata": {},
   "source": [
    "# 0905"
   ]
  },
  {
   "cell_type": "markdown",
   "id": "7ba11aa5-a6ac-4949-b16f-121a7ba709c5",
   "metadata": {},
   "source": [
    "# 리스트 "
   ]
  },
  {
   "cell_type": "code",
   "execution_count": 1,
   "id": "aaf7b7e6-c21f-42ee-80f1-a81a4a36c6de",
   "metadata": {},
   "outputs": [
    {
     "data": {
      "text/plain": [
       "[1, 3, 5, 7, 9]"
      ]
     },
     "execution_count": 1,
     "metadata": {},
     "output_type": "execute_result"
    }
   ],
   "source": [
    "odd = [1, 3, 5, 7, 9]\n",
    "odd"
   ]
  },
  {
   "cell_type": "code",
   "execution_count": 4,
   "id": "283aa8ec-334d-49d3-a186-a5e601dd3f11",
   "metadata": {},
   "outputs": [
    {
     "data": {
      "text/plain": [
       "([],\n",
       " [1, 2, 3],\n",
       " ['Life', 'is', 'too', 'short'],\n",
       " [1, 2, 'Life', 'is'],\n",
       " [1, 2, ['Life', 'is']],\n",
       " [])"
      ]
     },
     "execution_count": 4,
     "metadata": {},
     "output_type": "execute_result"
    }
   ],
   "source": [
    "a = []\n",
    "b = [1, 2, 3]\n",
    "c = ['Life', 'is', 'too', 'short']\n",
    "d = [1, 2, 'Life', 'is']\n",
    "e = [1, 2, ['Life', 'is']]\n",
    "f = list()\n",
    "a, b, c, d, e, f\n"
   ]
  },
  {
   "cell_type": "code",
   "execution_count": 5,
   "id": "660f57bb-d2bc-467b-b4c5-be13cbac0c5b",
   "metadata": {},
   "outputs": [
    {
     "data": {
      "text/plain": [
       "list"
      ]
     },
     "execution_count": 5,
     "metadata": {},
     "output_type": "execute_result"
    }
   ],
   "source": [
    "type(a)"
   ]
  },
  {
   "cell_type": "markdown",
   "id": "1d72ceb3-59dd-44db-807b-21bc15904692",
   "metadata": {},
   "source": [
    "# 인덱싱과 슬라이싱"
   ]
  },
  {
   "cell_type": "code",
   "execution_count": 7,
   "id": "62cfdff8-23d9-429f-b8c6-1e063a934f03",
   "metadata": {},
   "outputs": [
    {
     "data": {
      "text/plain": [
       "[1, 2, 3]"
      ]
     },
     "execution_count": 7,
     "metadata": {},
     "output_type": "execute_result"
    }
   ],
   "source": [
    "a = [1, 2, 3]\n",
    "a"
   ]
  },
  {
   "cell_type": "code",
   "execution_count": 9,
   "id": "e2b15386-4ae7-4a81-949b-ab5c086f45e4",
   "metadata": {},
   "outputs": [
    {
     "data": {
      "text/plain": [
       "4"
      ]
     },
     "execution_count": 9,
     "metadata": {},
     "output_type": "execute_result"
    }
   ],
   "source": [
    "a[0] + a[2]"
   ]
  },
  {
   "cell_type": "code",
   "execution_count": 10,
   "id": "89d1bc76-f832-4ebb-acc0-3de0f796a3ea",
   "metadata": {},
   "outputs": [
    {
     "data": {
      "text/plain": [
       "3"
      ]
     },
     "execution_count": 10,
     "metadata": {},
     "output_type": "execute_result"
    }
   ],
   "source": [
    "a[-1]"
   ]
  },
  {
   "cell_type": "code",
   "execution_count": 11,
   "id": "b6dda3a8-007e-4a07-85eb-da208e7929f5",
   "metadata": {},
   "outputs": [
    {
     "data": {
      "text/plain": [
       "[1, 2, 3, ['a', 'b', 'c']]"
      ]
     },
     "execution_count": 11,
     "metadata": {},
     "output_type": "execute_result"
    }
   ],
   "source": [
    "a = [1, 2, 3, ['a', 'b', 'c']]\n",
    "a"
   ]
  },
  {
   "cell_type": "code",
   "execution_count": 12,
   "id": "7bf935e9-17db-4fe6-9af2-e376b902bfed",
   "metadata": {},
   "outputs": [
    {
     "data": {
      "text/plain": [
       "4"
      ]
     },
     "execution_count": 12,
     "metadata": {},
     "output_type": "execute_result"
    }
   ],
   "source": [
    "len(a)"
   ]
  },
  {
   "cell_type": "code",
   "execution_count": 13,
   "id": "060544bd-9c2c-4f30-896b-ea03f583a020",
   "metadata": {},
   "outputs": [
    {
     "data": {
      "text/plain": [
       "['a', 'b', 'c']"
      ]
     },
     "execution_count": 13,
     "metadata": {},
     "output_type": "execute_result"
    }
   ],
   "source": [
    "a[-1]"
   ]
  },
  {
   "cell_type": "code",
   "execution_count": 14,
   "id": "6dfb73bf-fa25-4b20-b77c-4fb5fba17f16",
   "metadata": {},
   "outputs": [
    {
     "data": {
      "text/plain": [
       "'b'"
      ]
     },
     "execution_count": 14,
     "metadata": {},
     "output_type": "execute_result"
    }
   ],
   "source": [
    "a[-1][1]"
   ]
  },
  {
   "cell_type": "code",
   "execution_count": 18,
   "id": "d8613abe-c684-47f0-8d94-53d6957fca4c",
   "metadata": {},
   "outputs": [
    {
     "data": {
      "text/plain": [
       "[1, 2, ['a', 'b', ['Life', 'is']]]"
      ]
     },
     "execution_count": 18,
     "metadata": {},
     "output_type": "execute_result"
    }
   ],
   "source": [
    " a = [1, 2, ['a', 'b', ['Life', 'is']]]\n",
    " a"
   ]
  },
  {
   "cell_type": "code",
   "execution_count": 19,
   "id": "92310749-6e93-40ff-802c-9fd7482202de",
   "metadata": {},
   "outputs": [
    {
     "data": {
      "text/plain": [
       "'Life'"
      ]
     },
     "execution_count": 19,
     "metadata": {},
     "output_type": "execute_result"
    }
   ],
   "source": [
    "a[2][2][0]"
   ]
  },
  {
   "cell_type": "markdown",
   "id": "07be497c-6d47-4099-8026-245deabdf539",
   "metadata": {},
   "source": [
    "# 슬라이싱"
   ]
  },
  {
   "cell_type": "code",
   "execution_count": 20,
   "id": "767d8f0d-858d-4ca8-bc48-af567bf76b4a",
   "metadata": {},
   "outputs": [
    {
     "data": {
      "text/plain": [
       "[1, 2, 3, 4, 5]"
      ]
     },
     "execution_count": 20,
     "metadata": {},
     "output_type": "execute_result"
    }
   ],
   "source": [
    "a = [1, 2, 3, 4, 5]\n",
    "a"
   ]
  },
  {
   "cell_type": "code",
   "execution_count": 21,
   "id": "3d2585cb-4e04-4d79-aa95-f1f8673fb9e0",
   "metadata": {},
   "outputs": [
    {
     "data": {
      "text/plain": [
       "[1, 2]"
      ]
     },
     "execution_count": 21,
     "metadata": {},
     "output_type": "execute_result"
    }
   ],
   "source": [
    "a[0:2]"
   ]
  },
  {
   "cell_type": "code",
   "execution_count": 22,
   "id": "ff0d7c7c-110f-42f9-9c5f-94b29a0a599b",
   "metadata": {},
   "outputs": [
    {
     "data": {
      "text/plain": [
       "[3, ['a', 'b', 'c'], 4]"
      ]
     },
     "execution_count": 22,
     "metadata": {},
     "output_type": "execute_result"
    }
   ],
   "source": [
    "a = [1, 2, 3, ['a', 'b', 'c'], 4, 5]\n",
    "a[2:5]"
   ]
  },
  {
   "cell_type": "code",
   "execution_count": 23,
   "id": "5f957c0f-9b2f-4540-b367-59df50c81587",
   "metadata": {},
   "outputs": [
    {
     "data": {
      "text/plain": [
       "['a', 'b']"
      ]
     },
     "execution_count": 23,
     "metadata": {},
     "output_type": "execute_result"
    }
   ],
   "source": [
    "a[3][:2]"
   ]
  },
  {
   "cell_type": "markdown",
   "id": "0465cfb4-9923-4e7c-9e6b-743a32037e9f",
   "metadata": {},
   "source": [
    "# 리스트 연산하기 "
   ]
  },
  {
   "cell_type": "code",
   "execution_count": 25,
   "id": "f39b5646-5e59-473a-9a70-06241cfe2b16",
   "metadata": {},
   "outputs": [
    {
     "data": {
      "text/plain": [
       "[1, 2, 3, 4, 5, 6]"
      ]
     },
     "execution_count": 25,
     "metadata": {},
     "output_type": "execute_result"
    }
   ],
   "source": [
    "a = [1, 2, 3]\n",
    "b = [4, 5, 6]\n",
    "a + b"
   ]
  },
  {
   "cell_type": "code",
   "execution_count": 26,
   "id": "883bd462-12c4-438d-bd4c-5dd51c36e05f",
   "metadata": {},
   "outputs": [
    {
     "data": {
      "text/plain": [
       "int"
      ]
     },
     "execution_count": 26,
     "metadata": {},
     "output_type": "execute_result"
    }
   ],
   "source": [
    "type(a[0])"
   ]
  },
  {
   "cell_type": "code",
   "execution_count": 27,
   "id": "5a1ca715-d176-4766-9030-07911325cfcc",
   "metadata": {},
   "outputs": [
    {
     "data": {
      "text/plain": [
       "[1, 2, 3, 1, 2, 3, 1, 2, 3]"
      ]
     },
     "execution_count": 27,
     "metadata": {},
     "output_type": "execute_result"
    }
   ],
   "source": [
    " a = [1, 2, 3]*3\n",
    "a\n"
   ]
  },
  {
   "cell_type": "code",
   "execution_count": 28,
   "id": "d72f364c-ee5e-4c6a-af4d-fe25854afe4b",
   "metadata": {},
   "outputs": [
    {
     "ename": "TypeError",
     "evalue": "unsupported operand type(s) for +: 'int' and 'str'",
     "output_type": "error",
     "traceback": [
      "\u001b[1;31m---------------------------------------------------------------------------\u001b[0m",
      "\u001b[1;31mTypeError\u001b[0m                                 Traceback (most recent call last)",
      "Cell \u001b[1;32mIn[28], line 2\u001b[0m\n\u001b[0;32m      1\u001b[0m a \u001b[38;5;241m=\u001b[39m [\u001b[38;5;241m1\u001b[39m, \u001b[38;5;241m2\u001b[39m, \u001b[38;5;241m3\u001b[39m]\n\u001b[1;32m----> 2\u001b[0m a[\u001b[38;5;241m2\u001b[39m] \u001b[38;5;241m+\u001b[39m \u001b[38;5;124m\"\u001b[39m\u001b[38;5;124mhi\u001b[39m\u001b[38;5;124m\"\u001b[39m\n",
      "\u001b[1;31mTypeError\u001b[0m: unsupported operand type(s) for +: 'int' and 'str'"
     ]
    }
   ],
   "source": [
    "a = [1, 2, 3]\n",
    "a[2] + \"hi\""
   ]
  },
  {
   "cell_type": "code",
   "execution_count": 29,
   "id": "a2f4b553-a90b-4a90-923c-9bd319ad99c7",
   "metadata": {},
   "outputs": [
    {
     "data": {
      "text/plain": [
       "'3hi'"
      ]
     },
     "execution_count": 29,
     "metadata": {},
     "output_type": "execute_result"
    }
   ],
   "source": [
    "str(a[2]) + \"hi\""
   ]
  },
  {
   "cell_type": "markdown",
   "id": "807420cd-1791-4fcd-97b1-e69b88ed9589",
   "metadata": {},
   "source": [
    "# 리스트의 수정과 삭제"
   ]
  },
  {
   "cell_type": "code",
   "execution_count": 30,
   "id": "63d2e8eb-974c-4f5b-aeea-f61d39337561",
   "metadata": {},
   "outputs": [
    {
     "data": {
      "text/plain": [
       "[1, 2, 4]"
      ]
     },
     "execution_count": 30,
     "metadata": {},
     "output_type": "execute_result"
    }
   ],
   "source": [
    "a = [1, 2, 3]\n",
    "a[2] = 4\n",
    "a"
   ]
  },
  {
   "cell_type": "code",
   "execution_count": 31,
   "id": "e3fbb7d1-fd50-4421-ba0f-c46355c04558",
   "metadata": {},
   "outputs": [
    {
     "data": {
      "text/plain": [
       "[1, 3]"
      ]
     },
     "execution_count": 31,
     "metadata": {},
     "output_type": "execute_result"
    }
   ],
   "source": [
    "a = [1, 2, 3]\n",
    "del a[1]\n",
    "a"
   ]
  },
  {
   "cell_type": "code",
   "execution_count": 32,
   "id": "25d82d70-c762-48a5-8d28-05ea59d75a58",
   "metadata": {},
   "outputs": [
    {
     "data": {
      "text/plain": [
       "[1, 2]"
      ]
     },
     "execution_count": 32,
     "metadata": {},
     "output_type": "execute_result"
    }
   ],
   "source": [
    "a = [1, 2, 3, 4, 5]\n",
    "del a[2:]\n",
    "a"
   ]
  },
  {
   "cell_type": "markdown",
   "id": "7abe4d92-eaea-459c-a52e-6310e17cff4d",
   "metadata": {},
   "source": [
    "# 리스트 관련 함수 "
   ]
  },
  {
   "cell_type": "code",
   "execution_count": null,
   "id": "d67cb203-f9d6-4072-9b51-83b1cc7a2529",
   "metadata": {},
   "outputs": [],
   "source": [
    "#리스트에 요소 추가하기 - append"
   ]
  },
  {
   "cell_type": "code",
   "execution_count": 34,
   "id": "74a85d39-e5c1-4d5f-8e01-030968cc4b71",
   "metadata": {},
   "outputs": [
    {
     "data": {
      "text/plain": [
       "[1, 2, 3, 4]"
      ]
     },
     "execution_count": 34,
     "metadata": {},
     "output_type": "execute_result"
    }
   ],
   "source": [
    "a = [1, 2, 3]\n",
    "a.append(4)\n",
    "a"
   ]
  },
  {
   "cell_type": "code",
   "execution_count": 35,
   "id": "4d8e4f00-80a2-468c-9ec8-2303b27b32af",
   "metadata": {},
   "outputs": [
    {
     "data": {
      "text/plain": [
       "[1, 2, 3, 4, [5, 6]]"
      ]
     },
     "execution_count": 35,
     "metadata": {},
     "output_type": "execute_result"
    }
   ],
   "source": [
    "a.append([5, 6])\n",
    "a"
   ]
  },
  {
   "cell_type": "code",
   "execution_count": null,
   "id": "5ea5520c-8747-4c0f-b688-fe6d48535aaf",
   "metadata": {},
   "outputs": [],
   "source": [
    "#리스트 정렬 - sort"
   ]
  },
  {
   "cell_type": "code",
   "execution_count": 36,
   "id": "a2cceb34-ea76-4f01-a9d8-53f405aeba6b",
   "metadata": {},
   "outputs": [
    {
     "data": {
      "text/plain": [
       "[1, 2, 3, 4]"
      ]
     },
     "execution_count": 36,
     "metadata": {},
     "output_type": "execute_result"
    }
   ],
   "source": [
    "a = [1, 4, 3, 2]\n",
    "a.sort()\n",
    "a"
   ]
  },
  {
   "cell_type": "code",
   "execution_count": 37,
   "id": "4f7ce2a6-fa49-4f9b-b571-8e3c02d39745",
   "metadata": {},
   "outputs": [
    {
     "data": {
      "text/plain": [
       "['a', 'b', 'c']"
      ]
     },
     "execution_count": 37,
     "metadata": {},
     "output_type": "execute_result"
    }
   ],
   "source": [
    "a = ['a', 'c', 'b']\n",
    "a.sort()\n",
    "a"
   ]
  },
  {
   "cell_type": "code",
   "execution_count": 39,
   "id": "a9530fe6-4e28-4824-982b-6a81ecfc454b",
   "metadata": {},
   "outputs": [],
   "source": [
    "# 리스트 뒤집기 "
   ]
  },
  {
   "cell_type": "code",
   "execution_count": 40,
   "id": "427346e6-ce7e-46ee-bd94-147b13d68fe1",
   "metadata": {},
   "outputs": [
    {
     "data": {
      "text/plain": [
       "['b', 'c', 'a']"
      ]
     },
     "execution_count": 40,
     "metadata": {},
     "output_type": "execute_result"
    }
   ],
   "source": [
    "a = ['a', 'c', 'b']\n",
    "a.reverse()\n",
    "a"
   ]
  },
  {
   "cell_type": "code",
   "execution_count": null,
   "id": "208ced98-87a3-4dad-bfd4-a36e02f47041",
   "metadata": {},
   "outputs": [],
   "source": [
    "#인덱스 반환 - index"
   ]
  },
  {
   "cell_type": "code",
   "execution_count": 41,
   "id": "f7256c83-b45a-4612-b2f2-0a89de7ef6dd",
   "metadata": {},
   "outputs": [
    {
     "data": {
      "text/plain": [
       "2"
      ]
     },
     "execution_count": 41,
     "metadata": {},
     "output_type": "execute_result"
    }
   ],
   "source": [
    "a = [1, 2, 3]\n",
    "a.index(3)"
   ]
  },
  {
   "cell_type": "code",
   "execution_count": null,
   "id": "7627c566-78de-4bc5-9d1e-8db643cb5dc8",
   "metadata": {},
   "outputs": [],
   "source": [
    "#리스트에 요소 삽입 - insert"
   ]
  },
  {
   "cell_type": "code",
   "execution_count": 42,
   "id": "68262c6e-4335-4d50-94a8-a4db32968c30",
   "metadata": {},
   "outputs": [
    {
     "data": {
      "text/plain": [
       "[4, 1, 2, 3]"
      ]
     },
     "execution_count": 42,
     "metadata": {},
     "output_type": "execute_result"
    }
   ],
   "source": [
    "a = [1, 2, 3]\n",
    "a.insert(0, 4)\n",
    "a"
   ]
  },
  {
   "cell_type": "code",
   "execution_count": 44,
   "id": "366bfafa-8661-4612-8c66-b0f8cd6cca02",
   "metadata": {},
   "outputs": [
    {
     "data": {
      "text/plain": [
       "[4, 1, 2, 5, 5, 3]"
      ]
     },
     "execution_count": 44,
     "metadata": {},
     "output_type": "execute_result"
    }
   ],
   "source": [
    "a.insert(3,5)\n",
    "a"
   ]
  },
  {
   "cell_type": "code",
   "execution_count": null,
   "id": "29abd2c3-8810-4dae-8471-b7c076622b08",
   "metadata": {},
   "outputs": [],
   "source": [
    "#리스트 요소 제거 - remove"
   ]
  },
  {
   "cell_type": "code",
   "execution_count": 45,
   "id": "721cb773-c146-4a8a-8bfb-5002c5b5e842",
   "metadata": {},
   "outputs": [
    {
     "data": {
      "text/plain": [
       "[1, 2, 1, 2, 3]"
      ]
     },
     "execution_count": 45,
     "metadata": {},
     "output_type": "execute_result"
    }
   ],
   "source": [
    "a = [1, 2, 3, 1, 2, 3]\n",
    "a.remove(3)\n",
    "a"
   ]
  },
  {
   "cell_type": "code",
   "execution_count": 46,
   "id": "cf13970c-c039-4680-b5f4-67ac822508bf",
   "metadata": {},
   "outputs": [
    {
     "data": {
      "text/plain": [
       "[1, 2, 1, 2]"
      ]
     },
     "execution_count": 46,
     "metadata": {},
     "output_type": "execute_result"
    }
   ],
   "source": [
    "a.remove(3)\n",
    "a"
   ]
  },
  {
   "cell_type": "code",
   "execution_count": null,
   "id": "77f96d00-f142-4ab6-9c5a-f54b29ae4510",
   "metadata": {},
   "outputs": [],
   "source": [
    "# 리스트 요소 끄집어 내기 - pop"
   ]
  },
  {
   "cell_type": "code",
   "execution_count": 47,
   "id": "0cc5a87d-fb22-4d52-b806-e74c92cb4ca3",
   "metadata": {},
   "outputs": [
    {
     "data": {
      "text/plain": [
       "3"
      ]
     },
     "execution_count": 47,
     "metadata": {},
     "output_type": "execute_result"
    }
   ],
   "source": [
    "a = [1, 2, 3]\n",
    "a.pop()"
   ]
  },
  {
   "cell_type": "code",
   "execution_count": 48,
   "id": "456891fb-15e1-4aad-8aea-5d7691145e90",
   "metadata": {},
   "outputs": [
    {
     "data": {
      "text/plain": [
       "[1, 2]"
      ]
     },
     "execution_count": 48,
     "metadata": {},
     "output_type": "execute_result"
    }
   ],
   "source": [
    "a"
   ]
  },
  {
   "cell_type": "code",
   "execution_count": 49,
   "id": "fcc93315-b836-46c2-b8d7-393daaf2514d",
   "metadata": {},
   "outputs": [
    {
     "data": {
      "text/plain": [
       "[1, 3]"
      ]
     },
     "execution_count": 49,
     "metadata": {},
     "output_type": "execute_result"
    }
   ],
   "source": [
    "a = [1, 2, 3]\n",
    "a.pop(1)\n",
    "a"
   ]
  },
  {
   "cell_type": "code",
   "execution_count": 50,
   "id": "cfb78360-91c5-44cc-a6ec-6f267e7d61e4",
   "metadata": {},
   "outputs": [
    {
     "data": {
      "text/plain": [
       "2"
      ]
     },
     "execution_count": 50,
     "metadata": {},
     "output_type": "execute_result"
    }
   ],
   "source": [
    "#리스트에 포함된 요소 x의 개수 세기 - count\n",
    "a = [1, 2, 3, 1]\n",
    "a.count(1)"
   ]
  },
  {
   "cell_type": "code",
   "execution_count": 51,
   "id": "6ef7fc5b-5bde-4dee-9927-3ecd390af25b",
   "metadata": {},
   "outputs": [
    {
     "data": {
      "text/plain": [
       "[1, 2, 3, 4, 5]"
      ]
     },
     "execution_count": 51,
     "metadata": {},
     "output_type": "execute_result"
    }
   ],
   "source": [
    "#리스트 확장 - extend\n",
    "a = [1, 2, 3]\n",
    "a.extend([4, 5])\n",
    "a"
   ]
  },
  {
   "cell_type": "code",
   "execution_count": 52,
   "id": "8381ab49-978d-450d-8649-d58135426a09",
   "metadata": {},
   "outputs": [
    {
     "data": {
      "text/plain": [
       "[1, 2, 3, 4, 5, 6, 7]"
      ]
     },
     "execution_count": 52,
     "metadata": {},
     "output_type": "execute_result"
    }
   ],
   "source": [
    " b = [6, 7]\n",
    " a.extend(b)\n",
    "a"
   ]
  },
  {
   "cell_type": "code",
   "execution_count": null,
   "id": "eb151da0-a0df-414f-8a25-222184821f4f",
   "metadata": {},
   "outputs": [],
   "source": []
  },
  {
   "cell_type": "code",
   "execution_count": null,
   "id": "88d58a0b-3e7d-4c43-9ae4-24e191716b21",
   "metadata": {},
   "outputs": [],
   "source": []
  },
  {
   "cell_type": "markdown",
   "id": "10081312-5915-457f-bf34-4ac8d03a3efc",
   "metadata": {},
   "source": [
    "# 튜플 자료형"
   ]
  },
  {
   "cell_type": "code",
   "execution_count": 54,
   "id": "42095c72-ca6e-4f23-bc37-0a983072cfa6",
   "metadata": {},
   "outputs": [
    {
     "data": {
      "text/plain": [
       "((), (1,), (1, 2, 3), (1, 2, 3), ('a', 'b', ('ab', 'cd')))"
      ]
     },
     "execution_count": 54,
     "metadata": {},
     "output_type": "execute_result"
    }
   ],
   "source": [
    "t1 = ()\n",
    "t2 = (1,)\n",
    "t3 = (1, 2, 3)\n",
    "t4 = 1, 2, 3\n",
    "t5 = ('a', 'b', ('ab', 'cd'))\n",
    "t1, t2, t3, t4, t5"
   ]
  },
  {
   "cell_type": "code",
   "execution_count": 55,
   "id": "43b4a6d6-34f6-46f2-bc3e-e2d0494cf2c5",
   "metadata": {},
   "outputs": [
    {
     "data": {
      "text/plain": [
       "(tuple, tuple, tuple, tuple, tuple)"
      ]
     },
     "execution_count": 55,
     "metadata": {},
     "output_type": "execute_result"
    }
   ],
   "source": [
    "type(t1) , type(t2), type(t3), type(t4), type(t5)"
   ]
  },
  {
   "cell_type": "code",
   "execution_count": 56,
   "id": "32654f4c-2fd5-4afe-bf84-7562b6702229",
   "metadata": {},
   "outputs": [
    {
     "ename": "TypeError",
     "evalue": "'tuple' object doesn't support item deletion",
     "output_type": "error",
     "traceback": [
      "\u001b[1;31m---------------------------------------------------------------------------\u001b[0m",
      "\u001b[1;31mTypeError\u001b[0m                                 Traceback (most recent call last)",
      "Cell \u001b[1;32mIn[56], line 2\u001b[0m\n\u001b[0;32m      1\u001b[0m t1 \u001b[38;5;241m=\u001b[39m (\u001b[38;5;241m1\u001b[39m, \u001b[38;5;241m2\u001b[39m, \u001b[38;5;124m'\u001b[39m\u001b[38;5;124ma\u001b[39m\u001b[38;5;124m'\u001b[39m, \u001b[38;5;124m'\u001b[39m\u001b[38;5;124mb\u001b[39m\u001b[38;5;124m'\u001b[39m)\n\u001b[1;32m----> 2\u001b[0m \u001b[38;5;28;01mdel\u001b[39;00m t1[\u001b[38;5;241m0\u001b[39m]\n",
      "\u001b[1;31mTypeError\u001b[0m: 'tuple' object doesn't support item deletion"
     ]
    }
   ],
   "source": [
    "t1 = (1, 2, 'a', 'b')\n",
    "del t1[0]"
   ]
  },
  {
   "cell_type": "code",
   "execution_count": 57,
   "id": "8553d94f-f383-411c-bc50-c39a67e43352",
   "metadata": {
    "scrolled": true
   },
   "outputs": [
    {
     "ename": "TypeError",
     "evalue": "'tuple' object does not support item assignment",
     "output_type": "error",
     "traceback": [
      "\u001b[1;31m---------------------------------------------------------------------------\u001b[0m",
      "\u001b[1;31mTypeError\u001b[0m                                 Traceback (most recent call last)",
      "Cell \u001b[1;32mIn[57], line 2\u001b[0m\n\u001b[0;32m      1\u001b[0m t1 \u001b[38;5;241m=\u001b[39m (\u001b[38;5;241m1\u001b[39m, \u001b[38;5;241m2\u001b[39m, \u001b[38;5;124m'\u001b[39m\u001b[38;5;124ma\u001b[39m\u001b[38;5;124m'\u001b[39m, \u001b[38;5;124m'\u001b[39m\u001b[38;5;124mb\u001b[39m\u001b[38;5;124m'\u001b[39m)\n\u001b[1;32m----> 2\u001b[0m t1[\u001b[38;5;241m0\u001b[39m] \u001b[38;5;241m=\u001b[39m \u001b[38;5;124m'\u001b[39m\u001b[38;5;124mc\u001b[39m\u001b[38;5;124m'\u001b[39m\n",
      "\u001b[1;31mTypeError\u001b[0m: 'tuple' object does not support item assignment"
     ]
    }
   ],
   "source": [
    "t1 = (1, 2, 'a', 'b')\n",
    "t1[0] = 'c'"
   ]
  },
  {
   "cell_type": "code",
   "execution_count": null,
   "id": "897561e1-b06d-4a21-81ad-62cd2111cefa",
   "metadata": {},
   "outputs": [],
   "source": []
  },
  {
   "cell_type": "code",
   "execution_count": null,
   "id": "76af7ada-78f2-4ad0-8d1c-338b6793034c",
   "metadata": {},
   "outputs": [],
   "source": []
  },
  {
   "cell_type": "code",
   "execution_count": 60,
   "id": "0fa0fe2a-affa-4adb-9363-7e774c048fd6",
   "metadata": {},
   "outputs": [
    {
     "ename": "NameError",
     "evalue": "name '인덱싱하기' is not defined",
     "output_type": "error",
     "traceback": [
      "\u001b[1;31m---------------------------------------------------------------------------\u001b[0m",
      "\u001b[1;31mNameError\u001b[0m                                 Traceback (most recent call last)",
      "Cell \u001b[1;32mIn[60], line 1\u001b[0m\n\u001b[1;32m----> 1\u001b[0m 인덱싱하기\n",
      "\u001b[1;31mNameError\u001b[0m: name '인덱싱하기' is not defined"
     ]
    }
   ],
   "source": [
    "# 인덱싱하기"
   ]
  },
  {
   "cell_type": "code",
   "execution_count": 58,
   "id": "8dd94597-a774-43a2-a1e8-b73389aec293",
   "metadata": {},
   "outputs": [
    {
     "data": {
      "text/plain": [
       "1"
      ]
     },
     "execution_count": 58,
     "metadata": {},
     "output_type": "execute_result"
    }
   ],
   "source": [
    "t1 = (1, 2, 'a', 'b')\n",
    "t1[0]"
   ]
  },
  {
   "cell_type": "code",
   "execution_count": 59,
   "id": "da46c920-fac5-489a-bdde-fbeb36bc41ff",
   "metadata": {},
   "outputs": [
    {
     "data": {
      "text/plain": [
       "'b'"
      ]
     },
     "execution_count": 59,
     "metadata": {},
     "output_type": "execute_result"
    }
   ],
   "source": [
    "t1[3]"
   ]
  },
  {
   "cell_type": "code",
   "execution_count": null,
   "id": "60ff011f-085b-4d9c-9bc8-aeb100a1aab5",
   "metadata": {},
   "outputs": [],
   "source": [
    "#슬라이싱하기"
   ]
  },
  {
   "cell_type": "code",
   "execution_count": null,
   "id": "5cb4f35d-2fd1-4920-bd48-f3bc27746b79",
   "metadata": {},
   "outputs": [],
   "source": [
    ">>> t1 = (1, 2, 'a', 'b')\n",
    ">>> t1[1:]\n",
    "(2, 'a', 'b')"
   ]
  },
  {
   "cell_type": "code",
   "execution_count": null,
   "id": "6d81a398-e851-4ec8-baae-1306e85b257b",
   "metadata": {},
   "outputs": [],
   "source": [
    "#튜플 더하기"
   ]
  },
  {
   "cell_type": "code",
   "execution_count": null,
   "id": "2d20ad9c-c34b-4d8a-b66a-33f448de0789",
   "metadata": {},
   "outputs": [],
   "source": [
    ">>> t1 = (1, 2, 'a', 'b')\n",
    ">>> t2 = (3, 4)\n",
    ">>> t3 = t1 + t2\n",
    ">>> t3\n",
    "(1, 2, 'a', 'b', 3, 4)"
   ]
  },
  {
   "cell_type": "code",
   "execution_count": null,
   "id": "b403e591-894c-4e0c-a2d4-ff727e8a088f",
   "metadata": {},
   "outputs": [],
   "source": [
    "#튜플 곱하기\n",
    ">>> t2 = (3, 4)\n",
    ">>> t3 = t2 * 3\n",
    ">>> t3\n",
    "(3, 4, 3, 4, 3, 4)"
   ]
  },
  {
   "cell_type": "code",
   "execution_count": null,
   "id": "e182edff-d7d5-4973-9d19-f0ef48869ff6",
   "metadata": {},
   "outputs": [],
   "source": [
    "#튜플 길이 구하기\n",
    ">>> t1 = (1, 2, 'a', 'b')\n",
    ">>> len(t1)\n",
    "4"
   ]
  },
  {
   "cell_type": "code",
   "execution_count": null,
   "id": "b25febe1-5fe0-4740-9076-3a3957279213",
   "metadata": {},
   "outputs": [],
   "source": []
  },
  {
   "cell_type": "markdown",
   "id": "05a09263-5031-47f1-88c8-61552c4a4877",
   "metadata": {},
   "source": [
    "# 딕셔너리 "
   ]
  },
  {
   "cell_type": "code",
   "execution_count": null,
   "id": "efd6c27d-eb32-41a5-bb2a-7bc915c8deff",
   "metadata": {},
   "outputs": [],
   "source": [
    "#02-5 딕셔너리 자료형\n",
    "#{Key1: Value1, Key2: Value2, Key3: Value3, ...}"
   ]
  },
  {
   "cell_type": "code",
   "execution_count": 62,
   "id": "c72cc2cc-c030-4665-8bd1-a5e19b450a01",
   "metadata": {},
   "outputs": [
    {
     "data": {
      "text/plain": [
       "{'name': 'pey', 'phone': '010-9999-1234', 'birth': '1118'}"
      ]
     },
     "execution_count": 62,
     "metadata": {},
     "output_type": "execute_result"
    }
   ],
   "source": [
    "dic = {'name': 'pey', 'phone': '010-9999-1234', 'birth': '1118'}\n",
    "dic"
   ]
  },
  {
   "cell_type": "code",
   "execution_count": 64,
   "id": "e2bbcaab-3696-496a-8e53-6c2b0db278e3",
   "metadata": {},
   "outputs": [
    {
     "data": {
      "text/plain": [
       "{'a': [1, 2, 3]}"
      ]
     },
     "execution_count": 64,
     "metadata": {},
     "output_type": "execute_result"
    }
   ],
   "source": [
    "a = {'a': [1, 2, 3]}\n",
    "a"
   ]
  },
  {
   "cell_type": "code",
   "execution_count": null,
   "id": "acd5d46e-5ae3-4616-bcdb-9dcbc38bd622",
   "metadata": {},
   "outputs": [],
   "source": [
    "#딕셔너리 쌍 추가, 삭제하기"
   ]
  },
  {
   "cell_type": "code",
   "execution_count": 65,
   "id": "eb73a0e9-4824-43c4-b177-ca4c26b1627b",
   "metadata": {},
   "outputs": [
    {
     "data": {
      "text/plain": [
       "{1: 'a', 2: 'b', 'name': 'pey'}"
      ]
     },
     "execution_count": 65,
     "metadata": {},
     "output_type": "execute_result"
    }
   ],
   "source": [
    "a = {1: 'a'}\n",
    "a[2] = 'b'\n",
    "a\n",
    "{1: 'a', 2: 'b'}\n",
    "a['name'] = 'pey'\n",
    "a"
   ]
  },
  {
   "cell_type": "code",
   "execution_count": 66,
   "id": "317013f0-c6e1-4a4f-9461-1272adecb095",
   "metadata": {},
   "outputs": [
    {
     "data": {
      "text/plain": [
       "{1: 'a', 2: 'b', 'name': 'pey', 3: [1, 2, 3]}"
      ]
     },
     "execution_count": 66,
     "metadata": {},
     "output_type": "execute_result"
    }
   ],
   "source": [
    "a[3] = [1, 2, 3]\n",
    "a"
   ]
  },
  {
   "cell_type": "code",
   "execution_count": null,
   "id": "bca97f72-333e-477d-8aec-72dd130e0dfe",
   "metadata": {},
   "outputs": [],
   "source": [
    "#딕셔너리  삭제하기"
   ]
  },
  {
   "cell_type": "code",
   "execution_count": 67,
   "id": "10f6c3c0-7488-4949-ac69-7bda25bf4217",
   "metadata": {},
   "outputs": [
    {
     "data": {
      "text/plain": [
       "{2: 'b', 'name': 'pey', 3: [1, 2, 3]}"
      ]
     },
     "execution_count": 67,
     "metadata": {},
     "output_type": "execute_result"
    }
   ],
   "source": [
    "del a[1]\n",
    "a\n",
    "{2: 'b', 'name': 'pey', 3: [1, 2, 3]}"
   ]
  },
  {
   "cell_type": "code",
   "execution_count": null,
   "id": "b1e94bdd-fb79-4f5e-b24b-029fe70681e1",
   "metadata": {},
   "outputs": [],
   "source": [
    "#딕셔너리에서 Key를 사용해 Value 얻기"
   ]
  },
  {
   "cell_type": "code",
   "execution_count": 68,
   "id": "95ad8552-86cb-416d-b8bc-12a73ad8b072",
   "metadata": {},
   "outputs": [
    {
     "data": {
      "text/plain": [
       "10"
      ]
     },
     "execution_count": 68,
     "metadata": {},
     "output_type": "execute_result"
    }
   ],
   "source": [
    "grade = {'pey': 10, 'julliet': 99}\n",
    "grade['pey']"
   ]
  },
  {
   "cell_type": "code",
   "execution_count": 69,
   "id": "5164e324-4fec-4745-b9e4-61815ca5be62",
   "metadata": {},
   "outputs": [
    {
     "data": {
      "text/plain": [
       "99"
      ]
     },
     "execution_count": 69,
     "metadata": {},
     "output_type": "execute_result"
    }
   ],
   "source": [
    "grade['julliet']"
   ]
  },
  {
   "cell_type": "code",
   "execution_count": 72,
   "id": "2d5e6878-51a9-41ec-9f68-a81b5c0c43ff",
   "metadata": {},
   "outputs": [
    {
     "data": {
      "text/plain": [
       "dict_keys(['name', 'phone', 'birth'])"
      ]
     },
     "execution_count": 72,
     "metadata": {},
     "output_type": "execute_result"
    }
   ],
   "source": [
    "a = {'name': 'pey', 'phone': '010-9999-1234', 'birth': '1118'}\n",
    "a.keys()"
   ]
  },
  {
   "cell_type": "code",
   "execution_count": 73,
   "id": "4f86129c-ce6c-47f8-9675-31e24df241f1",
   "metadata": {},
   "outputs": [
    {
     "data": {
      "text/plain": [
       "dict_values(['pey', '010-9999-1234', '1118'])"
      ]
     },
     "execution_count": 73,
     "metadata": {},
     "output_type": "execute_result"
    }
   ],
   "source": [
    "#Value 리스트 만들기 - values\n",
    "a.values()"
   ]
  },
  {
   "cell_type": "code",
   "execution_count": 74,
   "id": "ffe2ca35-0bff-4e51-864c-1bfae2ab4878",
   "metadata": {},
   "outputs": [
    {
     "data": {
      "text/plain": [
       "dict_items([('name', 'pey'), ('phone', '010-9999-1234'), ('birth', '1118')])"
      ]
     },
     "execution_count": 74,
     "metadata": {},
     "output_type": "execute_result"
    }
   ],
   "source": [
    "#Key, Value 쌍 얻기 - items\n",
    "a.items()"
   ]
  },
  {
   "cell_type": "code",
   "execution_count": 76,
   "id": "6668aa66-24dc-48ce-ad1d-eb72101250ab",
   "metadata": {},
   "outputs": [
    {
     "data": {
      "text/plain": [
       "{}"
      ]
     },
     "execution_count": 76,
     "metadata": {},
     "output_type": "execute_result"
    }
   ],
   "source": [
    "#Key: Value 쌍 모두 지우기 - clear\n",
    "a.clear()\n",
    "a"
   ]
  },
  {
   "cell_type": "code",
   "execution_count": 77,
   "id": "c3b3615d-f929-4708-a878-af5d2ecbd0f8",
   "metadata": {},
   "outputs": [
    {
     "data": {
      "text/plain": [
       "'pey'"
      ]
     },
     "execution_count": 77,
     "metadata": {},
     "output_type": "execute_result"
    }
   ],
   "source": [
    "#Key로 Value 얻기 - get\n",
    "a = {'name': 'pey', 'phone': '010-9999-1234', 'birth': '1118'}\n",
    "a.get('name')"
   ]
  },
  {
   "cell_type": "code",
   "execution_count": 78,
   "id": "8deb11cb-a923-4559-b4c1-54dcd16f917a",
   "metadata": {},
   "outputs": [
    {
     "data": {
      "text/plain": [
       "'010-9999-1234'"
      ]
     },
     "execution_count": 78,
     "metadata": {},
     "output_type": "execute_result"
    }
   ],
   "source": [
    "a.get('phone')\n",
    "'010-9999-1234'"
   ]
  },
  {
   "cell_type": "code",
   "execution_count": null,
   "id": "44c5e919-d440-4619-9bc9-a80dbbb0a3ec",
   "metadata": {},
   "outputs": [],
   "source": [
    "#해당 Key가 딕셔너리 안에 있는지 조사하기 - in"
   ]
  },
  {
   "cell_type": "code",
   "execution_count": 80,
   "id": "227030f8-ef5a-41b7-8d70-64d10cd57c40",
   "metadata": {},
   "outputs": [
    {
     "data": {
      "text/plain": [
       "True"
      ]
     },
     "execution_count": 80,
     "metadata": {},
     "output_type": "execute_result"
    }
   ],
   "source": [
    " a = {'name':'pey', 'phone':'010-9999-1234', 'birth': '1118'}\n",
    "'name' in a\n"
   ]
  },
  {
   "cell_type": "code",
   "execution_count": 81,
   "id": "a6703ea4-66ff-4094-bd22-519e507e5973",
   "metadata": {},
   "outputs": [
    {
     "data": {
      "text/plain": [
       "False"
      ]
     },
     "execution_count": 81,
     "metadata": {},
     "output_type": "execute_result"
    }
   ],
   "source": [
    "'email' in a"
   ]
  },
  {
   "cell_type": "code",
   "execution_count": 82,
   "id": "1e2f4619-2c7a-4444-b140-6cb0f2eeeff6",
   "metadata": {},
   "outputs": [
    {
     "data": {
      "text/plain": [
       "'defaulykey'"
      ]
     },
     "execution_count": 82,
     "metadata": {},
     "output_type": "execute_result"
    }
   ],
   "source": [
    "a.get('nokey', 'defaulykey')"
   ]
  },
  {
   "cell_type": "code",
   "execution_count": null,
   "id": "973a345c-c7aa-46d6-a7f6-abd40f809407",
   "metadata": {},
   "outputs": [],
   "source": []
  },
  {
   "cell_type": "markdown",
   "id": "1f9d6938-5031-4d5f-b2dc-58f4d682d757",
   "metadata": {},
   "source": [
    "# 집합 "
   ]
  },
  {
   "cell_type": "code",
   "execution_count": 85,
   "id": "f09d5e15-35fe-4e2a-b8ef-bdbd118ee952",
   "metadata": {},
   "outputs": [
    {
     "data": {
      "text/plain": [
       "({1, 2, 3}, set)"
      ]
     },
     "execution_count": 85,
     "metadata": {},
     "output_type": "execute_result"
    }
   ],
   "source": [
    "s1 = set([1, 2, 3])\n",
    "s1 , type(s1)"
   ]
  },
  {
   "cell_type": "code",
   "execution_count": 86,
   "id": "f7a83864-6eae-4b96-a28a-3cd0346e8ff6",
   "metadata": {},
   "outputs": [
    {
     "data": {
      "text/plain": [
       "{'H', 'e', 'l', 'o'}"
      ]
     },
     "execution_count": 86,
     "metadata": {},
     "output_type": "execute_result"
    }
   ],
   "source": [
    "s2 = set(\"Hello\")\n",
    "s2"
   ]
  },
  {
   "cell_type": "code",
   "execution_count": null,
   "id": "35a091af-7395-4f8b-9c67-c891bc8b1fc9",
   "metadata": {},
   "outputs": [],
   "source": [
    "# 집합 자료형의 특징"
   ]
  },
  {
   "cell_type": "code",
   "execution_count": 88,
   "id": "ff027b40-35ce-49af-b52f-7a92389f96c7",
   "metadata": {},
   "outputs": [
    {
     "data": {
      "text/plain": [
       "[1, 2, 3]"
      ]
     },
     "execution_count": 88,
     "metadata": {},
     "output_type": "execute_result"
    }
   ],
   "source": [
    "s1 = set([1, 2, 3])\n",
    "l1 = list(s1)\n",
    "l1"
   ]
  },
  {
   "cell_type": "code",
   "execution_count": 89,
   "id": "f905be00-e6b7-4655-aa36-e5a68824dc1c",
   "metadata": {},
   "outputs": [
    {
     "data": {
      "text/plain": [
       "1"
      ]
     },
     "execution_count": 89,
     "metadata": {},
     "output_type": "execute_result"
    }
   ],
   "source": [
    "l1[0]"
   ]
  },
  {
   "cell_type": "code",
   "execution_count": 90,
   "id": "0d963d03-6329-4428-b3a3-3a229488048a",
   "metadata": {},
   "outputs": [
    {
     "data": {
      "text/plain": [
       "(1, 2, 3)"
      ]
     },
     "execution_count": 90,
     "metadata": {},
     "output_type": "execute_result"
    }
   ],
   "source": [
    "t1 = tuple(s1)\n",
    "t1"
   ]
  },
  {
   "cell_type": "code",
   "execution_count": 91,
   "id": "32fe2b3a-b6c5-4fbb-84e2-d46438a13ed0",
   "metadata": {},
   "outputs": [
    {
     "data": {
      "text/plain": [
       "1"
      ]
     },
     "execution_count": 91,
     "metadata": {},
     "output_type": "execute_result"
    }
   ],
   "source": [
    "t1[0]"
   ]
  },
  {
   "cell_type": "code",
   "execution_count": null,
   "id": "5c62f35f-88ff-436a-aba2-9bb3d134f2c5",
   "metadata": {},
   "outputs": [],
   "source": [
    "#교집합, 합집합, 차집합 구하기 "
   ]
  },
  {
   "cell_type": "code",
   "execution_count": 92,
   "id": "b91ee503-b1ad-4a57-b21d-5adb79e7aa00",
   "metadata": {},
   "outputs": [
    {
     "data": {
      "text/plain": [
       "{4, 5, 6}"
      ]
     },
     "execution_count": 92,
     "metadata": {},
     "output_type": "execute_result"
    }
   ],
   "source": [
    "s1 = set([1, 2, 3, 4, 5, 6])\n",
    "s2 = set([4, 5, 6, 7, 8, 9])\n",
    "\n",
    "s1 & s2"
   ]
  },
  {
   "cell_type": "code",
   "execution_count": 93,
   "id": "f7ef1573-6527-4cec-bbb9-0a0250263400",
   "metadata": {},
   "outputs": [
    {
     "data": {
      "text/plain": [
       "{4, 5, 6}"
      ]
     },
     "execution_count": 93,
     "metadata": {},
     "output_type": "execute_result"
    }
   ],
   "source": [
    "s1.intersection(s2)"
   ]
  },
  {
   "cell_type": "code",
   "execution_count": null,
   "id": "a1bf04d8-ea88-47a3-8615-aa780b2de950",
   "metadata": {},
   "outputs": [],
   "source": [
    "#합집합 구하기"
   ]
  },
  {
   "cell_type": "code",
   "execution_count": 94,
   "id": "385162e5-f76d-4a1b-93c8-8eca940052b2",
   "metadata": {},
   "outputs": [
    {
     "data": {
      "text/plain": [
       "{1, 2, 3, 4, 5, 6, 7, 8, 9}"
      ]
     },
     "execution_count": 94,
     "metadata": {},
     "output_type": "execute_result"
    }
   ],
   "source": [
    "s1 | s2"
   ]
  },
  {
   "cell_type": "code",
   "execution_count": 95,
   "id": "21bb1c84-634b-443b-9476-b49879dcb3d0",
   "metadata": {},
   "outputs": [
    {
     "data": {
      "text/plain": [
       "{1, 2, 3, 4, 5, 6, 7, 8, 9}"
      ]
     },
     "execution_count": 95,
     "metadata": {},
     "output_type": "execute_result"
    }
   ],
   "source": [
    "s1.union(s2)"
   ]
  },
  {
   "cell_type": "code",
   "execution_count": 96,
   "id": "b168afad-45e8-4222-a8f0-ac618f6166b5",
   "metadata": {},
   "outputs": [
    {
     "data": {
      "text/plain": [
       "{1, 2, 3}"
      ]
     },
     "execution_count": 96,
     "metadata": {},
     "output_type": "execute_result"
    }
   ],
   "source": [
    "s1 - s2"
   ]
  },
  {
   "cell_type": "code",
   "execution_count": 97,
   "id": "e9e6ffa4-d382-4ccf-b023-552ca1ec7d90",
   "metadata": {},
   "outputs": [
    {
     "data": {
      "text/plain": [
       "{7, 8, 9}"
      ]
     },
     "execution_count": 97,
     "metadata": {},
     "output_type": "execute_result"
    }
   ],
   "source": [
    "s2 - s1"
   ]
  },
  {
   "cell_type": "code",
   "execution_count": 98,
   "id": "58cf2812-cdb5-4aab-aca7-d6041aa6a5a0",
   "metadata": {},
   "outputs": [
    {
     "data": {
      "text/plain": [
       "{1, 2, 3}"
      ]
     },
     "execution_count": 98,
     "metadata": {},
     "output_type": "execute_result"
    }
   ],
   "source": [
    "s1.difference(s2)"
   ]
  },
  {
   "cell_type": "code",
   "execution_count": 99,
   "id": "7dacc456-5a9e-4061-8afc-555268c40a9b",
   "metadata": {},
   "outputs": [
    {
     "data": {
      "text/plain": [
       "{7, 8, 9}"
      ]
     },
     "execution_count": 99,
     "metadata": {},
     "output_type": "execute_result"
    }
   ],
   "source": [
    "s2.difference(s1)"
   ]
  },
  {
   "cell_type": "code",
   "execution_count": null,
   "id": "81a01697-3817-4f65-92e0-a1fad0382225",
   "metadata": {},
   "outputs": [],
   "source": [
    "#값 1개 추가하기 - add"
   ]
  },
  {
   "cell_type": "code",
   "execution_count": 101,
   "id": "3da057a9-1d0a-4319-b5d0-20b4833e829b",
   "metadata": {
    "scrolled": true
   },
   "outputs": [
    {
     "data": {
      "text/plain": [
       "{1, 2, 3, 4}"
      ]
     },
     "execution_count": 101,
     "metadata": {},
     "output_type": "execute_result"
    }
   ],
   "source": [
    "s1 = set([1, 2, 3])\n",
    "s1.add(4)\n",
    "s1"
   ]
  },
  {
   "cell_type": "code",
   "execution_count": null,
   "id": "cc6ba8c0-0726-4d7b-9c4b-97cfb04b0a84",
   "metadata": {},
   "outputs": [],
   "source": [
    "#값 여러 개 추가하기 - update"
   ]
  },
  {
   "cell_type": "code",
   "execution_count": 102,
   "id": "59311c4f-07b2-4ee5-b27c-9a3f2aa8a168",
   "metadata": {},
   "outputs": [
    {
     "data": {
      "text/plain": [
       "{1, 2, 3, 4, 5, 6}"
      ]
     },
     "execution_count": 102,
     "metadata": {},
     "output_type": "execute_result"
    }
   ],
   "source": [
    "s1 = set([1, 2, 3])\n",
    "s1.update([4, 5, 6])\n",
    "s1"
   ]
  },
  {
   "cell_type": "code",
   "execution_count": 103,
   "id": "1e52f267-b447-4f72-870e-b1b8188e5d6f",
   "metadata": {},
   "outputs": [
    {
     "data": {
      "text/plain": [
       "{1, 3}"
      ]
     },
     "execution_count": 103,
     "metadata": {},
     "output_type": "execute_result"
    }
   ],
   "source": [
    "#특정 값 제거하기 - remove\n",
    "s1 = set([1, 2, 3])\n",
    "s1.remove(2)\n",
    "s1"
   ]
  },
  {
   "cell_type": "code",
   "execution_count": null,
   "id": "434d3053-4b41-40d7-ac6c-4419507a7457",
   "metadata": {},
   "outputs": [],
   "source": []
  },
  {
   "cell_type": "markdown",
   "id": "ddcf33eb-370c-4adf-8233-89dcaeefc15d",
   "metadata": {},
   "source": [
    "# 불자료형 "
   ]
  },
  {
   "cell_type": "code",
   "execution_count": null,
   "id": "a28733f5-9bba-454c-bbcc-164482ca1aed",
   "metadata": {},
   "outputs": [],
   "source": [
    "a = True\n",
    "b = False"
   ]
  },
  {
   "cell_type": "code",
   "execution_count": null,
   "id": "3b131806-6199-4de1-b94b-0eba7d59155d",
   "metadata": {},
   "outputs": [],
   "source": []
  },
  {
   "cell_type": "code",
   "execution_count": 104,
   "id": "a419d8db-0c68-4b72-8f5b-5e0a985b112e",
   "metadata": {},
   "outputs": [
    {
     "data": {
      "text/plain": [
       "dict"
      ]
     },
     "execution_count": 104,
     "metadata": {},
     "output_type": "execute_result"
    }
   ],
   "source": [
    "type(a)"
   ]
  },
  {
   "cell_type": "code",
   "execution_count": 105,
   "id": "0257de0f-a322-47f9-b5fa-0879455da265",
   "metadata": {},
   "outputs": [
    {
     "data": {
      "text/plain": [
       "True"
      ]
     },
     "execution_count": 105,
     "metadata": {},
     "output_type": "execute_result"
    }
   ],
   "source": [
    "1 == 1"
   ]
  },
  {
   "cell_type": "code",
   "execution_count": 106,
   "id": "8dbd0a05-ddd5-450c-a06b-c6710cf71736",
   "metadata": {},
   "outputs": [
    {
     "data": {
      "text/plain": [
       "True"
      ]
     },
     "execution_count": 106,
     "metadata": {},
     "output_type": "execute_result"
    }
   ],
   "source": [
    "2 > 1"
   ]
  },
  {
   "cell_type": "code",
   "execution_count": 107,
   "id": "88ef6e73-8924-495d-acee-0fe1bcf2affb",
   "metadata": {},
   "outputs": [
    {
     "data": {
      "text/plain": [
       "False"
      ]
     },
     "execution_count": 107,
     "metadata": {},
     "output_type": "execute_result"
    }
   ],
   "source": [
    "2 < 1"
   ]
  },
  {
   "cell_type": "code",
   "execution_count": 109,
   "id": "00253e48-bdaf-4b69-91a1-5e5aff2b2ba1",
   "metadata": {},
   "outputs": [
    {
     "name": "stdout",
     "output_type": "stream",
     "text": [
      "[1, 2, 3] 4\n",
      "[1, 2] 3\n",
      "[1] 2\n",
      "[] 1\n"
     ]
    }
   ],
   "source": [
    ">>> a = [1, 2, 3, 4]\n",
    ">>> while a:\n",
    "...     print(a,a.pop())\n"
   ]
  },
  {
   "cell_type": "code",
   "execution_count": null,
   "id": "afc60e47-6413-4d9c-9ca7-f0cae26ffd26",
   "metadata": {},
   "outputs": [],
   "source": []
  },
  {
   "cell_type": "code",
   "execution_count": 112,
   "id": "623db6f7-4f05-4835-8a01-b2779123b7a7",
   "metadata": {},
   "outputs": [
    {
     "ename": "IndentationError",
     "evalue": "unexpected indent (2379776238.py, line 3)",
     "output_type": "error",
     "traceback": [
      "\u001b[1;36m  Cell \u001b[1;32mIn[112], line 3\u001b[1;36m\u001b[0m\n\u001b[1;33m    else :\u001b[0m\n\u001b[1;37m    ^\u001b[0m\n\u001b[1;31mIndentationError\u001b[0m\u001b[1;31m:\u001b[0m unexpected indent\n"
     ]
    }
   ],
   "source": [
    "if [1, 2, 3] :\n",
    "    print(\"참\")\n",
    "     else :\n",
    "         print(\"거짓\")"
   ]
  },
  {
   "cell_type": "code",
   "execution_count": 113,
   "id": "c1d58660-a399-4464-a01b-f5ccce96d0a1",
   "metadata": {},
   "outputs": [
    {
     "data": {
      "text/plain": [
       "True"
      ]
     },
     "execution_count": 113,
     "metadata": {},
     "output_type": "execute_result"
    }
   ],
   "source": [
    "bool('python')"
   ]
  },
  {
   "cell_type": "code",
   "execution_count": 114,
   "id": "6da1c98b-308b-4f88-ad21-439ac7453130",
   "metadata": {},
   "outputs": [
    {
     "data": {
      "text/plain": [
       "False"
      ]
     },
     "execution_count": 114,
     "metadata": {},
     "output_type": "execute_result"
    }
   ],
   "source": [
    "bool('')"
   ]
  },
  {
   "cell_type": "code",
   "execution_count": null,
   "id": "decca3b0-d0b4-4680-9685-eaed7142c71e",
   "metadata": {},
   "outputs": [],
   "source": []
  },
  {
   "cell_type": "markdown",
   "id": "2aabf825-5c45-42df-b6b3-edfab90d0bad",
   "metadata": {},
   "source": [
    "#  자료형의 값을 저장하는 공간, 변수"
   ]
  },
  {
   "cell_type": "code",
   "execution_count": null,
   "id": "294425c0-792e-415f-b812-8261cb60bac1",
   "metadata": {},
   "outputs": [],
   "source": [
    "a = 1\n",
    "b = \"python\"\n",
    "c = [1, 2, 3]"
   ]
  },
  {
   "cell_type": "code",
   "execution_count": null,
   "id": "e4d13fa7-6ae5-40bc-8df0-8bc28212acd3",
   "metadata": {},
   "outputs": [],
   "source": []
  },
  {
   "cell_type": "code",
   "execution_count": 115,
   "id": "9e0da5cb-db09-4c5f-ac46-03fed5ddbc4f",
   "metadata": {},
   "outputs": [
    {
     "data": {
      "text/plain": [
       "3052874788352"
      ]
     },
     "execution_count": 115,
     "metadata": {},
     "output_type": "execute_result"
    }
   ],
   "source": [
    "a = [1, 2, 3]\n",
    "id(a)"
   ]
  },
  {
   "cell_type": "code",
   "execution_count": null,
   "id": "de13f304-e515-4983-be4b-812b2c37368a",
   "metadata": {},
   "outputs": [],
   "source": [
    "a = [1, 2, 3]\n",
    "b = a"
   ]
  },
  {
   "cell_type": "code",
   "execution_count": 116,
   "id": "3237a2e1-0b56-4126-860c-3fd525e3f837",
   "metadata": {},
   "outputs": [
    {
     "data": {
      "text/plain": [
       "3052874788352"
      ]
     },
     "execution_count": 116,
     "metadata": {},
     "output_type": "execute_result"
    }
   ],
   "source": [
    "id(a)"
   ]
  },
  {
   "cell_type": "code",
   "execution_count": 117,
   "id": "ceae1380-bec9-4a93-8e7f-ec0e5485b5df",
   "metadata": {},
   "outputs": [
    {
     "data": {
      "text/plain": [
       "3052875156608"
      ]
     },
     "execution_count": 117,
     "metadata": {},
     "output_type": "execute_result"
    }
   ],
   "source": [
    "id(b)"
   ]
  },
  {
   "cell_type": "code",
   "execution_count": 119,
   "id": "8c7cfdb3-af65-481c-a241-8bece45a0f29",
   "metadata": {},
   "outputs": [
    {
     "data": {
      "text/plain": [
       "[1, 4, 3]"
      ]
     },
     "execution_count": 119,
     "metadata": {},
     "output_type": "execute_result"
    }
   ],
   "source": [
    "a[1] = 4\n",
    "a"
   ]
  },
  {
   "cell_type": "code",
   "execution_count": null,
   "id": "b1650209-3380-450d-96e1-c6ef1b6a307b",
   "metadata": {},
   "outputs": [],
   "source": []
  },
  {
   "cell_type": "code",
   "execution_count": null,
   "id": "4ae96c9e-81e3-4313-bff9-3669fa61ec90",
   "metadata": {},
   "outputs": [],
   "source": []
  },
  {
   "cell_type": "code",
   "execution_count": 120,
   "id": "7af3439d-d2c6-4c5d-b8f8-6ee3760272ec",
   "metadata": {},
   "outputs": [
    {
     "data": {
      "text/plain": [
       "([1, 4, 3], [1, 4, 3])"
      ]
     },
     "execution_count": 120,
     "metadata": {},
     "output_type": "execute_result"
    }
   ],
   "source": [
    "#변수 다루기 \n",
    "a, a[:]"
   ]
  },
  {
   "cell_type": "code",
   "execution_count": 123,
   "id": "456bef8c-ceb3-4e2d-bde2-da6f5a58779f",
   "metadata": {},
   "outputs": [
    {
     "data": {
      "text/plain": [
       "[1, 4, 3]"
      ]
     },
     "execution_count": 123,
     "metadata": {},
     "output_type": "execute_result"
    }
   ],
   "source": [
    "b = a[:]\n",
    "b"
   ]
  },
  {
   "cell_type": "code",
   "execution_count": 124,
   "id": "ac36ccda-40f5-4585-a21f-3afb47a8247f",
   "metadata": {},
   "outputs": [
    {
     "data": {
      "text/plain": [
       "3052874507008"
      ]
     },
     "execution_count": 124,
     "metadata": {},
     "output_type": "execute_result"
    }
   ],
   "source": [
    "id(b)"
   ]
  },
  {
   "cell_type": "code",
   "execution_count": 125,
   "id": "79d9e22a-f6f4-4e0a-8eca-c2ddcc5ee2b2",
   "metadata": {},
   "outputs": [
    {
     "data": {
      "text/plain": [
       "False"
      ]
     },
     "execution_count": 125,
     "metadata": {},
     "output_type": "execute_result"
    }
   ],
   "source": [
    "a is b"
   ]
  },
  {
   "cell_type": "code",
   "execution_count": 127,
   "id": "37b54904-ea2f-4b05-ad7e-d39a49acbfc0",
   "metadata": {},
   "outputs": [
    {
     "data": {
      "text/plain": [
       "[9, 4, 3]"
      ]
     },
     "execution_count": 127,
     "metadata": {},
     "output_type": "execute_result"
    }
   ],
   "source": [
    "b[0] = 9\n",
    "b"
   ]
  },
  {
   "cell_type": "code",
   "execution_count": 128,
   "id": "4f533301-63e8-4dbc-a8f1-53ed59625c58",
   "metadata": {},
   "outputs": [
    {
     "data": {
      "text/plain": [
       "[1, 4, 3]"
      ]
     },
     "execution_count": 128,
     "metadata": {},
     "output_type": "execute_result"
    }
   ],
   "source": [
    "a"
   ]
  },
  {
   "cell_type": "code",
   "execution_count": null,
   "id": "3142c9e5-020b-4dd0-8b1b-7f0a5b810063",
   "metadata": {},
   "outputs": [],
   "source": []
  },
  {
   "cell_type": "code",
   "execution_count": 129,
   "id": "8794c5e6-1bf5-4d2d-be9a-6936f83d2de9",
   "metadata": {},
   "outputs": [
    {
     "data": {
      "text/plain": [
       "([1, 2, 3], [1, 2, 3])"
      ]
     },
     "execution_count": 129,
     "metadata": {},
     "output_type": "execute_result"
    }
   ],
   "source": [
    "from copy import copy \n",
    "a = [1,2,3] \n",
    "b = copy(a) \n",
    "a, b"
   ]
  },
  {
   "cell_type": "code",
   "execution_count": null,
   "id": "b9e9d5b0-1afc-43a3-beef-c773735fecef",
   "metadata": {},
   "outputs": [],
   "source": []
  },
  {
   "cell_type": "code",
   "execution_count": 130,
   "id": "378694ca-4089-432a-9fce-06bbf33c24b6",
   "metadata": {},
   "outputs": [
    {
     "ename": "IndentationError",
     "evalue": "unexpected indent (2811039444.py, line 6)",
     "output_type": "error",
     "traceback": [
      "\u001b[1;36m  Cell \u001b[1;32mIn[130], line 6\u001b[1;36m\u001b[0m\n\u001b[1;33m    b = 5\u001b[0m\n\u001b[1;37m    ^\u001b[0m\n\u001b[1;31mIndentationError\u001b[0m\u001b[1;31m:\u001b[0m unexpected indent\n"
     ]
    }
   ],
   "source": [
    "a, b = ('python', 'life')\n",
    "(a, b) = 'python', 'life'\n",
    "[a, b] = ['python', 'life']\n",
    "a = b = 'python'\n",
    "a = 3\n",
    " b = 5\n",
    " a, b = b, a\n",
    "a\n",
    "b\n"
   ]
  },
  {
   "cell_type": "code",
   "execution_count": null,
   "id": "d340dc3b-9b6a-4141-9e4d-61fef2e37f1a",
   "metadata": {},
   "outputs": [],
   "source": []
  },
  {
   "cell_type": "code",
   "execution_count": null,
   "id": "f8c82aee-1cd1-4df9-8cf3-f1e57407bd9e",
   "metadata": {},
   "outputs": [],
   "source": []
  },
  {
   "cell_type": "code",
   "execution_count": null,
   "id": "770b1595-1c50-4469-a3f3-d384f88e1412",
   "metadata": {},
   "outputs": [],
   "source": []
  }
 ],
 "metadata": {
  "kernelspec": {
   "display_name": "Python 3 (ipykernel)",
   "language": "python",
   "name": "python3"
  },
  "language_info": {
   "codemirror_mode": {
    "name": "ipython",
    "version": 3
   },
   "file_extension": ".py",
   "mimetype": "text/x-python",
   "name": "python",
   "nbconvert_exporter": "python",
   "pygments_lexer": "ipython3",
   "version": "3.12.4"
  }
 },
 "nbformat": 4,
 "nbformat_minor": 5
}
