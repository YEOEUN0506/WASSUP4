{
 "cells": [
  {
   "cell_type": "markdown",
   "id": "26d60472-6824-4022-9d00-6be7b6258ead",
   "metadata": {},
   "source": [
    "# 변수와 자료형"
   ]
  },
  {
   "cell_type": "code",
   "execution_count": null,
   "id": "ec74e199-41a5-438d-b108-085ae8971f12",
   "metadata": {},
   "outputs": [],
   "source": []
  },
  {
   "cell_type": "markdown",
   "id": "05c2ba8f-c794-4757-bfb1-eaa251a204d6",
   "metadata": {},
   "source": [
    "# 숫자형"
   ]
  },
  {
   "cell_type": "code",
   "execution_count": 5,
   "id": "b2960a48-1a9c-460d-a19d-d7cbdf64134d",
   "metadata": {},
   "outputs": [],
   "source": [
    "# 정수형 \n",
    "a = 123"
   ]
  },
  {
   "cell_type": "code",
   "execution_count": null,
   "id": "d215382c-b276-4c99-b5f1-c962ece29788",
   "metadata": {},
   "outputs": [],
   "source": []
  },
  {
   "cell_type": "code",
   "execution_count": null,
   "id": "bcadadf0-1b54-4dd8-87b9-afc6109bae2f",
   "metadata": {},
   "outputs": [],
   "source": []
  },
  {
   "cell_type": "code",
   "execution_count": null,
   "id": "0cedec59-cc23-473f-8abf-752d118a285f",
   "metadata": {},
   "outputs": [],
   "source": []
  },
  {
   "cell_type": "code",
   "execution_count": null,
   "id": "d3e84a21-7354-44dc-b273-61f8ca751a42",
   "metadata": {},
   "outputs": [],
   "source": []
  },
  {
   "cell_type": "code",
   "execution_count": 6,
   "id": "b99fa610-d398-4eac-89a6-c4594272b30a",
   "metadata": {
    "scrolled": true
   },
   "outputs": [
    {
     "data": {
      "text/plain": [
       "(1.2, -3.45)"
      ]
     },
     "execution_count": 6,
     "metadata": {},
     "output_type": "execute_result"
    }
   ],
   "source": [
    "# 실수형\n",
    "a = 1.2\n",
    "b = -3.45\n",
    "a,b "
   ]
  },
  {
   "cell_type": "code",
   "execution_count": 10,
   "id": "fbed2e50-b90c-4714-8832-c4a4bc5942ea",
   "metadata": {},
   "outputs": [
    {
     "data": {
      "text/plain": [
       "42400000000.0"
      ]
     },
     "execution_count": 10,
     "metadata": {},
     "output_type": "execute_result"
    }
   ],
   "source": [
    "a = 4.24E10\n",
    "a\n"
   ]
  },
  {
   "cell_type": "code",
   "execution_count": 11,
   "id": "2bd30ad3-95a2-4650-a755-35eb6d87793c",
   "metadata": {},
   "outputs": [
    {
     "name": "stdout",
     "output_type": "stream",
     "text": [
      "127\n"
     ]
    }
   ],
   "source": [
    "a = 0o177\n",
    "print(a)"
   ]
  },
  {
   "cell_type": "code",
   "execution_count": null,
   "id": "ee032bed-34f2-4ddd-9761-df16673c0fa9",
   "metadata": {},
   "outputs": [],
   "source": []
  },
  {
   "cell_type": "markdown",
   "id": "890bc9bb-405c-42fe-bc22-6169b8f85784",
   "metadata": {},
   "source": [
    "# 연산자"
   ]
  },
  {
   "cell_type": "code",
   "execution_count": 12,
   "id": "a3c853cc-7411-4b09-bef5-548538a6414a",
   "metadata": {},
   "outputs": [
    {
     "data": {
      "text/plain": [
       "81"
      ]
     },
     "execution_count": 12,
     "metadata": {},
     "output_type": "execute_result"
    }
   ],
   "source": [
    "a = 3\n",
    "b = 4\n",
    "a ** b"
   ]
  },
  {
   "cell_type": "code",
   "execution_count": 14,
   "id": "e4b11317-e914-4ca3-880f-e424420a1a5b",
   "metadata": {},
   "outputs": [
    {
     "data": {
      "text/plain": [
       "(1, 3)"
      ]
     },
     "execution_count": 14,
     "metadata": {},
     "output_type": "execute_result"
    }
   ],
   "source": [
    "#나눗셈 후 나머지 리턴 \n",
    "7%3, 3%7"
   ]
  },
  {
   "cell_type": "code",
   "execution_count": null,
   "id": "b4119cdd-3abb-4455-88a6-a78a64a705aa",
   "metadata": {},
   "outputs": [],
   "source": [
    "# 나눗셈 후 몫을 리턴하는 // 연산자"
   ]
  },
  {
   "cell_type": "code",
   "execution_count": 15,
   "id": "1662c526-b211-44ae-bc4c-72c43f4c42f3",
   "metadata": {},
   "outputs": [
    {
     "data": {
      "text/plain": [
       "1"
      ]
     },
     "execution_count": 15,
     "metadata": {},
     "output_type": "execute_result"
    }
   ],
   "source": [
    " 7 // 4"
   ]
  },
  {
   "cell_type": "code",
   "execution_count": null,
   "id": "6f450a9c-7ddd-45d9-b221-b9d8e5ac99ea",
   "metadata": {},
   "outputs": [],
   "source": [
    "#복합 연산자"
   ]
  },
  {
   "cell_type": "code",
   "execution_count": 16,
   "id": "680f6e93-ded7-4511-88af-e87357275cd9",
   "metadata": {},
   "outputs": [
    {
     "data": {
      "text/plain": [
       "4"
      ]
     },
     "execution_count": 16,
     "metadata": {},
     "output_type": "execute_result"
    }
   ],
   "source": [
    " a = a + 1\n",
    " a"
   ]
  },
  {
   "cell_type": "code",
   "execution_count": 19,
   "id": "938d1e48-d850-497e-9c52-fe59907a6f5b",
   "metadata": {},
   "outputs": [
    {
     "data": {
      "text/plain": [
       "7"
      ]
     },
     "execution_count": 19,
     "metadata": {},
     "output_type": "execute_result"
    }
   ],
   "source": [
    "a +=1\n",
    "a"
   ]
  },
  {
   "cell_type": "code",
   "execution_count": 20,
   "id": "0d5dd6a0-64f3-4584-a2f5-c08a3780c618",
   "metadata": {},
   "outputs": [
    {
     "data": {
      "text/plain": [
       "6"
      ]
     },
     "execution_count": 20,
     "metadata": {},
     "output_type": "execute_result"
    }
   ],
   "source": [
    "a -= 1 \n",
    "a"
   ]
  },
  {
   "cell_type": "markdown",
   "id": "d399abf6-b067-4fd2-8bcb-d31ed85f4b37",
   "metadata": {},
   "source": [
    "# 문자열"
   ]
  },
  {
   "cell_type": "code",
   "execution_count": 21,
   "id": "d736351a-c372-495b-b354-cbdcaa90c014",
   "metadata": {},
   "outputs": [
    {
     "data": {
      "text/plain": [
       "'123'"
      ]
     },
     "execution_count": 21,
     "metadata": {},
     "output_type": "execute_result"
    }
   ],
   "source": [
    "\"Life is too short, You need Python\"\n",
    "\"a\"\n",
    "\"123\""
   ]
  },
  {
   "cell_type": "code",
   "execution_count": 22,
   "id": "dbf1faf4-f8a3-4a12-b90d-f1b87801c946",
   "metadata": {},
   "outputs": [
    {
     "data": {
      "text/plain": [
       "'hello world'"
      ]
     },
     "execution_count": 22,
     "metadata": {},
     "output_type": "execute_result"
    }
   ],
   "source": [
    "\"hello world\""
   ]
  },
  {
   "cell_type": "code",
   "execution_count": null,
   "id": "4372800c-dc56-438d-894c-a3d6786ed618",
   "metadata": {},
   "outputs": [],
   "source": []
  },
  {
   "cell_type": "code",
   "execution_count": 23,
   "id": "bb6a105d-11be-419b-b646-7f72b21504de",
   "metadata": {},
   "outputs": [
    {
     "data": {
      "text/plain": [
       "'Life is too short, You need python'"
      ]
     },
     "execution_count": 23,
     "metadata": {},
     "output_type": "execute_result"
    }
   ],
   "source": [
    "\"\"\"Life is too short, You need python\"\"\""
   ]
  },
  {
   "cell_type": "code",
   "execution_count": null,
   "id": "3ece1a79-789d-415f-84cc-c2c518aa68c2",
   "metadata": {},
   "outputs": [],
   "source": []
  },
  {
   "cell_type": "markdown",
   "id": "d956bbbb-3591-4256-b15f-42d2c3811b9f",
   "metadata": {},
   "source": [
    "# 문자열에 작은 따옴표 포함하기"
   ]
  },
  {
   "cell_type": "code",
   "execution_count": 24,
   "id": "231fa319-7582-47db-ba2c-6378891fcf6b",
   "metadata": {},
   "outputs": [
    {
     "data": {
      "text/plain": [
       "\"Python's favorite food is perl\""
      ]
     },
     "execution_count": 24,
     "metadata": {},
     "output_type": "execute_result"
    }
   ],
   "source": [
    "\"Python's favorite food is perl\""
   ]
  },
  {
   "cell_type": "markdown",
   "id": "cb36cf3c-c6d7-4028-b40a-fd36be590b05",
   "metadata": {},
   "source": [
    "# 문자열에 큰따옴표 포함하기"
   ]
  },
  {
   "cell_type": "code",
   "execution_count": 27,
   "id": "cde2816d-6996-4658-abd9-1da0f078aaee",
   "metadata": {},
   "outputs": [
    {
     "data": {
      "text/plain": [
       "'\"Python is very easy.\" he says.'"
      ]
     },
     "execution_count": 27,
     "metadata": {},
     "output_type": "execute_result"
    }
   ],
   "source": [
    " '\"Python is very easy.\" he says.'"
   ]
  },
  {
   "cell_type": "code",
   "execution_count": null,
   "id": "7e05e17a-efe0-418e-9e6e-3aebcd388c7f",
   "metadata": {},
   "outputs": [],
   "source": []
  },
  {
   "cell_type": "code",
   "execution_count": 28,
   "id": "524d8480-a9ce-45ed-b835-c7442e50daa6",
   "metadata": {},
   "outputs": [
    {
     "data": {
      "text/plain": [
       "'\"Python is very easy.\" he says.'"
      ]
     },
     "execution_count": 28,
     "metadata": {},
     "output_type": "execute_result"
    }
   ],
   "source": [
    "\"\\\"Python is very easy.\\\" he says.\""
   ]
  },
  {
   "cell_type": "code",
   "execution_count": null,
   "id": "7e0b40b1-d143-41f0-bd56-25427d0d303b",
   "metadata": {},
   "outputs": [],
   "source": []
  },
  {
   "cell_type": "code",
   "execution_count": null,
   "id": "e5f2fd6d-a430-4358-b396-f96adc53aee0",
   "metadata": {},
   "outputs": [],
   "source": []
  },
  {
   "cell_type": "code",
   "execution_count": 31,
   "id": "070762f3-a248-41c6-9f81-9352158446c1",
   "metadata": {},
   "outputs": [
    {
     "data": {
      "text/plain": [
       "'Life is too short\\nYou need python'"
      ]
     },
     "execution_count": 31,
     "metadata": {},
     "output_type": "execute_result"
    }
   ],
   "source": [
    " \"Life is too short\\nYou need python\""
   ]
  },
  {
   "cell_type": "code",
   "execution_count": 32,
   "id": "57ba4710-ee7b-4012-9cd7-750427305757",
   "metadata": {},
   "outputs": [
    {
     "name": "stdout",
     "output_type": "stream",
     "text": [
      "Life is too short\n",
      "You need python\n"
     ]
    }
   ],
   "source": [
    ">>> multiline = \"Life is too short\\nYou need python\"\n",
    "print(multiline)"
   ]
  },
  {
   "cell_type": "code",
   "execution_count": 33,
   "id": "c4280286-e3a6-4719-b876-26b5e46da718",
   "metadata": {},
   "outputs": [
    {
     "data": {
      "text/plain": [
       "'\\nLife is too short\\nYou need python\\n'"
      ]
     },
     "execution_count": 33,
     "metadata": {},
     "output_type": "execute_result"
    }
   ],
   "source": [
    "\"\"\"\n",
    "Life is too short\n",
    "You need python\n",
    "\"\"\""
   ]
  },
  {
   "cell_type": "code",
   "execution_count": null,
   "id": "7d8cd208-91cd-4040-a546-d55cd2ddb737",
   "metadata": {},
   "outputs": [],
   "source": []
  },
  {
   "cell_type": "code",
   "execution_count": null,
   "id": "42ac0255-53ef-4526-b910-fd197c989cd4",
   "metadata": {},
   "outputs": [],
   "source": []
  },
  {
   "cell_type": "markdown",
   "id": "b17789e7-705e-4f83-8d05-f927d6f09632",
   "metadata": {},
   "source": [
    "# 문자열 연산하기"
   ]
  },
  {
   "cell_type": "code",
   "execution_count": 34,
   "id": "7c72bfb9-991b-4534-b80f-ca3f1faf6d40",
   "metadata": {},
   "outputs": [
    {
     "data": {
      "text/plain": [
       "'Python is fun!'"
      ]
     },
     "execution_count": 34,
     "metadata": {},
     "output_type": "execute_result"
    }
   ],
   "source": [
    " head = \"Python\"\n",
    " tail = \" is fun!\"\n",
    " head + tail"
   ]
  },
  {
   "cell_type": "code",
   "execution_count": null,
   "id": "99415a76-9a00-4eca-9b5b-2362c72ce2e0",
   "metadata": {},
   "outputs": [],
   "source": []
  },
  {
   "cell_type": "code",
   "execution_count": 35,
   "id": "5773deba-7456-47d2-adf3-5f1cd4fea1d5",
   "metadata": {},
   "outputs": [
    {
     "data": {
      "text/plain": [
       "'pythonpython'"
      ]
     },
     "execution_count": 35,
     "metadata": {},
     "output_type": "execute_result"
    }
   ],
   "source": [
    ">>> a = \"python\"\n",
    ">>> a * 2\n"
   ]
  },
  {
   "cell_type": "code",
   "execution_count": null,
   "id": "a0df2834-aca6-47c7-9ad6-c13f122133ef",
   "metadata": {},
   "outputs": [],
   "source": []
  },
  {
   "cell_type": "code",
   "execution_count": 36,
   "id": "d25179e9-5a6b-4271-8816-f868605540cd",
   "metadata": {},
   "outputs": [
    {
     "name": "stdout",
     "output_type": "stream",
     "text": [
      "==================================================\n",
      "My Program\n",
      "==================================================\n"
     ]
    }
   ],
   "source": [
    "print(\"=\" * 50)\n",
    "print(\"My Program\")\n",
    "print(\"=\" * 50)"
   ]
  },
  {
   "cell_type": "code",
   "execution_count": null,
   "id": "c1fde948-6069-45ec-b5f3-a3b1cd62ce9e",
   "metadata": {},
   "outputs": [],
   "source": []
  },
  {
   "cell_type": "markdown",
   "id": "8931a2c8-8c96-4119-91ad-2f6938e5f4be",
   "metadata": {},
   "source": [
    "# 문자열 길이 구하기 "
   ]
  },
  {
   "cell_type": "code",
   "execution_count": null,
   "id": "22f54dd5-271e-4acf-a943-7a7b7dc5c070",
   "metadata": {},
   "outputs": [],
   "source": []
  },
  {
   "cell_type": "code",
   "execution_count": 37,
   "id": "859c2feb-11d4-4d7a-9183-0b09e1abb1f8",
   "metadata": {},
   "outputs": [
    {
     "data": {
      "text/plain": [
       "17"
      ]
     },
     "execution_count": 37,
     "metadata": {},
     "output_type": "execute_result"
    }
   ],
   "source": [
    " a = \"Life is too short\"\n",
    " len(a)"
   ]
  },
  {
   "cell_type": "code",
   "execution_count": null,
   "id": "c675d56b-92ee-4483-b892-39765f61e1d9",
   "metadata": {},
   "outputs": [],
   "source": []
  },
  {
   "cell_type": "code",
   "execution_count": null,
   "id": "cebe2525-072a-439c-a201-f1828c29bbaa",
   "metadata": {},
   "outputs": [],
   "source": []
  },
  {
   "cell_type": "markdown",
   "id": "f9396fae-2dbc-4e97-830d-795694ee4a75",
   "metadata": {},
   "source": [
    "# 문자열 인덱싱과 슬라이싱"
   ]
  },
  {
   "cell_type": "code",
   "execution_count": 41,
   "id": "4cc5b061-390f-464d-ba81-379ef9aa52f7",
   "metadata": {},
   "outputs": [
    {
     "data": {
      "text/plain": [
       "'Life is too short, You need Python'"
      ]
     },
     "execution_count": 41,
     "metadata": {},
     "output_type": "execute_result"
    }
   ],
   "source": [
    "a = \"Life is too short, You need Python\"\n",
    "a"
   ]
  },
  {
   "cell_type": "code",
   "execution_count": 42,
   "id": "0fe4d4b9-5a85-440c-917c-b7870c945029",
   "metadata": {},
   "outputs": [
    {
     "data": {
      "text/plain": [
       "'e'"
      ]
     },
     "execution_count": 42,
     "metadata": {},
     "output_type": "execute_result"
    }
   ],
   "source": [
    "a[3]"
   ]
  },
  {
   "cell_type": "code",
   "execution_count": 43,
   "id": "831c60c5-77f9-4909-b9de-c25734e048b8",
   "metadata": {},
   "outputs": [
    {
     "data": {
      "text/plain": [
       "','"
      ]
     },
     "execution_count": 43,
     "metadata": {},
     "output_type": "execute_result"
    }
   ],
   "source": [
    "a[17]"
   ]
  },
  {
   "cell_type": "code",
   "execution_count": 44,
   "id": "71cc9ced-7225-43c8-aec1-2e076fc80421",
   "metadata": {},
   "outputs": [
    {
     "data": {
      "text/plain": [
       "'P'"
      ]
     },
     "execution_count": 44,
     "metadata": {},
     "output_type": "execute_result"
    }
   ],
   "source": [
    "a[-6]"
   ]
  },
  {
   "cell_type": "code",
   "execution_count": null,
   "id": "e1800804-b0f3-4f3c-85b2-5dfabe755f8a",
   "metadata": {},
   "outputs": [],
   "source": []
  },
  {
   "cell_type": "code",
   "execution_count": 45,
   "id": "afa374d4-bd9f-4e89-b852-b413b23f4720",
   "metadata": {},
   "outputs": [
    {
     "data": {
      "text/plain": [
       "'Life'"
      ]
     },
     "execution_count": 45,
     "metadata": {},
     "output_type": "execute_result"
    }
   ],
   "source": [
    "a = \"Life is too short, You need Python\"\n",
    "b = a[0] + a[1] + a[2] + a[3]\n",
    "b"
   ]
  },
  {
   "cell_type": "code",
   "execution_count": null,
   "id": "74b3e119-47c0-494d-9faa-187233ad3876",
   "metadata": {},
   "outputs": [],
   "source": [
    "a[0:4]"
   ]
  },
  {
   "cell_type": "code",
   "execution_count": null,
   "id": "77594537-acb8-40b8-95a5-3b5af791faf9",
   "metadata": {},
   "outputs": [],
   "source": []
  },
  {
   "cell_type": "code",
   "execution_count": 46,
   "id": "b07bd0f7-3df3-47d9-abc3-25f37e2bef64",
   "metadata": {},
   "outputs": [
    {
     "data": {
      "text/plain": [
       "'short, '"
      ]
     },
     "execution_count": 46,
     "metadata": {},
     "output_type": "execute_result"
    }
   ],
   "source": [
    "a[12:19]"
   ]
  },
  {
   "cell_type": "code",
   "execution_count": null,
   "id": "9f4018b0-ddce-4566-a7dc-2e7fb05a3071",
   "metadata": {},
   "outputs": [],
   "source": [
    "\n"
   ]
  },
  {
   "cell_type": "code",
   "execution_count": 47,
   "id": "d62e7d0f-6a7a-4f0c-9738-bc20ada66d05",
   "metadata": {},
   "outputs": [
    {
     "data": {
      "text/plain": [
       "'Life is too short'"
      ]
     },
     "execution_count": 47,
     "metadata": {},
     "output_type": "execute_result"
    }
   ],
   "source": [
    "a[:17]"
   ]
  },
  {
   "cell_type": "code",
   "execution_count": null,
   "id": "59768eed-4952-4fbf-ac3d-6591aa9c026a",
   "metadata": {},
   "outputs": [],
   "source": []
  },
  {
   "cell_type": "code",
   "execution_count": 48,
   "id": "8793337f-8e66-4e6c-8150-0377a696ca96",
   "metadata": {},
   "outputs": [
    {
     "data": {
      "text/plain": [
       "'You need'"
      ]
     },
     "execution_count": 48,
     "metadata": {},
     "output_type": "execute_result"
    }
   ],
   "source": [
    "a[19:-7]"
   ]
  },
  {
   "cell_type": "code",
   "execution_count": null,
   "id": "255fdaac-c1e5-46e8-932a-460880ebd7e7",
   "metadata": {},
   "outputs": [],
   "source": []
  },
  {
   "cell_type": "code",
   "execution_count": 59,
   "id": "2ef99379-3196-4208-b685-5089d4b6a544",
   "metadata": {},
   "outputs": [
    {
     "data": {
      "text/plain": [
       "('2024', '0904')"
      ]
     },
     "execution_count": 59,
     "metadata": {},
     "output_type": "execute_result"
    }
   ],
   "source": [
    " a = \"20240904Sunny\"\n",
    " date = a[:8]\n",
    " weather = a[8:]\n",
    " year = a[:4]\n",
    " day = a[4:8]\n",
    "year, day"
   ]
  },
  {
   "cell_type": "code",
   "execution_count": 63,
   "id": "0df5072a-cd54-4870-86fe-819fd6dc66b1",
   "metadata": {},
   "outputs": [
    {
     "ename": "NameError",
     "evalue": "name 'y' is not defined",
     "output_type": "error",
     "traceback": [
      "\u001b[1;31m---------------------------------------------------------------------------\u001b[0m",
      "\u001b[1;31mNameError\u001b[0m                                 Traceback (most recent call last)",
      "Cell \u001b[1;32mIn[63], line 3\u001b[0m\n\u001b[0;32m      1\u001b[0m \u001b[38;5;66;03m#문자열 변경할 수 있을까 \u001b[39;00m\n\u001b[0;32m      2\u001b[0m a \u001b[38;5;241m=\u001b[39m \u001b[38;5;124m\"\u001b[39m\u001b[38;5;124mPithon\u001b[39m\u001b[38;5;124m\"\u001b[39m\n\u001b[1;32m----> 3\u001b[0m a[\u001b[38;5;241m1\u001b[39m] \u001b[38;5;241m=\u001b[39m y\n",
      "\u001b[1;31mNameError\u001b[0m: name 'y' is not defined"
     ]
    }
   ],
   "source": [
    "#문자열 변경할 수 있을까 \n",
    "a = \"Pithon\"\n",
    "a[1] = y \n"
   ]
  },
  {
   "cell_type": "code",
   "execution_count": null,
   "id": "81cd8246-d276-4ecd-8297-4f27de5869e1",
   "metadata": {},
   "outputs": [],
   "source": []
  },
  {
   "cell_type": "code",
   "execution_count": null,
   "id": "2695cefc-ddfa-4d81-af9e-be7eebc946fc",
   "metadata": {},
   "outputs": [],
   "source": []
  },
  {
   "cell_type": "markdown",
   "id": "1a539242-1bdf-4246-8a71-22e88f4b53a3",
   "metadata": {},
   "source": [
    "# 문자열 포매팅"
   ]
  },
  {
   "cell_type": "code",
   "execution_count": null,
   "id": "b50df322-5f2e-4679-82bb-2da79908c81a",
   "metadata": {},
   "outputs": [],
   "source": []
  },
  {
   "cell_type": "code",
   "execution_count": 64,
   "id": "e00ff601-1568-4f1b-8cee-98d7f4a5eb80",
   "metadata": {},
   "outputs": [
    {
     "data": {
      "text/plain": [
       "'I eat 3 apples.'"
      ]
     },
     "execution_count": 64,
     "metadata": {},
     "output_type": "execute_result"
    }
   ],
   "source": [
    " \"I eat %d apples.\" % 3"
   ]
  },
  {
   "cell_type": "code",
   "execution_count": null,
   "id": "6791f126-885c-4d30-ba57-cae0f86c385d",
   "metadata": {},
   "outputs": [],
   "source": []
  },
  {
   "cell_type": "code",
   "execution_count": 68,
   "id": "593c6be3-bb6d-44e6-aab7-41acf4b5677f",
   "metadata": {},
   "outputs": [
    {
     "data": {
      "text/plain": [
       "'I eat five apples.'"
      ]
     },
     "execution_count": 68,
     "metadata": {},
     "output_type": "execute_result"
    }
   ],
   "source": [
    " \"I eat %s apples.\" % \"five\""
   ]
  },
  {
   "cell_type": "code",
   "execution_count": null,
   "id": "b937e75a-e1a4-4f9c-a08a-59f072369154",
   "metadata": {},
   "outputs": [],
   "source": []
  },
  {
   "cell_type": "code",
   "execution_count": 69,
   "id": "9843d293-f635-4e54-a1d8-57d1126cc127",
   "metadata": {},
   "outputs": [
    {
     "data": {
      "text/plain": [
       "'I ate 10 apples. so I was sick for three days.'"
      ]
     },
     "execution_count": 69,
     "metadata": {},
     "output_type": "execute_result"
    }
   ],
   "source": [
    " number = 10\n",
    " day = \"three\"\n",
    " \"I ate %d apples. so I was sick for %s days.\" % (number, day)"
   ]
  },
  {
   "cell_type": "code",
   "execution_count": null,
   "id": "c3abdf41-d590-4ed0-ad75-cd50bacde3ed",
   "metadata": {},
   "outputs": [],
   "source": []
  },
  {
   "cell_type": "code",
   "execution_count": 70,
   "id": "df6bfccc-609d-434e-a909-c49eba3d48f7",
   "metadata": {},
   "outputs": [
    {
     "data": {
      "text/plain": [
       "'Error is 98%.'"
      ]
     },
     "execution_count": 70,
     "metadata": {},
     "output_type": "execute_result"
    }
   ],
   "source": [
    "\"Error is %d%%.\" % 98"
   ]
  },
  {
   "cell_type": "code",
   "execution_count": null,
   "id": "c5cc3d4f-3193-4f6c-b21d-34663d2c8823",
   "metadata": {},
   "outputs": [],
   "source": []
  },
  {
   "cell_type": "markdown",
   "id": "5f9f0f16-5bb0-4daf-a795-750a7a32879a",
   "metadata": {},
   "source": [
    "# 소수점 표현하기"
   ]
  },
  {
   "cell_type": "code",
   "execution_count": 71,
   "id": "bf6ee8da-d99d-4b44-bc00-4b1ce5cdb428",
   "metadata": {},
   "outputs": [
    {
     "data": {
      "text/plain": [
       "'3.4213'"
      ]
     },
     "execution_count": 71,
     "metadata": {},
     "output_type": "execute_result"
    }
   ],
   "source": [
    "\"%0.4f\" % 3.42134234"
   ]
  },
  {
   "cell_type": "code",
   "execution_count": null,
   "id": "2b2b42c3-e4f6-4861-bd16-82af0ad285d2",
   "metadata": {},
   "outputs": [],
   "source": []
  },
  {
   "cell_type": "markdown",
   "id": "46439e04-77d1-4f9c-84fb-6e4062145498",
   "metadata": {},
   "source": [
    "# format 함수를 사용한 포매팅"
   ]
  },
  {
   "cell_type": "code",
   "execution_count": null,
   "id": "c121273a-31a2-4ada-9426-2b22ff774fa5",
   "metadata": {},
   "outputs": [],
   "source": []
  },
  {
   "cell_type": "code",
   "execution_count": 73,
   "id": "57a0becc-d42e-4b67-a4e3-94755bfd6c35",
   "metadata": {},
   "outputs": [
    {
     "data": {
      "text/plain": [
       "'I eat 3 apples'"
      ]
     },
     "execution_count": 73,
     "metadata": {},
     "output_type": "execute_result"
    }
   ],
   "source": [
    " \"I eat {0} apples\" .format(3)"
   ]
  },
  {
   "cell_type": "code",
   "execution_count": 74,
   "id": "d7ec2bf1-74fd-45cc-b1fe-36f11dce686e",
   "metadata": {},
   "outputs": [
    {
     "data": {
      "text/plain": [
       "'I eat 10 apples'"
      ]
     },
     "execution_count": 74,
     "metadata": {},
     "output_type": "execute_result"
    }
   ],
   "source": [
    " \"I eat {0} apples\" .format(number)"
   ]
  },
  {
   "cell_type": "code",
   "execution_count": null,
   "id": "f81c2039-66a3-474a-981e-3a7a81f514fe",
   "metadata": {},
   "outputs": [],
   "source": []
  },
  {
   "cell_type": "code",
   "execution_count": null,
   "id": "9210f1ff-38f6-4177-ac29-b3f1f4f3a549",
   "metadata": {},
   "outputs": [],
   "source": [
    "number = 10 \n",
    "day = \"three\"\n",
    "\"I ate {0} apples. so I was sick for {1} days.\".format(number, day)\n"
   ]
  },
  {
   "cell_type": "code",
   "execution_count": null,
   "id": "b814f6ed-e9d8-4322-aeb5-8ed0d9734b73",
   "metadata": {},
   "outputs": [],
   "source": []
  },
  {
   "cell_type": "code",
   "execution_count": 76,
   "id": "63963a2b-b44e-4d65-b5df-3494f4f21440",
   "metadata": {},
   "outputs": [
    {
     "data": {
      "text/plain": [
       "'I ate 10 apples. so I was sick for three days.'"
      ]
     },
     "execution_count": 76,
     "metadata": {},
     "output_type": "execute_result"
    }
   ],
   "source": [
    "\"I ate {a} apples. so I was sick for {b} days.\".format(a=number,b=day)"
   ]
  },
  {
   "cell_type": "code",
   "execution_count": null,
   "id": "6714c0bd-3f04-4bdd-b210-5607ec9a2cad",
   "metadata": {},
   "outputs": [],
   "source": []
  },
  {
   "cell_type": "code",
   "execution_count": 77,
   "id": "80bd8d26-5288-4e48-8d8b-b5f36598b2a0",
   "metadata": {},
   "outputs": [
    {
     "data": {
      "text/plain": [
       "'3.4213'"
      ]
     },
     "execution_count": 77,
     "metadata": {},
     "output_type": "execute_result"
    }
   ],
   "source": [
    " y = 3.42134234\n",
    " \"{0:0.4f}\".format(y)\n",
    "\n"
   ]
  },
  {
   "cell_type": "code",
   "execution_count": null,
   "id": "f077d2f2-c7c4-4de8-9cfd-e9702b256fb0",
   "metadata": {},
   "outputs": [],
   "source": []
  },
  {
   "cell_type": "code",
   "execution_count": 78,
   "id": "99afb794-2973-460a-b3b4-762816c1bd77",
   "metadata": {},
   "outputs": [
    {
     "data": {
      "text/plain": [
       "'{ and }'"
      ]
     },
     "execution_count": 78,
     "metadata": {},
     "output_type": "execute_result"
    }
   ],
   "source": [
    " \"{{ and }}\".format()"
   ]
  },
  {
   "cell_type": "code",
   "execution_count": null,
   "id": "a42b7dff-c087-46e0-aafe-52623c492439",
   "metadata": {},
   "outputs": [],
   "source": []
  },
  {
   "cell_type": "markdown",
   "id": "3bf6ba9f-8844-4e2d-b16e-5be2792b590f",
   "metadata": {},
   "source": [
    "# f 문자열 포매팅 "
   ]
  },
  {
   "cell_type": "code",
   "execution_count": null,
   "id": "25d1aea9-3a6f-4c19-9b1e-e61c165516ca",
   "metadata": {},
   "outputs": [],
   "source": []
  },
  {
   "cell_type": "code",
   "execution_count": null,
   "id": "4cef4b3f-63ae-46c3-9892-abf316306542",
   "metadata": {},
   "outputs": [],
   "source": [
    "name = '홍길동' \n",
    "age = 30\n",
    "f'나의 이름은 {name}입니다. 나이는 {age}입니다.'\n"
   ]
  },
  {
   "cell_type": "code",
   "execution_count": null,
   "id": "bea3996b-a91c-4225-8726-7178fe02ee89",
   "metadata": {},
   "outputs": [],
   "source": []
  },
  {
   "cell_type": "code",
   "execution_count": 79,
   "id": "1a59e771-6ba3-4c26-a01d-49ae8504f992",
   "metadata": {},
   "outputs": [
    {
     "data": {
      "text/plain": [
       "{'name': '홍길동', 'age': 30}"
      ]
     },
     "execution_count": 79,
     "metadata": {},
     "output_type": "execute_result"
    }
   ],
   "source": [
    "d = {'name': '홍길동' , 'age' : 30 }\n",
    "d"
   ]
  },
  {
   "cell_type": "code",
   "execution_count": 80,
   "id": "bf827b67-eb24-4671-a63e-8d7b45d9ab38",
   "metadata": {},
   "outputs": [
    {
     "data": {
      "text/plain": [
       "'나의 이름은 홍길동입니다. 나이는 30입니다.'"
      ]
     },
     "execution_count": 80,
     "metadata": {},
     "output_type": "execute_result"
    }
   ],
   "source": [
    "f\"나의 이름은 {d[\"name\"]}입니다. 나이는 {d[\"age\"]}입니다.\""
   ]
  },
  {
   "cell_type": "code",
   "execution_count": null,
   "id": "7bd155d2-ed16-45a5-b321-db3e967aca69",
   "metadata": {},
   "outputs": [],
   "source": []
  },
  {
   "cell_type": "code",
   "execution_count": 81,
   "id": "a8b292ae-8e35-47f0-9877-9c897efc7e7c",
   "metadata": {},
   "outputs": [
    {
     "data": {
      "text/plain": [
       "'3.4213'"
      ]
     },
     "execution_count": 81,
     "metadata": {},
     "output_type": "execute_result"
    }
   ],
   "source": [
    "y\n",
    "f'{y:0.4f}'"
   ]
  },
  {
   "cell_type": "code",
   "execution_count": 83,
   "id": "604d509a-c659-4748-9aa9-adb5cca24fbd",
   "metadata": {},
   "outputs": [
    {
     "data": {
      "text/plain": [
       "'    3.4213'"
      ]
     },
     "execution_count": 83,
     "metadata": {},
     "output_type": "execute_result"
    }
   ],
   "source": [
    "f'{y:10.4f}'"
   ]
  },
  {
   "cell_type": "code",
   "execution_count": null,
   "id": "431726c8-9fdb-4663-a1aa-7b42eab9474a",
   "metadata": {},
   "outputs": [],
   "source": []
  },
  {
   "cell_type": "markdown",
   "id": "ab87c560-9f52-4fde-a734-736821201ff1",
   "metadata": {},
   "source": [
    "# 문자열 관련 함수들 "
   ]
  },
  {
   "cell_type": "code",
   "execution_count": null,
   "id": "ee08bb6f-5f2c-4451-9a98-1afe5a22e65f",
   "metadata": {},
   "outputs": [],
   "source": []
  },
  {
   "cell_type": "code",
   "execution_count": 84,
   "id": "4312b95f-e399-44ae-97c6-1a957e94a6d6",
   "metadata": {},
   "outputs": [
    {
     "data": {
      "text/plain": [
       "2"
      ]
     },
     "execution_count": 84,
     "metadata": {},
     "output_type": "execute_result"
    }
   ],
   "source": [
    " a = \"hobby\"\n",
    " a.count('b')\n"
   ]
  },
  {
   "cell_type": "code",
   "execution_count": null,
   "id": "1f0311a7-60ee-4aab-9220-ef1d14f68110",
   "metadata": {},
   "outputs": [],
   "source": []
  },
  {
   "cell_type": "code",
   "execution_count": 85,
   "id": "ab074c8a-25e0-4e0f-979b-6b8d885058c9",
   "metadata": {},
   "outputs": [
    {
     "data": {
      "text/plain": [
       "14"
      ]
     },
     "execution_count": 85,
     "metadata": {},
     "output_type": "execute_result"
    }
   ],
   "source": [
    " a = \"Python is the best choice\"\n",
    " a.find('b') "
   ]
  },
  {
   "cell_type": "code",
   "execution_count": null,
   "id": "f0e316d4-ce6a-4329-8bfa-816df5584b50",
   "metadata": {},
   "outputs": [],
   "source": []
  },
  {
   "cell_type": "code",
   "execution_count": 86,
   "id": "93d23baf-391b-46e9-8a27-2028b1e04030",
   "metadata": {},
   "outputs": [
    {
     "data": {
      "text/plain": [
       "\u001b[1;31mDocstring:\u001b[0m\n",
       "S.find(sub[, start[, end]]) -> int\n",
       "\n",
       "Return the lowest index in S where substring sub is found,\n",
       "such that sub is contained within S[start:end].  Optional\n",
       "arguments start and end are interpreted as in slice notation.\n",
       "\n",
       "Return -1 on failure.\n",
       "\u001b[1;31mType:\u001b[0m      builtin_function_or_method"
      ]
     },
     "metadata": {},
     "output_type": "display_data"
    }
   ],
   "source": [
    "a.find?"
   ]
  },
  {
   "cell_type": "code",
   "execution_count": null,
   "id": "e9b5842c-1e7d-4a8d-9816-cb50531f7e52",
   "metadata": {},
   "outputs": [],
   "source": []
  },
  {
   "cell_type": "code",
   "execution_count": 87,
   "id": "851af485-3bf8-42fc-bdaf-146495d8ce19",
   "metadata": {},
   "outputs": [
    {
     "data": {
      "text/plain": [
       "8"
      ]
     },
     "execution_count": 87,
     "metadata": {},
     "output_type": "execute_result"
    }
   ],
   "source": [
    "a = \"Life is too short\"\n",
    "a.index('t')"
   ]
  },
  {
   "cell_type": "code",
   "execution_count": null,
   "id": "cd0fde1c-1e83-467b-97ed-d38f64645dcb",
   "metadata": {},
   "outputs": [],
   "source": []
  },
  {
   "cell_type": "code",
   "execution_count": 88,
   "id": "1a76ef7e-6768-4b84-989e-29464ff99a03",
   "metadata": {},
   "outputs": [
    {
     "data": {
      "text/plain": [
       "'a,b,c,d'"
      ]
     },
     "execution_count": 88,
     "metadata": {},
     "output_type": "execute_result"
    }
   ],
   "source": [
    "\",\".join('abcd')"
   ]
  },
  {
   "cell_type": "code",
   "execution_count": null,
   "id": "a021754a-c91b-476d-8556-7474b41fc644",
   "metadata": {},
   "outputs": [],
   "source": []
  },
  {
   "cell_type": "code",
   "execution_count": 90,
   "id": "b2c41d94-22a9-4436-8dd6-b5140272b9ce",
   "metadata": {},
   "outputs": [
    {
     "data": {
      "text/plain": [
       "'hi'"
      ]
     },
     "execution_count": 90,
     "metadata": {},
     "output_type": "execute_result"
    }
   ],
   "source": [
    " a = \" hi \"\n",
    " a.strip()"
   ]
  },
  {
   "cell_type": "code",
   "execution_count": null,
   "id": "3444afd3-ea0d-4fc6-99df-f7a2992a9db6",
   "metadata": {},
   "outputs": [],
   "source": []
  },
  {
   "cell_type": "code",
   "execution_count": null,
   "id": "f5551e38-ca31-4a0f-a36e-e45a31746ab3",
   "metadata": {},
   "outputs": [],
   "source": [
    "a = \"Life is too short\"\n",
    "a.replace(\"Life\", \"Your leg\")"
   ]
  },
  {
   "cell_type": "code",
   "execution_count": null,
   "id": "ceede2df-207d-42b5-acc8-822e5a9aae1e",
   "metadata": {},
   "outputs": [],
   "source": []
  },
  {
   "cell_type": "code",
   "execution_count": 91,
   "id": "370e77a8-39ce-4b1e-a302-0822713afdc0",
   "metadata": {},
   "outputs": [
    {
     "data": {
      "text/plain": [
       "['Life', 'is', 'too', 'short']"
      ]
     },
     "execution_count": 91,
     "metadata": {},
     "output_type": "execute_result"
    }
   ],
   "source": [
    " a = \"Life is too short\"\n",
    " a.split()"
   ]
  },
  {
   "cell_type": "code",
   "execution_count": null,
   "id": "9cd70fb3-3146-4bca-bf24-06267a8f6830",
   "metadata": {},
   "outputs": [],
   "source": []
  },
  {
   "cell_type": "code",
   "execution_count": null,
   "id": "5e966648-04d2-411e-82b0-399d2c0c50c0",
   "metadata": {},
   "outputs": [],
   "source": []
  },
  {
   "cell_type": "code",
   "execution_count": null,
   "id": "71985d12-933c-4730-8b84-cddee4a85eff",
   "metadata": {},
   "outputs": [],
   "source": []
  },
  {
   "cell_type": "code",
   "execution_count": null,
   "id": "aaf7b7e6-c21f-42ee-80f1-a81a4a36c6de",
   "metadata": {},
   "outputs": [],
   "source": []
  },
  {
   "cell_type": "code",
   "execution_count": null,
   "id": "283aa8ec-334d-49d3-a186-a5e601dd3f11",
   "metadata": {},
   "outputs": [],
   "source": []
  },
  {
   "cell_type": "code",
   "execution_count": null,
   "id": "660f57bb-d2bc-467b-b4c5-be13cbac0c5b",
   "metadata": {},
   "outputs": [],
   "source": []
  },
  {
   "cell_type": "code",
   "execution_count": null,
   "id": "53cf93c2-9f41-41b9-99b0-611d2496a9a0",
   "metadata": {},
   "outputs": [],
   "source": []
  },
  {
   "cell_type": "code",
   "execution_count": null,
   "id": "62cfdff8-23d9-429f-b8c6-1e063a934f03",
   "metadata": {},
   "outputs": [],
   "source": []
  },
  {
   "cell_type": "code",
   "execution_count": null,
   "id": "e2b15386-4ae7-4a81-949b-ab5c086f45e4",
   "metadata": {},
   "outputs": [],
   "source": []
  },
  {
   "cell_type": "code",
   "execution_count": null,
   "id": "89d1bc76-f832-4ebb-acc0-3de0f796a3ea",
   "metadata": {},
   "outputs": [],
   "source": []
  },
  {
   "cell_type": "code",
   "execution_count": null,
   "id": "b6dda3a8-007e-4a07-85eb-da208e7929f5",
   "metadata": {},
   "outputs": [],
   "source": []
  },
  {
   "cell_type": "code",
   "execution_count": null,
   "id": "7bf935e9-17db-4fe6-9af2-e376b902bfed",
   "metadata": {},
   "outputs": [],
   "source": []
  },
  {
   "cell_type": "code",
   "execution_count": null,
   "id": "060544bd-9c2c-4f30-896b-ea03f583a020",
   "metadata": {},
   "outputs": [],
   "source": []
  },
  {
   "cell_type": "code",
   "execution_count": null,
   "id": "6dfb73bf-fa25-4b20-b77c-4fb5fba17f16",
   "metadata": {},
   "outputs": [],
   "source": []
  },
  {
   "cell_type": "code",
   "execution_count": null,
   "id": "d8613abe-c684-47f0-8d94-53d6957fca4c",
   "metadata": {},
   "outputs": [],
   "source": []
  },
  {
   "cell_type": "code",
   "execution_count": null,
   "id": "a154389d-bacb-42bc-9864-341123fcaa1c",
   "metadata": {},
   "outputs": [],
   "source": []
  },
  {
   "cell_type": "code",
   "execution_count": null,
   "id": "92310749-6e93-40ff-802c-9fd7482202de",
   "metadata": {},
   "outputs": [],
   "source": []
  }
 ],
 "metadata": {
  "kernelspec": {
   "display_name": "Python 3 (ipykernel)",
   "language": "python",
   "name": "python3"
  },
  "language_info": {
   "codemirror_mode": {
    "name": "ipython",
    "version": 3
   },
   "file_extension": ".py",
   "mimetype": "text/x-python",
   "name": "python",
   "nbconvert_exporter": "python",
   "pygments_lexer": "ipython3",
   "version": "3.12.4"
  }
 },
 "nbformat": 4,
 "nbformat_minor": 5
}
