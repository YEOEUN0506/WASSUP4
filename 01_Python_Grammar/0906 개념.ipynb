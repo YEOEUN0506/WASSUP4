{
 "cells": [
  {
   "cell_type": "markdown",
   "id": "66dd4073-a561-4b27-b7bc-e0fc7bdddd28",
   "metadata": {},
   "source": [
    "# 0909"
   ]
  },
  {
   "cell_type": "code",
   "execution_count": null,
   "id": "1393d7c3-2983-415c-be2a-9afcfea3ac56",
   "metadata": {},
   "outputs": [],
   "source": [
    "#for 문과 continue 문\n",
    "# marks2.py\n",
    "marks = [90, 25, 67, 45, 80]\n",
    "\n",
    "number = 0 \n",
    "for mark in marks: \n",
    "    number = number +1 \n",
    "    if mark < 60:\n",
    "        continue \n",
    "    print(\"%d번 학생 축하합니다. 합격입니다. \" % number)\n"
   ]
  },
  {
   "cell_type": "code",
   "execution_count": null,
   "id": "30fa35b3-4c5f-4821-bb58-5ee53e397fec",
   "metadata": {},
   "outputs": [],
   "source": [
    "#for 문과 함께 자주 사용하는 range 함수"
   ]
  },
  {
   "cell_type": "code",
   "execution_count": 1,
   "id": "61a40120-6c2e-478a-bda6-5a665361d5d9",
   "metadata": {},
   "outputs": [
    {
     "data": {
      "text/plain": [
       "\u001b[1;31mInit signature:\u001b[0m \u001b[0mrange\u001b[0m\u001b[1;33m(\u001b[0m\u001b[0mself\u001b[0m\u001b[1;33m,\u001b[0m \u001b[1;33m/\u001b[0m\u001b[1;33m,\u001b[0m \u001b[1;33m*\u001b[0m\u001b[0margs\u001b[0m\u001b[1;33m,\u001b[0m \u001b[1;33m**\u001b[0m\u001b[0mkwargs\u001b[0m\u001b[1;33m)\u001b[0m\u001b[1;33m\u001b[0m\u001b[1;33m\u001b[0m\u001b[0m\n",
       "\u001b[1;31mDocstring:\u001b[0m     \n",
       "range(stop) -> range object\n",
       "range(start, stop[, step]) -> range object\n",
       "\n",
       "Return an object that produces a sequence of integers from start (inclusive)\n",
       "to stop (exclusive) by step.  range(i, j) produces i, i+1, i+2, ..., j-1.\n",
       "start defaults to 0, and stop is omitted!  range(4) produces 0, 1, 2, 3.\n",
       "These are exactly the valid indices for a list of 4 elements.\n",
       "When step is given, it specifies the increment (or decrement).\n",
       "\u001b[1;31mType:\u001b[0m           type\n",
       "\u001b[1;31mSubclasses:\u001b[0m     "
      ]
     },
     "metadata": {},
     "output_type": "display_data"
    }
   ],
   "source": [
    "range?"
   ]
  },
  {
   "cell_type": "code",
   "execution_count": 2,
   "id": "f31ad4ed-1ec9-4cf4-8fc9-bbd7e34d616a",
   "metadata": {},
   "outputs": [
    {
     "data": {
      "text/plain": [
       "range(0, 10)"
      ]
     },
     "execution_count": 2,
     "metadata": {},
     "output_type": "execute_result"
    }
   ],
   "source": [
    "range(0,10)"
   ]
  },
  {
   "cell_type": "code",
   "execution_count": 3,
   "id": "49b1d29a-06d0-4597-8b48-19f634fb26c2",
   "metadata": {},
   "outputs": [
    {
     "data": {
      "text/plain": [
       "range"
      ]
     },
     "execution_count": 3,
     "metadata": {},
     "output_type": "execute_result"
    }
   ],
   "source": [
    "type(range(10))"
   ]
  },
  {
   "cell_type": "code",
   "execution_count": 6,
   "id": "7fce9b53-7ef8-44ad-8956-cdcc990fc21a",
   "metadata": {},
   "outputs": [
    {
     "name": "stdout",
     "output_type": "stream",
     "text": [
      "0\n",
      "1\n",
      "2\n",
      "3\n",
      "4\n",
      "5\n",
      "6\n",
      "7\n",
      "8\n",
      "9\n"
     ]
    }
   ],
   "source": [
    "for i in range(10):\n",
    "    print (i)"
   ]
  },
  {
   "cell_type": "code",
   "execution_count": 7,
   "id": "8b67abcc-f321-4036-b8a4-6132465fbcdb",
   "metadata": {},
   "outputs": [
    {
     "name": "stdout",
     "output_type": "stream",
     "text": [
      "1\n",
      "2\n",
      "3\n",
      "4\n",
      "5\n",
      "6\n",
      "7\n",
      "8\n",
      "9\n",
      "10\n"
     ]
    }
   ],
   "source": [
    "for i in range(1,11):\n",
    "    print (i)"
   ]
  },
  {
   "cell_type": "code",
   "execution_count": null,
   "id": "ff059f65-59b5-479a-b601-faf9b042e9ab",
   "metadata": {},
   "outputs": [],
   "source": [
    "#quiz  for문과 range함수를 이용하여 1부터 10까지 더해서 \n",
    "#출력하셈 \n"
   ]
  },
  {
   "cell_type": "code",
   "execution_count": 26,
   "id": "4d73c0c9-a041-41a2-b92b-ce2fe235137d",
   "metadata": {},
   "outputs": [
    {
     "name": "stdout",
     "output_type": "stream",
     "text": [
      "55\n"
     ]
    }
   ],
   "source": [
    ">>> add = 0 \n",
    ">>> for i in range(1, 11): \n",
    "...     add = add + i \n",
    "... \n",
    ">>> print(add)"
   ]
  },
  {
   "cell_type": "code",
   "execution_count": 27,
   "id": "dbe0af01-385b-47a9-93b0-b69ae2c74e8f",
   "metadata": {},
   "outputs": [
    {
     "ename": "NameError",
     "evalue": "name 'scores' is not defined",
     "output_type": "error",
     "traceback": [
      "\u001b[1;31m---------------------------------------------------------------------------\u001b[0m",
      "\u001b[1;31mNameError\u001b[0m                                 Traceback (most recent call last)",
      "Cell \u001b[1;32mIn[27], line 4\u001b[0m\n\u001b[0;32m      1\u001b[0m marks \u001b[38;5;241m=\u001b[39m [\u001b[38;5;241m90\u001b[39m, \u001b[38;5;241m25\u001b[39m, \u001b[38;5;241m67\u001b[39m, \u001b[38;5;241m45\u001b[39m, \u001b[38;5;241m80\u001b[39m]\n\u001b[0;32m      3\u001b[0m number \u001b[38;5;241m=\u001b[39m \u001b[38;5;241m0\u001b[39m \n\u001b[1;32m----> 4\u001b[0m \u001b[38;5;28;01mfor\u001b[39;00m mark \u001b[38;5;129;01min\u001b[39;00m \u001b[38;5;28mrange\u001b[39m(\u001b[38;5;28mlen\u001b[39m(scores)):\n\u001b[0;32m      5\u001b[0m     \u001b[38;5;28;01mif\u001b[39;00m mark[s] \u001b[38;5;241m<\u001b[39m \u001b[38;5;241m60\u001b[39m:\n\u001b[0;32m      6\u001b[0m         \u001b[38;5;28;01mcontinue\u001b[39;00m \n",
      "\u001b[1;31mNameError\u001b[0m: name 'scores' is not defined"
     ]
    }
   ],
   "source": [
    "marks = [90, 25, 67, 45, 80]\n",
    "\n",
    "number = 0 \n",
    "for mark in range(len(scores)):\n",
    "    if mark[s] < 60:\n",
    "        continue \n",
    "    print(f\"{s+1}번 학생 축하합니다. 합격입니다. \")"
   ]
  },
  {
   "cell_type": "code",
   "execution_count": null,
   "id": "0961c948-d526-42c9-9b3c-b220a1800b8b",
   "metadata": {},
   "outputs": [],
   "source": [
    "# for와 range를 이용한 구구단"
   ]
  },
  {
   "cell_type": "code",
   "execution_count": 38,
   "id": "9058e45a-f497-4364-85ca-787f0d9a088f",
   "metadata": {},
   "outputs": [
    {
     "ename": "SyntaxError",
     "evalue": "invalid syntax. Perhaps you forgot a comma? (4212020213.py, line 2)",
     "output_type": "error",
     "traceback": [
      "\u001b[1;36m  Cell \u001b[1;32mIn[38], line 2\u001b[1;36m\u001b[0m\n\u001b[1;33m    print('=' 10)\u001b[0m\n\u001b[1;37m          ^\u001b[0m\n\u001b[1;31mSyntaxError\u001b[0m\u001b[1;31m:\u001b[0m invalid syntax. Perhaps you forgot a comma?\n"
     ]
    }
   ],
   "source": [
    "for i in range(2,10):\n",
    "    print('=' 10) \n",
    "    print(f'{i}단')\n",
    "    for j in range(1,10):\n",
    "        print(f\"{i}x{j}={i j}\")"
   ]
  },
  {
   "cell_type": "code",
   "execution_count": 37,
   "id": "50e50978-1846-409f-b30b-984867aaf275",
   "metadata": {},
   "outputs": [
    {
     "ename": "NameError",
     "evalue": "name 'ni' is not defined",
     "output_type": "error",
     "traceback": [
      "\u001b[1;31m---------------------------------------------------------------------------\u001b[0m",
      "\u001b[1;31mNameError\u001b[0m                                 Traceback (most recent call last)",
      "Cell \u001b[1;32mIn[37], line 4\u001b[0m\n\u001b[0;32m      1\u001b[0m \u001b[38;5;28;01mfor\u001b[39;00m n \u001b[38;5;129;01min\u001b[39;00m \u001b[38;5;28mrange\u001b[39m(\u001b[38;5;241m2\u001b[39m,\u001b[38;5;241m10\u001b[39m):\n\u001b[0;32m      2\u001b[0m     \u001b[38;5;28;01mfor\u001b[39;00m i \u001b[38;5;129;01min\u001b[39;00m \u001b[38;5;28mrange\u001b[39m(\u001b[38;5;241m1\u001b[39m,\u001b[38;5;241m10\u001b[39m):\n\u001b[0;32m      3\u001b[0m         \u001b[38;5;66;03m# print(n, \"X\", i, \"=\",ni)\u001b[39;00m\n\u001b[1;32m----> 4\u001b[0m         \u001b[38;5;28mprint\u001b[39m(\u001b[38;5;124mf\u001b[39m\u001b[38;5;124m\"\u001b[39m\u001b[38;5;132;01m{\u001b[39;00mn\u001b[38;5;132;01m}\u001b[39;00m\u001b[38;5;124m x \u001b[39m\u001b[38;5;132;01m{\u001b[39;00mi\u001b[38;5;132;01m}\u001b[39;00m\u001b[38;5;124m = \u001b[39m\u001b[38;5;132;01m{\u001b[39;00mni\u001b[38;5;132;01m}\u001b[39;00m\u001b[38;5;124m\"\u001b[39m)\n\u001b[0;32m      5\u001b[0m     \u001b[38;5;28mprint\u001b[39m()\n",
      "\u001b[1;31mNameError\u001b[0m: name 'ni' is not defined"
     ]
    }
   ],
   "source": []
  },
  {
   "cell_type": "code",
   "execution_count": null,
   "id": "f076c74b-faac-4dc5-896b-6e61f5c53724",
   "metadata": {},
   "outputs": [],
   "source": []
  },
  {
   "cell_type": "code",
   "execution_count": null,
   "id": "816df603-7425-4af1-b340-250c1ff64fe2",
   "metadata": {},
   "outputs": [],
   "source": [
    "#리스트 컴프리헨션 사용하기"
   ]
  },
  {
   "cell_type": "code",
   "execution_count": null,
   "id": "1612b5ea-c5db-48c9-b8d7-b89e62200243",
   "metadata": {},
   "outputs": [],
   "source": [
    ">>> a = [1,2,3,4]\n",
    ">>> result = []\n",
    ">>> for num in a:\n",
    "...     result.append(num*3)\n",
    "...\n",
    ">>> print(result)\n",
    "[3, 6, 9, 12]"
   ]
  },
  {
   "cell_type": "code",
   "execution_count": 39,
   "id": "d3fb5e08-4cba-4f0d-bb61-a1a12134251d",
   "metadata": {},
   "outputs": [
    {
     "name": "stdout",
     "output_type": "stream",
     "text": [
      "[3, 6, 9, 12]\n"
     ]
    }
   ],
   "source": [
    ">>> a = [1,2,3,4]\n",
    ">>> result = [num * 3 for num in a]\n",
    ">>> print(result)"
   ]
  },
  {
   "cell_type": "code",
   "execution_count": 40,
   "id": "206a9cdd-d1bd-4113-abff-abbc06238e42",
   "metadata": {},
   "outputs": [
    {
     "name": "stdout",
     "output_type": "stream",
     "text": [
      "[6, 12]\n"
     ]
    }
   ],
   "source": [
    ">>> a = [1,2,3,4]\n",
    ">>> result = [num * 3 for num in a if num % 2 == 0]\n",
    ">>> print(result)"
   ]
  },
  {
   "cell_type": "code",
   "execution_count": 41,
   "id": "f9d9f8b5-1820-4a8c-a623-b22d7d7d8da8",
   "metadata": {},
   "outputs": [
    {
     "name": "stdout",
     "output_type": "stream",
     "text": [
      "List Comprehension Time: 0.06679749488830566\n",
      "For loop Time: 0.2096855640411377\n"
     ]
    }
   ],
   "source": [
    "import time\n",
    "\n",
    "start = time.time() \n",
    "numbers = [i for i in range(1000000)] \n",
    "end = time.time() \n",
    "print('List Comprehension Time:', end-start)\n",
    "\n",
    "start = time.time() \n",
    "numbers = []\n",
    "for i in range(1000000):\n",
    "    numbers.append(i)\n",
    "end = time.time() \n",
    "print('For loop Time:', end-start)"
   ]
  },
  {
   "cell_type": "code",
   "execution_count": null,
   "id": "864a45b3-0a14-4b18-8124-e61aa5bed734",
   "metadata": {},
   "outputs": [],
   "source": [
    "#함수"
   ]
  },
  {
   "cell_type": "code",
   "execution_count": null,
   "id": "eee21824-a427-40b4-96b2-55b359d93af6",
   "metadata": {},
   "outputs": [],
   "source": [
    "#전화번호 프로그램 만들기 \n",
    "#홍길동 010 -7133-9967 \n",
    "#기능1: 연락처후가\n",
    "#기능2연락처 전체보기 \n",
    "#기능3: 검색, 이름을 입력 받아서 전화번호 조회 \n",
    "#기능4: 수정, 이름을 입력받아서 전화번호 입력수정 \n",
    "#기능5: 삭제, 이름 받아서 삭제\n",
    "#기능: 프로그램 종료 "
   ]
  },
  {
   "cell_type": "code",
   "execution_count": null,
   "id": "1113dd65-164b-4773-bffc-0a3b95d44539",
   "metadata": {},
   "outputs": [],
   "source": [
    "#초기 연락처 데이터\n",
    "list = {\"홍길동\": \"010-123-4567\"}\n",
    "\n",
    "while True:\n",
    "    # 메뉴\n",
    "    print(\"\\n전화번호 프로그램\")\n",
    "    print(\"1. 연락처 추가\")\n",
    "    print(\"2. 연락처 전체조회\")\n",
    "    print(\"3. 연락처 검색\")\n",
    "    print(\"4. 연락처 수정\")\n",
    "    print(\"5. 연락처 삭제\")\n",
    "    print(\"6. 프로그램 종료\")\n",
    "\n",
    "    # 사용자 input\n",
    "    choice = input(\"어떤 기능을 원하시나요?: \")\n",
    "\n",
    "    # 연락처 추가 기능\n",
    "    if choice == \"1\":\n",
    "        name = input(\"추가할 이름: \")\n",
    "        phone = input(\"전화번호: \")\n",
    "        list[name] = phone\n",
    "        print(f\"{name}의 연락처가 추가되었습니다.\")\n",
    "\n",
    "연락처 전체조회\n",
    "    elif choice == \"2\":\n",
    "        if list:\n",
    "            print(\"\\n연락처 전체조회:\")\n",
    "            for name, phone in list.items():\n",
    "                print(f\"{name}: {phone}\")\n",
    "        else:\n",
    "            print(\"연락처가 없습니다.\")\n",
    "\n",
    "    #연락처 검색\n",
    "    elif choice == \"3\":\n",
    "        name = input(\"검색할 이름: \")\n",
    "        if name in list:\n",
    "            print(f\"{name}의 전화번호: {list[name]}\")\n",
    "        else:\n",
    "            print(f\"{name}의 연락처를 찾을 수 없습니다.\")\n",
    "\n",
    "    #연락처 수정\n",
    "    elif choice == \"4\":\n",
    "        name = input(\"수정할 이름: \")\n",
    "        if name in list:\n",
    "            new_phone = input(\"새로운 전화번호: \")\n",
    "            list[name] = new_phone\n",
    "            print(f\"{name}의 전화번호가 수정되었습니다.\")\n",
    "        else:\n",
    "            print(f\"{name}의 연락처를 찾을 수 없습니다.\")\n",
    "\n",
    "    #연락처 삭제\n",
    "    elif choice == \"5\": \n",
    "        name = input(\"삭제할 이름: \")\n",
    "        if name in list:\n",
    "            del list[name]\n",
    "            print(f\"{name}의 연락처가 삭제되었습니다.\")\n",
    "        else:\n",
    "            print(f\"{name}의 연락처를 찾을 수 없습니다.\")\n",
    "\n",
    "    #프로그램 종료 \n",
    "    elif choice == \"6\":\n",
    "        print(\"프로그램을 종료합니다.\")\n",
    "        break\n",
    "\n",
    "    else:\n",
    "        print(\"잘못된 입력입니다\")"
   ]
  },
  {
   "cell_type": "code",
   "execution_count": null,
   "id": "6af5f2f3-bfab-46c3-98cd-8f0b1d8e6d5c",
   "metadata": {},
   "outputs": [],
   "source": [
    "1. 입출력 정의: 문자열, 딕셔너리 K:V\n",
    "2.인터페이스: input()\n",
    "3. 구조: while 반복문, 6개 기능을 구현 if 분기문 \n",
    "4. 기능 구현 + 인터페이스 정책 "
   ]
  },
  {
   "cell_type": "code",
   "execution_count": null,
   "id": "bb82c8b9-0bb7-4399-addf-80565d6b095c",
   "metadata": {},
   "outputs": [],
   "source": [
    "#1번 기능 연락처 추가 \n",
    "dict[key] = value \n",
    "#2번 연락처 전체보기\n",
    "print(dict) \n",
    "#3번 검색기능\n",
    "dict[key]\n",
    "#4번 연락처 수정 \n",
    "dict[key] = value \n",
    "#5번 삭제 \n",
    "del \n",
    "#6번 프로그램 종료 \n",
    "berak \n",
    "\n"
   ]
  },
  {
   "cell_type": "code",
   "execution_count": null,
   "id": "4d787208-3960-42a2-96b1-e677c8e298fe",
   "metadata": {},
   "outputs": [
    {
     "name": "stdout",
     "output_type": "stream",
     "text": [
      "------전화번호부 프로그램------\n",
      "1.추가 2.조회 3.검색 4.수정 5.삭제  9.종료\n"
     ]
    }
   ],
   "source": [
    "contact{}\n",
    "\n",
    "\n",
    "while True:\n",
    "    print('------전화번호부 프로그램------')\n",
    "    print('1.추가 2.조회 3.검색 4.수정 5.삭제  9.종료')\n",
    "    menu = int(input('메뉴를 선택해주세요.(숫자: only) : '))\n",
    "    if  menu == 1: #연락처 추가 \n",
    "        print('연락처 추가')\n",
    "        new_name = input('이름: ')\n",
    "        new_tel = input('전화번호: ')\n",
    "        print(new_name, new_tel)\n",
    "        \n",
    "        #contact[new_name] = new_tel\n",
    "        contact.setdefault(new_name, new_tel)\n",
    "            \n",
    "    elif  menu == 2: #연락처 조회 \n",
    "        print('연락처 조회')\n",
    "        #print(contact)\n",
    "        for name, tel in contact.items():\n",
    "            print(name, ':', tel)\n",
    "\n",
    "\n",
    "    \n",
    "    elif  menu == 3: #연락처 검색 \n",
    "        print('연락처 검색')\n",
    "        search_name = input('검색 이름: ')\n",
    "        print(contact.get(search_name, '없는 이름입니다.'))\n",
    "        #print(contact[search_name])\n",
    "    \n",
    "    elif  menu == 4: #연락처 수정\n",
    "        print('연락처 수정')\n",
    "        mod_name = input('수정 이름 : ')\n",
    "        \n",
    "\n",
    "        if mod_name in contact:\n",
    "            mod_tel = input('새 전화번호: ')\n",
    "            contact[mod_name] = mod_tel\n",
    "        else: \n",
    "            print('등록되지 않은 이름입니다.')\n",
    "            \n",
    "    elif  menu == 5: #연락처 삭제\n",
    "        print('연락처 삭제')\n",
    "        del_name = input('삭제 이름 : ')\n",
    "        \n",
    "        if del_name in contact:\n",
    "            del contact[del_name]\n",
    "        else: \n",
    "            print('등록되지 않은 이름입니다.')\n",
    "    elif  menu == 9: #연락처 종료 \n",
    "        print('연락처 종료')\n",
    "        break\n",
    "    else: \n",
    "        print('잘못된 입력입니다.')\n",
    "       "
   ]
  },
  {
   "cell_type": "code",
   "execution_count": null,
   "id": "ffa145fe-7b92-4a24-93f8-94c9fb204573",
   "metadata": {},
   "outputs": [],
   "source": []
  },
  {
   "cell_type": "code",
   "execution_count": null,
   "id": "bbc89b7f-5189-46e5-9d37-95ffe2d49229",
   "metadata": {},
   "outputs": [],
   "source": []
  },
  {
   "cell_type": "code",
   "execution_count": null,
   "id": "015e6041-75c2-485f-ae57-f92b0689c476",
   "metadata": {},
   "outputs": [],
   "source": []
  },
  {
   "cell_type": "code",
   "execution_count": null,
   "id": "a88d8776-5e30-41e9-8c2a-d652a1573955",
   "metadata": {},
   "outputs": [],
   "source": []
  },
  {
   "cell_type": "code",
   "execution_count": null,
   "id": "f29bd93b-e5d0-40a2-a436-6f6fd097d809",
   "metadata": {},
   "outputs": [],
   "source": []
  },
  {
   "cell_type": "code",
   "execution_count": null,
   "id": "35dd347a-e8f6-4b7c-a2ee-6822a20a3cd7",
   "metadata": {},
   "outputs": [],
   "source": []
  },
  {
   "cell_type": "code",
   "execution_count": null,
   "id": "17854488-889c-4781-8e3e-6a31c04527e2",
   "metadata": {},
   "outputs": [],
   "source": []
  },
  {
   "cell_type": "code",
   "execution_count": null,
   "id": "8776981a-255f-4339-a30a-e6e920870181",
   "metadata": {},
   "outputs": [],
   "source": []
  },
  {
   "cell_type": "code",
   "execution_count": null,
   "id": "32186abb-f2af-4f9c-8c11-b555638ac8a8",
   "metadata": {},
   "outputs": [],
   "source": []
  },
  {
   "cell_type": "code",
   "execution_count": null,
   "id": "ba5ad393-6750-4c85-abee-72421b0e27a3",
   "metadata": {},
   "outputs": [],
   "source": []
  },
  {
   "cell_type": "code",
   "execution_count": null,
   "id": "489db46a-3ad7-4313-ab24-919aa9f8633d",
   "metadata": {},
   "outputs": [],
   "source": []
  },
  {
   "cell_type": "code",
   "execution_count": null,
   "id": "29bc0a42-8955-4c5a-8b62-296651a32f2b",
   "metadata": {},
   "outputs": [],
   "source": []
  },
  {
   "cell_type": "code",
   "execution_count": null,
   "id": "9f50fa36-9303-4bec-a5be-b4331d6c3103",
   "metadata": {},
   "outputs": [],
   "source": []
  },
  {
   "cell_type": "code",
   "execution_count": null,
   "id": "15e3796a-d1ed-4d23-b041-d7b51b0f3bc5",
   "metadata": {},
   "outputs": [],
   "source": []
  },
  {
   "cell_type": "code",
   "execution_count": null,
   "id": "5f694877-acc0-4327-8c43-39e92bf0aa5d",
   "metadata": {},
   "outputs": [],
   "source": []
  },
  {
   "cell_type": "code",
   "execution_count": null,
   "id": "d19ff996-a61e-4cd5-a2ee-164fd2802cd9",
   "metadata": {},
   "outputs": [],
   "source": []
  },
  {
   "cell_type": "code",
   "execution_count": null,
   "id": "e5f0f48b-b930-4436-9975-0708d3adebbc",
   "metadata": {},
   "outputs": [],
   "source": []
  },
  {
   "cell_type": "code",
   "execution_count": null,
   "id": "35025592-0ffc-4ef1-9eee-a72c6161b0cf",
   "metadata": {},
   "outputs": [],
   "source": []
  },
  {
   "cell_type": "code",
   "execution_count": null,
   "id": "43f0cca2-83bd-4ddc-896e-74346c92ff5b",
   "metadata": {},
   "outputs": [],
   "source": []
  },
  {
   "cell_type": "code",
   "execution_count": null,
   "id": "84bf78e1-4348-4661-82eb-c6c334785735",
   "metadata": {},
   "outputs": [],
   "source": []
  },
  {
   "cell_type": "code",
   "execution_count": null,
   "id": "4d9c2168-a198-4028-8f6b-9435adf3b09d",
   "metadata": {},
   "outputs": [],
   "source": []
  },
  {
   "cell_type": "code",
   "execution_count": null,
   "id": "51be85fe-2134-48cd-ac7e-218a26cc0939",
   "metadata": {},
   "outputs": [],
   "source": []
  }
 ],
 "metadata": {
  "kernelspec": {
   "display_name": "Python 3 (ipykernel)",
   "language": "python",
   "name": "python3"
  },
  "language_info": {
   "codemirror_mode": {
    "name": "ipython",
    "version": 3
   },
   "file_extension": ".py",
   "mimetype": "text/x-python",
   "name": "python",
   "nbconvert_exporter": "python",
   "pygments_lexer": "ipython3",
   "version": "3.12.4"
  }
 },
 "nbformat": 4,
 "nbformat_minor": 5
}
