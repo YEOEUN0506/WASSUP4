{
 "cells": [
  {
   "cell_type": "markdown",
   "id": "0798b153-0a2e-41c1-b6df-8590de29a2a5",
   "metadata": {},
   "source": [
    "# 0910 숙제 "
   ]
  },
  {
   "cell_type": "markdown",
   "id": "1db1b5f4-bc5d-4a3f-b309-642908a54461",
   "metadata": {},
   "source": [
    "# 201 ~ 210"
   ]
  },
  {
   "cell_type": "code",
   "execution_count": null,
   "id": "a2e4df3f-eaa6-4b67-88c3-867183483956",
   "metadata": {},
   "outputs": [],
   "source": []
  },
  {
   "cell_type": "code",
   "execution_count": null,
   "id": "c52b6479-b46a-4484-b8f3-e8f9ef42f233",
   "metadata": {},
   "outputs": [],
   "source": []
  },
  {
   "cell_type": "code",
   "execution_count": null,
   "id": "ca9b67fe-5c0a-48f7-9800-45a5cae704b6",
   "metadata": {},
   "outputs": [],
   "source": []
  },
  {
   "cell_type": "code",
   "execution_count": null,
   "id": "3e0a0e9d-7179-4c57-b84c-d85246ef001c",
   "metadata": {},
   "outputs": [],
   "source": []
  },
  {
   "cell_type": "code",
   "execution_count": null,
   "id": "36cc53c0-18d7-467a-afad-b37c4b4dc9bf",
   "metadata": {},
   "outputs": [],
   "source": []
  },
  {
   "cell_type": "code",
   "execution_count": null,
   "id": "e6394b4a-b12f-47c5-992b-a0c2577c8103",
   "metadata": {},
   "outputs": [],
   "source": []
  },
  {
   "cell_type": "code",
   "execution_count": null,
   "id": "f9e11176-927d-4d69-a43a-e6e50c447f6e",
   "metadata": {},
   "outputs": [],
   "source": []
  },
  {
   "cell_type": "code",
   "execution_count": null,
   "id": "e75ee778-ef6d-4ee5-8bd4-c6c61f186091",
   "metadata": {},
   "outputs": [],
   "source": []
  },
  {
   "cell_type": "code",
   "execution_count": null,
   "id": "6fb47626-0be4-4f91-a438-f2008d4bf30f",
   "metadata": {},
   "outputs": [],
   "source": []
  },
  {
   "cell_type": "code",
   "execution_count": null,
   "id": "b73b649e-72ce-4643-b8f3-907ea3fb2822",
   "metadata": {},
   "outputs": [],
   "source": []
  },
  {
   "cell_type": "code",
   "execution_count": null,
   "id": "df6e7ea5-8b27-4d25-bf53-87a6ee679250",
   "metadata": {},
   "outputs": [],
   "source": []
  },
  {
   "cell_type": "code",
   "execution_count": null,
   "id": "45c2f83f-bee6-4d82-be69-85f5552ea28c",
   "metadata": {},
   "outputs": [],
   "source": []
  },
  {
   "cell_type": "code",
   "execution_count": null,
   "id": "4e141e36-824d-408a-b7da-eeacc6e37e28",
   "metadata": {},
   "outputs": [],
   "source": []
  },
  {
   "cell_type": "code",
   "execution_count": null,
   "id": "3300e1b2-7bb8-40f9-81a7-cd7ffba3c313",
   "metadata": {},
   "outputs": [],
   "source": []
  },
  {
   "cell_type": "code",
   "execution_count": null,
   "id": "9c692d1f-5e41-43c7-ae40-43a18f98ba0f",
   "metadata": {},
   "outputs": [],
   "source": []
  },
  {
   "cell_type": "code",
   "execution_count": null,
   "id": "5ecdd6f8-1503-44ba-8e16-2bf8b9e10a0c",
   "metadata": {},
   "outputs": [],
   "source": []
  }
 ],
 "metadata": {
  "kernelspec": {
   "display_name": "Python 3 (ipykernel)",
   "language": "python",
   "name": "python3"
  },
  "language_info": {
   "codemirror_mode": {
    "name": "ipython",
    "version": 3
   },
   "file_extension": ".py",
   "mimetype": "text/x-python",
   "name": "python",
   "nbconvert_exporter": "python",
   "pygments_lexer": "ipython3",
   "version": "3.12.4"
  }
 },
 "nbformat": 4,
 "nbformat_minor": 5
}
