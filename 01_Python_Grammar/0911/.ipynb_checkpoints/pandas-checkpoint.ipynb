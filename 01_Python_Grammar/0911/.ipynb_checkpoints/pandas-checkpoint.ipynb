{
 "cells": [
  {
   "cell_type": "markdown",
   "id": "61a58f3e-4c51-482d-ba95-3d20ef3e1cc4",
   "metadata": {},
   "source": [
    "# 0913"
   ]
  },
  {
   "cell_type": "code",
   "execution_count": 1,
   "id": "5e7dfe5a-ebeb-443b-9ceb-b6542f48b18e",
   "metadata": {},
   "outputs": [],
   "source": [
    "#pandas \n",
    "#series 1차원 \n",
    "#data frame 2차원\n"
   ]
  },
  {
   "cell_type": "code",
   "execution_count": 2,
   "id": "ebde70e5-ea67-4cde-949b-93742ada12ec",
   "metadata": {},
   "outputs": [
    {
     "name": "stdout",
     "output_type": "stream",
     "text": [
      "<class 'pandas.core.series.Series'>\n",
      "RangeIndex(start=0, stop=5, step=1)\n",
      "int64\n",
      "0    1\n",
      "1    2\n",
      "2    3\n",
      "3    4\n",
      "4    5\n",
      "dtype: int64\n",
      "A    1\n",
      "B    2\n",
      "C    3\n",
      "D    4\n",
      "E    5\n",
      "dtype: int64\n"
     ]
    }
   ],
   "source": [
    "import pandas as pd \n",
    "import numpy as np \n",
    "\n",
    "#series\n",
    "s = pd.Series ( [ 1 ,2, 3, 4, 5]) \n",
    "print (type (s) )\n",
    "print ( s . index) \n",
    "print ( s. dtype) \n",
    "print ( s )\n",
    "s. index = [ 'A' , 'B' , 'C', 'D' , 'E']\n",
    "print (s) "
   ]
  },
  {
   "cell_type": "code",
   "execution_count": 3,
   "id": "bc331d3a-714f-41e7-96c2-515007ecefa7",
   "metadata": {},
   "outputs": [
    {
     "name": "stdout",
     "output_type": "stream",
     "text": [
      "A    1\n",
      "B    2\n",
      "C    3\n",
      "D    4\n",
      "E    5\n",
      "dtype: int64\n",
      "Index(['A', 'B', 'C', 'D', 'E'], dtype='object')\n",
      "[1 2 3 4 5]\n",
      "1\n",
      "1\n",
      "A    1\n",
      "B    2\n",
      "C    3\n",
      "D    4\n",
      "E    5\n",
      "dtype: int64\n",
      "A    1\n",
      "B    2\n",
      "C    3\n",
      "D    4\n",
      "dtype: int64\n"
     ]
    }
   ],
   "source": [
    "s = pd.Series ( [ 1 ,2, 3, 4, 5] , [ 'A' , 'B' , 'C', 'D' , 'E']) \n",
    "print(s) \n",
    "print (s . index) \n",
    "print ( s. values)  \n",
    "print (s ['A']) \n",
    "print (s.A) \n",
    "print (s [0:5]) \n",
    "print (s ['A':'D']) "
   ]
  },
  {
   "cell_type": "code",
   "execution_count": 10,
   "id": "6258fdb4-3851-4261-9f0c-09045f930e58",
   "metadata": {},
   "outputs": [
    {
     "name": "stdout",
     "output_type": "stream",
     "text": [
      "<class 'dict'>\n",
      "A : 10\n",
      "10\n",
      "D : 20\n",
      "10\n",
      "F : 30\n",
      "10\n",
      "H : 40\n",
      "10\n",
      "Index(['A', 'D', 'F', 'H'], dtype='object')\n",
      "[10 20 30 40]\n",
      "10\n",
      "10\n",
      "A    10\n",
      "D    20\n",
      "F    30\n",
      "dtype: int64\n",
      "A    10\n",
      "D    20\n",
      "F    30\n",
      "dtype: int64\n"
     ]
    }
   ],
   "source": [
    "# dictionary ( map , json) -> series\n",
    "\n",
    "d = {'A' : 10 , 'D' : 20 , 'F':30, 'H':40}\n",
    "print(type(d))\n",
    "for key, value in d.items() :\n",
    "    print (key, \":\", value)\n",
    "    print(d['A'])\n",
    "\n",
    "# print (d.A) - dpfj \n",
    "\n",
    "s = pd.Series(d)\n",
    "print(s.index)\n",
    "print(s.values)\n",
    "print(s['A'])\n",
    "print(s.A)\n",
    "print ( s [0:3]) \n",
    "print ( s ['A':'F'] ) "
   ]
  },
  {
   "cell_type": "code",
   "execution_count": 21,
   "id": "b12d1e9d-9e42-4fbd-889e-fbd151ff53a0",
   "metadata": {},
   "outputs": [
    {
     "name": "stdout",
     "output_type": "stream",
     "text": [
      "<class 'dict'>\n",
      "{'name': ['kim', 'lee', 'park', 'jung'], 'age': [25, 30, 35, 20], 'tel': ['1111-2222', '2222-1111', '3333-1111', '2222-3333']}\n",
      "   name  age        tel\n",
      "0   kim   25  1111-2222\n",
      "1   lee   30  2222-1111\n",
      "2  park   35  3333-1111\n",
      "3  jung   20  2222-3333\n",
      "RangeIndex(start=0, stop=4, step=1)\n",
      "Index(['name', 'age', 'tel'], dtype='object')\n",
      "[['kim' 25 '1111-2222']\n",
      " ['lee' 30 '2222-1111']\n",
      " ['park' 35 '3333-1111']\n",
      " ['jung' 20 '2222-3333']]\n",
      "User  name  age        tel\n",
      "Num                       \n",
      "0      kim   25  1111-2222\n",
      "1      lee   30  2222-1111\n",
      "2     park   35  3333-1111\n",
      "3     jung   20  2222-3333\n",
      "RangeIndex(start=0, stop=4, step=1, name='Num')\n",
      "Index(['name', 'age', 'tel'], dtype='object', name='User')\n"
     ]
    }
   ],
   "source": [
    "#dataframe \n",
    "# 딕셔너리 -> 데이터 프레임 \n",
    "\n",
    "\n",
    "d = {\n",
    "    'name' : [ 'kim', 'lee', 'park', 'jung' ],\n",
    "    'age' : [25, 30, 35, 20],\n",
    "    'tel' : ['1111-2222', '2222-1111', '3333-1111', '2222-3333']\n",
    "}\n",
    "print(type(d))\n",
    "print (d)\n",
    "\n",
    "df = pd.DataFrame(d)   # 데이터 프레임\n",
    "print (df)\n",
    "print(df.index)\n",
    "print (df.columns) \n",
    "print (df.values)\n",
    "df. index.name = 'Num'\n",
    "df . columns.name = 'User' \n",
    "print (df)\n",
    "print(df.index)\n",
    "print (df.columns) "
   ]
  },
  {
   "cell_type": "code",
   "execution_count": 28,
   "id": "224ef299-4a1c-4a5e-bc8a-15e519f662e6",
   "metadata": {},
   "outputs": [
    {
     "name": "stdout",
     "output_type": "stream",
     "text": [
      "<class 'numpy.ndarray'>\n",
      "   name age         tel\n",
      "A   kim  20  1111- 2222\n",
      "B   lee  30   2222-1111\n",
      "C  park  35   3333-2222\n",
      "D  jung  25   3333-1111\n",
      "Index(['A', 'B', 'C', 'D'], dtype='object')\n",
      "Index(['name', 'age', 'tel'], dtype='object')\n",
      "   name age         tel\n",
      "A   kim  20  1111- 2222\n",
      "B   lee  30   2222-1111\n",
      "C  park  35   3333-2222\n",
      "D  jung  25   3333-1111\n",
      "       name age         tel\n",
      "count     4   4           4\n",
      "unique    4   4           4\n",
      "top     kim  20  1111- 2222\n",
      "freq      1   1           1\n"
     ]
    }
   ],
   "source": [
    "\n",
    "n = np. array (\n",
    "    [['kim' , 20, '1111- 2222'],\n",
    "     ['lee' , 30 , '2222-1111'], \n",
    "     ['park' , 35 , '3333-2222'], \n",
    "     ['jung' , 25, '3333-1111']] \n",
    ")\n",
    "print (type (n) ) \n",
    "df = pd. DataFrame (n) \n",
    "\n",
    "df . columns = [ 'name', 'age', 'tel' ] \n",
    "df . index = [ 'A', 'B', 'C', 'D' ] \n",
    "print (df) \n",
    "print (df. index) \n",
    "print (df. columns) \n",
    "\n",
    "\n",
    "df = pd. DataFrame ( n, columns = [ 'name' , 'age' , 'tel'] ,  index = ['A', 'B', 'C', 'D']) \n",
    "print (df) \n",
    "\n",
    "print ( df.describe() ) "
   ]
  },
  {
   "cell_type": "code",
   "execution_count": null,
   "id": "8c5e71fd-80e1-4880-a699-c8d667c64edd",
   "metadata": {},
   "outputs": [],
   "source": []
  },
  {
   "cell_type": "code",
   "execution_count": null,
   "id": "2c499d25-3b26-4462-9f0b-278730b961d4",
   "metadata": {},
   "outputs": [],
   "source": []
  },
  {
   "cell_type": "code",
   "execution_count": null,
   "id": "e48eacb8-2145-409d-ad2c-c9fbe45e0a77",
   "metadata": {},
   "outputs": [],
   "source": []
  },
  {
   "cell_type": "code",
   "execution_count": null,
   "id": "db2ca323-bff0-4de7-b68c-215faed1186d",
   "metadata": {},
   "outputs": [],
   "source": []
  },
  {
   "cell_type": "code",
   "execution_count": null,
   "id": "a0033975-acba-4bf5-8d2d-66eb9a6f764b",
   "metadata": {},
   "outputs": [],
   "source": []
  },
  {
   "cell_type": "code",
   "execution_count": null,
   "id": "717e50be-4841-4dfe-8d03-77025f48e099",
   "metadata": {},
   "outputs": [],
   "source": []
  },
  {
   "cell_type": "code",
   "execution_count": null,
   "id": "1be83c21-96d5-479d-bc3c-6bf89886b826",
   "metadata": {},
   "outputs": [],
   "source": []
  },
  {
   "cell_type": "code",
   "execution_count": null,
   "id": "55036fd9-d6b5-4027-b69c-2f3f7e4813be",
   "metadata": {},
   "outputs": [],
   "source": []
  },
  {
   "cell_type": "code",
   "execution_count": null,
   "id": "b26213f4-a02d-4ce6-bb58-d8037dad5f64",
   "metadata": {},
   "outputs": [],
   "source": []
  },
  {
   "cell_type": "code",
   "execution_count": null,
   "id": "62c96d0e-4ccc-4c22-b21c-1fd326d83fb6",
   "metadata": {},
   "outputs": [],
   "source": []
  },
  {
   "cell_type": "code",
   "execution_count": null,
   "id": "1ad91c8e-7b39-443c-b8a8-2f4562202e19",
   "metadata": {},
   "outputs": [],
   "source": []
  },
  {
   "cell_type": "code",
   "execution_count": null,
   "id": "8fe61cab-4370-4bc7-b838-d7abf758467d",
   "metadata": {},
   "outputs": [],
   "source": []
  },
  {
   "cell_type": "code",
   "execution_count": null,
   "id": "45acb172-ee36-4ec5-835f-24791fbbe1d0",
   "metadata": {},
   "outputs": [],
   "source": []
  },
  {
   "cell_type": "code",
   "execution_count": null,
   "id": "ac334947-5fc8-4fc0-9aca-b1c7e34ebce7",
   "metadata": {},
   "outputs": [],
   "source": []
  },
  {
   "cell_type": "code",
   "execution_count": null,
   "id": "6e84748a-45be-4b4c-9268-898be2e682bc",
   "metadata": {},
   "outputs": [],
   "source": []
  },
  {
   "cell_type": "code",
   "execution_count": null,
   "id": "6919ccb8-f5a6-441b-a1df-9a1ae6efcce0",
   "metadata": {},
   "outputs": [],
   "source": []
  },
  {
   "cell_type": "code",
   "execution_count": null,
   "id": "11271598-17c9-4dfd-adae-4626255d52e4",
   "metadata": {},
   "outputs": [],
   "source": []
  },
  {
   "cell_type": "code",
   "execution_count": null,
   "id": "2e9e59b2-8621-428a-9648-1f2e32e822de",
   "metadata": {},
   "outputs": [],
   "source": []
  },
  {
   "cell_type": "code",
   "execution_count": null,
   "id": "c1ea4bcb-1e2e-46c7-9616-b3a024606776",
   "metadata": {},
   "outputs": [],
   "source": []
  },
  {
   "cell_type": "code",
   "execution_count": null,
   "id": "8bcd82e5-4edc-4d59-a552-29b761f0e250",
   "metadata": {},
   "outputs": [],
   "source": []
  },
  {
   "cell_type": "code",
   "execution_count": null,
   "id": "fe65f9c4-30ff-4fc9-be9a-0cfb79b84b6f",
   "metadata": {},
   "outputs": [],
   "source": []
  },
  {
   "cell_type": "code",
   "execution_count": null,
   "id": "952be7a6-5bf0-4f80-95bd-7c8a6069bcd0",
   "metadata": {},
   "outputs": [],
   "source": []
  },
  {
   "cell_type": "code",
   "execution_count": null,
   "id": "8a80b856-8a52-4314-b49d-488ac640f418",
   "metadata": {},
   "outputs": [],
   "source": []
  }
 ],
 "metadata": {
  "kernelspec": {
   "display_name": "Python 3 (ipykernel)",
   "language": "python",
   "name": "python3"
  },
  "language_info": {
   "codemirror_mode": {
    "name": "ipython",
    "version": 3
   },
   "file_extension": ".py",
   "mimetype": "text/x-python",
   "name": "python",
   "nbconvert_exporter": "python",
   "pygments_lexer": "ipython3",
   "version": "3.12.4"
  }
 },
 "nbformat": 4,
 "nbformat_minor": 5
}
