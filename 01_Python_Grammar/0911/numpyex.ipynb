{
 "cells": [
  {
   "cell_type": "markdown",
   "id": "5905ca22-b383-46fc-bde7-4c68420ae20a",
   "metadata": {},
   "source": [
    "# 0911 "
   ]
  },
  {
   "cell_type": "code",
   "execution_count": null,
   "id": "b858fcbd-9304-446d-8065-83d7f573b48e",
   "metadata": {},
   "outputs": [],
   "source": [
    "#numpy \n",
    "#numerical python \n",
    "#고성능 수치 계산을 위한 라이브러리 \n",
    "#벡터나 행렬 연산에 편리한 기능제공 \n",
    "#모든 원소는 같은 자료형 가능 \n",
    "#reshape할 때 데이터 갯수를 맞춰야한다 ( 15개면 3,5 o 3,6 x) \n",
    "#데이터를 가져오고 데이터의 갯수를 반드시 shape룰 확인해야한다.) \n",
    "#(행, 열) "
   ]
  },
  {
   "cell_type": "code",
   "execution_count": 8,
   "id": "ae4282b1-da95-4d90-9987-bb986d36ecb6",
   "metadata": {},
   "outputs": [
    {
     "name": "stdout",
     "output_type": "stream",
     "text": [
      "[ 0  1  2  3  4  5  6  7  8  9 10 11 12 13 14]\n",
      "[[ 0  1  2  3  4]\n",
      " [ 5  6  7  8  9]\n",
      " [10 11 12 13 14]]\n",
      "<class 'numpy.ndarray'>\n",
      "(3, 5)\n",
      "int32\n",
      "2\n",
      "15\n"
     ]
    }
   ],
   "source": [
    "import numpy as np \n",
    "a = np.arange( 15 )\n",
    "print (a)\n",
    "a = a.reshape( 3 , 5, order='f' ) # 함수에 옵션을 줄 수 있음  - c- 행부터 할당(기본값) f -열부터 할당 \n",
    "print( a ) \n",
    "print ( type (a) ) \n",
    "print ( a. shape) #shape는 함수가 아니라 변수 \n",
    "print ( a. dtype) #32바이트 정수로 되어있다 데이터 타입 확인 \n",
    "print ( a. ndim) # 지금 만든 데이터가 몇 차원 데이터인지 확인 \n",
    "print ( a . size) # 데이터 갯수를 알려줌 \n",
    "# print (dir (np)) - 넘파이에서 쓸 수 있는 것들을 다 보여주는 것  dir은 함수인데 쓸 수 있는 메서드, 함수, 변수, 클래스 등을 전체적으로 보여줌 \n"
   ]
  },
  {
   "cell_type": "code",
   "execution_count": 29,
   "id": "e15fc28d-7d6f-45f4-b3b6-579d4485bf3b",
   "metadata": {},
   "outputs": [
    {
     "name": "stdout",
     "output_type": "stream",
     "text": [
      "[-1  2  5 -3  0  7 -9  7 -4 -7]\n",
      "<class 'tuple'>\n",
      "<class 'numpy.ndarray'>\n",
      "<class 'set'>\n",
      "<class 'numpy.ndarray'>\n"
     ]
    }
   ],
   "source": [
    "#넘파이는 딕셔너리는 안됨 \n",
    "b = np.array([-1, 2, 5, -3, 0, 7, -9, 7, -4, -7])  #list -데이터 중복 가능 \n",
    "print(b)\n",
    "\n",
    "t = (10,20,30,40,50) # tuple \n",
    "print (type(t))\n",
    "t = np.array(t)\n",
    "print(type(t)) \n",
    "\n",
    "s =  {10, 20, 30, 40, 50 } # set - 데이터 중복이 안됨 & 간단한 데이터 \n",
    "print (type (s))\n",
    "s = np.array(s)\n",
    "print( type (s))"
   ]
  },
  {
   "cell_type": "code",
   "execution_count": 39,
   "id": "9a9a0108-8cea-4c44-999f-b6d1a083b4a8",
   "metadata": {},
   "outputs": [
    {
     "name": "stdout",
     "output_type": "stream",
     "text": [
      "(10,)\n",
      "1\n",
      "int32\n",
      "[-1  2  5 -3  0  7 -9  7 -4 -7]\n",
      "[1 2 5 3 0 7 9 7 4 7]\n",
      "[1.         1.41421356 2.23606798 1.73205081 0.         2.64575131\n",
      " 3.         2.64575131 2.         2.64575131]\n",
      "[ 1  4 25  9  0 49 81 49 16 49]\n",
      "[False False False False False False False False False False]\n",
      "-3\n",
      "-0.3\n",
      "7\n",
      "-9\n",
      "5\n",
      "6\n",
      "[-9 -7 -4 -3 -1  0  2  5  7  7]\n",
      "[ 7  7  5  2  0 -1 -3 -4 -7 -9]\n"
     ]
    }
   ],
   "source": [
    "print ( b. shape)\n",
    "print ( b . ndim)\n",
    "print ( b.dtype) #int 정수 float 실수가 있다. \n",
    "print (b)\n",
    "\n",
    "#print (help ( np.arange ) )\n",
    "\n",
    "\n",
    "print ( np. abs ( b ) ) # 절대값 \n",
    "print ( np . sqrt ( np.abs(b) ) ) # sqrt 양의 제곱근 - 루트 / 이중함수 가능 \n",
    "print ( np.square (b) ) #제곱\n",
    "print ( np . isnan (b) ) # is함수  nan여부를 물음 nan - true  아니면 false (nan 일때 true, 데이터 값이 있으면 false)\n",
    "print ( np.sum(b)) #합계 \n",
    "print ( np. mean (b) ) #평균\n",
    "print ( np. max(b) ) #최대값 \n",
    "print ( np. min(b) ) #최소값 \n",
    "print (np . argmax (b) ) # 최대값의 인덱스 - 제일 큰 값의 위치 \n",
    "print (np . argmin (b) ) # 최소값의 인덱스 - 제일 작은값의 위치 \n",
    "print (np. sort (b) ) # 정렬 오름차순 -작은 값부터 \n",
    "print (np. sort (b) [::-1] ) # 정렬 내림차순 -큰 값부터 [start : end : step ] -를 step으로 주면"
   ]
  },
  {
   "cell_type": "code",
   "execution_count": null,
   "id": "ecbb077d-2a15-42d1-a354-9a1a18374cb1",
   "metadata": {},
   "outputs": [],
   "source": []
  },
  {
   "cell_type": "code",
   "execution_count": null,
   "id": "c8ff8e9f-68aa-43d7-a93c-328180ffc7ed",
   "metadata": {},
   "outputs": [],
   "source": []
  },
  {
   "cell_type": "code",
   "execution_count": null,
   "id": "10d67eaa-b809-434b-80bb-ceeac021e52e",
   "metadata": {},
   "outputs": [],
   "source": []
  },
  {
   "cell_type": "code",
   "execution_count": null,
   "id": "521b7b90-9f20-4d4f-8492-ca800ba6ea80",
   "metadata": {},
   "outputs": [],
   "source": []
  },
  {
   "cell_type": "code",
   "execution_count": null,
   "id": "1180bb18-52f3-4c8e-a23e-61540b8368be",
   "metadata": {},
   "outputs": [],
   "source": []
  },
  {
   "cell_type": "code",
   "execution_count": null,
   "id": "7291a393-e6f8-4899-878c-ac69c7210fdc",
   "metadata": {},
   "outputs": [],
   "source": []
  },
  {
   "cell_type": "code",
   "execution_count": null,
   "id": "c3505681-e5ef-4d96-96fb-1866712f266c",
   "metadata": {},
   "outputs": [],
   "source": []
  },
  {
   "cell_type": "code",
   "execution_count": null,
   "id": "f71770a2-06a2-4cf0-9748-d0766ffe4fc8",
   "metadata": {},
   "outputs": [],
   "source": []
  },
  {
   "cell_type": "code",
   "execution_count": null,
   "id": "c9f22722-b28b-471c-b673-f746eeb0cf49",
   "metadata": {},
   "outputs": [],
   "source": []
  },
  {
   "cell_type": "code",
   "execution_count": null,
   "id": "8cd204ba-0e43-4558-9d84-352c1721e26c",
   "metadata": {},
   "outputs": [],
   "source": []
  },
  {
   "cell_type": "code",
   "execution_count": null,
   "id": "533d637e-f11f-4a7c-9698-c2a7c1062a1c",
   "metadata": {},
   "outputs": [],
   "source": []
  },
  {
   "cell_type": "code",
   "execution_count": null,
   "id": "00769245-3b2b-491b-b4fc-c55571a8ba81",
   "metadata": {},
   "outputs": [],
   "source": []
  },
  {
   "cell_type": "code",
   "execution_count": null,
   "id": "0e88c33a-6a99-497a-b8b4-26283513b05b",
   "metadata": {},
   "outputs": [],
   "source": []
  }
 ],
 "metadata": {
  "kernelspec": {
   "display_name": "Python 3 (ipykernel)",
   "language": "python",
   "name": "python3"
  },
  "language_info": {
   "codemirror_mode": {
    "name": "ipython",
    "version": 3
   },
   "file_extension": ".py",
   "mimetype": "text/x-python",
   "name": "python",
   "nbconvert_exporter": "python",
   "pygments_lexer": "ipython3",
   "version": "3.12.4"
  }
 },
 "nbformat": 4,
 "nbformat_minor": 5
}
