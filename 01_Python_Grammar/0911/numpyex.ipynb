{
 "cells": [
  {
   "cell_type": "markdown",
   "id": "5905ca22-b383-46fc-bde7-4c68420ae20a",
   "metadata": {},
   "source": [
    "# 0911 "
   ]
  },
  {
   "cell_type": "code",
   "execution_count": 1,
   "id": "b858fcbd-9304-446d-8065-83d7f573b48e",
   "metadata": {},
   "outputs": [],
   "source": [
    "#numpy \n",
    "#numerical python \n",
    "#고성능 수치 계산을 위한 라이브러리 \n",
    "#벡터나 행렬 연산에 편리한 기능제공 \n",
    "#모든 원소는 같은 자료형 가능 \n",
    "#reshape할 때 데이터 갯수를 맞춰야한다 ( 15개면 3,5 o 3,6 x) \n",
    "#데이터를 가져오고 데이터의 갯수를 반드시 shape룰 확인해야한다.) \n",
    "#(행, 열) "
   ]
  },
  {
   "cell_type": "code",
   "execution_count": 2,
   "id": "ae4282b1-da95-4d90-9987-bb986d36ecb6",
   "metadata": {},
   "outputs": [
    {
     "name": "stdout",
     "output_type": "stream",
     "text": [
      "[ 0  1  2  3  4  5  6  7  8  9 10 11 12 13 14]\n",
      "[[ 0  3  6  9 12]\n",
      " [ 1  4  7 10 13]\n",
      " [ 2  5  8 11 14]]\n",
      "<class 'numpy.ndarray'>\n",
      "(3, 5)\n",
      "int32\n",
      "2\n",
      "15\n"
     ]
    }
   ],
   "source": [
    "import numpy as np \n",
    "a = np.arange( 15 )\n",
    "print (a)\n",
    "a = a.reshape( 3 , 5, order='f' ) # 함수에 옵션을 줄 수 있음  - c- 행부터 할당(기본값) f -열부터 할당 \n",
    "print( a ) \n",
    "print ( type (a) ) \n",
    "print ( a. shape) #shape는 함수가 아니라 변수 \n",
    "print ( a. dtype) #32바이트 정수로 되어있다 데이터 타입 확인 \n",
    "print ( a. ndim) # 지금 만든 데이터가 몇 차원 데이터인지 확인 \n",
    "print ( a . size) # 데이터 갯수를 알려줌 \n",
    "# print (dir (np)) - 넘파이에서 쓸 수 있는 것들을 다 보여주는 것  dir은 함수인데 쓸 수 있는 메서드, 함수, 변수, 클래스 등을 전체적으로 보여줌 \n"
   ]
  },
  {
   "cell_type": "code",
   "execution_count": 3,
   "id": "e15fc28d-7d6f-45f4-b3b6-579d4485bf3b",
   "metadata": {},
   "outputs": [
    {
     "name": "stdout",
     "output_type": "stream",
     "text": [
      "[-1  2  5 -3  0  7 -9  7 -4 -7]\n",
      "<class 'tuple'>\n",
      "<class 'numpy.ndarray'>\n",
      "<class 'set'>\n",
      "<class 'numpy.ndarray'>\n"
     ]
    }
   ],
   "source": [
    "#넘파이는 딕셔너리는 안됨 \n",
    "b = np.array([-1, 2, 5, -3, 0, 7, -9, 7, -4, -7])  #list -데이터 중복 가능 \n",
    "print(b)\n",
    "\n",
    "t = (10,20,30,40,50) # tuple \n",
    "print (type(t))\n",
    "t = np.array(t)\n",
    "print(type(t)) \n",
    "\n",
    "s =  {10, 20, 30, 40, 50 } # set - 데이터 중복이 안됨 & 간단한 데이터 \n",
    "print (type (s))\n",
    "s = np.array(s)\n",
    "print( type (s))"
   ]
  },
  {
   "cell_type": "code",
   "execution_count": 4,
   "id": "9a9a0108-8cea-4c44-999f-b6d1a083b4a8",
   "metadata": {},
   "outputs": [
    {
     "name": "stdout",
     "output_type": "stream",
     "text": [
      "(10,)\n",
      "1\n",
      "int32\n",
      "[-1  2  5 -3  0  7 -9  7 -4 -7]\n",
      "[1 2 5 3 0 7 9 7 4 7]\n",
      "[1.         1.41421356 2.23606798 1.73205081 0.         2.64575131\n",
      " 3.         2.64575131 2.         2.64575131]\n",
      "[ 1  4 25  9  0 49 81 49 16 49]\n",
      "[False False False False False False False False False False]\n",
      "-3\n",
      "-0.3\n",
      "7\n",
      "-9\n",
      "5\n",
      "6\n",
      "[-9 -7 -4 -3 -1  0  2  5  7  7]\n",
      "[ 7  7  5  2  0 -1 -3 -4 -7 -9]\n",
      "-0.5\n"
     ]
    }
   ],
   "source": [
    "print ( b. shape)\n",
    "print ( b . ndim)\n",
    "print ( b.dtype) #int 정수 float 실수가 있다. \n",
    "print (b)\n",
    "\n",
    "#print (help ( np.arange ) )\n",
    "\n",
    "\n",
    "print ( np. abs ( b ) ) # 절대값 \n",
    "print ( np . sqrt ( np.abs(b) ) ) # sqrt 양의 제곱근 - 루트 / 이중함수 가능 \n",
    "print ( np.square (b) ) #제곱\n",
    "print ( np . isnan (b) ) # is함수  nan여부를 물음 nan - true  아니면 false (nan 일때 true, 데이터 값이 있으면 false)\n",
    "print ( np.sum(b)) #합계 \n",
    "print ( np. mean (b) ) #평균\n",
    "print ( np. max(b) ) #최대값 \n",
    "print ( np. min(b) ) #최소값 \n",
    "print (np . argmax (b) ) # 최대값의 인덱스 - 제일 큰 값의 위치 \n",
    "print (np . argmin (b) ) # 최소값의 인덱스 - 제일 작은값의 위치 \n",
    "print (np. sort (b) ) # 정렬 오름차순 -작은 값부터 \n",
    "print (np. sort (b) [::-1] ) # 정렬 내림차순 -큰 값부터 [start : end : step ] -를 step으로 주면\n",
    "print (np. median (b) ) #중간값 "
   ]
  },
  {
   "cell_type": "code",
   "execution_count": 5,
   "id": "c8ff8e9f-68aa-43d7-a93c-328180ffc7ed",
   "metadata": {},
   "outputs": [
    {
     "data": {
      "text/plain": [
       "array([[0.8092268 , 0.6642812 , 0.30991038],\n",
       "       [0.90351855, 0.55418166, 0.25968079],\n",
       "       [0.88974199, 0.15381642, 0.14280634]])"
      ]
     },
     "execution_count": 5,
     "metadata": {},
     "output_type": "execute_result"
    }
   ],
   "source": [
    "np. random.rand (3,3) "
   ]
  },
  {
   "cell_type": "code",
   "execution_count": 6,
   "id": "ecbb077d-2a15-42d1-a354-9a1a18374cb1",
   "metadata": {},
   "outputs": [
    {
     "name": "stdout",
     "output_type": "stream",
     "text": [
      "[0. 0. 0.]\n",
      "[[1. 1. 1.]\n",
      " [1. 1. 1.]\n",
      " [1. 1. 1.]]\n"
     ]
    },
    {
     "data": {
      "text/plain": [
       "array([[[ 1,  8, 30],\n",
       "        [15,  3, 26],\n",
       "        [ 3, 37, 33]],\n",
       "\n",
       "       [[ 4, 23, 11],\n",
       "        [ 4, 36, 10],\n",
       "        [34, 15, 15]],\n",
       "\n",
       "       [[25, 39, 18],\n",
       "        [22, 21, 18],\n",
       "        [38, 17, 36]]])"
      ]
     },
     "execution_count": 6,
     "metadata": {},
     "output_type": "execute_result"
    }
   ],
   "source": [
    "c = np. zeros (3)\n",
    "print (c) # 값이 다 0 \n",
    "d = np. ones ((3,3)) # 값이 다 1 \n",
    "print (d)\n",
    "np. random.rand (3,3) \n",
    "np.zeros_like(d)\n",
    "np.ones_like(c)\n",
    "np.random.randint(1,40,(3,3,3))"
   ]
  },
  {
   "cell_type": "code",
   "execution_count": 7,
   "id": "10d67eaa-b809-434b-80bb-ceeac021e52e",
   "metadata": {},
   "outputs": [
    {
     "data": {
      "text/plain": [
       "array([[0.35671324, 0.43565978, 0.17533582],\n",
       "       [0.19834955, 0.33521911, 0.34482813],\n",
       "       [0.90828974, 0.9781378 , 0.05538126]])"
      ]
     },
     "execution_count": 7,
     "metadata": {},
     "output_type": "execute_result"
    }
   ],
   "source": [
    "np. random.rand (3,3) "
   ]
  },
  {
   "cell_type": "code",
   "execution_count": 8,
   "id": "2cd2d209-0a48-480e-abe8-6f9a7903ac8c",
   "metadata": {},
   "outputs": [
    {
     "data": {
      "text/plain": [
       "array([[0., 0., 0.],\n",
       "       [0., 0., 0.],\n",
       "       [0., 0., 0.]])"
      ]
     },
     "execution_count": 8,
     "metadata": {},
     "output_type": "execute_result"
    }
   ],
   "source": [
    "np.zeros_like(d)"
   ]
  },
  {
   "cell_type": "code",
   "execution_count": 9,
   "id": "7eb89de7-539e-4305-8f8d-209a7d17f0b7",
   "metadata": {},
   "outputs": [
    {
     "data": {
      "text/plain": [
       "array([1., 1., 1.])"
      ]
     },
     "execution_count": 9,
     "metadata": {},
     "output_type": "execute_result"
    }
   ],
   "source": [
    "np.ones_like(c)"
   ]
  },
  {
   "cell_type": "code",
   "execution_count": null,
   "id": "8f6304fa-1350-4bd5-a4a9-f3d4a5c5e457",
   "metadata": {},
   "outputs": [],
   "source": []
  },
  {
   "cell_type": "code",
   "execution_count": 10,
   "id": "e7a57a72-03ba-462d-8fd7-8fca2094e58b",
   "metadata": {},
   "outputs": [
    {
     "data": {
      "text/plain": [
       "array([[[20,  8, 39],\n",
       "        [ 5, 28, 24],\n",
       "        [39, 31, 10]],\n",
       "\n",
       "       [[ 8, 16, 16],\n",
       "        [12, 21, 11],\n",
       "        [12,  3, 17]],\n",
       "\n",
       "       [[30, 39,  2],\n",
       "        [10, 23, 16],\n",
       "        [39,  6, 27]]])"
      ]
     },
     "execution_count": 10,
     "metadata": {},
     "output_type": "execute_result"
    }
   ],
   "source": [
    "np.random.randint(1,40,(3,3,3))"
   ]
  },
  {
   "cell_type": "code",
   "execution_count": null,
   "id": "521b7b90-9f20-4d4f-8492-ca800ba6ea80",
   "metadata": {},
   "outputs": [],
   "source": []
  },
  {
   "cell_type": "markdown",
   "id": "0495d4d2-73b9-4025-88d1-415d32851744",
   "metadata": {},
   "source": [
    "# 0912"
   ]
  },
  {
   "cell_type": "code",
   "execution_count": 20,
   "id": "7291a393-e6f8-4899-878c-ac69c7210fdc",
   "metadata": {},
   "outputs": [
    {
     "name": "stdout",
     "output_type": "stream",
     "text": [
      "<class 'list'>\n",
      "<class 'numpy.ndarray'>\n",
      "21\n",
      "[5 7 9]\n",
      "[ 6 15]\n",
      "3.5\n",
      "[2.5 3.5 4.5]\n",
      "[2. 5.]\n",
      "6\n",
      "[4 5 6]\n",
      "[3 6]\n",
      "1.707825127659933\n",
      "2.9166666666666665\n"
     ]
    }
   ],
   "source": [
    "import numpy as np \n",
    "c = [[ 1 ,2,3 ] , [4,5,6]]\n",
    "print(type(c))\n",
    "c= np.array(c)\n",
    "print(type(c))\n",
    "\n",
    "print(np.sum(c) )\n",
    "print(np.sum(c , axis = 0 ) ) # 0은 행이라는 옵션\n",
    "print(np.sum(c , axis = 1 ) ) # 1은 열이라는 옵션\n",
    "print(np.mean(c) ) # 전체평균 \n",
    "print(np.mean(c , axis = 0 ) )# 0은 행끼리 평균 \n",
    "print(np.mean(c , axis = 1 ) ) # 1은 열끼리 평균 \n",
    "print(np.max(c) ) # 전체 최대값\n",
    "print(np.max(c , axis = 0 ) ) # 0은 행에서 최대값\n",
    "print(np.max(c , axis = 1 ) ) # 1은 열에서 최대값 \n",
    "\n",
    "\n",
    "\n",
    "\n",
    "#표준편차 분산 (점과 점사이 거리) \n",
    "print (np.std(c)) #표준편차 \n",
    "print (np. var (c))  #분산 \n",
    "\n",
    "\n",
    "\n"
   ]
  },
  {
   "cell_type": "code",
   "execution_count": 36,
   "id": "c3505681-e5ef-4d96-96fb-1866712f266c",
   "metadata": {},
   "outputs": [
    {
     "name": "stdout",
     "output_type": "stream",
     "text": [
      "[12 22 32 42 52]\n",
      "[11 22 33 44 55]\n",
      "[ 100  400  900 1600 2500]\n",
      "[ -5.44021111  18.25890501 -29.64094872  29.80452642 -13.11874269]\n",
      "[False False False  True  True]\n",
      "[11 22 33 44 55]\n",
      "[ 9 18 27 36 45]\n",
      "[ 10  40  90 160 250]\n",
      "[10. 10. 10. 10. 10.]\n"
     ]
    }
   ],
   "source": [
    "#element wise \n",
    "\n",
    "d = [10,20,30,40,50]\n",
    "#print(d+2) #error \n",
    "d = np. array(d) \n",
    "print (d+2)\n",
    "\n",
    "e = np.array([1,2,3,4,5])\n",
    "print (d+e)\n",
    "print(d**2) \n",
    "\n",
    "\n",
    "print (d * np.sin(d))\n",
    "print(d>35) # 각각의 데이터 크기 비교 \n",
    "print(np.add (d,e)) # +\n",
    "print(np.subtract(d,e)) #- \n",
    "print(np.multiply(d,e)) # x\n",
    "print(np.divide(d,e)) # % "
   ]
  },
  {
   "cell_type": "code",
   "execution_count": null,
   "id": "f71770a2-06a2-4cf0-9748-d0766ffe4fc8",
   "metadata": {},
   "outputs": [],
   "source": []
  },
  {
   "cell_type": "code",
   "execution_count": 56,
   "id": "239c452b-397b-4fc9-98f7-1bf29461404d",
   "metadata": {},
   "outputs": [
    {
     "name": "stdout",
     "output_type": "stream",
     "text": [
      "[[0 0]\n",
      " [3 4]]\n",
      "[[3 4]\n",
      " [5 4]]\n",
      "[[3 4]\n",
      " [5 4]]\n",
      "[[3 4]\n",
      " [5 4]]\n",
      "[0. 0. 0. 0. 0. 0. 0. 0. 0. 0.]\n",
      "[[0. 0. 0. 0. 0.]\n",
      " [0. 0. 0. 0. 0.]\n",
      " [0. 0. 0. 0. 0.]\n",
      " [0. 0. 0. 0. 0.]\n",
      " [0. 0. 0. 0. 0.]]\n",
      "[1. 1. 1. 1. 1. 1. 1. 1. 1. 1.]\n",
      "<class 'numpy.ndarray'>\n",
      "[ 3 62 86 40 41  0 21 16 85 55]\n",
      "15\n",
      "[[0.20403744 0.45169914]\n",
      " [0.31935469 0.40932408]\n",
      " [0.95997962 0.24278963]\n",
      " [0.91270237 0.77717625]\n",
      " [0.98020789 0.51132903]]\n"
     ]
    }
   ],
   "source": [
    "f = np. array([ [0,1] , [1,1]]) \n",
    "g = np. array([ [2,0] , [3,4] ]) \n",
    "print (f*g)\n",
    "print (f @ g)   #행렬곱 \n",
    "\n",
    "print( np. dot (f,g)) #행렬곱 - 연산자로도 할 수 있지만 함수도 있다~ \n",
    "print ( f. dot(g) )  #또한 행렬곱입니다 \n",
    "\n",
    "\n",
    "h = np. zeros(10)\n",
    "print (h) \n",
    "i = np. zeros ( (5,5) )  #반드시 튜플로 생성 \n",
    "print (i) \n",
    "j = np . ones (10)\n",
    "print(j) \n",
    "\n",
    "\n",
    "# np. random.random  0~1 사이의 난수 발생 \n",
    "# np. random . randint 균일분포의 정수 난수 발생 \n",
    "# np . random . rand 0~1사이의 균일 분포 난수 matrix array 생성 \n",
    "# np. random . randn 가우시안 표준 정규분포 난수 matrix array 생성 \n",
    "#np. random.normal 평균, 표준편차, sample 갯수 \n",
    "\n",
    "k = np.random.random(10) * 100\n",
    "k = np.array([int(i) for i in k])\n",
    "print(type (k))\n",
    "print(k)\n",
    "\n",
    "\n",
    "\n",
    "print( np.random.randint (10,20))\n",
    "print ( np. random.rand (5,2) )"
   ]
  },
  {
   "cell_type": "code",
   "execution_count": null,
   "id": "c776532f-505d-41c7-b07e-5cc360f03409",
   "metadata": {},
   "outputs": [],
   "source": [
    "\n"
   ]
  },
  {
   "cell_type": "code",
   "execution_count": 62,
   "id": "3d2c48bd-340e-4e81-a16f-2db446c6ee44",
   "metadata": {},
   "outputs": [
    {
     "name": "stdout",
     "output_type": "stream",
     "text": [
      "[10, 11, 12, 13, 14]\n",
      "[10, 12, 14]\n",
      "[10, 11, 12, 13, 14, 15, 16, 17, 18, 19]\n",
      "[15, 16, 17, 18, 19]\n",
      "[10, 11, 12, 13, 14, 15, 16, 17, 18]\n",
      "[19, 18, 17, 16, 15, 14, 13, 12, 11, 10]\n",
      "[10 11 12 13 14]\n"
     ]
    }
   ],
   "source": [
    "# 슬라이싱 - 리스트 넘파이 판다쓰 다 다르다 \n",
    "m =  [ i for i in range(10,20)]\n",
    "print ( m[0:5]) # [ 시작: 끝-1: 간격]\n",
    "\n",
    "print ( m[0:5:2])\n",
    "print(m[:])\n",
    "print(m[5:])\n",
    "print(m[:-1]) \n",
    "print(m[::-1]) #간격이 -1 거꾸로 출력\n",
    "\n",
    "#ndarray \n",
    "w = np. arange (10,20) \n",
    "print(w[0:5])\n",
    "print (w[0:5:2]) \n",
    "print(W[:-2]) \n",
    "\n",
    "\n"
   ]
  },
  {
   "cell_type": "code",
   "execution_count": 83,
   "id": "747f45c8-b592-4d8c-a9a3-f27aa217ef6d",
   "metadata": {},
   "outputs": [
    {
     "name": "stdout",
     "output_type": "stream",
     "text": [
      "13\n",
      "[[1, 2, 3, 4, 5], [5, 6, 7, 8, 9, 10], [11, 12, 13, 14, 15]]\n",
      "[11, 12, 13, 14, 15]\n",
      "[5, 6]\n",
      "[[1, 2, 3, 4, 5], [5, 6, 7, 8, 9, 10]]\n",
      "[[ 1  2  3  4  5]\n",
      " [ 6  7  8  9 10]\n",
      " [11 12 13 14 15]]\n",
      "13\n",
      "[[ 1  2  3  4  5]\n",
      " [ 6  7  8  9 10]\n",
      " [11 12 13 14 15]]\n",
      "[11 12 13 14 15]\n",
      "[[1 2 3 4 5]]\n",
      "[[1 2]\n",
      " [6 7]]\n",
      "[[ 1  2  3  4  5]\n",
      " [ 6  7  8  9 10]\n",
      " [11 12 13 14 15]]\n",
      "[[1 2 3 4]\n",
      " [6 7 8 9]]\n",
      "13\n",
      "[[15 14 13 12 11]\n",
      " [10  9  8  7  6]\n",
      " [ 5  4  3  2  1]]\n",
      "[[ 1  2  3  4  5]\n",
      " [11 12 13 14 15]]\n",
      "[[ 2  4  5]\n",
      " [ 7  9 10]\n",
      " [12 14 15]]\n"
     ]
    }
   ],
   "source": [
    "r = [ [1,2,3,4,5] , [5,6,7,8,9,10] , [11,12,13,14,15]] \n",
    "print (r [2][2])\n",
    "print(r[:][:]) \n",
    "print(r[2][:]) \n",
    "print(r[1][:2])\n",
    "print(r[:2][:2])\n",
    "#print ( r [:,:]) #에러 \n",
    "\n",
    "\n",
    "\n",
    "\n",
    "\n",
    "s = np.arange (1,16).reshape(3,5)\n",
    "print ( s ) \n",
    "print( s[2][2] ) \n",
    "print (s [:][:]) \n",
    "print( s[2][:] )\n",
    "print( s[:2][:1]) #[[12345]]\n",
    "print( s[:2, :2]) \n",
    "\n",
    "print( s[:,:])\n",
    "print ( s [:-1, :-1])\n",
    "print ( s [2,2])\n",
    "print(s [::-1, ::-1]) \n",
    "\n",
    "print(s [[0,2]]) \n",
    "print (s [:,[1,3,4]])\n",
    "print(( s[[0,2],[3,4]]) #0행 3열 2행 4열 \n",
    "      "
   ]
  },
  {
   "cell_type": "code",
   "execution_count": 84,
   "id": "6b68015f-d41a-4cc0-883f-15ec08949768",
   "metadata": {},
   "outputs": [
    {
     "name": "stdout",
     "output_type": "stream",
     "text": [
      "[[ 1  2  3  4  5]\n",
      " [ 6  7  8  9 10]\n",
      " [11 12 13 14 15]]\n"
     ]
    }
   ],
   "source": [
    "print (s) # 3행 5열 데이터 \n",
    "print (s. T) #5행 3열 "
   ]
  },
  {
   "cell_type": "code",
   "execution_count": 91,
   "id": "7024af70-667e-4a58-8053-5d2f321ed157",
   "metadata": {},
   "outputs": [
    {
     "name": "stdout",
     "output_type": "stream",
     "text": [
      "(1, 4)\n",
      "(2, 5)\n",
      "(3, 6)\n",
      "[(1, 4), (2, 5), (3, 6)]\n",
      "[1, 2, 3, 4, 5, 6]\n",
      "[1, 2, 3, 1, 2, 3]\n",
      "[[60. 79.]\n",
      " [86.  6.]]\n",
      "[[60. 28.]\n",
      " [93. 21.]]\n",
      "[[60. 79. 60. 28.]\n",
      " [86.  6. 93. 21.]]\n",
      "[[60. 79.]\n",
      " [86.  6.]\n",
      " [60. 28.]\n",
      " [93. 21.]]\n",
      "[[62. 81.]\n",
      " [88.  8.]]\n"
     ]
    }
   ],
   "source": [
    "#결합 / 분리 \n",
    "a = [1,2,3] \n",
    "b = [4,5,6] \n",
    "for ab in zip (a,b) : \n",
    "    print (ab) \n",
    "print (list (zip (a,b))) \n",
    "print (a + b) \n",
    "print ( a* 2) \n",
    "#print (a + 2 )\n",
    "\n",
    "\n",
    "\n",
    "c= np.floor(np. random. rand (2,2) * 100)  \n",
    "print (c)\n",
    "\n",
    "\n",
    "d= np.floor(np. random. rand (2,2) * 100)  \n",
    "print (d)\n",
    "print( np.hstack( ( c, d ) ) )\n",
    "print( np.vstack( ( c, d ) ) )\n",
    "print( c + 2 )\n",
    "\n",
    "\n",
    "\n",
    "\n"
   ]
  },
  {
   "cell_type": "code",
   "execution_count": 92,
   "id": "c9f22722-b28b-471c-b673-f746eeb0cf49",
   "metadata": {},
   "outputs": [
    {
     "name": "stdout",
     "output_type": "stream",
     "text": [
      "[[44. 59. 33. 89. 55. 48. 49. 43. 68. 98. 10. 41. 37.  3. 54.]\n",
      " [12. 19. 35. 91. 66. 12. 50. 69. 22. 91. 21. 62. 47. 59. 48.]]\n",
      "[array([[44., 59., 33., 89., 55.],\n",
      "       [12., 19., 35., 91., 66.]]), array([[48., 49., 43., 68., 98.],\n",
      "       [12., 50., 69., 22., 91.]]), array([[10., 41., 37.,  3., 54.],\n",
      "       [21., 62., 47., 59., 48.]])]\n",
      "[[44. 59. 33. 89. 55.]\n",
      " [12. 19. 35. 91. 66.]]\n",
      "[[48. 49. 43. 68. 98.]\n",
      " [12. 50. 69. 22. 91.]]\n",
      "[[10. 41. 37.  3. 54.]\n",
      " [21. 62. 47. 59. 48.]]\n",
      "[[44. 59. 33.]\n",
      " [12. 19. 35.]]\n",
      "[[89. 55. 48. 49.]\n",
      " [91. 66. 12. 50.]]\n",
      "[[43. 68. 98. 10. 41.]\n",
      " [69. 22. 91. 21. 62.]]\n",
      "[[37.  3. 54.]\n",
      " [47. 59. 48.]]\n"
     ]
    }
   ],
   "source": [
    "e = np.floor( np.random.rand( 2, 15 ) * 100 )\n",
    "print( e )\n",
    "print( np.hsplit( e, 3 ) )               # 3개\n",
    "for arr in np.hsplit( e, 3 ) :\n",
    "    print( arr )\n",
    "for arr in np.hsplit( e, ( 3, 7, 12 ) ) :       # [0:3] [3:7] [7:12] [12:]\n",
    "    print( arr )"
   ]
  },
  {
   "cell_type": "code",
   "execution_count": 93,
   "id": "8cd204ba-0e43-4558-9d84-352c1721e26c",
   "metadata": {},
   "outputs": [
    {
     "name": "stdout",
     "output_type": "stream",
     "text": [
      "[1, 2, 'C', 'D', 5]\n",
      "['1' '2' 'C' 'D' '5']\n",
      "['작다' '작다' '크다' '크다' '크다']\n",
      "['참' '참' '거짓' '거짓' '참']\n"
     ]
    }
   ],
   "source": [
    "f = np.array( [ 1, 2, 3, 4, 5 ] )\n",
    "g = np.array( [ 'A', 'B', 'C', 'D', 'E' ] )\n",
    "h = np.array( [ True, True, False, False, True ] )\n",
    "# 삼항연산              조건 ? 참 : 거짓 \n",
    "#                       참 if 조건 else 거짓\n",
    "print( [ x if z else y for x, y, z in zip( f, g, h ) ] )\n",
    "\n",
    "print( np.where( h, f, g ) )\n",
    "print( np.where( f < 3, '작다', '크다' ) )\n",
    "print( np.where( h, '참', '거짓' ) )"
   ]
  },
  {
   "cell_type": "code",
   "execution_count": 94,
   "id": "533d637e-f11f-4a7c-9698-c2a7c1062a1c",
   "metadata": {},
   "outputs": [
    {
     "name": "stdout",
     "output_type": "stream",
     "text": [
      "<class 'numpy.ndarray'>\n",
      "<class 'numpy.lib.npyio.NpzFile'>\n",
      "[0 1 2 3 4 5 6 7 8 9]\n",
      "[ 0  1  2  3  4  5  6  7  8  9 10 11 12 13 14 15 16 17 18 19]\n"
     ]
    }
   ],
   "source": [
    "i = np.arange( 10 )\n",
    "np.save( 'i.npy', i )\n",
    "ii = np.load( 'i.npy' )\n",
    "print( type( ii ) )             \n",
    "\n",
    "j = np.arange( 10 )\n",
    "k = np.arange( 20 )\n",
    "np.savez( 'jk.npz', x=j, y=k )\n",
    "jk = np.load( 'jk.npz' )\n",
    "print( type( jk ) )\n",
    "print( jk['x'] )\n",
    "print( jk['y'] )"
   ]
  },
  {
   "cell_type": "code",
   "execution_count": null,
   "id": "00769245-3b2b-491b-b4fc-c55571a8ba81",
   "metadata": {},
   "outputs": [],
   "source": []
  },
  {
   "cell_type": "code",
   "execution_count": null,
   "id": "0e88c33a-6a99-497a-b8b4-26283513b05b",
   "metadata": {},
   "outputs": [],
   "source": []
  }
 ],
 "metadata": {
  "kernelspec": {
   "display_name": "Python 3 (ipykernel)",
   "language": "python",
   "name": "python3"
  },
  "language_info": {
   "codemirror_mode": {
    "name": "ipython",
    "version": 3
   },
   "file_extension": ".py",
   "mimetype": "text/x-python",
   "name": "python",
   "nbconvert_exporter": "python",
   "pygments_lexer": "ipython3",
   "version": "3.12.4"
  }
 },
 "nbformat": 4,
 "nbformat_minor": 5
}
