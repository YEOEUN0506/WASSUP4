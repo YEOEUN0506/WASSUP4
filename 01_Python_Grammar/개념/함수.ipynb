{
 "cells": [
  {
   "cell_type": "markdown",
   "id": "f3144d5d-eb73-4a09-9627-4d0ed5980393",
   "metadata": {},
   "source": [
    "# 0910"
   ]
  },
  {
   "cell_type": "code",
   "execution_count": null,
   "id": "aa72f986-d9ff-4e2b-8072-d16bef7afa7c",
   "metadata": {},
   "outputs": [],
   "source": [
    ">>> def add(a, b):\n",
    "...     return a+b\n",
    "\n"
   ]
  },
  {
   "cell_type": "code",
   "execution_count": 6,
   "id": "85a92ef1-4acc-414e-892b-18da0592a652",
   "metadata": {},
   "outputs": [
    {
     "name": "stdout",
     "output_type": "stream",
     "text": [
      "7\n"
     ]
    }
   ],
   "source": [
    ">>> def add1(a, b):\n",
    "...     return a+b\n",
    ">>> a = 3\n",
    ">>> b = 4\n",
    ">>> c = add(a, b)  # add(3, 4)의 리턴값을 c에 대입\n",
    ">>> print(c)"
   ]
  },
  {
   "cell_type": "code",
   "execution_count": null,
   "id": "e13b9003-5bf3-4d65-a259-9c4ed7fa71b1",
   "metadata": {},
   "outputs": [],
   "source": [
    "#입력값과 리턴값에 따른 함수의 형태\n",
    "def 함수_이름(매개변수):\n",
    "    수행할_문장\n",
    "    ...\n",
    "    return 리턴값\n"
   ]
  },
  {
   "cell_type": "code",
   "execution_count": 7,
   "id": "dff8515c-2fce-4010-90c3-74bdd8502018",
   "metadata": {},
   "outputs": [
    {
     "ename": "SyntaxError",
     "evalue": "invalid syntax (659742874.py, line 4)",
     "output_type": "error",
     "traceback": [
      "\u001b[1;36m  Cell \u001b[1;32mIn[7], line 4\u001b[1;36m\u001b[0m\n\u001b[1;33m    >>> a = add(3, 4)\u001b[0m\n\u001b[1;37m    ^\u001b[0m\n\u001b[1;31mSyntaxError\u001b[0m\u001b[1;31m:\u001b[0m invalid syntax\n"
     ]
    }
   ],
   "source": [
    "def add(a, b): \n",
    "    result = a + b \n",
    "    return result\n",
    ">>> a = add(3, 4)\n",
    ">>> print(a)"
   ]
  },
  {
   "cell_type": "code",
   "execution_count": 8,
   "id": "123b8013-29cd-4159-b05c-575e67ad1f7a",
   "metadata": {},
   "outputs": [],
   "source": [
    "#입력값이 없는 함수\n",
    ">>> def say(): \n",
    "...     return 'Hi' "
   ]
  },
  {
   "cell_type": "code",
   "execution_count": 9,
   "id": "2f42026c-ef0d-4cab-8730-7d13fb1feb33",
   "metadata": {},
   "outputs": [
    {
     "data": {
      "text/plain": [
       "'Hi'"
      ]
     },
     "execution_count": 9,
     "metadata": {},
     "output_type": "execute_result"
    }
   ],
   "source": [
    "say()"
   ]
  },
  {
   "cell_type": "code",
   "execution_count": null,
   "id": "88be1c04-6f6a-4a8e-a701-3eb3d81b9143",
   "metadata": {},
   "outputs": [],
   "source": [
    "#리턴값이 없는 함수"
   ]
  },
  {
   "cell_type": "code",
   "execution_count": 11,
   "id": "b17654ba-964c-4081-a412-5be40d41aab0",
   "metadata": {},
   "outputs": [
    {
     "name": "stdout",
     "output_type": "stream",
     "text": [
      "3, 4의 합은 7입니다.\n"
     ]
    }
   ],
   "source": [
    ">>> def add2(a, b): \n",
    "...     print(\"%d, %d의 합은 %d입니다.\" % (a, b, a+b))\n",
    "add(3, 4)"
   ]
  },
  {
   "cell_type": "code",
   "execution_count": 13,
   "id": "2ef28ed7-aea3-46b0-8ab2-e37d155365ab",
   "metadata": {},
   "outputs": [
    {
     "ename": "NameError",
     "evalue": "name 'add2' is not defined",
     "output_type": "error",
     "traceback": [
      "\u001b[1;31m---------------------------------------------------------------------------\u001b[0m",
      "\u001b[1;31mNameError\u001b[0m                                 Traceback (most recent call last)",
      "Cell \u001b[1;32mIn[13], line 1\u001b[0m\n\u001b[1;32m----> 1\u001b[0m c \u001b[38;5;241m=\u001b[39m add2(\u001b[38;5;241m3\u001b[39m,\u001b[38;5;241m5\u001b[39m)\n",
      "\u001b[1;31mNameError\u001b[0m: name 'add2' is not defined"
     ]
    }
   ],
   "source": [
    "c = add2(3,5) "
   ]
  },
  {
   "cell_type": "code",
   "execution_count": null,
   "id": "4f44cb54-c07d-4909-869d-38ea9a95aa83",
   "metadata": {},
   "outputs": [],
   "source": [
    "#입력값도, 리턴값도 없는 함수 \n",
    ">>> def say(): \n",
    "...     print('Hi')"
   ]
  },
  {
   "cell_type": "code",
   "execution_count": 1,
   "id": "194f2a6e-47c0-48d1-99b0-b7d279ceeb8f",
   "metadata": {},
   "outputs": [],
   "source": [
    "#매개변수를 지정하여 호출하기"
   ]
  },
  {
   "cell_type": "code",
   "execution_count": 3,
   "id": "25faafa6-34e4-4d55-8bbf-098991f79a34",
   "metadata": {},
   "outputs": [
    {
     "name": "stdout",
     "output_type": "stream",
     "text": [
      "4\n"
     ]
    }
   ],
   "source": [
    ">>> def sub(a, b):\n",
    "...     return a - b\n",
    ">>> result = sub(a=7, b=3)  # a에 7, b에 3을 전달\n",
    ">>> print(result)"
   ]
  },
  {
   "cell_type": "code",
   "execution_count": 4,
   "id": "f5ef791a-dbbe-4ab0-ad7e-6becff377f2a",
   "metadata": {},
   "outputs": [
    {
     "name": "stdout",
     "output_type": "stream",
     "text": [
      "1\n"
     ]
    }
   ],
   "source": [
    ">>> result = sub(a=4, b=3)  # a에 7, b에 3을 전달\n",
    ">>> print(result)"
   ]
  },
  {
   "cell_type": "code",
   "execution_count": null,
   "id": "ea0c5f8d-521f-42ba-a626-ffab1f36593a",
   "metadata": {},
   "outputs": [],
   "source": [
    "#입력값이 몇 개가 될지 모를 때는 어떻게 해야 할까?"
   ]
  },
  {
   "cell_type": "code",
   "execution_count": null,
   "id": "7102e9ab-b4b4-4f34-9f6f-7e806ea3d260",
   "metadata": {},
   "outputs": [],
   "source": [
    "#사용자의 입력이 몇개든 ,전부다 누적해서 더해주는 경우 \n",
    ">>> def add_many(*args): \n",
    "...     result = 0 \n",
    "...     for i in args: \n",
    "...         result = result + i   # *args에 입력받은 모든 값을 더한다.\n",
    "...     return result "
   ]
  },
  {
   "cell_type": "code",
   "execution_count": null,
   "id": "597a47ab-bec9-48ea-a195-350bfe9807e8",
   "metadata": {},
   "outputs": [],
   "source": [
    "## Quiz \n",
    "사용자에게 다수의 입력을 받아서 누적곱 또는 누적합을\n",
    "출력하는 함수를 만들어라 \n",
    ">>> def add_many(*args): \n",
    "    result = 0 \n",
    "    for i in args:\n",
    "        if result = result + i \n",
    "return result "
   ]
  },
  {
   "cell_type": "code",
   "execution_count": null,
   "id": "bff60bda-8a28-4fca-a908-fab52e3a3d45",
   "metadata": {},
   "outputs": [],
   "source": [
    "def cumulative_operation(numbers, operation=\"sum\"):\n",
    "    if operation == \"sum\":\n",
    "        return cumulative_sum(numbers)\n",
    "    elif operation == \"product\":\n",
    "        return cumulative_product(numbers)\n",
    "    else:\n",
    "        return \"지원하지 않는 연산입니다.\"\n",
    "\n",
    "# 예시 입력\n",
    "numbers = [1, 2, 3, 4, 5]\n",
    "print(\"누적합:\", cumulative_operation(numbers, operation=\"sum\"))\n",
    "print(\"누적곱:\", cumulative_operation(numbers, operation=\"product\"))\n"
   ]
  },
  {
   "cell_type": "code",
   "execution_count": null,
   "id": "71826ce1-fd55-4943-b1a9-c9d1fcf69490",
   "metadata": {},
   "outputs": [],
   "source": [
    "def add_mul(option, *args):\n",
    "    if option == 'mul':\n",
    "        data = 1\n",
    "        for i in args:\n",
    "            data = data * i\n",
    "        return data \n",
    "    if option == 'sum':\n",
    "        data = 0\n",
    "        for i in args:\n",
    "            data = data + i\n",
    "        return data \n",
    "\n",
    "add_mul('mul', 1,2,3,4,5) \n",
    "\n"
   ]
  },
  {
   "cell_type": "code",
   "execution_count": null,
   "id": "11b3883e-50b7-4437-b588-0605e4a87401",
   "metadata": {},
   "outputs": [],
   "source": [
    "#키워드 매개변수, kwargs\n",
    "#이번에는 키워드 매개변수에 대해 알아보자. 키워드 매개변수를 사용할 때는 매개변수 앞에 별 2개(**)를 붙인다. 역시 이것도 예제로 알아보자. \n",
    "#먼저 다음과 같은 함수를 작성해 보자."
   ]
  },
  {
   "cell_type": "code",
   "execution_count": 5,
   "id": "473072d3-a5fa-48ab-bd35-ee3ffcae4c1c",
   "metadata": {},
   "outputs": [
    {
     "name": "stdout",
     "output_type": "stream",
     "text": [
      "{'a': 1}\n",
      "{'name': 'foo', 'age': 3}\n"
     ]
    },
    {
     "data": {
      "text/plain": [
       "{'age': 3, 'name': 'foo'}"
      ]
     },
     "execution_count": 5,
     "metadata": {},
     "output_type": "execute_result"
    }
   ],
   "source": [
    ">>> def print_kwargs(**kwargs):\n",
    "...     print(kwargs)\n",
    ">>> print_kwargs(a=1)\n",
    "{'a': 1}\n",
    ">>> print_kwargs(name='foo', age=3)\n",
    "{'age': 3, 'name': 'foo'}"
   ]
  },
  {
   "cell_type": "code",
   "execution_count": 8,
   "id": "fb439484-1fb2-4f70-a0bc-6b6f278ee624",
   "metadata": {},
   "outputs": [
    {
     "data": {
      "text/plain": [
       "(7, 12)"
      ]
     },
     "execution_count": 8,
     "metadata": {},
     "output_type": "execute_result"
    }
   ],
   "source": [
    "#함수의 리턴값은 언제나 하나이다\n",
    ">>> def add_and_mul(a,b): \n",
    "...     return a+b, a*b\n",
    ">>> result = add_and_mul(3,4)\n",
    "add_and_mul(3,4)"
   ]
  },
  {
   "cell_type": "code",
   "execution_count": 9,
   "id": "19e534fa-c47c-4463-bcc3-a91066e73c77",
   "metadata": {},
   "outputs": [],
   "source": [
    ">>> result1, result2 = add_and_mul(3, 4)"
   ]
  },
  {
   "cell_type": "code",
   "execution_count": 11,
   "id": "be1d64f3-fbbd-411e-ad52-ee7893fdf2d5",
   "metadata": {},
   "outputs": [
    {
     "name": "stdout",
     "output_type": "stream",
     "text": [
      "(5, 6)\n"
     ]
    }
   ],
   "source": [
    ">>> result = add_and_mul(2, 3)\n",
    ">>> print(result)\n"
   ]
  },
  {
   "cell_type": "code",
   "execution_count": null,
   "id": "61cb91ca-9b9a-4b49-9740-0cc471efea92",
   "metadata": {},
   "outputs": [],
   "source": [
    "#return의 또 다른 쓰임새"
   ]
  },
  {
   "cell_type": "code",
   "execution_count": 13,
   "id": "82612851-58fe-4231-b798-c3f32e8f4e89",
   "metadata": {},
   "outputs": [
    {
     "ename": "NameError",
     "evalue": "name 'ncik' is not defined",
     "output_type": "error",
     "traceback": [
      "\u001b[1;31m---------------------------------------------------------------------------\u001b[0m",
      "\u001b[1;31mNameError\u001b[0m                                 Traceback (most recent call last)",
      "Cell \u001b[1;32mIn[13], line 5\u001b[0m\n\u001b[0;32m      3\u001b[0m         \u001b[38;5;28;01mreturn\u001b[39;00m \u001b[38;5;124m'\u001b[39m\u001b[38;5;124m옥상으로 따라와\u001b[39m\u001b[38;5;124m'\u001b[39m\n\u001b[0;32m      4\u001b[0m     \u001b[38;5;28mprint\u001b[39m(\u001b[38;5;124mf\u001b[39m\u001b[38;5;124m'\u001b[39m\u001b[38;5;124m나의 별명은 \u001b[39m\u001b[38;5;132;01m{\u001b[39;00mncik\u001b[38;5;132;01m}\u001b[39;00m\u001b[38;5;124m 입니다.\u001b[39m\u001b[38;5;124m'\u001b[39m)\n\u001b[1;32m----> 5\u001b[0m say_nick(\u001b[38;5;124m'\u001b[39m\u001b[38;5;124mdigh\u001b[39m\u001b[38;5;124m'\u001b[39m)\n",
      "Cell \u001b[1;32mIn[13], line 4\u001b[0m, in \u001b[0;36msay_nick\u001b[1;34m(nick)\u001b[0m\n\u001b[0;32m      2\u001b[0m \u001b[38;5;28;01mif\u001b[39;00m nick \u001b[38;5;241m==\u001b[39m \u001b[38;5;124m\"\u001b[39m\u001b[38;5;124m바보\u001b[39m\u001b[38;5;124m\"\u001b[39m: \n\u001b[0;32m      3\u001b[0m     \u001b[38;5;28;01mreturn\u001b[39;00m \u001b[38;5;124m'\u001b[39m\u001b[38;5;124m옥상으로 따라와\u001b[39m\u001b[38;5;124m'\u001b[39m\n\u001b[1;32m----> 4\u001b[0m \u001b[38;5;28mprint\u001b[39m(\u001b[38;5;124mf\u001b[39m\u001b[38;5;124m'\u001b[39m\u001b[38;5;124m나의 별명은 \u001b[39m\u001b[38;5;132;01m{\u001b[39;00mncik\u001b[38;5;132;01m}\u001b[39;00m\u001b[38;5;124m 입니다.\u001b[39m\u001b[38;5;124m'\u001b[39m)\n",
      "\u001b[1;31mNameError\u001b[0m: name 'ncik' is not defined"
     ]
    }
   ],
   "source": [
    "def say_nick(nick):\n",
    "    if nick == '바보': \n",
    "        return '옥상으로 따라와'\n",
    "    print(f'나의 별명은 {nick} 입니다.')"
   ]
  },
  {
   "cell_type": "code",
   "execution_count": 15,
   "id": "68ffcdfd-58be-47c9-8052-3cb90bca53a7",
   "metadata": {},
   "outputs": [
    {
     "ename": "NameError",
     "evalue": "name '바보' is not defined",
     "output_type": "error",
     "traceback": [
      "\u001b[1;31m---------------------------------------------------------------------------\u001b[0m",
      "\u001b[1;31mNameError\u001b[0m                                 Traceback (most recent call last)",
      "Cell \u001b[1;32mIn[15], line 1\u001b[0m\n\u001b[1;32m----> 1\u001b[0m say_nick(바보)\n",
      "\u001b[1;31mNameError\u001b[0m: name '바보' is not defined"
     ]
    }
   ],
   "source": [
    "say_nick(바보)"
   ]
  },
  {
   "cell_type": "code",
   "execution_count": null,
   "id": "855599c8-18b5-40c4-a943-37725fefd0e2",
   "metadata": {},
   "outputs": [],
   "source": [
    "def say_nick(nick):\n",
    "    if nick == '바보': \n",
    "        return '옥상으로 따라와'\n",
    "    print(f'나의 별명은 {nick} 입니다.')"
   ]
  },
  {
   "cell_type": "code",
   "execution_count": 16,
   "id": "e1f31fe7-c649-41af-acf6-38f5bcb138f8",
   "metadata": {},
   "outputs": [
    {
     "data": {
      "text/plain": [
       "'옥상으로 따라와'"
      ]
     },
     "execution_count": 16,
     "metadata": {},
     "output_type": "execute_result"
    }
   ],
   "source": [
    "say_nick('바보') "
   ]
  },
  {
   "cell_type": "code",
   "execution_count": null,
   "id": "9810aec6-9293-47ca-b792-9ffb07eb872c",
   "metadata": {},
   "outputs": [],
   "source": [
    "#함수 안에서 선언한 변수의 효력 범위\n",
    "# vartest.py\n",
    "a = 1\n",
    "def vartest(a):\n",
    "    a = a +1\n",
    "\n",
    "vartest(a)\n",
    "print(a)"
   ]
  },
  {
   "cell_type": "code",
   "execution_count": null,
   "id": "cb1be61e-9975-4af3-8dd7-f0e80358cce6",
   "metadata": {},
   "outputs": [],
   "source": [
    "#함수 안에서 함수 밖의 변수를 변경하는 방법\n",
    "#1. return 사용하기\n",
    "# vartest_return.py\n",
    "a = 1 \n",
    "def vartest(a): \n",
    "    a = a +1 \n",
    "    return a\n",
    "\n",
    "a = vartest(a) \n",
    "print(a)\n"
   ]
  },
  {
   "cell_type": "code",
   "execution_count": null,
   "id": "3cbdf275-347b-411a-b035-8231108e4699",
   "metadata": {},
   "outputs": [],
   "source": [
    "#2. global 명령어 사용하기\n",
    "# vartest_global.py\n",
    "a = 1 \n",
    "def vartest(): \n",
    "    global a \n",
    "    a = a+1\n",
    "\n",
    "vartest() \n",
    "print(a)\n"
   ]
  },
  {
   "cell_type": "code",
   "execution_count": null,
   "id": "455f87e0-8ac4-4f51-a901-4bcc7f4539ea",
   "metadata": {},
   "outputs": [],
   "source": [
    "#lambda 예약어\n",
    ">>> add = lambda a, b: a+b\n",
    ">>> result = add(3, 4)\n",
    ">>> print(result)"
   ]
  },
  {
   "cell_type": "code",
   "execution_count": null,
   "id": "7ba26091-0305-45a1-8d28-5683167dc052",
   "metadata": {},
   "outputs": [],
   "source": [
    ">>> def add(a, b):\n",
    "...     return a+b\n",
    "...\n",
    ">>> result = add(3, 4)\n",
    ">>> print(result)\n",
    "7"
   ]
  },
  {
   "cell_type": "code",
   "execution_count": 17,
   "id": "a4d46465-0b35-4020-a120-ab7a8178cec3",
   "metadata": {},
   "outputs": [],
   "source": [
    "f = open(\"새파일.txt\", 'w')\n",
    "f.close()\n"
   ]
  },
  {
   "cell_type": "code",
   "execution_count": 18,
   "id": "38cd9ad8-f962-43e6-bfe7-37f30a661ef6",
   "metadata": {},
   "outputs": [],
   "source": [
    "f = open(\"새파일.txt\", 'w')\n",
    "for i in range(1,11): \n",
    "    f.write(f'{i}번째 줄입니다.\\n')\n",
    "f.close()"
   ]
  },
  {
   "cell_type": "code",
   "execution_count": 21,
   "id": "dad0bdd5-707b-44e3-b7a3-b09bfc83af5c",
   "metadata": {},
   "outputs": [
    {
     "name": "stdout",
     "output_type": "stream",
     "text": [
      "1번째 줄입니다.\n",
      "\n",
      "2번째 줄입니다.\n",
      "\n",
      "3번째 줄입니다.\n",
      "\n",
      "4번째 줄입니다.\n",
      "\n",
      "5번째 줄입니다.\n",
      "\n"
     ]
    }
   ],
   "source": [
    "#readline 함수 이용하기\n",
    "#첫 번째는 readline 함수를 사용하는 것이다. 다음 예를 살펴보자.\n",
    "f = open(\"새파일.txt\", 'r')\n",
    "for i in range(5):\n",
    "    line = f.readline()\n",
    "    print(line)\n",
    "f.close()"
   ]
  },
  {
   "cell_type": "code",
   "execution_count": 22,
   "id": "4a1a15a7-8aa3-469a-b80b-41dd9cb1eb02",
   "metadata": {},
   "outputs": [
    {
     "name": "stdout",
     "output_type": "stream",
     "text": [
      "['1번째 줄입니다.\\n', '2번째 줄입니다.\\n', '3번째 줄입니다.\\n', '4번째 줄입니다.\\n', '5번째 줄입니다.\\n', '6번째 줄입니다.\\n', '7번째 줄입니다.\\n', '8번째 줄입니다.\\n', '9번째 줄입니다.\\n', '10번째 줄입니다.\\n']\n"
     ]
    }
   ],
   "source": [
    "# read lines 함수 \n",
    "f = open(\"새파일.txt\", 'r')\n",
    "lines = f.readlines()\n",
    "print(lines)"
   ]
  },
  {
   "cell_type": "code",
   "execution_count": 23,
   "id": "75c1350b-fa49-40be-a70f-b29754616c4a",
   "metadata": {},
   "outputs": [
    {
     "name": "stdout",
     "output_type": "stream",
     "text": [
      "1번째 줄입니다.\n",
      "\n",
      "2번째 줄입니다.\n",
      "\n",
      "3번째 줄입니다.\n",
      "\n",
      "4번째 줄입니다.\n",
      "\n",
      "5번째 줄입니다.\n",
      "\n",
      "6번째 줄입니다.\n",
      "\n",
      "7번째 줄입니다.\n",
      "\n",
      "8번째 줄입니다.\n",
      "\n",
      "9번째 줄입니다.\n",
      "\n",
      "10번째 줄입니다.\n",
      "\n"
     ]
    }
   ],
   "source": [
    "f.close()"
   ]
  },
  {
   "cell_type": "code",
   "execution_count": null,
   "id": "4d18028c-b1b0-49d6-b0da-609720200168",
   "metadata": {},
   "outputs": [],
   "source": [
    "## quiz 메모장을 읽어 올때 줄바꿈 1개를 없애보세요 \n",
    "f = open(\"새파일.txt\", 'r')\n",
    "lines = f.readlines()\n",
    "for line in lines : \n",
    "    print(line.strip())\n",
    "print(lines)"
   ]
  },
  {
   "cell_type": "code",
   "execution_count": 24,
   "id": "51bc4e19-d6de-4e36-a27b-699225189ee6",
   "metadata": {},
   "outputs": [
    {
     "name": "stdout",
     "output_type": "stream",
     "text": [
      "1번째 줄입니다.\n",
      "2번째 줄입니다.\n",
      "3번째 줄입니다.\n",
      "4번째 줄입니다.\n",
      "5번째 줄입니다.\n",
      "6번째 줄입니다.\n",
      "7번째 줄입니다.\n",
      "8번째 줄입니다.\n",
      "9번째 줄입니다.\n",
      "10번째 줄입니다.\n",
      "\n"
     ]
    }
   ],
   "source": [
    "#read함수 \n",
    "f = open(\"새파일.txt\", 'r')\n",
    "data = f.read()\n",
    "print(data)\n",
    "f.close()"
   ]
  },
  {
   "cell_type": "code",
   "execution_count": null,
   "id": "c573378b-dafa-4af0-946c-ffb712473745",
   "metadata": {},
   "outputs": [],
   "source": [
    "#파일에 새로운 내용 추가하기 "
   ]
  },
  {
   "cell_type": "code",
   "execution_count": 29,
   "id": "f9b81e88-acaa-4868-9390-a158ab621aaa",
   "metadata": {},
   "outputs": [],
   "source": [
    "f = open(\"새파일.txt\", 'a')\n",
    "for i in range(11,21): \n",
    "    data = f'{i}번째 줄입니다.\\n'\n",
    "    f.write(data)\n",
    "f.close()"
   ]
  },
  {
   "cell_type": "code",
   "execution_count": null,
   "id": "c8908398-2431-45c1-a0da-03442b19a0e6",
   "metadata": {},
   "outputs": [],
   "source": [
    "# read lines 함수 \n",
    "f = open(\"새파일.txt\", 'r')\n",
    "lines = f.readlines()\n",
    "print(lines)"
   ]
  },
  {
   "cell_type": "code",
   "execution_count": null,
   "id": "b1aee1e1-ab00-43ae-a980-828908500f69",
   "metadata": {},
   "outputs": [],
   "source": []
  },
  {
   "cell_type": "code",
   "execution_count": null,
   "id": "406dd2a3-b171-47eb-9c33-2941fc27cb20",
   "metadata": {},
   "outputs": [],
   "source": [
    "f = open(\"foo.txt\", 'w')\n",
    "f.write(\"Life is too short, you need python\")\n",
    "f.close()"
   ]
  },
  {
   "cell_type": "code",
   "execution_count": null,
   "id": "1dd45415-1547-487e-91ee-3c23108060c2",
   "metadata": {},
   "outputs": [],
   "source": [
    "with open(\"foo.txt\", 'w') as f:\n",
    "    f.write(\"Life is too short, you need python\")"
   ]
  },
  {
   "cell_type": "code",
   "execution_count": null,
   "id": "ecb4474d-5cc7-4105-baab-dd89d4a74140",
   "metadata": {},
   "outputs": [],
   "source": []
  },
  {
   "cell_type": "code",
   "execution_count": null,
   "id": "c31375fe-1cf4-4bd0-9975-66092a36a76d",
   "metadata": {},
   "outputs": [],
   "source": []
  },
  {
   "cell_type": "code",
   "execution_count": null,
   "id": "e82c5f12-7c1c-48bc-bb21-fcda7fe1c824",
   "metadata": {},
   "outputs": [],
   "source": []
  },
  {
   "cell_type": "code",
   "execution_count": null,
   "id": "0f0b088a-f86e-4cf0-8996-57fd1c9cad6d",
   "metadata": {},
   "outputs": [],
   "source": []
  },
  {
   "cell_type": "code",
   "execution_count": null,
   "id": "6bf904c8-04b5-4b4d-899b-8a34cab73a4e",
   "metadata": {},
   "outputs": [],
   "source": []
  },
  {
   "cell_type": "code",
   "execution_count": null,
   "id": "cc97dc2f-15b6-436b-a292-edd2f7465d48",
   "metadata": {},
   "outputs": [],
   "source": []
  },
  {
   "cell_type": "code",
   "execution_count": null,
   "id": "73ce646f-d283-44d0-9af4-3093e57805cb",
   "metadata": {},
   "outputs": [],
   "source": []
  },
  {
   "cell_type": "code",
   "execution_count": null,
   "id": "bbb6eb00-e8af-43d1-8868-4a2678d86ff8",
   "metadata": {},
   "outputs": [],
   "source": []
  },
  {
   "cell_type": "code",
   "execution_count": null,
   "id": "bca2eada-3bfc-45c2-9dc6-1efb789922ce",
   "metadata": {},
   "outputs": [],
   "source": []
  },
  {
   "cell_type": "code",
   "execution_count": null,
   "id": "503b2f27-691b-4ebf-9c95-6cf0c6c87c0a",
   "metadata": {},
   "outputs": [],
   "source": []
  },
  {
   "cell_type": "code",
   "execution_count": null,
   "id": "00dec692-bed7-44ae-85ce-2ba85d4b22b7",
   "metadata": {},
   "outputs": [],
   "source": []
  },
  {
   "cell_type": "code",
   "execution_count": null,
   "id": "ca9edfda-dc5e-4f2e-9791-591d41ce96ca",
   "metadata": {},
   "outputs": [],
   "source": []
  },
  {
   "cell_type": "code",
   "execution_count": null,
   "id": "5ae624e6-3dc3-41aa-be5d-963bca6441d9",
   "metadata": {},
   "outputs": [],
   "source": []
  }
 ],
 "metadata": {
  "kernelspec": {
   "display_name": "Python 3 (ipykernel)",
   "language": "python",
   "name": "python3"
  },
  "language_info": {
   "codemirror_mode": {
    "name": "ipython",
    "version": 3
   },
   "file_extension": ".py",
   "mimetype": "text/x-python",
   "name": "python",
   "nbconvert_exporter": "python",
   "pygments_lexer": "ipython3",
   "version": "3.12.4"
  }
 },
 "nbformat": 4,
 "nbformat_minor": 5
}
