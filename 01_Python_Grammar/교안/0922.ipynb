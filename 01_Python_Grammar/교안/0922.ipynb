{
 "cells": [
  {
   "cell_type": "markdown",
   "id": "ed87bb43-5e44-4698-9ec5-aa4fdf683e35",
   "metadata": {},
   "source": [
    "# 0922유튭보고 공부하기 "
   ]
  },
  {
   "cell_type": "code",
   "execution_count": 1,
   "id": "16af54cb-a129-4656-8307-9ee4938d6fa0",
   "metadata": {},
   "outputs": [
    {
     "data": {
      "text/plain": [
       "list"
      ]
     },
     "execution_count": 1,
     "metadata": {},
     "output_type": "execute_result"
    }
   ],
   "source": [
    "import pandas as pd\n",
    "arr = [0, 1, 2, 3]\n",
    "type(arr)"
   ]
  },
  {
   "cell_type": "code",
   "execution_count": 2,
   "id": "40c03e2c-e168-415f-9850-0969c412ee47",
   "metadata": {},
   "outputs": [
    {
     "data": {
      "text/plain": [
       "0    0\n",
       "1    1\n",
       "2    2\n",
       "3    3\n",
       "dtype: int64"
      ]
     },
     "execution_count": 2,
     "metadata": {},
     "output_type": "execute_result"
    }
   ],
   "source": [
    "s = pd.Series(arr)\n",
    "s"
   ]
  },
  {
   "cell_type": "code",
   "execution_count": 3,
   "id": "376191db-5c37-4e2d-923a-6948f3dfd041",
   "metadata": {},
   "outputs": [
    {
     "data": {
      "text/plain": [
       "pandas.core.series.Series"
      ]
     },
     "execution_count": 3,
     "metadata": {},
     "output_type": "execute_result"
    }
   ],
   "source": [
    "type(s)"
   ]
  },
  {
   "cell_type": "code",
   "execution_count": 5,
   "id": "f5b0f111-a8ed-4633-ae9a-10ea9985d8c9",
   "metadata": {},
   "outputs": [
    {
     "data": {
      "text/plain": [
       "월    100\n",
       "화    200\n",
       "수    300\n",
       "dtype: int64"
      ]
     },
     "execution_count": 5,
     "metadata": {},
     "output_type": "execute_result"
    }
   ],
   "source": [
    "data = [100, 200, 300]\n",
    "index = [\"월\" , \"화\", \"수\"]\n",
    "s= pd.Series(data, index) \n",
    "s"
   ]
  },
  {
   "cell_type": "code",
   "execution_count": 6,
   "id": "07a3cfa7-8c91-4ea1-b1c6-d762c6d6702a",
   "metadata": {},
   "outputs": [
    {
     "data": {
      "text/plain": [
       "메로나    500\n",
       "누가바    800\n",
       "빠삐코    200\n",
       "dtype: int64"
      ]
     },
     "execution_count": 6,
     "metadata": {},
     "output_type": "execute_result"
    }
   ],
   "source": [
    "data = [500, 800, 200]\n",
    "index = [\"메로나\" , \"누가바\", \"빠삐코\"]\n",
    "s= pd.Series(data, index) \n",
    "s"
   ]
  },
  {
   "cell_type": "code",
   "execution_count": null,
   "id": "21dc8e47-55ad-4c66-8b30-3d964d66fae4",
   "metadata": {},
   "outputs": [],
   "source": []
  },
  {
   "cell_type": "code",
   "execution_count": null,
   "id": "623828a4-1fe9-4f31-a876-d14613027fa0",
   "metadata": {},
   "outputs": [],
   "source": [
    "# 판다스 인덱싱 & 슬라이싱 "
   ]
  },
  {
   "cell_type": "code",
   "execution_count": 7,
   "id": "5d35757c-1606-4ab0-b5e4-eafeeb053184",
   "metadata": {},
   "outputs": [
    {
     "data": {
      "text/plain": [
       "월    100\n",
       "화    200\n",
       "수    300\n",
       "dtype: int64"
      ]
     },
     "execution_count": 7,
     "metadata": {},
     "output_type": "execute_result"
    }
   ],
   "source": [
    "import pandas as pd \n",
    "\n",
    "\n",
    "\n",
    "data = [100, 200, 300]\n",
    "index = [\"월\" , \"화\", \"수\"]\n",
    "s= pd.Series(data, index) \n",
    "s"
   ]
  },
  {
   "cell_type": "code",
   "execution_count": 9,
   "id": "a702fee7-1791-402c-9bb5-535b6d644a08",
   "metadata": {},
   "outputs": [
    {
     "data": {
      "text/plain": [
       "100"
      ]
     },
     "execution_count": 9,
     "metadata": {},
     "output_type": "execute_result"
    }
   ],
   "source": [
    "s.iloc[0]"
   ]
  },
  {
   "cell_type": "code",
   "execution_count": 10,
   "id": "ce4a3a82-1939-4c53-8453-2bff77171f75",
   "metadata": {},
   "outputs": [
    {
     "data": {
      "text/plain": [
       "100"
      ]
     },
     "execution_count": 10,
     "metadata": {},
     "output_type": "execute_result"
    }
   ],
   "source": [
    "s.loc[\"월\"]"
   ]
  },
  {
   "cell_type": "code",
   "execution_count": 12,
   "id": "3a8aa711-2e82-4e4b-a808-c267c934e0ca",
   "metadata": {},
   "outputs": [
    {
     "data": {
      "text/plain": [
       "월    100\n",
       "화    200\n",
       "dtype: int64"
      ]
     },
     "execution_count": 12,
     "metadata": {},
     "output_type": "execute_result"
    }
   ],
   "source": [
    "s.iloc[0:2]"
   ]
  },
  {
   "cell_type": "code",
   "execution_count": 13,
   "id": "36b5b231-b910-4857-95dc-ea043a7c7a2c",
   "metadata": {},
   "outputs": [
    {
     "data": {
      "text/plain": [
       "화    200\n",
       "수    300\n",
       "dtype: int64"
      ]
     },
     "execution_count": 13,
     "metadata": {},
     "output_type": "execute_result"
    }
   ],
   "source": [
    "s.loc[\"화\":\"수\"]"
   ]
  },
  {
   "cell_type": "code",
   "execution_count": 14,
   "id": "0137242c-3a8a-4aed-abf8-fcc7b2185de7",
   "metadata": {},
   "outputs": [
    {
     "data": {
      "text/plain": [
       "월    100\n",
       "수    300\n",
       "dtype: int64"
      ]
     },
     "execution_count": 14,
     "metadata": {},
     "output_type": "execute_result"
    }
   ],
   "source": [
    "s.iloc[[0, 2]]"
   ]
  },
  {
   "cell_type": "code",
   "execution_count": null,
   "id": "08707980-28fb-4ed7-8b7e-9d6978e8cf67",
   "metadata": {},
   "outputs": [],
   "source": []
  },
  {
   "cell_type": "code",
   "execution_count": null,
   "id": "828f9b89-1fad-488b-bb9a-4ef64e034bdb",
   "metadata": {},
   "outputs": [],
   "source": [
    "#판다스 시리즈 추가, 삭제, 수정 "
   ]
  },
  {
   "cell_type": "code",
   "execution_count": 16,
   "id": "220f2cf1-1a43-4b9e-add9-4ad5e2d5b36e",
   "metadata": {},
   "outputs": [
    {
     "name": "stdout",
     "output_type": "stream",
     "text": [
      "월    100\n",
      "화    200\n",
      "수    300\n",
      "목    400\n",
      "dtype: int64\n"
     ]
    }
   ],
   "source": [
    "import pandas as pd \n",
    "\n",
    "data = [100, 200, 300]\n",
    "index = [\"월\" , \"화\", \"수\"]\n",
    "s= pd.Series(data, index) \n",
    "\n",
    "s.loc[\"목\"] = 400 \n",
    "print(s)"
   ]
  },
  {
   "cell_type": "code",
   "execution_count": 18,
   "id": "e5827345-b4e1-4605-ba5d-0c27e50c597e",
   "metadata": {},
   "outputs": [
    {
     "data": {
      "text/plain": [
       "화    200\n",
       "수    300\n",
       "dtype: int64"
      ]
     },
     "execution_count": 18,
     "metadata": {},
     "output_type": "execute_result"
    }
   ],
   "source": [
    "import pandas as pd \n",
    "\n",
    "data = [100, 200, 300]\n",
    "index = [\"월\" , \"화\", \"수\"]\n",
    "s= pd.Series(data, index) \n",
    "\n",
    "s1 = s.drop('월')\n",
    "s1"
   ]
  },
  {
   "cell_type": "code",
   "execution_count": null,
   "id": "766394d2-0477-4196-a549-1fdea6cfebbd",
   "metadata": {},
   "outputs": [],
   "source": [
    "# seris 연산 "
   ]
  },
  {
   "cell_type": "code",
   "execution_count": 24,
   "id": "838c4ffd-8ccb-468a-bef8-8d7827122e30",
   "metadata": {},
   "outputs": [
    {
     "data": {
      "text/plain": [
       "1    300\n",
       "2    400\n",
       "3    500\n",
       "dtype: int64"
      ]
     },
     "execution_count": 24,
     "metadata": {},
     "output_type": "execute_result"
    }
   ],
   "source": [
    "#연습문제 \n",
    "import pandas as pd \n",
    "저가 = pd.Series([10, 200, 200, 400, 600])\n",
    "고가 = pd.Series([100, 300, 400, 500, 600])\n",
    "cond = (고가 - 저가) >= 100 \n",
    "고가[cond]"
   ]
  },
  {
   "cell_type": "code",
   "execution_count": null,
   "id": "f80b9f61-cb3c-4a84-b8f0-0c95923e664d",
   "metadata": {},
   "outputs": [],
   "source": []
  },
  {
   "cell_type": "code",
   "execution_count": null,
   "id": "73a64763-1912-45d4-b5bc-9375cd594fde",
   "metadata": {},
   "outputs": [],
   "source": [
    "#데이타 프레임 생성 \n"
   ]
  },
  {
   "cell_type": "code",
   "execution_count": 1,
   "id": "9b480716-3dac-4880-9b99-0e2c44878b7e",
   "metadata": {},
   "outputs": [
    {
     "data": {
      "text/html": [
       "<div>\n",
       "<style scoped>\n",
       "    .dataframe tbody tr th:only-of-type {\n",
       "        vertical-align: middle;\n",
       "    }\n",
       "\n",
       "    .dataframe tbody tr th {\n",
       "        vertical-align: top;\n",
       "    }\n",
       "\n",
       "    .dataframe thead th {\n",
       "        text-align: right;\n",
       "    }\n",
       "</style>\n",
       "<table border=\"1\" class=\"dataframe\">\n",
       "  <thead>\n",
       "    <tr style=\"text-align: right;\">\n",
       "      <th></th>\n",
       "      <th>시가</th>\n",
       "      <th>고가</th>\n",
       "      <th>저가</th>\n",
       "      <th>종가</th>\n",
       "    </tr>\n",
       "  </thead>\n",
       "  <tbody>\n",
       "    <tr>\n",
       "      <th>비트코인</th>\n",
       "      <td>980</td>\n",
       "      <td>990</td>\n",
       "      <td>920</td>\n",
       "      <td>930</td>\n",
       "    </tr>\n",
       "    <tr>\n",
       "      <th>리플</th>\n",
       "      <td>200</td>\n",
       "      <td>300</td>\n",
       "      <td>180</td>\n",
       "      <td>180</td>\n",
       "    </tr>\n",
       "    <tr>\n",
       "      <th>이더리움</th>\n",
       "      <td>300</td>\n",
       "      <td>500</td>\n",
       "      <td>300</td>\n",
       "      <td>400</td>\n",
       "    </tr>\n",
       "  </tbody>\n",
       "</table>\n",
       "</div>"
      ],
      "text/plain": [
       "       시가   고가   저가   종가\n",
       "비트코인  980  990  920  930\n",
       "리플    200  300  180  180\n",
       "이더리움  300  500  300  400"
      ]
     },
     "execution_count": 1,
     "metadata": {},
     "output_type": "execute_result"
    }
   ],
   "source": [
    "import pandas as pd \n",
    "data = {\n",
    "    '시가' : [980, 200, 300],\n",
    "    '고가' : [990, 300, 500],\n",
    "    '저가' : [920, 180,300],\n",
    "    '종가' : [930, 180, 400]\n",
    "}\n",
    "index = ['비트코인', '리플', '이더리움']\n",
    "\n",
    "df = pd.DataFrame(data , index)\n",
    "df"
   ]
  },
  {
   "cell_type": "code",
   "execution_count": null,
   "id": "fc61d201-a0a8-47b8-821d-0908b8da066b",
   "metadata": {},
   "outputs": [],
   "source": []
  },
  {
   "cell_type": "code",
   "execution_count": null,
   "id": "442336a1-bee6-4cd3-a542-b6994b9432d8",
   "metadata": {},
   "outputs": [],
   "source": [
    "#ㅇㅇㅇ"
   ]
  },
  {
   "cell_type": "code",
   "execution_count": 2,
   "id": "36bd2060-e0cb-4d11-8158-820eabcf6722",
   "metadata": {},
   "outputs": [
    {
     "data": {
      "text/html": [
       "<div>\n",
       "<style scoped>\n",
       "    .dataframe tbody tr th:only-of-type {\n",
       "        vertical-align: middle;\n",
       "    }\n",
       "\n",
       "    .dataframe tbody tr th {\n",
       "        vertical-align: top;\n",
       "    }\n",
       "\n",
       "    .dataframe thead th {\n",
       "        text-align: right;\n",
       "    }\n",
       "</style>\n",
       "<table border=\"1\" class=\"dataframe\">\n",
       "  <thead>\n",
       "    <tr style=\"text-align: right;\">\n",
       "      <th></th>\n",
       "      <th>종목명</th>\n",
       "      <th>현재가</th>\n",
       "      <th>등락률</th>\n",
       "    </tr>\n",
       "  </thead>\n",
       "  <tbody>\n",
       "    <tr>\n",
       "      <th>037730</th>\n",
       "      <td>3R</td>\n",
       "      <td>1510</td>\n",
       "      <td>7.36</td>\n",
       "    </tr>\n",
       "    <tr>\n",
       "      <th>036360</th>\n",
       "      <td>3SOFT</td>\n",
       "      <td>1790</td>\n",
       "      <td>1.65</td>\n",
       "    </tr>\n",
       "    <tr>\n",
       "      <th>005760</th>\n",
       "      <td>ACTS</td>\n",
       "      <td>1185</td>\n",
       "      <td>1.28</td>\n",
       "    </tr>\n",
       "  </tbody>\n",
       "</table>\n",
       "</div>"
      ],
      "text/plain": [
       "          종목명   현재가   등락률\n",
       "037730     3R  1510  7.36\n",
       "036360  3SOFT  1790  1.65\n",
       "005760   ACTS  1185  1.28"
      ]
     },
     "execution_count": 2,
     "metadata": {},
     "output_type": "execute_result"
    }
   ],
   "source": [
    "from pandas import DataFrame\n",
    "\n",
    "data = [\n",
    "    ['3R', 1510, 7.36],\n",
    "    ['3SOFT', 1790, 1.65],\n",
    "    ['ACTS', 1185, 1.28]\n",
    "]\n",
    "\n",
    "index = ['037730', '036360', '005760']\n",
    "columns = ['종목명', '현재가', '등락률']\n",
    "\n",
    "df = DataFrame(data=data, index=index, columns=columns)\n",
    "df"
   ]
  },
  {
   "cell_type": "code",
   "execution_count": 3,
   "id": "54fab7a1-efa7-4312-b243-b2a407d54a82",
   "metadata": {},
   "outputs": [
    {
     "data": {
      "text/plain": [
       "1790"
      ]
     },
     "execution_count": 3,
     "metadata": {},
     "output_type": "execute_result"
    }
   ],
   "source": [
    "df.iloc[1,1]"
   ]
  },
  {
   "cell_type": "code",
   "execution_count": 4,
   "id": "4b38105c-6aed-4168-b42d-bc03b2aac812",
   "metadata": {},
   "outputs": [
    {
     "data": {
      "text/plain": [
       "1790"
      ]
     },
     "execution_count": 4,
     "metadata": {},
     "output_type": "execute_result"
    }
   ],
   "source": [
    "df.loc['036360', '현재가']"
   ]
  },
  {
   "cell_type": "code",
   "execution_count": 5,
   "id": "049a5232-72ab-4381-beb4-f81ef26143db",
   "metadata": {},
   "outputs": [
    {
     "data": {
      "text/plain": [
       "7.36"
      ]
     },
     "execution_count": 5,
     "metadata": {},
     "output_type": "execute_result"
    }
   ],
   "source": [
    "df.iloc[0,2]"
   ]
  },
  {
   "cell_type": "code",
   "execution_count": 6,
   "id": "c354e2f4-1f8a-4a6a-bb82-8852e0a0f786",
   "metadata": {},
   "outputs": [
    {
     "data": {
      "text/html": [
       "<div>\n",
       "<style scoped>\n",
       "    .dataframe tbody tr th:only-of-type {\n",
       "        vertical-align: middle;\n",
       "    }\n",
       "\n",
       "    .dataframe tbody tr th {\n",
       "        vertical-align: top;\n",
       "    }\n",
       "\n",
       "    .dataframe thead th {\n",
       "        text-align: right;\n",
       "    }\n",
       "</style>\n",
       "<table border=\"1\" class=\"dataframe\">\n",
       "  <thead>\n",
       "    <tr style=\"text-align: right;\">\n",
       "      <th></th>\n",
       "      <th>종목명</th>\n",
       "      <th>현재가</th>\n",
       "    </tr>\n",
       "  </thead>\n",
       "  <tbody>\n",
       "    <tr>\n",
       "      <th>037730</th>\n",
       "      <td>3R</td>\n",
       "      <td>1510</td>\n",
       "    </tr>\n",
       "    <tr>\n",
       "      <th>036360</th>\n",
       "      <td>3SOFT</td>\n",
       "      <td>1790</td>\n",
       "    </tr>\n",
       "  </tbody>\n",
       "</table>\n",
       "</div>"
      ],
      "text/plain": [
       "          종목명   현재가\n",
       "037730     3R  1510\n",
       "036360  3SOFT  1790"
      ]
     },
     "execution_count": 6,
     "metadata": {},
     "output_type": "execute_result"
    }
   ],
   "source": [
    "df.iloc[[0,1] , [0,1] ]"
   ]
  },
  {
   "cell_type": "code",
   "execution_count": null,
   "id": "1933e376-1689-4b16-8bbe-d6a43e1cc5f2",
   "metadata": {},
   "outputs": [],
   "source": []
  },
  {
   "cell_type": "code",
   "execution_count": null,
   "id": "0f02de87-6bdf-47ca-a288-3ddbe54de53b",
   "metadata": {},
   "outputs": [],
   "source": [
    "#데이터 추가 "
   ]
  },
  {
   "cell_type": "code",
   "execution_count": 11,
   "id": "897f3698-0d90-4891-9d2f-b977b42ef80e",
   "metadata": {},
   "outputs": [
    {
     "name": "stdout",
     "output_type": "stream",
     "text": [
      "Requirement already satisfied: pyupbit in c:\\users\\user\\anaconda3\\lib\\site-packages (0.2.34)\n",
      "Requirement already satisfied: pyjwt>=2.0.0 in c:\\users\\user\\anaconda3\\lib\\site-packages (from pyupbit) (2.8.0)\n",
      "Requirement already satisfied: pandas in c:\\users\\user\\anaconda3\\lib\\site-packages (from pyupbit) (2.2.2)\n",
      "Requirement already satisfied: requests in c:\\users\\user\\anaconda3\\lib\\site-packages (from pyupbit) (2.32.2)\n",
      "Requirement already satisfied: websockets in c:\\users\\user\\anaconda3\\lib\\site-packages (from pyupbit) (13.1)\n",
      "Requirement already satisfied: numpy>=1.26.0 in c:\\users\\user\\anaconda3\\lib\\site-packages (from pandas->pyupbit) (1.26.4)\n",
      "Requirement already satisfied: python-dateutil>=2.8.2 in c:\\users\\user\\anaconda3\\lib\\site-packages (from pandas->pyupbit) (2.9.0.post0)\n",
      "Requirement already satisfied: pytz>=2020.1 in c:\\users\\user\\anaconda3\\lib\\site-packages (from pandas->pyupbit) (2024.1)\n",
      "Requirement already satisfied: tzdata>=2022.7 in c:\\users\\user\\anaconda3\\lib\\site-packages (from pandas->pyupbit) (2023.3)\n",
      "Requirement already satisfied: charset-normalizer<4,>=2 in c:\\users\\user\\anaconda3\\lib\\site-packages (from requests->pyupbit) (2.0.4)\n",
      "Requirement already satisfied: idna<4,>=2.5 in c:\\users\\user\\anaconda3\\lib\\site-packages (from requests->pyupbit) (3.7)\n",
      "Requirement already satisfied: urllib3<3,>=1.21.1 in c:\\users\\user\\anaconda3\\lib\\site-packages (from requests->pyupbit) (2.2.2)\n",
      "Requirement already satisfied: certifi>=2017.4.17 in c:\\users\\user\\anaconda3\\lib\\site-packages (from requests->pyupbit) (2024.6.2)\n",
      "Requirement already satisfied: six>=1.5 in c:\\users\\user\\anaconda3\\lib\\site-packages (from python-dateutil>=2.8.2->pandas->pyupbit) (1.16.0)\n"
     ]
    }
   ],
   "source": [
    "!pip install pyupbit"
   ]
  },
  {
   "cell_type": "code",
   "execution_count": 13,
   "id": "86370b87-1e07-43c1-87cd-7d98ceb8283d",
   "metadata": {},
   "outputs": [
    {
     "data": {
      "text/html": [
       "<div>\n",
       "<style scoped>\n",
       "    .dataframe tbody tr th:only-of-type {\n",
       "        vertical-align: middle;\n",
       "    }\n",
       "\n",
       "    .dataframe tbody tr th {\n",
       "        vertical-align: top;\n",
       "    }\n",
       "\n",
       "    .dataframe thead th {\n",
       "        text-align: right;\n",
       "    }\n",
       "</style>\n",
       "<table border=\"1\" class=\"dataframe\">\n",
       "  <thead>\n",
       "    <tr style=\"text-align: right;\">\n",
       "      <th></th>\n",
       "      <th>open</th>\n",
       "      <th>high</th>\n",
       "      <th>low</th>\n",
       "      <th>close</th>\n",
       "      <th>volume</th>\n",
       "      <th>value</th>\n",
       "      <th>range</th>\n",
       "    </tr>\n",
       "  </thead>\n",
       "  <tbody>\n",
       "    <tr>\n",
       "      <th>2024-03-07 09:00:00</th>\n",
       "      <td>93325000.0</td>\n",
       "      <td>95678000.0</td>\n",
       "      <td>92670000.0</td>\n",
       "      <td>94060000.0</td>\n",
       "      <td>5792.492528</td>\n",
       "      <td>5.449383e+11</td>\n",
       "      <td>3008000.0</td>\n",
       "    </tr>\n",
       "    <tr>\n",
       "      <th>2024-03-08 09:00:00</th>\n",
       "      <td>94044000.0</td>\n",
       "      <td>98543000.0</td>\n",
       "      <td>94000000.0</td>\n",
       "      <td>96237000.0</td>\n",
       "      <td>8721.933220</td>\n",
       "      <td>8.352094e+11</td>\n",
       "      <td>4543000.0</td>\n",
       "    </tr>\n",
       "    <tr>\n",
       "      <th>2024-03-09 09:00:00</th>\n",
       "      <td>96237000.0</td>\n",
       "      <td>96420000.0</td>\n",
       "      <td>95120000.0</td>\n",
       "      <td>95946000.0</td>\n",
       "      <td>3946.681689</td>\n",
       "      <td>3.785361e+11</td>\n",
       "      <td>1300000.0</td>\n",
       "    </tr>\n",
       "    <tr>\n",
       "      <th>2024-03-10 09:00:00</th>\n",
       "      <td>95946000.0</td>\n",
       "      <td>98445000.0</td>\n",
       "      <td>95904000.0</td>\n",
       "      <td>97495000.0</td>\n",
       "      <td>5997.985803</td>\n",
       "      <td>5.845918e+11</td>\n",
       "      <td>2541000.0</td>\n",
       "    </tr>\n",
       "    <tr>\n",
       "      <th>2024-03-11 09:00:00</th>\n",
       "      <td>97501000.0</td>\n",
       "      <td>101940000.0</td>\n",
       "      <td>95132000.0</td>\n",
       "      <td>100404000.0</td>\n",
       "      <td>14017.568149</td>\n",
       "      <td>1.394028e+12</td>\n",
       "      <td>6808000.0</td>\n",
       "    </tr>\n",
       "    <tr>\n",
       "      <th>...</th>\n",
       "      <td>...</td>\n",
       "      <td>...</td>\n",
       "      <td>...</td>\n",
       "      <td>...</td>\n",
       "      <td>...</td>\n",
       "      <td>...</td>\n",
       "      <td>...</td>\n",
       "    </tr>\n",
       "    <tr>\n",
       "      <th>2024-09-18 09:00:00</th>\n",
       "      <td>81116000.0</td>\n",
       "      <td>82618000.0</td>\n",
       "      <td>80008000.0</td>\n",
       "      <td>82604000.0</td>\n",
       "      <td>3362.150138</td>\n",
       "      <td>2.726561e+11</td>\n",
       "      <td>2610000.0</td>\n",
       "    </tr>\n",
       "    <tr>\n",
       "      <th>2024-09-19 09:00:00</th>\n",
       "      <td>82602000.0</td>\n",
       "      <td>85000000.0</td>\n",
       "      <td>82286000.0</td>\n",
       "      <td>83892000.0</td>\n",
       "      <td>4549.027346</td>\n",
       "      <td>3.803974e+11</td>\n",
       "      <td>2714000.0</td>\n",
       "    </tr>\n",
       "    <tr>\n",
       "      <th>2024-09-20 09:00:00</th>\n",
       "      <td>83891000.0</td>\n",
       "      <td>85478000.0</td>\n",
       "      <td>83377000.0</td>\n",
       "      <td>84385000.0</td>\n",
       "      <td>3257.118299</td>\n",
       "      <td>2.752178e+11</td>\n",
       "      <td>2101000.0</td>\n",
       "    </tr>\n",
       "    <tr>\n",
       "      <th>2024-09-21 09:00:00</th>\n",
       "      <td>84384000.0</td>\n",
       "      <td>84750000.0</td>\n",
       "      <td>84000000.0</td>\n",
       "      <td>84425000.0</td>\n",
       "      <td>1066.570673</td>\n",
       "      <td>8.995294e+10</td>\n",
       "      <td>750000.0</td>\n",
       "    </tr>\n",
       "    <tr>\n",
       "      <th>2024-09-22 09:00:00</th>\n",
       "      <td>84429000.0</td>\n",
       "      <td>84510000.0</td>\n",
       "      <td>84000000.0</td>\n",
       "      <td>84200000.0</td>\n",
       "      <td>386.126181</td>\n",
       "      <td>3.252390e+10</td>\n",
       "      <td>510000.0</td>\n",
       "    </tr>\n",
       "  </tbody>\n",
       "</table>\n",
       "<p>200 rows × 7 columns</p>\n",
       "</div>"
      ],
      "text/plain": [
       "                           open         high         low        close  \\\n",
       "2024-03-07 09:00:00  93325000.0   95678000.0  92670000.0   94060000.0   \n",
       "2024-03-08 09:00:00  94044000.0   98543000.0  94000000.0   96237000.0   \n",
       "2024-03-09 09:00:00  96237000.0   96420000.0  95120000.0   95946000.0   \n",
       "2024-03-10 09:00:00  95946000.0   98445000.0  95904000.0   97495000.0   \n",
       "2024-03-11 09:00:00  97501000.0  101940000.0  95132000.0  100404000.0   \n",
       "...                         ...          ...         ...          ...   \n",
       "2024-09-18 09:00:00  81116000.0   82618000.0  80008000.0   82604000.0   \n",
       "2024-09-19 09:00:00  82602000.0   85000000.0  82286000.0   83892000.0   \n",
       "2024-09-20 09:00:00  83891000.0   85478000.0  83377000.0   84385000.0   \n",
       "2024-09-21 09:00:00  84384000.0   84750000.0  84000000.0   84425000.0   \n",
       "2024-09-22 09:00:00  84429000.0   84510000.0  84000000.0   84200000.0   \n",
       "\n",
       "                           volume         value      range  \n",
       "2024-03-07 09:00:00   5792.492528  5.449383e+11  3008000.0  \n",
       "2024-03-08 09:00:00   8721.933220  8.352094e+11  4543000.0  \n",
       "2024-03-09 09:00:00   3946.681689  3.785361e+11  1300000.0  \n",
       "2024-03-10 09:00:00   5997.985803  5.845918e+11  2541000.0  \n",
       "2024-03-11 09:00:00  14017.568149  1.394028e+12  6808000.0  \n",
       "...                           ...           ...        ...  \n",
       "2024-09-18 09:00:00   3362.150138  2.726561e+11  2610000.0  \n",
       "2024-09-19 09:00:00   4549.027346  3.803974e+11  2714000.0  \n",
       "2024-09-20 09:00:00   3257.118299  2.752178e+11  2101000.0  \n",
       "2024-09-21 09:00:00   1066.570673  8.995294e+10   750000.0  \n",
       "2024-09-22 09:00:00    386.126181  3.252390e+10   510000.0  \n",
       "\n",
       "[200 rows x 7 columns]"
      ]
     },
     "execution_count": 13,
     "metadata": {},
     "output_type": "execute_result"
    }
   ],
   "source": [
    "import pyupbit\n",
    "\n",
    "df = pyupbit.get_ohlcv(\"KRW-BTC\")\n",
    "df['range'] = df['high'] - df['low']\n",
    "df\n"
   ]
  },
  {
   "cell_type": "code",
   "execution_count": 14,
   "id": "24efc11d-a486-49d6-b4a2-870a2393d7be",
   "metadata": {},
   "outputs": [
    {
     "data": {
      "text/html": [
       "<div>\n",
       "<style scoped>\n",
       "    .dataframe tbody tr th:only-of-type {\n",
       "        vertical-align: middle;\n",
       "    }\n",
       "\n",
       "    .dataframe tbody tr th {\n",
       "        vertical-align: top;\n",
       "    }\n",
       "\n",
       "    .dataframe thead th {\n",
       "        text-align: right;\n",
       "    }\n",
       "</style>\n",
       "<table border=\"1\" class=\"dataframe\">\n",
       "  <thead>\n",
       "    <tr style=\"text-align: right;\">\n",
       "      <th></th>\n",
       "      <th>open</th>\n",
       "      <th>high</th>\n",
       "      <th>low</th>\n",
       "      <th>close</th>\n",
       "      <th>volume</th>\n",
       "      <th>value</th>\n",
       "      <th>range</th>\n",
       "    </tr>\n",
       "  </thead>\n",
       "  <tbody>\n",
       "    <tr>\n",
       "      <th>2024-03-07 09:00:00</th>\n",
       "      <td>93325000.0</td>\n",
       "      <td>95678000.0</td>\n",
       "      <td>92670000.0</td>\n",
       "      <td>94060000.0</td>\n",
       "      <td>5792.492528</td>\n",
       "      <td>5.449383e+11</td>\n",
       "      <td>3008000.0</td>\n",
       "    </tr>\n",
       "    <tr>\n",
       "      <th>2024-03-08 09:00:00</th>\n",
       "      <td>94044000.0</td>\n",
       "      <td>98543000.0</td>\n",
       "      <td>94000000.0</td>\n",
       "      <td>96237000.0</td>\n",
       "      <td>8721.933220</td>\n",
       "      <td>8.352094e+11</td>\n",
       "      <td>4543000.0</td>\n",
       "    </tr>\n",
       "    <tr>\n",
       "      <th>2024-03-09 09:00:00</th>\n",
       "      <td>96237000.0</td>\n",
       "      <td>96420000.0</td>\n",
       "      <td>95120000.0</td>\n",
       "      <td>95946000.0</td>\n",
       "      <td>3946.681689</td>\n",
       "      <td>3.785361e+11</td>\n",
       "      <td>1300000.0</td>\n",
       "    </tr>\n",
       "    <tr>\n",
       "      <th>2024-03-10 09:00:00</th>\n",
       "      <td>95946000.0</td>\n",
       "      <td>98445000.0</td>\n",
       "      <td>95904000.0</td>\n",
       "      <td>97495000.0</td>\n",
       "      <td>5997.985803</td>\n",
       "      <td>5.845918e+11</td>\n",
       "      <td>2541000.0</td>\n",
       "    </tr>\n",
       "    <tr>\n",
       "      <th>2024-03-11 09:00:00</th>\n",
       "      <td>97501000.0</td>\n",
       "      <td>101940000.0</td>\n",
       "      <td>95132000.0</td>\n",
       "      <td>100404000.0</td>\n",
       "      <td>14017.568149</td>\n",
       "      <td>1.394028e+12</td>\n",
       "      <td>6808000.0</td>\n",
       "    </tr>\n",
       "  </tbody>\n",
       "</table>\n",
       "</div>"
      ],
      "text/plain": [
       "                           open         high         low        close  \\\n",
       "2024-03-07 09:00:00  93325000.0   95678000.0  92670000.0   94060000.0   \n",
       "2024-03-08 09:00:00  94044000.0   98543000.0  94000000.0   96237000.0   \n",
       "2024-03-09 09:00:00  96237000.0   96420000.0  95120000.0   95946000.0   \n",
       "2024-03-10 09:00:00  95946000.0   98445000.0  95904000.0   97495000.0   \n",
       "2024-03-11 09:00:00  97501000.0  101940000.0  95132000.0  100404000.0   \n",
       "\n",
       "                           volume         value      range  \n",
       "2024-03-07 09:00:00   5792.492528  5.449383e+11  3008000.0  \n",
       "2024-03-08 09:00:00   8721.933220  8.352094e+11  4543000.0  \n",
       "2024-03-09 09:00:00   3946.681689  3.785361e+11  1300000.0  \n",
       "2024-03-10 09:00:00   5997.985803  5.845918e+11  2541000.0  \n",
       "2024-03-11 09:00:00  14017.568149  1.394028e+12  6808000.0  "
      ]
     },
     "execution_count": 14,
     "metadata": {},
     "output_type": "execute_result"
    }
   ],
   "source": [
    "df.head()"
   ]
  },
  {
   "cell_type": "code",
   "execution_count": 16,
   "id": "96aa7818-e341-4f32-81c3-1a044f23791e",
   "metadata": {},
   "outputs": [
    {
     "data": {
      "text/html": [
       "<div>\n",
       "<style scoped>\n",
       "    .dataframe tbody tr th:only-of-type {\n",
       "        vertical-align: middle;\n",
       "    }\n",
       "\n",
       "    .dataframe tbody tr th {\n",
       "        vertical-align: top;\n",
       "    }\n",
       "\n",
       "    .dataframe thead th {\n",
       "        text-align: right;\n",
       "    }\n",
       "</style>\n",
       "<table border=\"1\" class=\"dataframe\">\n",
       "  <thead>\n",
       "    <tr style=\"text-align: right;\">\n",
       "      <th></th>\n",
       "      <th>open</th>\n",
       "      <th>high</th>\n",
       "      <th>low</th>\n",
       "      <th>close</th>\n",
       "      <th>volume</th>\n",
       "      <th>value</th>\n",
       "      <th>range</th>\n",
       "    </tr>\n",
       "  </thead>\n",
       "  <tbody>\n",
       "    <tr>\n",
       "      <th>2024-03-07 09:00:00</th>\n",
       "      <td>93325000.0</td>\n",
       "      <td>95678000.0</td>\n",
       "      <td>92670000.0</td>\n",
       "      <td>94060000.0</td>\n",
       "      <td>5792.492528</td>\n",
       "      <td>5.449383e+11</td>\n",
       "      <td>3008000.0</td>\n",
       "    </tr>\n",
       "    <tr>\n",
       "      <th>2024-03-08 09:00:00</th>\n",
       "      <td>94044000.0</td>\n",
       "      <td>98543000.0</td>\n",
       "      <td>94000000.0</td>\n",
       "      <td>96237000.0</td>\n",
       "      <td>8721.933220</td>\n",
       "      <td>8.352094e+11</td>\n",
       "      <td>4543000.0</td>\n",
       "    </tr>\n",
       "    <tr>\n",
       "      <th>2024-03-09 09:00:00</th>\n",
       "      <td>96237000.0</td>\n",
       "      <td>96420000.0</td>\n",
       "      <td>95120000.0</td>\n",
       "      <td>95946000.0</td>\n",
       "      <td>3946.681689</td>\n",
       "      <td>3.785361e+11</td>\n",
       "      <td>1300000.0</td>\n",
       "    </tr>\n",
       "    <tr>\n",
       "      <th>2024-03-10 09:00:00</th>\n",
       "      <td>95946000.0</td>\n",
       "      <td>98445000.0</td>\n",
       "      <td>95904000.0</td>\n",
       "      <td>97495000.0</td>\n",
       "      <td>5997.985803</td>\n",
       "      <td>5.845918e+11</td>\n",
       "      <td>2541000.0</td>\n",
       "    </tr>\n",
       "    <tr>\n",
       "      <th>2024-03-11 09:00:00</th>\n",
       "      <td>97501000.0</td>\n",
       "      <td>101940000.0</td>\n",
       "      <td>95132000.0</td>\n",
       "      <td>100404000.0</td>\n",
       "      <td>14017.568149</td>\n",
       "      <td>1.394028e+12</td>\n",
       "      <td>6808000.0</td>\n",
       "    </tr>\n",
       "  </tbody>\n",
       "</table>\n",
       "</div>"
      ],
      "text/plain": [
       "                           open         high         low        close  \\\n",
       "2024-03-07 09:00:00  93325000.0   95678000.0  92670000.0   94060000.0   \n",
       "2024-03-08 09:00:00  94044000.0   98543000.0  94000000.0   96237000.0   \n",
       "2024-03-09 09:00:00  96237000.0   96420000.0  95120000.0   95946000.0   \n",
       "2024-03-10 09:00:00  95946000.0   98445000.0  95904000.0   97495000.0   \n",
       "2024-03-11 09:00:00  97501000.0  101940000.0  95132000.0  100404000.0   \n",
       "\n",
       "                           volume         value      range  \n",
       "2024-03-07 09:00:00   5792.492528  5.449383e+11  3008000.0  \n",
       "2024-03-08 09:00:00   8721.933220  8.352094e+11  4543000.0  \n",
       "2024-03-09 09:00:00   3946.681689  3.785361e+11  1300000.0  \n",
       "2024-03-10 09:00:00   5997.985803  5.845918e+11  2541000.0  \n",
       "2024-03-11 09:00:00  14017.568149  1.394028e+12  6808000.0  "
      ]
     },
     "execution_count": 16,
     "metadata": {},
     "output_type": "execute_result"
    }
   ],
   "source": [
    "df['range'] = df['high'] - df['low']\n",
    "df.head ()"
   ]
  },
  {
   "cell_type": "code",
   "execution_count": 17,
   "id": "dc0688f7-8246-45b6-8ba3-e01e8df6c252",
   "metadata": {},
   "outputs": [
    {
     "data": {
      "text/html": [
       "<div>\n",
       "<style scoped>\n",
       "    .dataframe tbody tr th:only-of-type {\n",
       "        vertical-align: middle;\n",
       "    }\n",
       "\n",
       "    .dataframe tbody tr th {\n",
       "        vertical-align: top;\n",
       "    }\n",
       "\n",
       "    .dataframe thead th {\n",
       "        text-align: right;\n",
       "    }\n",
       "</style>\n",
       "<table border=\"1\" class=\"dataframe\">\n",
       "  <thead>\n",
       "    <tr style=\"text-align: right;\">\n",
       "      <th></th>\n",
       "      <th>open</th>\n",
       "      <th>high</th>\n",
       "      <th>low</th>\n",
       "      <th>close</th>\n",
       "      <th>volume</th>\n",
       "      <th>value</th>\n",
       "    </tr>\n",
       "  </thead>\n",
       "  <tbody>\n",
       "    <tr>\n",
       "      <th>2024-03-07 09:00:00</th>\n",
       "      <td>93325000.0</td>\n",
       "      <td>95678000.0</td>\n",
       "      <td>92670000.0</td>\n",
       "      <td>94060000.0</td>\n",
       "      <td>5792.492528</td>\n",
       "      <td>5.449383e+11</td>\n",
       "    </tr>\n",
       "    <tr>\n",
       "      <th>2024-03-08 09:00:00</th>\n",
       "      <td>94044000.0</td>\n",
       "      <td>98543000.0</td>\n",
       "      <td>94000000.0</td>\n",
       "      <td>96237000.0</td>\n",
       "      <td>8721.933220</td>\n",
       "      <td>8.352094e+11</td>\n",
       "    </tr>\n",
       "    <tr>\n",
       "      <th>2024-03-09 09:00:00</th>\n",
       "      <td>96237000.0</td>\n",
       "      <td>96420000.0</td>\n",
       "      <td>95120000.0</td>\n",
       "      <td>95946000.0</td>\n",
       "      <td>3946.681689</td>\n",
       "      <td>3.785361e+11</td>\n",
       "    </tr>\n",
       "    <tr>\n",
       "      <th>2024-03-10 09:00:00</th>\n",
       "      <td>95946000.0</td>\n",
       "      <td>98445000.0</td>\n",
       "      <td>95904000.0</td>\n",
       "      <td>97495000.0</td>\n",
       "      <td>5997.985803</td>\n",
       "      <td>5.845918e+11</td>\n",
       "    </tr>\n",
       "    <tr>\n",
       "      <th>2024-03-11 09:00:00</th>\n",
       "      <td>97501000.0</td>\n",
       "      <td>101940000.0</td>\n",
       "      <td>95132000.0</td>\n",
       "      <td>100404000.0</td>\n",
       "      <td>14017.568149</td>\n",
       "      <td>1.394028e+12</td>\n",
       "    </tr>\n",
       "    <tr>\n",
       "      <th>...</th>\n",
       "      <td>...</td>\n",
       "      <td>...</td>\n",
       "      <td>...</td>\n",
       "      <td>...</td>\n",
       "      <td>...</td>\n",
       "      <td>...</td>\n",
       "    </tr>\n",
       "    <tr>\n",
       "      <th>2024-09-18 09:00:00</th>\n",
       "      <td>81116000.0</td>\n",
       "      <td>82618000.0</td>\n",
       "      <td>80008000.0</td>\n",
       "      <td>82604000.0</td>\n",
       "      <td>3362.150138</td>\n",
       "      <td>2.726561e+11</td>\n",
       "    </tr>\n",
       "    <tr>\n",
       "      <th>2024-09-19 09:00:00</th>\n",
       "      <td>82602000.0</td>\n",
       "      <td>85000000.0</td>\n",
       "      <td>82286000.0</td>\n",
       "      <td>83892000.0</td>\n",
       "      <td>4549.027346</td>\n",
       "      <td>3.803974e+11</td>\n",
       "    </tr>\n",
       "    <tr>\n",
       "      <th>2024-09-20 09:00:00</th>\n",
       "      <td>83891000.0</td>\n",
       "      <td>85478000.0</td>\n",
       "      <td>83377000.0</td>\n",
       "      <td>84385000.0</td>\n",
       "      <td>3257.118299</td>\n",
       "      <td>2.752178e+11</td>\n",
       "    </tr>\n",
       "    <tr>\n",
       "      <th>2024-09-21 09:00:00</th>\n",
       "      <td>84384000.0</td>\n",
       "      <td>84750000.0</td>\n",
       "      <td>84000000.0</td>\n",
       "      <td>84425000.0</td>\n",
       "      <td>1066.570673</td>\n",
       "      <td>8.995294e+10</td>\n",
       "    </tr>\n",
       "    <tr>\n",
       "      <th>2024-09-22 09:00:00</th>\n",
       "      <td>84429000.0</td>\n",
       "      <td>84510000.0</td>\n",
       "      <td>84000000.0</td>\n",
       "      <td>84168000.0</td>\n",
       "      <td>386.446698</td>\n",
       "      <td>3.255088e+10</td>\n",
       "    </tr>\n",
       "  </tbody>\n",
       "</table>\n",
       "<p>200 rows × 6 columns</p>\n",
       "</div>"
      ],
      "text/plain": [
       "                           open         high         low        close  \\\n",
       "2024-03-07 09:00:00  93325000.0   95678000.0  92670000.0   94060000.0   \n",
       "2024-03-08 09:00:00  94044000.0   98543000.0  94000000.0   96237000.0   \n",
       "2024-03-09 09:00:00  96237000.0   96420000.0  95120000.0   95946000.0   \n",
       "2024-03-10 09:00:00  95946000.0   98445000.0  95904000.0   97495000.0   \n",
       "2024-03-11 09:00:00  97501000.0  101940000.0  95132000.0  100404000.0   \n",
       "...                         ...          ...         ...          ...   \n",
       "2024-09-18 09:00:00  81116000.0   82618000.0  80008000.0   82604000.0   \n",
       "2024-09-19 09:00:00  82602000.0   85000000.0  82286000.0   83892000.0   \n",
       "2024-09-20 09:00:00  83891000.0   85478000.0  83377000.0   84385000.0   \n",
       "2024-09-21 09:00:00  84384000.0   84750000.0  84000000.0   84425000.0   \n",
       "2024-09-22 09:00:00  84429000.0   84510000.0  84000000.0   84168000.0   \n",
       "\n",
       "                           volume         value  \n",
       "2024-03-07 09:00:00   5792.492528  5.449383e+11  \n",
       "2024-03-08 09:00:00   8721.933220  8.352094e+11  \n",
       "2024-03-09 09:00:00   3946.681689  3.785361e+11  \n",
       "2024-03-10 09:00:00   5997.985803  5.845918e+11  \n",
       "2024-03-11 09:00:00  14017.568149  1.394028e+12  \n",
       "...                           ...           ...  \n",
       "2024-09-18 09:00:00   3362.150138  2.726561e+11  \n",
       "2024-09-19 09:00:00   4549.027346  3.803974e+11  \n",
       "2024-09-20 09:00:00   3257.118299  2.752178e+11  \n",
       "2024-09-21 09:00:00   1066.570673  8.995294e+10  \n",
       "2024-09-22 09:00:00    386.446698  3.255088e+10  \n",
       "\n",
       "[200 rows x 6 columns]"
      ]
     },
     "execution_count": 17,
     "metadata": {},
     "output_type": "execute_result"
    }
   ],
   "source": [
    "import pyupbit\n",
    "\n",
    "df = pyupbit.get_ohlcv(\"KRW-BTC\")\n",
    "df2 = df.drop('volume', axis =1) \n",
    "df"
   ]
  },
  {
   "cell_type": "code",
   "execution_count": null,
   "id": "c613606c-5127-491f-96fa-afebee767680",
   "metadata": {},
   "outputs": [],
   "source": [
    "#시계열 데이터 "
   ]
  },
  {
   "cell_type": "code",
   "execution_count": null,
   "id": "c97aac60-1cf8-4aad-890e-27e94e9af0b8",
   "metadata": {},
   "outputs": [],
   "source": [
    "import pandas as pd\n",
    "\n",
    "date = [\"2021-04-09\"]\n",
    "index = pd.to_datetime(date)\n",
    "\n",
    "print(type(date))\n",
    "print(type(index))\n"
   ]
  },
  {
   "cell_type": "code",
   "execution_count": null,
   "id": "51c4437d-c406-4acd-ab57-feeb83457fff",
   "metadata": {},
   "outputs": [],
   "source": [
    "<class 'list'>\n",
    "<class 'pandas.core.indexes.datetimes.DatetimeIndex'>\n"
   ]
  },
  {
   "cell_type": "code",
   "execution_count": null,
   "id": "d0b6dd79-a592-4474-a1ff-dd9c57456326",
   "metadata": {},
   "outputs": [],
   "source": []
  },
  {
   "cell_type": "code",
   "execution_count": null,
   "id": "57589389-44a5-4913-b48d-1a8a70e7a65d",
   "metadata": {},
   "outputs": [],
   "source": [
    "import pandas as pd\n",
    "\n",
    "date = \"2021-04-09\"\n",
    "index = pd.to_datetime(date)\n",
    "\n",
    "print(type(date))\n",
    "print(type(index))\n"
   ]
  },
  {
   "cell_type": "code",
   "execution_count": null,
   "id": "0bfa226c-072f-4627-809f-f3e91901f512",
   "metadata": {},
   "outputs": [],
   "source": [
    "<class 'str'>\n",
    "<class 'pandas._libs.tslibs.timestamps.Timestamp'>\n"
   ]
  },
  {
   "cell_type": "code",
   "execution_count": null,
   "id": "a654e220-cd2c-4fa9-a32e-a2c5aa8b2da2",
   "metadata": {},
   "outputs": [],
   "source": []
  },
  {
   "cell_type": "code",
   "execution_count": 18,
   "id": "4e7701c0-449a-4f15-a9c2-935763570354",
   "metadata": {},
   "outputs": [
    {
     "data": {
      "text/plain": [
       "pandas._libs.tslibs.timestamps.Timestamp"
      ]
     },
     "execution_count": 18,
     "metadata": {},
     "output_type": "execute_result"
    }
   ],
   "source": [
    "import pandas as pd\n",
    "\n",
    "date = \"2021-09-22\"\n",
    "dt = pd.to_datetime(date)\n",
    "type(date)\n",
    "type(dt)"
   ]
  },
  {
   "cell_type": "code",
   "execution_count": null,
   "id": "98e83a2f-7053-4395-af37-328d0dd8c6b1",
   "metadata": {},
   "outputs": [],
   "source": []
  },
  {
   "cell_type": "code",
   "execution_count": 19,
   "id": "a2a3bdf9-a475-418b-b4b0-b4cb08a40aa0",
   "metadata": {},
   "outputs": [],
   "source": [
    "#데이터 프레임 연산 "
   ]
  },
  {
   "cell_type": "code",
   "execution_count": 21,
   "id": "baa46866-5c20-441a-b083-116b0b73d1d4",
   "metadata": {},
   "outputs": [
    {
     "data": {
      "text/html": [
       "<div>\n",
       "<style scoped>\n",
       "    .dataframe tbody tr th:only-of-type {\n",
       "        vertical-align: middle;\n",
       "    }\n",
       "\n",
       "    .dataframe tbody tr th {\n",
       "        vertical-align: top;\n",
       "    }\n",
       "\n",
       "    .dataframe thead th {\n",
       "        text-align: right;\n",
       "    }\n",
       "</style>\n",
       "<table border=\"1\" class=\"dataframe\">\n",
       "  <thead>\n",
       "    <tr style=\"text-align: right;\">\n",
       "      <th></th>\n",
       "      <th>open</th>\n",
       "      <th>high</th>\n",
       "      <th>low</th>\n",
       "      <th>close</th>\n",
       "      <th>volume</th>\n",
       "      <th>value</th>\n",
       "    </tr>\n",
       "  </thead>\n",
       "  <tbody>\n",
       "    <tr>\n",
       "      <th>2024-03-07 09:00:00</th>\n",
       "      <td>93325000.0</td>\n",
       "      <td>95678000.0</td>\n",
       "      <td>92670000.0</td>\n",
       "      <td>94060000.0</td>\n",
       "      <td>5792.492528</td>\n",
       "      <td>5.449383e+11</td>\n",
       "    </tr>\n",
       "    <tr>\n",
       "      <th>2024-03-08 09:00:00</th>\n",
       "      <td>94044000.0</td>\n",
       "      <td>98543000.0</td>\n",
       "      <td>94000000.0</td>\n",
       "      <td>96237000.0</td>\n",
       "      <td>8721.933220</td>\n",
       "      <td>8.352094e+11</td>\n",
       "    </tr>\n",
       "    <tr>\n",
       "      <th>2024-03-09 09:00:00</th>\n",
       "      <td>96237000.0</td>\n",
       "      <td>96420000.0</td>\n",
       "      <td>95120000.0</td>\n",
       "      <td>95946000.0</td>\n",
       "      <td>3946.681689</td>\n",
       "      <td>3.785361e+11</td>\n",
       "    </tr>\n",
       "    <tr>\n",
       "      <th>2024-03-10 09:00:00</th>\n",
       "      <td>95946000.0</td>\n",
       "      <td>98445000.0</td>\n",
       "      <td>95904000.0</td>\n",
       "      <td>97495000.0</td>\n",
       "      <td>5997.985803</td>\n",
       "      <td>5.845918e+11</td>\n",
       "    </tr>\n",
       "    <tr>\n",
       "      <th>2024-03-11 09:00:00</th>\n",
       "      <td>97501000.0</td>\n",
       "      <td>101940000.0</td>\n",
       "      <td>95132000.0</td>\n",
       "      <td>100404000.0</td>\n",
       "      <td>14017.568149</td>\n",
       "      <td>1.394028e+12</td>\n",
       "    </tr>\n",
       "    <tr>\n",
       "      <th>...</th>\n",
       "      <td>...</td>\n",
       "      <td>...</td>\n",
       "      <td>...</td>\n",
       "      <td>...</td>\n",
       "      <td>...</td>\n",
       "      <td>...</td>\n",
       "    </tr>\n",
       "    <tr>\n",
       "      <th>2024-09-18 09:00:00</th>\n",
       "      <td>81116000.0</td>\n",
       "      <td>82618000.0</td>\n",
       "      <td>80008000.0</td>\n",
       "      <td>82604000.0</td>\n",
       "      <td>3362.150138</td>\n",
       "      <td>2.726561e+11</td>\n",
       "    </tr>\n",
       "    <tr>\n",
       "      <th>2024-09-19 09:00:00</th>\n",
       "      <td>82602000.0</td>\n",
       "      <td>85000000.0</td>\n",
       "      <td>82286000.0</td>\n",
       "      <td>83892000.0</td>\n",
       "      <td>4549.027346</td>\n",
       "      <td>3.803974e+11</td>\n",
       "    </tr>\n",
       "    <tr>\n",
       "      <th>2024-09-20 09:00:00</th>\n",
       "      <td>83891000.0</td>\n",
       "      <td>85478000.0</td>\n",
       "      <td>83377000.0</td>\n",
       "      <td>84385000.0</td>\n",
       "      <td>3257.118299</td>\n",
       "      <td>2.752178e+11</td>\n",
       "    </tr>\n",
       "    <tr>\n",
       "      <th>2024-09-21 09:00:00</th>\n",
       "      <td>84384000.0</td>\n",
       "      <td>84750000.0</td>\n",
       "      <td>84000000.0</td>\n",
       "      <td>84425000.0</td>\n",
       "      <td>1066.570673</td>\n",
       "      <td>8.995294e+10</td>\n",
       "    </tr>\n",
       "    <tr>\n",
       "      <th>2024-09-22 09:00:00</th>\n",
       "      <td>84429000.0</td>\n",
       "      <td>84510000.0</td>\n",
       "      <td>84000000.0</td>\n",
       "      <td>84177000.0</td>\n",
       "      <td>392.888229</td>\n",
       "      <td>3.309297e+10</td>\n",
       "    </tr>\n",
       "  </tbody>\n",
       "</table>\n",
       "<p>200 rows × 6 columns</p>\n",
       "</div>"
      ],
      "text/plain": [
       "                           open         high         low        close  \\\n",
       "2024-03-07 09:00:00  93325000.0   95678000.0  92670000.0   94060000.0   \n",
       "2024-03-08 09:00:00  94044000.0   98543000.0  94000000.0   96237000.0   \n",
       "2024-03-09 09:00:00  96237000.0   96420000.0  95120000.0   95946000.0   \n",
       "2024-03-10 09:00:00  95946000.0   98445000.0  95904000.0   97495000.0   \n",
       "2024-03-11 09:00:00  97501000.0  101940000.0  95132000.0  100404000.0   \n",
       "...                         ...          ...         ...          ...   \n",
       "2024-09-18 09:00:00  81116000.0   82618000.0  80008000.0   82604000.0   \n",
       "2024-09-19 09:00:00  82602000.0   85000000.0  82286000.0   83892000.0   \n",
       "2024-09-20 09:00:00  83891000.0   85478000.0  83377000.0   84385000.0   \n",
       "2024-09-21 09:00:00  84384000.0   84750000.0  84000000.0   84425000.0   \n",
       "2024-09-22 09:00:00  84429000.0   84510000.0  84000000.0   84177000.0   \n",
       "\n",
       "                           volume         value  \n",
       "2024-03-07 09:00:00   5792.492528  5.449383e+11  \n",
       "2024-03-08 09:00:00   8721.933220  8.352094e+11  \n",
       "2024-03-09 09:00:00   3946.681689  3.785361e+11  \n",
       "2024-03-10 09:00:00   5997.985803  5.845918e+11  \n",
       "2024-03-11 09:00:00  14017.568149  1.394028e+12  \n",
       "...                           ...           ...  \n",
       "2024-09-18 09:00:00   3362.150138  2.726561e+11  \n",
       "2024-09-19 09:00:00   4549.027346  3.803974e+11  \n",
       "2024-09-20 09:00:00   3257.118299  2.752178e+11  \n",
       "2024-09-21 09:00:00   1066.570673  8.995294e+10  \n",
       "2024-09-22 09:00:00    392.888229  3.309297e+10  \n",
       "\n",
       "[200 rows x 6 columns]"
      ]
     },
     "execution_count": 21,
     "metadata": {},
     "output_type": "execute_result"
    }
   ],
   "source": [
    "import pyupbit\n",
    "\n",
    "df = pyupbit.get_ohlcv(\"KRW-BTC\")\n",
    "df['open'] +100\n",
    "df"
   ]
  },
  {
   "cell_type": "code",
   "execution_count": 23,
   "id": "000355df-6783-4456-b901-a6dbc6eefe9c",
   "metadata": {},
   "outputs": [
    {
     "data": {
      "text/html": [
       "<div>\n",
       "<style scoped>\n",
       "    .dataframe tbody tr th:only-of-type {\n",
       "        vertical-align: middle;\n",
       "    }\n",
       "\n",
       "    .dataframe tbody tr th {\n",
       "        vertical-align: top;\n",
       "    }\n",
       "\n",
       "    .dataframe thead th {\n",
       "        text-align: right;\n",
       "    }\n",
       "</style>\n",
       "<table border=\"1\" class=\"dataframe\">\n",
       "  <thead>\n",
       "    <tr style=\"text-align: right;\">\n",
       "      <th></th>\n",
       "      <th>open</th>\n",
       "      <th>high</th>\n",
       "      <th>low</th>\n",
       "      <th>close</th>\n",
       "      <th>volume</th>\n",
       "      <th>value</th>\n",
       "    </tr>\n",
       "  </thead>\n",
       "  <tbody>\n",
       "    <tr>\n",
       "      <th>2024-03-07 09:00:00</th>\n",
       "      <td>93325000.0</td>\n",
       "      <td>95678000.0</td>\n",
       "      <td>92670000.0</td>\n",
       "      <td>94060000.0</td>\n",
       "      <td>5792.492528</td>\n",
       "      <td>5.449383e+11</td>\n",
       "    </tr>\n",
       "    <tr>\n",
       "      <th>2024-03-08 09:00:00</th>\n",
       "      <td>94044000.0</td>\n",
       "      <td>98543000.0</td>\n",
       "      <td>94000000.0</td>\n",
       "      <td>96237000.0</td>\n",
       "      <td>8721.933220</td>\n",
       "      <td>8.352094e+11</td>\n",
       "    </tr>\n",
       "    <tr>\n",
       "      <th>2024-03-09 09:00:00</th>\n",
       "      <td>96237000.0</td>\n",
       "      <td>96420000.0</td>\n",
       "      <td>95120000.0</td>\n",
       "      <td>95946000.0</td>\n",
       "      <td>3946.681689</td>\n",
       "      <td>3.785361e+11</td>\n",
       "    </tr>\n",
       "    <tr>\n",
       "      <th>2024-03-10 09:00:00</th>\n",
       "      <td>95946000.0</td>\n",
       "      <td>98445000.0</td>\n",
       "      <td>95904000.0</td>\n",
       "      <td>97495000.0</td>\n",
       "      <td>5997.985803</td>\n",
       "      <td>5.845918e+11</td>\n",
       "    </tr>\n",
       "    <tr>\n",
       "      <th>2024-03-11 09:00:00</th>\n",
       "      <td>97501000.0</td>\n",
       "      <td>101940000.0</td>\n",
       "      <td>95132000.0</td>\n",
       "      <td>100404000.0</td>\n",
       "      <td>14017.568149</td>\n",
       "      <td>1.394028e+12</td>\n",
       "    </tr>\n",
       "    <tr>\n",
       "      <th>...</th>\n",
       "      <td>...</td>\n",
       "      <td>...</td>\n",
       "      <td>...</td>\n",
       "      <td>...</td>\n",
       "      <td>...</td>\n",
       "      <td>...</td>\n",
       "    </tr>\n",
       "    <tr>\n",
       "      <th>2024-09-18 09:00:00</th>\n",
       "      <td>81116000.0</td>\n",
       "      <td>82618000.0</td>\n",
       "      <td>80008000.0</td>\n",
       "      <td>82604000.0</td>\n",
       "      <td>3362.150138</td>\n",
       "      <td>2.726561e+11</td>\n",
       "    </tr>\n",
       "    <tr>\n",
       "      <th>2024-09-19 09:00:00</th>\n",
       "      <td>82602000.0</td>\n",
       "      <td>85000000.0</td>\n",
       "      <td>82286000.0</td>\n",
       "      <td>83892000.0</td>\n",
       "      <td>4549.027346</td>\n",
       "      <td>3.803974e+11</td>\n",
       "    </tr>\n",
       "    <tr>\n",
       "      <th>2024-09-20 09:00:00</th>\n",
       "      <td>83891000.0</td>\n",
       "      <td>85478000.0</td>\n",
       "      <td>83377000.0</td>\n",
       "      <td>84385000.0</td>\n",
       "      <td>3257.118299</td>\n",
       "      <td>2.752178e+11</td>\n",
       "    </tr>\n",
       "    <tr>\n",
       "      <th>2024-09-21 09:00:00</th>\n",
       "      <td>84384000.0</td>\n",
       "      <td>84750000.0</td>\n",
       "      <td>84000000.0</td>\n",
       "      <td>84425000.0</td>\n",
       "      <td>1066.570673</td>\n",
       "      <td>8.995294e+10</td>\n",
       "    </tr>\n",
       "    <tr>\n",
       "      <th>2024-09-22 09:00:00</th>\n",
       "      <td>84429000.0</td>\n",
       "      <td>84510000.0</td>\n",
       "      <td>84000000.0</td>\n",
       "      <td>84117000.0</td>\n",
       "      <td>393.424830</td>\n",
       "      <td>3.313812e+10</td>\n",
       "    </tr>\n",
       "  </tbody>\n",
       "</table>\n",
       "<p>200 rows × 6 columns</p>\n",
       "</div>"
      ],
      "text/plain": [
       "                           open         high         low        close  \\\n",
       "2024-03-07 09:00:00  93325000.0   95678000.0  92670000.0   94060000.0   \n",
       "2024-03-08 09:00:00  94044000.0   98543000.0  94000000.0   96237000.0   \n",
       "2024-03-09 09:00:00  96237000.0   96420000.0  95120000.0   95946000.0   \n",
       "2024-03-10 09:00:00  95946000.0   98445000.0  95904000.0   97495000.0   \n",
       "2024-03-11 09:00:00  97501000.0  101940000.0  95132000.0  100404000.0   \n",
       "...                         ...          ...         ...          ...   \n",
       "2024-09-18 09:00:00  81116000.0   82618000.0  80008000.0   82604000.0   \n",
       "2024-09-19 09:00:00  82602000.0   85000000.0  82286000.0   83892000.0   \n",
       "2024-09-20 09:00:00  83891000.0   85478000.0  83377000.0   84385000.0   \n",
       "2024-09-21 09:00:00  84384000.0   84750000.0  84000000.0   84425000.0   \n",
       "2024-09-22 09:00:00  84429000.0   84510000.0  84000000.0   84117000.0   \n",
       "\n",
       "                           volume         value  \n",
       "2024-03-07 09:00:00   5792.492528  5.449383e+11  \n",
       "2024-03-08 09:00:00   8721.933220  8.352094e+11  \n",
       "2024-03-09 09:00:00   3946.681689  3.785361e+11  \n",
       "2024-03-10 09:00:00   5997.985803  5.845918e+11  \n",
       "2024-03-11 09:00:00  14017.568149  1.394028e+12  \n",
       "...                           ...           ...  \n",
       "2024-09-18 09:00:00   3362.150138  2.726561e+11  \n",
       "2024-09-19 09:00:00   4549.027346  3.803974e+11  \n",
       "2024-09-20 09:00:00   3257.118299  2.752178e+11  \n",
       "2024-09-21 09:00:00   1066.570673  8.995294e+10  \n",
       "2024-09-22 09:00:00    393.424830  3.313812e+10  \n",
       "\n",
       "[200 rows x 6 columns]"
      ]
     },
     "execution_count": 23,
     "metadata": {},
     "output_type": "execute_result"
    }
   ],
   "source": [
    "import pyupbit\n",
    "\n",
    "df = pyupbit.get_ohlcv(\"KRW-BTC\")\n",
    "cond= df['close'] > df['open']\n",
    "cond\n",
    "df"
   ]
  },
  {
   "cell_type": "code",
   "execution_count": 25,
   "id": "a50cbb44-e2c2-4732-b51c-3989f41ed4b6",
   "metadata": {
    "scrolled": true
   },
   "outputs": [
    {
     "data": {
      "text/html": [
       "<div>\n",
       "<style scoped>\n",
       "    .dataframe tbody tr th:only-of-type {\n",
       "        vertical-align: middle;\n",
       "    }\n",
       "\n",
       "    .dataframe tbody tr th {\n",
       "        vertical-align: top;\n",
       "    }\n",
       "\n",
       "    .dataframe thead th {\n",
       "        text-align: right;\n",
       "    }\n",
       "</style>\n",
       "<table border=\"1\" class=\"dataframe\">\n",
       "  <thead>\n",
       "    <tr style=\"text-align: right;\">\n",
       "      <th></th>\n",
       "      <th>open</th>\n",
       "      <th>high</th>\n",
       "      <th>low</th>\n",
       "      <th>close</th>\n",
       "      <th>volume</th>\n",
       "      <th>value</th>\n",
       "      <th>close_shift1</th>\n",
       "    </tr>\n",
       "  </thead>\n",
       "  <tbody>\n",
       "    <tr>\n",
       "      <th>2024-03-07 09:00:00</th>\n",
       "      <td>93325000.0</td>\n",
       "      <td>95678000.0</td>\n",
       "      <td>92670000.0</td>\n",
       "      <td>94060000.0</td>\n",
       "      <td>5792.492528</td>\n",
       "      <td>5.449383e+11</td>\n",
       "      <td>NaN</td>\n",
       "    </tr>\n",
       "    <tr>\n",
       "      <th>2024-03-08 09:00:00</th>\n",
       "      <td>94044000.0</td>\n",
       "      <td>98543000.0</td>\n",
       "      <td>94000000.0</td>\n",
       "      <td>96237000.0</td>\n",
       "      <td>8721.933220</td>\n",
       "      <td>8.352094e+11</td>\n",
       "      <td>94060000.0</td>\n",
       "    </tr>\n",
       "    <tr>\n",
       "      <th>2024-03-09 09:00:00</th>\n",
       "      <td>96237000.0</td>\n",
       "      <td>96420000.0</td>\n",
       "      <td>95120000.0</td>\n",
       "      <td>95946000.0</td>\n",
       "      <td>3946.681689</td>\n",
       "      <td>3.785361e+11</td>\n",
       "      <td>96237000.0</td>\n",
       "    </tr>\n",
       "    <tr>\n",
       "      <th>2024-03-10 09:00:00</th>\n",
       "      <td>95946000.0</td>\n",
       "      <td>98445000.0</td>\n",
       "      <td>95904000.0</td>\n",
       "      <td>97495000.0</td>\n",
       "      <td>5997.985803</td>\n",
       "      <td>5.845918e+11</td>\n",
       "      <td>95946000.0</td>\n",
       "    </tr>\n",
       "    <tr>\n",
       "      <th>2024-03-11 09:00:00</th>\n",
       "      <td>97501000.0</td>\n",
       "      <td>101940000.0</td>\n",
       "      <td>95132000.0</td>\n",
       "      <td>100404000.0</td>\n",
       "      <td>14017.568149</td>\n",
       "      <td>1.394028e+12</td>\n",
       "      <td>97495000.0</td>\n",
       "    </tr>\n",
       "    <tr>\n",
       "      <th>...</th>\n",
       "      <td>...</td>\n",
       "      <td>...</td>\n",
       "      <td>...</td>\n",
       "      <td>...</td>\n",
       "      <td>...</td>\n",
       "      <td>...</td>\n",
       "      <td>...</td>\n",
       "    </tr>\n",
       "    <tr>\n",
       "      <th>2024-09-18 09:00:00</th>\n",
       "      <td>81116000.0</td>\n",
       "      <td>82618000.0</td>\n",
       "      <td>80008000.0</td>\n",
       "      <td>82604000.0</td>\n",
       "      <td>3362.150138</td>\n",
       "      <td>2.726561e+11</td>\n",
       "      <td>81116000.0</td>\n",
       "    </tr>\n",
       "    <tr>\n",
       "      <th>2024-09-19 09:00:00</th>\n",
       "      <td>82602000.0</td>\n",
       "      <td>85000000.0</td>\n",
       "      <td>82286000.0</td>\n",
       "      <td>83892000.0</td>\n",
       "      <td>4549.027346</td>\n",
       "      <td>3.803974e+11</td>\n",
       "      <td>82604000.0</td>\n",
       "    </tr>\n",
       "    <tr>\n",
       "      <th>2024-09-20 09:00:00</th>\n",
       "      <td>83891000.0</td>\n",
       "      <td>85478000.0</td>\n",
       "      <td>83377000.0</td>\n",
       "      <td>84385000.0</td>\n",
       "      <td>3257.118299</td>\n",
       "      <td>2.752178e+11</td>\n",
       "      <td>83892000.0</td>\n",
       "    </tr>\n",
       "    <tr>\n",
       "      <th>2024-09-21 09:00:00</th>\n",
       "      <td>84384000.0</td>\n",
       "      <td>84750000.0</td>\n",
       "      <td>84000000.0</td>\n",
       "      <td>84425000.0</td>\n",
       "      <td>1066.570673</td>\n",
       "      <td>8.995294e+10</td>\n",
       "      <td>84385000.0</td>\n",
       "    </tr>\n",
       "    <tr>\n",
       "      <th>2024-09-22 09:00:00</th>\n",
       "      <td>84429000.0</td>\n",
       "      <td>84510000.0</td>\n",
       "      <td>84000000.0</td>\n",
       "      <td>84164000.0</td>\n",
       "      <td>395.241970</td>\n",
       "      <td>3.329099e+10</td>\n",
       "      <td>84425000.0</td>\n",
       "    </tr>\n",
       "  </tbody>\n",
       "</table>\n",
       "<p>200 rows × 7 columns</p>\n",
       "</div>"
      ],
      "text/plain": [
       "                           open         high         low        close  \\\n",
       "2024-03-07 09:00:00  93325000.0   95678000.0  92670000.0   94060000.0   \n",
       "2024-03-08 09:00:00  94044000.0   98543000.0  94000000.0   96237000.0   \n",
       "2024-03-09 09:00:00  96237000.0   96420000.0  95120000.0   95946000.0   \n",
       "2024-03-10 09:00:00  95946000.0   98445000.0  95904000.0   97495000.0   \n",
       "2024-03-11 09:00:00  97501000.0  101940000.0  95132000.0  100404000.0   \n",
       "...                         ...          ...         ...          ...   \n",
       "2024-09-18 09:00:00  81116000.0   82618000.0  80008000.0   82604000.0   \n",
       "2024-09-19 09:00:00  82602000.0   85000000.0  82286000.0   83892000.0   \n",
       "2024-09-20 09:00:00  83891000.0   85478000.0  83377000.0   84385000.0   \n",
       "2024-09-21 09:00:00  84384000.0   84750000.0  84000000.0   84425000.0   \n",
       "2024-09-22 09:00:00  84429000.0   84510000.0  84000000.0   84164000.0   \n",
       "\n",
       "                           volume         value  close_shift1  \n",
       "2024-03-07 09:00:00   5792.492528  5.449383e+11           NaN  \n",
       "2024-03-08 09:00:00   8721.933220  8.352094e+11    94060000.0  \n",
       "2024-03-09 09:00:00   3946.681689  3.785361e+11    96237000.0  \n",
       "2024-03-10 09:00:00   5997.985803  5.845918e+11    95946000.0  \n",
       "2024-03-11 09:00:00  14017.568149  1.394028e+12    97495000.0  \n",
       "...                           ...           ...           ...  \n",
       "2024-09-18 09:00:00   3362.150138  2.726561e+11    81116000.0  \n",
       "2024-09-19 09:00:00   4549.027346  3.803974e+11    82604000.0  \n",
       "2024-09-20 09:00:00   3257.118299  2.752178e+11    83892000.0  \n",
       "2024-09-21 09:00:00   1066.570673  8.995294e+10    84385000.0  \n",
       "2024-09-22 09:00:00    395.241970  3.329099e+10    84425000.0  \n",
       "\n",
       "[200 rows x 7 columns]"
      ]
     },
     "execution_count": 25,
     "metadata": {},
     "output_type": "execute_result"
    }
   ],
   "source": [
    "import pyupbit\n",
    "\n",
    "df = pyupbit.get_ohlcv(\"KRW-BTC\")\n",
    "df['close_shift1'] = df['close'].shift(1)\n",
    "df"
   ]
  },
  {
   "cell_type": "code",
   "execution_count": null,
   "id": "b28cc1d5-421a-4df2-b316-4762417db18f",
   "metadata": {},
   "outputs": [],
   "source": []
  },
  {
   "cell_type": "code",
   "execution_count": null,
   "id": "a358225c-3ba2-4765-8739-b6df6ded97be",
   "metadata": {},
   "outputs": [],
   "source": []
  },
  {
   "cell_type": "code",
   "execution_count": null,
   "id": "53815a42-5df3-43bb-84ab-151c2a5367a0",
   "metadata": {},
   "outputs": [],
   "source": []
  },
  {
   "cell_type": "code",
   "execution_count": null,
   "id": "ceb0ae62-caa5-49ca-9bf8-ee8f20ba3031",
   "metadata": {},
   "outputs": [],
   "source": []
  },
  {
   "cell_type": "code",
   "execution_count": null,
   "id": "15ad6707-cc78-46dc-aae8-b199c7f7fa33",
   "metadata": {},
   "outputs": [],
   "source": []
  },
  {
   "cell_type": "code",
   "execution_count": null,
   "id": "b55c2fbb-b895-497a-86cc-77e1e5d22f68",
   "metadata": {},
   "outputs": [],
   "source": []
  }
 ],
 "metadata": {
  "kernelspec": {
   "display_name": "Python 3 (ipykernel)",
   "language": "python",
   "name": "python3"
  },
  "language_info": {
   "codemirror_mode": {
    "name": "ipython",
    "version": 3
   },
   "file_extension": ".py",
   "mimetype": "text/x-python",
   "name": "python",
   "nbconvert_exporter": "python",
   "pygments_lexer": "ipython3",
   "version": "3.12.4"
  }
 },
 "nbformat": 4,
 "nbformat_minor": 5
}
