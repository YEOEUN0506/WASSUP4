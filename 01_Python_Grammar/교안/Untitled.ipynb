{
 "cells": [
  {
   "cell_type": "markdown",
   "id": "ed87bb43-5e44-4698-9ec5-aa4fdf683e35",
   "metadata": {},
   "source": [
    "# 0922유튭보고 공부하기 "
   ]
  },
  {
   "cell_type": "code",
   "execution_count": 1,
   "id": "16af54cb-a129-4656-8307-9ee4938d6fa0",
   "metadata": {},
   "outputs": [
    {
     "data": {
      "text/plain": [
       "list"
      ]
     },
     "execution_count": 1,
     "metadata": {},
     "output_type": "execute_result"
    }
   ],
   "source": [
    "import pandas as pd\n",
    "arr = [0, 1, 2, 3]\n",
    "type(arr)"
   ]
  },
  {
   "cell_type": "code",
   "execution_count": 2,
   "id": "40c03e2c-e168-415f-9850-0969c412ee47",
   "metadata": {},
   "outputs": [
    {
     "data": {
      "text/plain": [
       "0    0\n",
       "1    1\n",
       "2    2\n",
       "3    3\n",
       "dtype: int64"
      ]
     },
     "execution_count": 2,
     "metadata": {},
     "output_type": "execute_result"
    }
   ],
   "source": [
    "s = pd.Series(arr)\n",
    "s"
   ]
  },
  {
   "cell_type": "code",
   "execution_count": 3,
   "id": "376191db-5c37-4e2d-923a-6948f3dfd041",
   "metadata": {},
   "outputs": [
    {
     "data": {
      "text/plain": [
       "pandas.core.series.Series"
      ]
     },
     "execution_count": 3,
     "metadata": {},
     "output_type": "execute_result"
    }
   ],
   "source": [
    "type(s)"
   ]
  },
  {
   "cell_type": "code",
   "execution_count": 5,
   "id": "f5b0f111-a8ed-4633-ae9a-10ea9985d8c9",
   "metadata": {},
   "outputs": [
    {
     "data": {
      "text/plain": [
       "월    100\n",
       "화    200\n",
       "수    300\n",
       "dtype: int64"
      ]
     },
     "execution_count": 5,
     "metadata": {},
     "output_type": "execute_result"
    }
   ],
   "source": [
    "data = [100, 200, 300]\n",
    "index = [\"월\" , \"화\", \"수\"]\n",
    "s= pd.Series(data, index) \n",
    "s"
   ]
  },
  {
   "cell_type": "code",
   "execution_count": 6,
   "id": "07a3cfa7-8c91-4ea1-b1c6-d762c6d6702a",
   "metadata": {},
   "outputs": [
    {
     "data": {
      "text/plain": [
       "메로나    500\n",
       "누가바    800\n",
       "빠삐코    200\n",
       "dtype: int64"
      ]
     },
     "execution_count": 6,
     "metadata": {},
     "output_type": "execute_result"
    }
   ],
   "source": [
    "data = [500, 800, 200]\n",
    "index = [\"메로나\" , \"누가바\", \"빠삐코\"]\n",
    "s= pd.Series(data, index) \n",
    "s"
   ]
  },
  {
   "cell_type": "code",
   "execution_count": null,
   "id": "21dc8e47-55ad-4c66-8b30-3d964d66fae4",
   "metadata": {},
   "outputs": [],
   "source": []
  },
  {
   "cell_type": "code",
   "execution_count": null,
   "id": "623828a4-1fe9-4f31-a876-d14613027fa0",
   "metadata": {},
   "outputs": [],
   "source": [
    "# 판다스 인덱싱 & 슬라이싱 "
   ]
  },
  {
   "cell_type": "code",
   "execution_count": 7,
   "id": "5d35757c-1606-4ab0-b5e4-eafeeb053184",
   "metadata": {},
   "outputs": [
    {
     "data": {
      "text/plain": [
       "월    100\n",
       "화    200\n",
       "수    300\n",
       "dtype: int64"
      ]
     },
     "execution_count": 7,
     "metadata": {},
     "output_type": "execute_result"
    }
   ],
   "source": [
    "import pandas as pd \n",
    "\n",
    "\n",
    "\n",
    "data = [100, 200, 300]\n",
    "index = [\"월\" , \"화\", \"수\"]\n",
    "s= pd.Series(data, index) \n",
    "s"
   ]
  },
  {
   "cell_type": "code",
   "execution_count": 9,
   "id": "a702fee7-1791-402c-9bb5-535b6d644a08",
   "metadata": {},
   "outputs": [
    {
     "data": {
      "text/plain": [
       "100"
      ]
     },
     "execution_count": 9,
     "metadata": {},
     "output_type": "execute_result"
    }
   ],
   "source": [
    "s.iloc[0]"
   ]
  },
  {
   "cell_type": "code",
   "execution_count": 10,
   "id": "ce4a3a82-1939-4c53-8453-2bff77171f75",
   "metadata": {},
   "outputs": [
    {
     "data": {
      "text/plain": [
       "100"
      ]
     },
     "execution_count": 10,
     "metadata": {},
     "output_type": "execute_result"
    }
   ],
   "source": [
    "s.loc[\"월\"]"
   ]
  },
  {
   "cell_type": "code",
   "execution_count": 12,
   "id": "3a8aa711-2e82-4e4b-a808-c267c934e0ca",
   "metadata": {},
   "outputs": [
    {
     "data": {
      "text/plain": [
       "월    100\n",
       "화    200\n",
       "dtype: int64"
      ]
     },
     "execution_count": 12,
     "metadata": {},
     "output_type": "execute_result"
    }
   ],
   "source": [
    "s.iloc[0:2]"
   ]
  },
  {
   "cell_type": "code",
   "execution_count": 13,
   "id": "36b5b231-b910-4857-95dc-ea043a7c7a2c",
   "metadata": {},
   "outputs": [
    {
     "data": {
      "text/plain": [
       "화    200\n",
       "수    300\n",
       "dtype: int64"
      ]
     },
     "execution_count": 13,
     "metadata": {},
     "output_type": "execute_result"
    }
   ],
   "source": [
    "s.loc[\"화\":\"수\"]"
   ]
  },
  {
   "cell_type": "code",
   "execution_count": 14,
   "id": "0137242c-3a8a-4aed-abf8-fcc7b2185de7",
   "metadata": {},
   "outputs": [
    {
     "data": {
      "text/plain": [
       "월    100\n",
       "수    300\n",
       "dtype: int64"
      ]
     },
     "execution_count": 14,
     "metadata": {},
     "output_type": "execute_result"
    }
   ],
   "source": [
    "s.iloc[[0, 2]]"
   ]
  },
  {
   "cell_type": "code",
   "execution_count": null,
   "id": "08707980-28fb-4ed7-8b7e-9d6978e8cf67",
   "metadata": {},
   "outputs": [],
   "source": []
  },
  {
   "cell_type": "code",
   "execution_count": null,
   "id": "828f9b89-1fad-488b-bb9a-4ef64e034bdb",
   "metadata": {},
   "outputs": [],
   "source": [
    "#판다스 시리즈 추가, 삭제, 수정 "
   ]
  },
  {
   "cell_type": "code",
   "execution_count": 16,
   "id": "220f2cf1-1a43-4b9e-add9-4ad5e2d5b36e",
   "metadata": {},
   "outputs": [
    {
     "name": "stdout",
     "output_type": "stream",
     "text": [
      "월    100\n",
      "화    200\n",
      "수    300\n",
      "목    400\n",
      "dtype: int64\n"
     ]
    }
   ],
   "source": [
    "import pandas as pd \n",
    "\n",
    "data = [100, 200, 300]\n",
    "index = [\"월\" , \"화\", \"수\"]\n",
    "s= pd.Series(data, index) \n",
    "\n",
    "s.loc[\"목\"] = 400 \n",
    "print(s)"
   ]
  },
  {
   "cell_type": "code",
   "execution_count": 18,
   "id": "e5827345-b4e1-4605-ba5d-0c27e50c597e",
   "metadata": {},
   "outputs": [
    {
     "data": {
      "text/plain": [
       "화    200\n",
       "수    300\n",
       "dtype: int64"
      ]
     },
     "execution_count": 18,
     "metadata": {},
     "output_type": "execute_result"
    }
   ],
   "source": [
    "import pandas as pd \n",
    "\n",
    "data = [100, 200, 300]\n",
    "index = [\"월\" , \"화\", \"수\"]\n",
    "s= pd.Series(data, index) \n",
    "\n",
    "s1 = s.drop('월')\n",
    "s1"
   ]
  },
  {
   "cell_type": "code",
   "execution_count": null,
   "id": "766394d2-0477-4196-a549-1fdea6cfebbd",
   "metadata": {},
   "outputs": [],
   "source": [
    "# seris 연산 "
   ]
  },
  {
   "cell_type": "code",
   "execution_count": 24,
   "id": "838c4ffd-8ccb-468a-bef8-8d7827122e30",
   "metadata": {},
   "outputs": [
    {
     "data": {
      "text/plain": [
       "1    300\n",
       "2    400\n",
       "3    500\n",
       "dtype: int64"
      ]
     },
     "execution_count": 24,
     "metadata": {},
     "output_type": "execute_result"
    }
   ],
   "source": [
    "#연습문제 \n",
    "import pandas as pd \n",
    "저가 = pd.Series([10, 200, 200, 400, 600])\n",
    "고가 = pd.Series([100, 300, 400, 500, 600])\n",
    "cond = (고가 - 저가) >= 100 \n",
    "고가[cond]"
   ]
  },
  {
   "cell_type": "code",
   "execution_count": null,
   "id": "f80b9f61-cb3c-4a84-b8f0-0c95923e664d",
   "metadata": {},
   "outputs": [],
   "source": []
  },
  {
   "cell_type": "code",
   "execution_count": null,
   "id": "73a64763-1912-45d4-b5bc-9375cd594fde",
   "metadata": {},
   "outputs": [],
   "source": [
    "#데이타 프레임 생성 \n"
   ]
  },
  {
   "cell_type": "code",
   "execution_count": null,
   "id": "9b480716-3dac-4880-9b99-0e2c44878b7e",
   "metadata": {},
   "outputs": [],
   "source": []
  },
  {
   "cell_type": "code",
   "execution_count": null,
   "id": "fc61d201-a0a8-47b8-821d-0908b8da066b",
   "metadata": {},
   "outputs": [],
   "source": []
  },
  {
   "cell_type": "code",
   "execution_count": null,
   "id": "442336a1-bee6-4cd3-a542-b6994b9432d8",
   "metadata": {},
   "outputs": [],
   "source": []
  },
  {
   "cell_type": "code",
   "execution_count": null,
   "id": "36bd2060-e0cb-4d11-8158-820eabcf6722",
   "metadata": {},
   "outputs": [],
   "source": []
  },
  {
   "cell_type": "code",
   "execution_count": null,
   "id": "54fab7a1-efa7-4312-b243-b2a407d54a82",
   "metadata": {},
   "outputs": [],
   "source": []
  },
  {
   "cell_type": "code",
   "execution_count": null,
   "id": "4b38105c-6aed-4168-b42d-bc03b2aac812",
   "metadata": {},
   "outputs": [],
   "source": []
  },
  {
   "cell_type": "code",
   "execution_count": null,
   "id": "049a5232-72ab-4381-beb4-f81ef26143db",
   "metadata": {},
   "outputs": [],
   "source": []
  },
  {
   "cell_type": "code",
   "execution_count": null,
   "id": "c354e2f4-1f8a-4a6a-bb82-8852e0a0f786",
   "metadata": {},
   "outputs": [],
   "source": []
  },
  {
   "cell_type": "code",
   "execution_count": null,
   "id": "1933e376-1689-4b16-8bbe-d6a43e1cc5f2",
   "metadata": {},
   "outputs": [],
   "source": []
  },
  {
   "cell_type": "code",
   "execution_count": null,
   "id": "0f02de87-6bdf-47ca-a288-3ddbe54de53b",
   "metadata": {},
   "outputs": [],
   "source": []
  }
 ],
 "metadata": {
  "kernelspec": {
   "display_name": "Python 3 (ipykernel)",
   "language": "python",
   "name": "python3"
  },
  "language_info": {
   "codemirror_mode": {
    "name": "ipython",
    "version": 3
   },
   "file_extension": ".py",
   "mimetype": "text/x-python",
   "name": "python",
   "nbconvert_exporter": "python",
   "pygments_lexer": "ipython3",
   "version": "3.12.4"
  }
 },
 "nbformat": 4,
 "nbformat_minor": 5
}
