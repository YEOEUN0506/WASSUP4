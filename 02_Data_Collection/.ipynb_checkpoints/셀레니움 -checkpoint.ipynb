{
 "cells": [
  {
   "cell_type": "markdown",
   "id": "0fd06a48-1fee-47b0-b9e6-bb4c973542e2",
   "metadata": {},
   "source": [
    "# 셀레니움 "
   ]
  },
  {
   "cell_type": "code",
   "execution_count": 1,
   "id": "0868b3e5-74a0-4a1f-bc33-a534bf68c6fa",
   "metadata": {},
   "outputs": [
    {
     "name": "stdout",
     "output_type": "stream",
     "text": [
      "Collecting selenium\n",
      "  Downloading selenium-4.25.0-py3-none-any.whl.metadata (7.1 kB)\n",
      "Requirement already satisfied: urllib3<3,>=1.26 in c:\\users\\user\\anaconda3\\lib\\site-packages (from urllib3[socks]<3,>=1.26->selenium) (2.2.2)\n",
      "Collecting trio~=0.17 (from selenium)\n",
      "  Downloading trio-0.26.2-py3-none-any.whl.metadata (8.6 kB)\n",
      "Collecting trio-websocket~=0.9 (from selenium)\n",
      "  Downloading trio_websocket-0.11.1-py3-none-any.whl.metadata (4.7 kB)\n",
      "Requirement already satisfied: certifi>=2021.10.8 in c:\\users\\user\\anaconda3\\lib\\site-packages (from selenium) (2024.6.2)\n",
      "Requirement already satisfied: typing_extensions~=4.9 in c:\\users\\user\\anaconda3\\lib\\site-packages (from selenium) (4.11.0)\n",
      "Requirement already satisfied: websocket-client~=1.8 in c:\\users\\user\\anaconda3\\lib\\site-packages (from selenium) (1.8.0)\n",
      "Collecting attrs>=23.2.0 (from trio~=0.17->selenium)\n",
      "  Downloading attrs-24.2.0-py3-none-any.whl.metadata (11 kB)\n",
      "Requirement already satisfied: sortedcontainers in c:\\users\\user\\anaconda3\\lib\\site-packages (from trio~=0.17->selenium) (2.4.0)\n",
      "Requirement already satisfied: idna in c:\\users\\user\\anaconda3\\lib\\site-packages (from trio~=0.17->selenium) (3.7)\n",
      "Collecting outcome (from trio~=0.17->selenium)\n",
      "  Downloading outcome-1.3.0.post0-py2.py3-none-any.whl.metadata (2.6 kB)\n",
      "Requirement already satisfied: sniffio>=1.3.0 in c:\\users\\user\\anaconda3\\lib\\site-packages (from trio~=0.17->selenium) (1.3.0)\n",
      "Requirement already satisfied: cffi>=1.14 in c:\\users\\user\\anaconda3\\lib\\site-packages (from trio~=0.17->selenium) (1.16.0)\n",
      "Collecting wsproto>=0.14 (from trio-websocket~=0.9->selenium)\n",
      "  Downloading wsproto-1.2.0-py3-none-any.whl.metadata (5.6 kB)\n",
      "Requirement already satisfied: pysocks!=1.5.7,<2.0,>=1.5.6 in c:\\users\\user\\anaconda3\\lib\\site-packages (from urllib3[socks]<3,>=1.26->selenium) (1.7.1)\n",
      "Requirement already satisfied: pycparser in c:\\users\\user\\anaconda3\\lib\\site-packages (from cffi>=1.14->trio~=0.17->selenium) (2.21)\n",
      "Collecting h11<1,>=0.9.0 (from wsproto>=0.14->trio-websocket~=0.9->selenium)\n",
      "  Downloading h11-0.14.0-py3-none-any.whl.metadata (8.2 kB)\n",
      "Downloading selenium-4.25.0-py3-none-any.whl (9.7 MB)\n",
      "   ---------------------------------------- 0.0/9.7 MB ? eta -:--:--\n",
      "   - -------------------------------------- 0.4/9.7 MB 11.8 MB/s eta 0:00:01\n",
      "   ---- ----------------------------------- 1.0/9.7 MB 13.0 MB/s eta 0:00:01\n",
      "   ------- -------------------------------- 1.9/9.7 MB 15.2 MB/s eta 0:00:01\n",
      "   ------------ --------------------------- 2.9/9.7 MB 17.1 MB/s eta 0:00:01\n",
      "   ------------------ --------------------- 4.4/9.7 MB 19.9 MB/s eta 0:00:01\n",
      "   ------------------------ --------------- 5.9/9.7 MB 22.1 MB/s eta 0:00:01\n",
      "   ------------------------------- -------- 7.7/9.7 MB 24.6 MB/s eta 0:00:01\n",
      "   -------------------------------------- - 9.4/9.7 MB 26.1 MB/s eta 0:00:01\n",
      "   ---------------------------------------- 9.7/9.7 MB 24.8 MB/s eta 0:00:00\n",
      "Downloading trio-0.26.2-py3-none-any.whl (475 kB)\n",
      "   ---------------------------------------- 0.0/476.0 kB ? eta -:--:--\n",
      "   --------------------------------------- 476.0/476.0 kB 31.1 MB/s eta 0:00:00\n",
      "Downloading trio_websocket-0.11.1-py3-none-any.whl (17 kB)\n",
      "Downloading attrs-24.2.0-py3-none-any.whl (63 kB)\n",
      "   ---------------------------------------- 0.0/63.0 kB ? eta -:--:--\n",
      "   ---------------------------------------- 63.0/63.0 kB 3.5 MB/s eta 0:00:00\n",
      "Downloading wsproto-1.2.0-py3-none-any.whl (24 kB)\n",
      "Downloading outcome-1.3.0.post0-py2.py3-none-any.whl (10 kB)\n",
      "Downloading h11-0.14.0-py3-none-any.whl (58 kB)\n",
      "   ---------------------------------------- 0.0/58.3 kB ? eta -:--:--\n",
      "   ---------------------------------------- 58.3/58.3 kB ? eta 0:00:00\n",
      "Installing collected packages: h11, attrs, wsproto, outcome, trio, trio-websocket, selenium\n",
      "  Attempting uninstall: attrs\n",
      "    Found existing installation: attrs 23.1.0\n",
      "    Uninstalling attrs-23.1.0:\n",
      "      Successfully uninstalled attrs-23.1.0\n",
      "Successfully installed attrs-24.2.0 h11-0.14.0 outcome-1.3.0.post0 selenium-4.25.0 trio-0.26.2 trio-websocket-0.11.1 wsproto-1.2.0\n"
     ]
    }
   ],
   "source": [
    "! pip install selenium"
   ]
  },
  {
   "cell_type": "code",
   "execution_count": 2,
   "id": "610ac177-4eb1-4109-8dab-82896895584d",
   "metadata": {},
   "outputs": [
    {
     "data": {
      "text/plain": [
       "<selenium.webdriver.chrome.options.Options at 0x265a49b1a90>"
      ]
     },
     "execution_count": 2,
     "metadata": {},
     "output_type": "execute_result"
    }
   ],
   "source": [
    "from selenium import webdriver\n",
    "from selenium.webdriver.common.by import By\n",
    "from selenium.webdriver.chrome.options import Options\n",
    "import time\n",
    "\n",
    "options = Options()\n",
    "options"
   ]
  },
  {
   "cell_type": "code",
   "execution_count": 3,
   "id": "6915ef20-39a6-4915-a076-0759aa65d8fe",
   "metadata": {},
   "outputs": [
    {
     "ename": "AttributeError",
     "evalue": "'Options' object has no attribute 'add_sxperimental_option'",
     "output_type": "error",
     "traceback": [
      "\u001b[1;31m---------------------------------------------------------------------------\u001b[0m",
      "\u001b[1;31mAttributeError\u001b[0m                            Traceback (most recent call last)",
      "Cell \u001b[1;32mIn[3], line 2\u001b[0m\n\u001b[0;32m      1\u001b[0m \u001b[38;5;66;03m#특정함수 안에서 드라이버 생성시 함수종료될 때 브라우저 같이 종료되는 문제 대응 \u001b[39;00m\n\u001b[1;32m----> 2\u001b[0m options\u001b[38;5;241m.\u001b[39madd_sxperimental_option(\u001b[38;5;124m\"\u001b[39m\u001b[38;5;124mdetach\u001b[39m\u001b[38;5;124m\"\u001b[39m,\u001b[38;5;28;01mTrue\u001b[39;00m)\n",
      "\u001b[1;31mAttributeError\u001b[0m: 'Options' object has no attribute 'add_sxperimental_option'"
     ]
    }
   ],
   "source": [
    "#특정함수 안에서 드라이버 생성시 함수종료될 때 브라우저 같이 종료되는 문제 대응 \n",
    "\n",
    "options.add_experimental_option(\"detach\", True) "
   ]
  },
  {
   "cell_type": "code",
   "execution_count": null,
   "id": "a88d9d92-5476-4cd7-9c1c-5af322e7a53d",
   "metadata": {},
   "outputs": [],
   "source": [
    "# 브라우저 실행 및 페이지 접속 "
   ]
  },
  {
   "cell_type": "code",
   "execution_count": 4,
   "id": "510675ea-4134-4c85-b682-33f472946394",
   "metadata": {},
   "outputs": [],
   "source": [
    "url = 'https://naver.com'\n",
    "driver = webdriver.Chrome(options=options)"
   ]
  },
  {
   "cell_type": "code",
   "execution_count": 5,
   "id": "f12c984b-db9e-4276-ad2e-d1f95e46c6f2",
   "metadata": {},
   "outputs": [],
   "source": [
    "driver.get(url)\n",
    "time.sleep(2)"
   ]
  },
  {
   "cell_type": "code",
   "execution_count": null,
   "id": "b680fb99-c600-4166-b0b4-03951b5c185b",
   "metadata": {},
   "outputs": [],
   "source": []
  },
  {
   "cell_type": "code",
   "execution_count": null,
   "id": "4e169899-e87e-44d5-a31c-776e5e060a4e",
   "metadata": {},
   "outputs": [],
   "source": [
    "#상호작용 "
   ]
  },
  {
   "cell_type": "code",
   "execution_count": null,
   "id": "af1f83e7-a0b4-4c21-8fcc-fa1f2d821386",
   "metadata": {},
   "outputs": [],
   "source": [
    "driver.back()"
   ]
  },
  {
   "cell_type": "code",
   "execution_count": null,
   "id": "1d25caa8-f046-480a-a0a0-75e82df92107",
   "metadata": {},
   "outputs": [],
   "source": [
    "driver.forward()"
   ]
  },
  {
   "cell_type": "code",
   "execution_count": null,
   "id": "14017b2a-8c49-4f48-aa22-169c6d9d7b5d",
   "metadata": {},
   "outputs": [],
   "source": [
    "driver.refresh()"
   ]
  },
  {
   "cell_type": "code",
   "execution_count": null,
   "id": "490ccb93-15e1-4b40-8c13-c5e2ef16f462",
   "metadata": {},
   "outputs": [],
   "source": []
  },
  {
   "cell_type": "code",
   "execution_count": 6,
   "id": "8980d534-d06d-4ba9-83e8-bc39840894e2",
   "metadata": {},
   "outputs": [
    {
     "data": {
      "text/plain": [
       "\u001b[1;31mSignature:\u001b[0m \u001b[0mdriver\u001b[0m\u001b[1;33m.\u001b[0m\u001b[0mfind_element\u001b[0m\u001b[1;33m(\u001b[0m\u001b[0mby\u001b[0m\u001b[1;33m=\u001b[0m\u001b[1;34m'id'\u001b[0m\u001b[1;33m,\u001b[0m \u001b[0mvalue\u001b[0m\u001b[1;33m:\u001b[0m \u001b[0mOptional\u001b[0m\u001b[1;33m[\u001b[0m\u001b[0mstr\u001b[0m\u001b[1;33m]\u001b[0m \u001b[1;33m=\u001b[0m \u001b[1;32mNone\u001b[0m\u001b[1;33m)\u001b[0m \u001b[1;33m->\u001b[0m \u001b[0mselenium\u001b[0m\u001b[1;33m.\u001b[0m\u001b[0mwebdriver\u001b[0m\u001b[1;33m.\u001b[0m\u001b[0mremote\u001b[0m\u001b[1;33m.\u001b[0m\u001b[0mwebelement\u001b[0m\u001b[1;33m.\u001b[0m\u001b[0mWebElement\u001b[0m\u001b[1;33m\u001b[0m\u001b[1;33m\u001b[0m\u001b[0m\n",
       "\u001b[1;31mDocstring:\u001b[0m\n",
       "Find an element given a By strategy and locator.\n",
       "\n",
       ":Usage:\n",
       "    ::\n",
       "\n",
       "        element = driver.find_element(By.ID, 'foo')\n",
       "\n",
       ":rtype: WebElement\n",
       "\u001b[1;31mFile:\u001b[0m      c:\\users\\user\\anaconda3\\lib\\site-packages\\selenium\\webdriver\\remote\\webdriver.py\n",
       "\u001b[1;31mType:\u001b[0m      method"
      ]
     },
     "metadata": {},
     "output_type": "display_data"
    }
   ],
   "source": [
    "driver.find_element?"
   ]
  },
  {
   "cell_type": "code",
   "execution_count": null,
   "id": "4ed8349a-3c04-4060-9423-2e66048cc087",
   "metadata": {},
   "outputs": [],
   "source": []
  },
  {
   "cell_type": "code",
   "execution_count": null,
   "id": "de1e1554-0725-4d0f-b1ee-4300685cf130",
   "metadata": {},
   "outputs": [],
   "source": [
    "driver.find_element(By.ID,'query')"
   ]
  },
  {
   "cell_type": "code",
   "execution_count": null,
   "id": "4de9c8de-97c3-43a5-aacb-51389bd54c44",
   "metadata": {},
   "outputs": [],
   "source": [
    "#키입력 "
   ]
  },
  {
   "cell_type": "code",
   "execution_count": null,
   "id": "24ed68f6-cb34-478f-abb8-b73573524eb0",
   "metadata": {},
   "outputs": [],
   "source": [
    "driver.find_element(By.ID,'query').send_keys('뉴진스')"
   ]
  },
  {
   "cell_type": "code",
   "execution_count": null,
   "id": "8bacbb10-1965-4868-9b97-55f02c3d94b8",
   "metadata": {},
   "outputs": [],
   "source": [
    "driver.find_element(By.CLASS_NAME,'search_input').send_keys('블랙핑크')"
   ]
  },
  {
   "cell_type": "code",
   "execution_count": null,
   "id": "52750b13-ad45-45b3-97f7-02b2321d05cb",
   "metadata": {},
   "outputs": [],
   "source": [
    "driver.find_element(By.NAME,'query').send_keys('르세라핌')"
   ]
  },
  {
   "cell_type": "code",
   "execution_count": null,
   "id": "dc0f90a9-bee2-4119-9e83-7d4006a932b2",
   "metadata": {},
   "outputs": [],
   "source": [
    "driver.find_element(By.CSS_SELECTOR,'#query').send_keys('에스파')"
   ]
  },
  {
   "cell_type": "code",
   "execution_count": null,
   "id": "f26e0040-2381-4c9e-9e3d-3b0eeba462df",
   "metadata": {},
   "outputs": [],
   "source": [
    "driver.find_element(By.CSS_SELECTOR,'.search_input').send_keys('세븐틴')"
   ]
  },
  {
   "cell_type": "code",
   "execution_count": null,
   "id": "118b67db-ec78-43eb-9457-8470e1d4a7ba",
   "metadata": {},
   "outputs": [],
   "source": [
    "driver.find_element(By.CSS_SELECTOR,\"[title='검색어를 입력해 주세요.']\").send_keys('트와이스')"
   ]
  },
  {
   "cell_type": "code",
   "execution_count": null,
   "id": "465b6f94-ad53-4e82-a451-0b799dff401c",
   "metadata": {},
   "outputs": [],
   "source": [
    "driver.find_element(By.XPATH,\"[title='검색어를 입력해 주세요.']\").send_keys('트와이스')"
   ]
  },
  {
   "cell_type": "code",
   "execution_count": null,
   "id": "ba49c944-e14a-46f2-9644-3267f5e4565a",
   "metadata": {},
   "outputs": [],
   "source": []
  },
  {
   "cell_type": "code",
   "execution_count": null,
   "id": "1878f31b-3ff5-4de5-af39-ed9e1f607a99",
   "metadata": {},
   "outputs": [],
   "source": [
    "##클릭 네이버 쇼핑 메뉴를 클릭해보자 "
   ]
  },
  {
   "cell_type": "code",
   "execution_count": null,
   "id": "d95d109c-a902-4d3c-a247-8908ec1f3836",
   "metadata": {},
   "outputs": [],
   "source": [
    "driver.find_element(By.LINKTEXT,'쇼핑').click()"
   ]
  },
  {
   "cell_type": "code",
   "execution_count": null,
   "id": "e8a3f3b5-cf05-409a-aac3-056c5ff95492",
   "metadata": {},
   "outputs": [],
   "source": [
    "driver.find_element(By.PARTIAL_LINKTEXT,'증').click()"
   ]
  },
  {
   "cell_type": "code",
   "execution_count": null,
   "id": "6cd23e8e-f501-4651-8c85-9aaabaa8788e",
   "metadata": {},
   "outputs": [],
   "source": [
    "driver.find_element(By.TAG_NAME,'ul')"
   ]
  },
  {
   "cell_type": "code",
   "execution_count": null,
   "id": "863e1ff6-509f-481b-8af0-7488415d90eb",
   "metadata": {},
   "outputs": [],
   "source": [
    "driver.find_elements(By.CSS_SELECTOR,'.link_service')"
   ]
  },
  {
   "cell_type": "code",
   "execution_count": null,
   "id": "4835f849-bda8-4bc6-98bd-7d7f71d5c51e",
   "metadata": {},
   "outputs": [],
   "source": [
    "for i in driver.find_elements(By.CSS_SELECTOR,'.link_service'):\n",
    "     print(i.get_dom_attribute('href'))"
   ]
  },
  {
   "cell_type": "code",
   "execution_count": null,
   "id": "2e271493-9d30-43bb-a2aa-5a35229e6e1c",
   "metadata": {},
   "outputs": [],
   "source": []
  },
  {
   "cell_type": "code",
   "execution_count": null,
   "id": "214d960f-8343-4ca5-bf9d-ddd474d3fccf",
   "metadata": {},
   "outputs": [],
   "source": []
  },
  {
   "cell_type": "code",
   "execution_count": null,
   "id": "0113f3b7-8481-4544-8fd0-f5932f07c43c",
   "metadata": {},
   "outputs": [],
   "source": []
  },
  {
   "cell_type": "code",
   "execution_count": 7,
   "id": "469040a8-bcc4-4524-9782-cc5e08976454",
   "metadata": {},
   "outputs": [
    {
     "ename": "SyntaxError",
     "evalue": "invalid syntax (4201255701.py, line 1)",
     "output_type": "error",
     "traceback": [
      "\u001b[1;36m  Cell \u001b[1;32mIn[7], line 1\u001b[1;36m\u001b[0m\n\u001b[1;33m    url =\u001b[0m\n\u001b[1;37m          ^\u001b[0m\n\u001b[1;31mSyntaxError\u001b[0m\u001b[1;31m:\u001b[0m invalid syntax\n"
     ]
    }
   ],
   "source": [
    "url = 'file:///C:/workspace/WASSUP4/02_Data_Collection/sample/signin.html'\n",
    "driver = webdiver.Chrome(options=options)\n",
    "driver.get(url)\n",
    "time.sleep(2)"
   ]
  },
  {
   "cell_type": "code",
   "execution_count": null,
   "id": "200f92fd-e38c-4cb0-8736-9b7f091ffb03",
   "metadata": {},
   "outputs": [],
   "source": [
    "username = driver.find_element(By.NAME, 'username')\n",
    "username.send_keys('korea')"
   ]
  },
  {
   "cell_type": "code",
   "execution_count": null,
   "id": "b774667c-c097-4103-8d73-b876c7d09db2",
   "metadata": {},
   "outputs": [],
   "source": [
    "username = driver.find_element(By.NAME, 'password')\n",
    "username.send_keys('1234')"
   ]
  },
  {
   "cell_type": "code",
   "execution_count": null,
   "id": "d94bdd84-b7a9-41ee-b7f2-a7114163981a",
   "metadata": {},
   "outputs": [],
   "source": []
  },
  {
   "cell_type": "code",
   "execution_count": null,
   "id": "20960009-5770-4a81-b3b2-bc8e310a0f0e",
   "metadata": {},
   "outputs": [],
   "source": [
    "login = driver.find_element(By.XPATH, '//*[@id=\"loginForm\"]/input[3]')\n",
    "login.click()"
   ]
  },
  {
   "cell_type": "code",
   "execution_count": null,
   "id": "c2b4def1-f9be-43ec-8074-13f357d7e874",
   "metadata": {},
   "outputs": [],
   "source": [
    "driver.back()"
   ]
  },
  {
   "cell_type": "code",
   "execution_count": null,
   "id": "86b204ec-a64b-4cdb-8b6c-4d5ffd9a6614",
   "metadata": {},
   "outputs": [],
   "source": [
    "driver.find_elements(By.CSS_SELECTOR,'[value=Login]')\n",
    "login.click"
   ]
  },
  {
   "cell_type": "code",
   "execution_count": null,
   "id": "d060ed81-9e4b-4b43-9ca3-9606d7af3717",
   "metadata": {},
   "outputs": [],
   "source": [
    "driver.back()"
   ]
  },
  {
   "cell_type": "code",
   "execution_count": null,
   "id": "88e14e23-e411-4f24-96f3-7c81f680bcd8",
   "metadata": {},
   "outputs": [],
   "source": [
    "usernave.clear()"
   ]
  },
  {
   "cell_type": "code",
   "execution_count": null,
   "id": "c6898274-e2e8-4b9f-91fa-0cb873ca6bbd",
   "metadata": {},
   "outputs": [],
   "source": []
  },
  {
   "cell_type": "code",
   "execution_count": null,
   "id": "62987e63-edbb-4390-b527-4a3c8cbed4af",
   "metadata": {},
   "outputs": [],
   "source": [
    "username = driver.find_element(By.NAME, 'username')\n",
    "username.send_keys('korea')\n",
    "username = driver.find_element(By.NAME, 'password')\n",
    "username.send_keys('1234')"
   ]
  },
  {
   "cell_type": "code",
   "execution_count": null,
   "id": "83f2b591-d8b0-47c4-b84c-27de494b6ea5",
   "metadata": {},
   "outputs": [],
   "source": [
    "username.submit()"
   ]
  },
  {
   "cell_type": "code",
   "execution_count": null,
   "id": "d7c71c4a-c64c-4396-b938-befaf096ffc7",
   "metadata": {},
   "outputs": [],
   "source": [
    "driver.back()"
   ]
  },
  {
   "cell_type": "code",
   "execution_count": null,
   "id": "e0bdf51d-218e-48a4-89ef-3da2a2a00c2c",
   "metadata": {},
   "outputs": [],
   "source": [
    "driver.find_elements(By.TAG_NAME,'p').text "
   ]
  },
  {
   "cell_type": "code",
   "execution_count": null,
   "id": "d39bfc48-0a9f-4f7c-98c8-0b1168551a24",
   "metadata": {},
   "outputs": [],
   "source": []
  },
  {
   "cell_type": "code",
   "execution_count": null,
   "id": "771432ae-f729-4035-b824-22e184ac7810",
   "metadata": {},
   "outputs": [],
   "source": []
  },
  {
   "cell_type": "code",
   "execution_count": null,
   "id": "d674971e-d912-4d6b-a636-1b34930a8b42",
   "metadata": {},
   "outputs": [],
   "source": [
    "from selenium import webdriver\n",
    "from selenium.webdriver.common.by import By\n",
    "from selenium.webdriver.chrome.options import Options\n",
    "import time\n",
    "\n",
    "options = Options()\n",
    "options.add_argument(\"--headless=new\") \n",
    "options.add_argument('--window-size= x, y') #실행되는 브라우저 크기를 지정할 수 있습니다.\n",
    "options.add_argument('--start-maximized') #브라우저가 최대화된 상태로 실행됩니다.\n",
    "options.add_argument('--start-fullscreen') #브라우저가 풀스크린 모드(F11)로 실행됩니다.\n",
    "options.add_argument('--blink-settings=imagesEnabled=false') #브라우저에서 이미지 로딩을 하지 않습니다.\n",
    "options.add_argument('--mute-audio') #브라우저에 음소거 옵션을 적용합니다.\n",
    "options.add_argument('incognito') #시크릿 모드의 브라우저가 실행됩니다.\n",
    "options.add_experimental_option(\"detach\", True) #특정함수안에서  드라이버 생성시 함수종료될 때 브라우저 같이 종료되는 문제 대응"
   ]
  },
  {
   "cell_type": "code",
   "execution_count": null,
   "id": "5576fef0-ad85-460c-b618-9d96f3898322",
   "metadata": {},
   "outputs": [],
   "source": []
  },
  {
   "cell_type": "code",
   "execution_count": null,
   "id": "199745d3-bada-4608-9a0c-88fd3f57d49d",
   "metadata": {},
   "outputs": [],
   "source": []
  },
  {
   "cell_type": "code",
   "execution_count": null,
   "id": "5394e4fd-aa91-4227-b196-db86138cf744",
   "metadata": {},
   "outputs": [],
   "source": [
    "url = 'https://naver.com'\n",
    "driver = webdriver.Chrome(options=options)\n",
    "driver.get(url)\n",
    "time.sleep(2)"
   ]
  },
  {
   "cell_type": "code",
   "execution_count": null,
   "id": "422fefb9-385e-471b-a1a0-d85a286b54f7",
   "metadata": {},
   "outputs": [],
   "source": [
    "print(driver.title)"
   ]
  },
  {
   "cell_type": "code",
   "execution_count": null,
   "id": "529d2d48-5590-42f2-b0e4-b0a4ceabe647",
   "metadata": {},
   "outputs": [],
   "source": [
    "driver.close()"
   ]
  },
  {
   "cell_type": "code",
   "execution_count": null,
   "id": "bc521ff2-afa2-4ad5-a836-32eb18bdb7da",
   "metadata": {},
   "outputs": [],
   "source": []
  },
  {
   "cell_type": "code",
   "execution_count": null,
   "id": "e2138652-be73-4772-8316-69adb27f917d",
   "metadata": {},
   "outputs": [],
   "source": [
    "##윈도우 컨트롤 "
   ]
  },
  {
   "cell_type": "code",
   "execution_count": null,
   "id": "8a767314-c07a-4378-b28c-f977c9f6e9fe",
   "metadata": {},
   "outputs": [],
   "source": []
  },
  {
   "cell_type": "code",
   "execution_count": null,
   "id": "c7dd8162-f51b-437b-9410-00a96c361d20",
   "metadata": {},
   "outputs": [],
   "source": [
    "# 창의 너비/높이 구하기\n",
    "\n",
    "size = driver.get_window_size()\n",
    "width = size.get(\"width\")\n",
    "height = size.get(\"height\")\n",
    "\n",
    "print(str(width)+\"px\"+\" \"+str(height)+\"px\")"
   ]
  },
  {
   "cell_type": "code",
   "execution_count": null,
   "id": "885fdd9c-859c-42bf-887a-d08e90e85d9f",
   "metadata": {},
   "outputs": [],
   "source": [
    "# 창 크기 조절\n",
    "driver.set_window_size(800, 600)"
   ]
  },
  {
   "cell_type": "code",
   "execution_count": null,
   "id": "6206f6c5-21da-4cc9-b654-6c2f60847623",
   "metadata": {},
   "outputs": [],
   "source": []
  },
  {
   "cell_type": "code",
   "execution_count": null,
   "id": "75519817-5e6b-4a02-b175-332f048d02ab",
   "metadata": {},
   "outputs": [],
   "source": []
  },
  {
   "cell_type": "code",
   "execution_count": null,
   "id": "18377cac-fd3a-45e5-91ce-32defe22438f",
   "metadata": {},
   "outputs": [],
   "source": []
  }
 ],
 "metadata": {
  "kernelspec": {
   "display_name": "Python 3 (ipykernel)",
   "language": "python",
   "name": "python3"
  },
  "language_info": {
   "codemirror_mode": {
    "name": "ipython",
    "version": 3
   },
   "file_extension": ".py",
   "mimetype": "text/x-python",
   "name": "python",
   "nbconvert_exporter": "python",
   "pygments_lexer": "ipython3",
   "version": "3.12.4"
  }
 },
 "nbformat": 4,
 "nbformat_minor": 5
}
